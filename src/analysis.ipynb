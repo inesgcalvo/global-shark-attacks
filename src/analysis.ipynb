{
 "cells": [
  {
   "cell_type": "markdown",
   "id": "a01aadd4",
   "metadata": {},
   "source": [
    "# Conclutions"
   ]
  },
  {
   "cell_type": "markdown",
   "id": "3c6c780a",
   "metadata": {},
   "source": [
    "### The number of observations increases with the years\n",
    "\n",
    "The ammount of global shark attacks reports increases with the time, this can be because of the development and the advance of the technology. \n",
    "\n",
    "There is a second peak in the number of observations in the decade of the sixties, this can be maybe, in my humble opinion, related with the increase in the love for nature that was developped in that period: the triunph of love against Vietnam War and the 'Hippie' movement, with coast celebrations like Woodstock."
   ]
  },
  {
   "cell_type": "markdown",
   "id": "adfb7337",
   "metadata": {},
   "source": [
    "### There are no correlated columns\n",
    "\n",
    "Even after the cleansing of the dataframe, the data needs more cleaning. The amount of rows perfectly filled is very small."
   ]
  },
  {
   "cell_type": "markdown",
   "id": "b03845a9",
   "metadata": {},
   "source": [
    "# Perspectives"
   ]
  },
  {
   "cell_type": "markdown",
   "id": "f815af4b",
   "metadata": {},
   "source": [
    "### Is there a relation between the 'Fatality' and the 'Species'?\n",
    "\n",
    "Transforming the 'Species' column into categories can be used to compare lately the possible relation between the Fatality and the Shark Species. There are probably Shark species that are more deadly than others."
   ]
  },
  {
   "cell_type": "markdown",
   "id": "31badf2d",
   "metadata": {},
   "source": [
    "### Is there a relation between the 'Fatality' and the 'Location'?\n",
    "\n",
    "This point is also related with the previous perspective because each shark specie has an unique distribution area. There are probably some regions with an increase of deadly species that will made the shark attack fatals. Another option is that there are maybe areas where the sharks are not feeded enough and need to hunt humans to survive."
   ]
  }
 ],
 "metadata": {
  "kernelspec": {
   "display_name": "Python 3 (ipykernel)",
   "language": "python",
   "name": "python3"
  },
  "language_info": {
   "codemirror_mode": {
    "name": "ipython",
    "version": 3
   },
   "file_extension": ".py",
   "mimetype": "text/x-python",
   "name": "python",
   "nbconvert_exporter": "python",
   "pygments_lexer": "ipython3",
   "version": "3.11.4"
  }
 },
 "nbformat": 4,
 "nbformat_minor": 5
}
