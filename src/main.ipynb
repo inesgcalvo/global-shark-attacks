{
 "cells": [
  {
   "cell_type": "markdown",
   "id": "0f8659ec",
   "metadata": {},
   "source": [
    "# Global Shark Attacks\n",
    "\n",
    "Data compiled by the global shark attack file, extracted from: https://www.kaggle.com/datasets/teajay/global-shark-attacks/data"
   ]
  },
  {
   "cell_type": "markdown",
   "id": "77276140",
   "metadata": {},
   "source": [
    "___"
   ]
  },
  {
   "cell_type": "markdown",
   "id": "66245a16",
   "metadata": {},
   "source": [
    "![Shark](https://www.nationalgeographic.com.es/medio/2022/06/09/ilustracion-del-terrible-megalodon_3d7a520e_800x800.jpg)"
   ]
  },
  {
   "cell_type": "markdown",
   "id": "9f159237",
   "metadata": {},
   "source": [
    "___"
   ]
  },
  {
   "cell_type": "code",
   "execution_count": 1,
   "id": "938169d8",
   "metadata": {},
   "outputs": [],
   "source": [
    "import re\n",
    "import zipfile\n",
    "import datetime\n",
    "import numpy as np\n",
    "import pandas as pd\n",
    "import seaborn as sns\n",
    "import matplotlib.pyplot as plt\n",
    "\n",
    "import warnings\n",
    "warnings.filterwarnings('ignore')"
   ]
  },
  {
   "cell_type": "code",
   "execution_count": 2,
   "id": "d0add57a",
   "metadata": {},
   "outputs": [],
   "source": [
    "zf = zipfile.ZipFile('../data/archive.zip')"
   ]
  },
  {
   "cell_type": "code",
   "execution_count": 3,
   "id": "9a545ac4",
   "metadata": {},
   "outputs": [],
   "source": [
    "archivo = zf.open('attacks.csv')"
   ]
  },
  {
   "cell_type": "code",
   "execution_count": 4,
   "id": "94ccf19c",
   "metadata": {},
   "outputs": [],
   "source": [
    "raw_df = pd.read_csv(archivo, encoding='latin1')"
   ]
  },
  {
   "cell_type": "code",
   "execution_count": 5,
   "id": "4d11d447",
   "metadata": {},
   "outputs": [],
   "source": [
    "df = raw_df.copy()"
   ]
  },
  {
   "cell_type": "code",
   "execution_count": 6,
   "id": "fa10a80d",
   "metadata": {},
   "outputs": [],
   "source": [
    "def shape(df):\n",
    "    '''\n",
    "    df as input, str with the raw_df and df shapes as output\n",
    "    '''\n",
    "    return f\"Original: {raw_df.shape}, Now: {df.shape}\""
   ]
  },
  {
   "cell_type": "code",
   "execution_count": 7,
   "id": "836856f9",
   "metadata": {},
   "outputs": [
    {
     "data": {
      "text/plain": [
       "'Original: (25723, 24), Now: (25723, 24)'"
      ]
     },
     "execution_count": 7,
     "metadata": {},
     "output_type": "execute_result"
    }
   ],
   "source": [
    "shape(df)"
   ]
  },
  {
   "cell_type": "code",
   "execution_count": 8,
   "id": "67583da6",
   "metadata": {},
   "outputs": [
    {
     "data": {
      "text/html": [
       "<div>\n",
       "<style scoped>\n",
       "    .dataframe tbody tr th:only-of-type {\n",
       "        vertical-align: middle;\n",
       "    }\n",
       "\n",
       "    .dataframe tbody tr th {\n",
       "        vertical-align: top;\n",
       "    }\n",
       "\n",
       "    .dataframe thead th {\n",
       "        text-align: right;\n",
       "    }\n",
       "</style>\n",
       "<table border=\"1\" class=\"dataframe\">\n",
       "  <thead>\n",
       "    <tr style=\"text-align: right;\">\n",
       "      <th></th>\n",
       "      <th>Case Number</th>\n",
       "      <th>Date</th>\n",
       "      <th>Year</th>\n",
       "      <th>Type</th>\n",
       "      <th>Country</th>\n",
       "      <th>Area</th>\n",
       "      <th>Location</th>\n",
       "      <th>Activity</th>\n",
       "      <th>Name</th>\n",
       "      <th>Sex</th>\n",
       "      <th>...</th>\n",
       "      <th>Species</th>\n",
       "      <th>Investigator or Source</th>\n",
       "      <th>pdf</th>\n",
       "      <th>href formula</th>\n",
       "      <th>href</th>\n",
       "      <th>Case Number.1</th>\n",
       "      <th>Case Number.2</th>\n",
       "      <th>original order</th>\n",
       "      <th>Unnamed: 22</th>\n",
       "      <th>Unnamed: 23</th>\n",
       "    </tr>\n",
       "  </thead>\n",
       "  <tbody>\n",
       "    <tr>\n",
       "      <th>0</th>\n",
       "      <td>2018.06.25</td>\n",
       "      <td>25-Jun-2018</td>\n",
       "      <td>2018.0</td>\n",
       "      <td>Boating</td>\n",
       "      <td>USA</td>\n",
       "      <td>California</td>\n",
       "      <td>Oceanside, San Diego County</td>\n",
       "      <td>Paddling</td>\n",
       "      <td>Julie Wolfe</td>\n",
       "      <td>F</td>\n",
       "      <td>...</td>\n",
       "      <td>White shark</td>\n",
       "      <td>R. Collier, GSAF</td>\n",
       "      <td>2018.06.25-Wolfe.pdf</td>\n",
       "      <td>http://sharkattackfile.net/spreadsheets/pdf_di...</td>\n",
       "      <td>http://sharkattackfile.net/spreadsheets/pdf_di...</td>\n",
       "      <td>2018.06.25</td>\n",
       "      <td>2018.06.25</td>\n",
       "      <td>6303.0</td>\n",
       "      <td>NaN</td>\n",
       "      <td>NaN</td>\n",
       "    </tr>\n",
       "  </tbody>\n",
       "</table>\n",
       "<p>1 rows × 24 columns</p>\n",
       "</div>"
      ],
      "text/plain": [
       "  Case Number         Date    Year     Type Country        Area  \\\n",
       "0  2018.06.25  25-Jun-2018  2018.0  Boating     USA  California   \n",
       "\n",
       "                      Location  Activity         Name Sex   ...     Species   \\\n",
       "0  Oceanside, San Diego County  Paddling  Julie Wolfe    F  ...  White shark   \n",
       "\n",
       "  Investigator or Source                   pdf  \\\n",
       "0       R. Collier, GSAF  2018.06.25-Wolfe.pdf   \n",
       "\n",
       "                                        href formula  \\\n",
       "0  http://sharkattackfile.net/spreadsheets/pdf_di...   \n",
       "\n",
       "                                                href Case Number.1  \\\n",
       "0  http://sharkattackfile.net/spreadsheets/pdf_di...    2018.06.25   \n",
       "\n",
       "  Case Number.2 original order Unnamed: 22 Unnamed: 23  \n",
       "0    2018.06.25         6303.0         NaN         NaN  \n",
       "\n",
       "[1 rows x 24 columns]"
      ]
     },
     "execution_count": 8,
     "metadata": {},
     "output_type": "execute_result"
    }
   ],
   "source": [
    "df.head(1)"
   ]
  },
  {
   "cell_type": "markdown",
   "id": "ae357cac",
   "metadata": {},
   "source": [
    "____"
   ]
  },
  {
   "cell_type": "markdown",
   "id": "97d1c18d",
   "metadata": {},
   "source": [
    "# Data Cleansing\n",
    "\n",
    "This stage include:\n",
    "\n",
    "* 01 - Duplicated rows\n",
    "* 02 - NaN values\n",
    "* 03 - Low Variance columns\n",
    "* 04 - Constant columns\n",
    "* 05 - Special characters\n",
    "* 06 - Incorrect values\n",
    "* 07 - Outliers\n",
    "* 08 - Duplicated rows II\n",
    "* 09 - Data types\n",
    "* 10 - Save the clean document"
   ]
  },
  {
   "cell_type": "markdown",
   "id": "94080edb",
   "metadata": {},
   "source": [
    "_____"
   ]
  },
  {
   "cell_type": "markdown",
   "id": "69bbe762",
   "metadata": {},
   "source": [
    "## 01 - Duplicated rows"
   ]
  },
  {
   "cell_type": "code",
   "execution_count": 9,
   "id": "f708123c",
   "metadata": {},
   "outputs": [
    {
     "data": {
      "text/plain": [
       "True"
      ]
     },
     "execution_count": 9,
     "metadata": {},
     "output_type": "execute_result"
    }
   ],
   "source": [
    "df.duplicated().any()"
   ]
  },
  {
   "cell_type": "code",
   "execution_count": 10,
   "id": "efaf4f21",
   "metadata": {},
   "outputs": [],
   "source": [
    "df.drop_duplicates(inplace=True)"
   ]
  },
  {
   "cell_type": "code",
   "execution_count": 11,
   "id": "887db259",
   "metadata": {},
   "outputs": [
    {
     "data": {
      "text/plain": [
       "False"
      ]
     },
     "execution_count": 11,
     "metadata": {},
     "output_type": "execute_result"
    }
   ],
   "source": [
    "df.duplicated().any()"
   ]
  },
  {
   "cell_type": "code",
   "execution_count": 12,
   "id": "46025ed4",
   "metadata": {},
   "outputs": [
    {
     "data": {
      "text/plain": [
       "'Original: (25723, 24), Now: (6312, 24)'"
      ]
     },
     "execution_count": 12,
     "metadata": {},
     "output_type": "execute_result"
    }
   ],
   "source": [
    "shape(df)"
   ]
  },
  {
   "cell_type": "markdown",
   "id": "d6e78873",
   "metadata": {},
   "source": [
    "_____"
   ]
  },
  {
   "cell_type": "markdown",
   "id": "2676ae36",
   "metadata": {},
   "source": [
    "## 02 - NaN values"
   ]
  },
  {
   "cell_type": "code",
   "execution_count": 13,
   "id": "90aaa37c",
   "metadata": {},
   "outputs": [],
   "source": [
    "def nan(df):\n",
    "    '''\n",
    "    df as input and a list with the column name and \n",
    "    the amount of NaN values as output\n",
    "    '''\n",
    "    return df.isna().sum().sort_values(ascending = False)"
   ]
  },
  {
   "cell_type": "code",
   "execution_count": 14,
   "id": "6da4eb20",
   "metadata": {},
   "outputs": [
    {
     "data": {
      "text/plain": [
       "Unnamed: 22               6311\n",
       "Unnamed: 23               6310\n",
       "Time                      3364\n",
       "Species                   2848\n",
       "Age                       2841\n",
       "Sex                        575\n",
       "Activity                   554\n",
       "Location                   550\n",
       "Fatal (Y/N)                549\n",
       "Area                       465\n",
       "Name                       220\n",
       "Country                     60\n",
       "Injury                      38\n",
       "Investigator or Source      27\n",
       "Type                        14\n",
       "Year                        12\n",
       "href formula                11\n",
       "Date                        10\n",
       "pdf                         10\n",
       "href                        10\n",
       "Case Number.1               10\n",
       "Case Number.2               10\n",
       "original order               3\n",
       "Case Number                  2\n",
       "dtype: int64"
      ]
     },
     "execution_count": 14,
     "metadata": {},
     "output_type": "execute_result"
    }
   ],
   "source": [
    "nan(df)"
   ]
  },
  {
   "cell_type": "code",
   "execution_count": 15,
   "id": "57ecbbd3",
   "metadata": {},
   "outputs": [],
   "source": [
    "def view_nan(df: pd.DataFrame) -> None:\n",
    "    \"\"\"\n",
    "    df as input and a plot of NaN values per column as output\n",
    "    \"\"\"\n",
    "    plt.figure(figsize=(10, 6), facecolor='none') \n",
    "    sns.heatmap(df.isna(),           \n",
    "                yticklabels=False,  \n",
    "                cmap='magma',     \n",
    "                cbar=False)\n",
    "    plt.show();"
   ]
  },
  {
   "cell_type": "code",
   "execution_count": 16,
   "id": "2a1d1518",
   "metadata": {},
   "outputs": [
    {
     "data": {
      "image/png": "[encoded data removed]",
      "text/plain": [
       "<Figure size 1000x600 with 1 Axes>"
      ]
     },
     "metadata": {
      "needs_background": "light"
     },
     "output_type": "display_data"
    }
   ],
   "source": [
    "view_nan(df)"
   ]
  },
  {
   "cell_type": "markdown",
   "id": "7dd3fc5f",
   "metadata": {},
   "source": [
    "I will clean the data column by column, following the next criteria:\n",
    "descending from the column with the highest value of NaN.\n",
    "\n",
    "I create the 'nan' function to evidence the next column to clean"
   ]
  },
  {
   "cell_type": "markdown",
   "id": "69decfe5",
   "metadata": {},
   "source": [
    "### 'Unnamed: 22' & 'Unnamed: 23' columns"
   ]
  },
  {
   "cell_type": "code",
   "execution_count": 17,
   "id": "791fea48",
   "metadata": {},
   "outputs": [
    {
     "data": {
      "text/plain": [
       "stopped here    1\n",
       "Name: Unnamed: 22, dtype: int64"
      ]
     },
     "execution_count": 17,
     "metadata": {},
     "output_type": "execute_result"
    }
   ],
   "source": [
    "df['Unnamed: 22'].value_counts()"
   ]
  },
  {
   "cell_type": "code",
   "execution_count": 18,
   "id": "72694b31",
   "metadata": {},
   "outputs": [
    {
     "data": {
      "text/plain": [
       "Teramo             1\n",
       "change filename    1\n",
       "Name: Unnamed: 23, dtype: int64"
      ]
     },
     "execution_count": 18,
     "metadata": {},
     "output_type": "execute_result"
    }
   ],
   "source": [
    "df['Unnamed: 23'].value_counts()"
   ]
  },
  {
   "cell_type": "code",
   "execution_count": 19,
   "id": "cc686bf3",
   "metadata": {},
   "outputs": [],
   "source": [
    "df['Unnamed: 22'].fillna('unknown', inplace=True)"
   ]
  },
  {
   "cell_type": "code",
   "execution_count": 20,
   "id": "468bee9a",
   "metadata": {},
   "outputs": [],
   "source": [
    "df['Unnamed: 23'].fillna('unknown', inplace=True)"
   ]
  },
  {
   "cell_type": "code",
   "execution_count": 21,
   "id": "2851bb20",
   "metadata": {},
   "outputs": [
    {
     "data": {
      "text/plain": [
       "Time    3364\n",
       "dtype: int64"
      ]
     },
     "execution_count": 21,
     "metadata": {},
     "output_type": "execute_result"
    }
   ],
   "source": [
    "nan(df).head(1)"
   ]
  },
  {
   "cell_type": "markdown",
   "id": "98d45648",
   "metadata": {},
   "source": [
    "### 'Time' column"
   ]
  },
  {
   "cell_type": "code",
   "execution_count": 22,
   "id": "de35a1cc",
   "metadata": {},
   "outputs": [],
   "source": [
    "df['Time'].fillna('unknown', inplace=True)"
   ]
  },
  {
   "cell_type": "code",
   "execution_count": 23,
   "id": "1c80a8b2",
   "metadata": {},
   "outputs": [
    {
     "data": {
      "text/plain": [
       "Species     2848\n",
       "dtype: int64"
      ]
     },
     "execution_count": 23,
     "metadata": {},
     "output_type": "execute_result"
    }
   ],
   "source": [
    "nan(df).head(1)"
   ]
  },
  {
   "cell_type": "markdown",
   "id": "84e88e01",
   "metadata": {},
   "source": [
    "### 'Species' column"
   ]
  },
  {
   "cell_type": "markdown",
   "id": "ce66e572",
   "metadata": {},
   "source": [
    "Because I did not found the column using 'Species', I decided to remove all the empty spaces from the column names of the dataframe"
   ]
  },
  {
   "cell_type": "code",
   "execution_count": 24,
   "id": "2c5caae5",
   "metadata": {},
   "outputs": [],
   "source": [
    "df.columns = df.columns.str.strip()"
   ]
  },
  {
   "cell_type": "code",
   "execution_count": 25,
   "id": "3e0aeba4",
   "metadata": {},
   "outputs": [
    {
     "data": {
      "text/html": [
       "<div>\n",
       "<style scoped>\n",
       "    .dataframe tbody tr th:only-of-type {\n",
       "        vertical-align: middle;\n",
       "    }\n",
       "\n",
       "    .dataframe tbody tr th {\n",
       "        vertical-align: top;\n",
       "    }\n",
       "\n",
       "    .dataframe thead th {\n",
       "        text-align: right;\n",
       "    }\n",
       "</style>\n",
       "<table border=\"1\" class=\"dataframe\">\n",
       "  <thead>\n",
       "    <tr style=\"text-align: right;\">\n",
       "      <th></th>\n",
       "      <th>Case Number</th>\n",
       "      <th>Date</th>\n",
       "      <th>Year</th>\n",
       "      <th>Type</th>\n",
       "      <th>Country</th>\n",
       "      <th>Area</th>\n",
       "      <th>Location</th>\n",
       "      <th>Activity</th>\n",
       "      <th>Name</th>\n",
       "      <th>Sex</th>\n",
       "      <th>...</th>\n",
       "      <th>Species</th>\n",
       "      <th>Investigator or Source</th>\n",
       "      <th>pdf</th>\n",
       "      <th>href formula</th>\n",
       "      <th>href</th>\n",
       "      <th>Case Number.1</th>\n",
       "      <th>Case Number.2</th>\n",
       "      <th>original order</th>\n",
       "      <th>Unnamed: 22</th>\n",
       "      <th>Unnamed: 23</th>\n",
       "    </tr>\n",
       "  </thead>\n",
       "  <tbody>\n",
       "    <tr>\n",
       "      <th>0</th>\n",
       "      <td>2018.06.25</td>\n",
       "      <td>25-Jun-2018</td>\n",
       "      <td>2018.0</td>\n",
       "      <td>Boating</td>\n",
       "      <td>USA</td>\n",
       "      <td>California</td>\n",
       "      <td>Oceanside, San Diego County</td>\n",
       "      <td>Paddling</td>\n",
       "      <td>Julie Wolfe</td>\n",
       "      <td>F</td>\n",
       "      <td>...</td>\n",
       "      <td>White shark</td>\n",
       "      <td>R. Collier, GSAF</td>\n",
       "      <td>2018.06.25-Wolfe.pdf</td>\n",
       "      <td>http://sharkattackfile.net/spreadsheets/pdf_di...</td>\n",
       "      <td>http://sharkattackfile.net/spreadsheets/pdf_di...</td>\n",
       "      <td>2018.06.25</td>\n",
       "      <td>2018.06.25</td>\n",
       "      <td>6303.0</td>\n",
       "      <td>unknown</td>\n",
       "      <td>unknown</td>\n",
       "    </tr>\n",
       "  </tbody>\n",
       "</table>\n",
       "<p>1 rows × 24 columns</p>\n",
       "</div>"
      ],
      "text/plain": [
       "  Case Number         Date    Year     Type Country        Area  \\\n",
       "0  2018.06.25  25-Jun-2018  2018.0  Boating     USA  California   \n",
       "\n",
       "                      Location  Activity         Name Sex  ...      Species  \\\n",
       "0  Oceanside, San Diego County  Paddling  Julie Wolfe   F  ...  White shark   \n",
       "\n",
       "  Investigator or Source                   pdf  \\\n",
       "0       R. Collier, GSAF  2018.06.25-Wolfe.pdf   \n",
       "\n",
       "                                        href formula  \\\n",
       "0  http://sharkattackfile.net/spreadsheets/pdf_di...   \n",
       "\n",
       "                                                href Case Number.1  \\\n",
       "0  http://sharkattackfile.net/spreadsheets/pdf_di...    2018.06.25   \n",
       "\n",
       "  Case Number.2 original order Unnamed: 22 Unnamed: 23  \n",
       "0    2018.06.25         6303.0     unknown     unknown  \n",
       "\n",
       "[1 rows x 24 columns]"
      ]
     },
     "execution_count": 25,
     "metadata": {},
     "output_type": "execute_result"
    }
   ],
   "source": [
    "df.head(1)"
   ]
  },
  {
   "cell_type": "code",
   "execution_count": 26,
   "id": "e0a470c3",
   "metadata": {},
   "outputs": [
    {
     "data": {
      "text/plain": [
       "1550"
      ]
     },
     "execution_count": 26,
     "metadata": {},
     "output_type": "execute_result"
    }
   ],
   "source": [
    "len(df['Species'].unique())"
   ]
  },
  {
   "cell_type": "code",
   "execution_count": 27,
   "id": "b13b9aeb",
   "metadata": {},
   "outputs": [],
   "source": [
    "df['Species'].fillna('unknown', inplace=True)"
   ]
  },
  {
   "cell_type": "code",
   "execution_count": 28,
   "id": "243d05c0",
   "metadata": {},
   "outputs": [
    {
     "data": {
      "text/plain": [
       "Age    2841\n",
       "dtype: int64"
      ]
     },
     "execution_count": 28,
     "metadata": {},
     "output_type": "execute_result"
    }
   ],
   "source": [
    "nan(df).head(1)"
   ]
  },
  {
   "cell_type": "markdown",
   "id": "f3cc2abc",
   "metadata": {},
   "source": [
    "### 'Age' column"
   ]
  },
  {
   "cell_type": "code",
   "execution_count": 29,
   "id": "f5e07dad",
   "metadata": {},
   "outputs": [],
   "source": [
    "df['Age'].fillna('0', inplace=True)"
   ]
  },
  {
   "cell_type": "code",
   "execution_count": 30,
   "id": "f3b7dbb8",
   "metadata": {},
   "outputs": [
    {
     "data": {
      "text/plain": [
       "Sex    575\n",
       "dtype: int64"
      ]
     },
     "execution_count": 30,
     "metadata": {},
     "output_type": "execute_result"
    }
   ],
   "source": [
    "nan(df).head(1)"
   ]
  },
  {
   "cell_type": "markdown",
   "id": "8df41f19",
   "metadata": {},
   "source": [
    "### 'Sex' column"
   ]
  },
  {
   "cell_type": "code",
   "execution_count": 31,
   "id": "5ef61415",
   "metadata": {},
   "outputs": [],
   "source": [
    "df['Sex'].fillna('0', inplace=True)"
   ]
  },
  {
   "cell_type": "code",
   "execution_count": 32,
   "id": "06661505",
   "metadata": {},
   "outputs": [
    {
     "data": {
      "text/plain": [
       "Activity    554\n",
       "dtype: int64"
      ]
     },
     "execution_count": 32,
     "metadata": {},
     "output_type": "execute_result"
    }
   ],
   "source": [
    "nan(df).head(1)"
   ]
  },
  {
   "cell_type": "markdown",
   "id": "b2eab10e",
   "metadata": {},
   "source": [
    "### 'Activity' column"
   ]
  },
  {
   "cell_type": "code",
   "execution_count": 33,
   "id": "7cfce3ed",
   "metadata": {},
   "outputs": [],
   "source": [
    "df['Activity'].fillna('unknown', inplace=True)"
   ]
  },
  {
   "cell_type": "code",
   "execution_count": 34,
   "id": "39cc6eb7",
   "metadata": {},
   "outputs": [
    {
     "data": {
      "text/plain": [
       "Location    550\n",
       "dtype: int64"
      ]
     },
     "execution_count": 34,
     "metadata": {},
     "output_type": "execute_result"
    }
   ],
   "source": [
    "nan(df).head(1)"
   ]
  },
  {
   "cell_type": "markdown",
   "id": "d1ae0a91",
   "metadata": {},
   "source": [
    "### 'Location' column"
   ]
  },
  {
   "cell_type": "code",
   "execution_count": 35,
   "id": "ba9601cf",
   "metadata": {},
   "outputs": [],
   "source": [
    "df['Location'].fillna('unknown', inplace=True)"
   ]
  },
  {
   "cell_type": "code",
   "execution_count": 36,
   "id": "93df9c81",
   "metadata": {},
   "outputs": [
    {
     "data": {
      "text/plain": [
       "Fatal (Y/N)    549\n",
       "dtype: int64"
      ]
     },
     "execution_count": 36,
     "metadata": {},
     "output_type": "execute_result"
    }
   ],
   "source": [
    "nan(df).head(1)"
   ]
  },
  {
   "cell_type": "markdown",
   "id": "83df6a3b",
   "metadata": {},
   "source": [
    "### 'Fatal (Y/N)' column"
   ]
  },
  {
   "cell_type": "code",
   "execution_count": 37,
   "id": "dd8dcf4f",
   "metadata": {},
   "outputs": [],
   "source": [
    "df['Fatal (Y/N)'].fillna('UNKNOWN', inplace=True)"
   ]
  },
  {
   "cell_type": "code",
   "execution_count": 38,
   "id": "3a919401",
   "metadata": {},
   "outputs": [
    {
     "data": {
      "text/plain": [
       "Area    465\n",
       "dtype: int64"
      ]
     },
     "execution_count": 38,
     "metadata": {},
     "output_type": "execute_result"
    }
   ],
   "source": [
    "nan(df).head(1)"
   ]
  },
  {
   "cell_type": "markdown",
   "id": "0e781e92",
   "metadata": {},
   "source": [
    "### 'Area' column"
   ]
  },
  {
   "cell_type": "code",
   "execution_count": 39,
   "id": "39b81b22",
   "metadata": {},
   "outputs": [],
   "source": [
    "df['Area'].fillna('unknown', inplace=True)"
   ]
  },
  {
   "cell_type": "code",
   "execution_count": 40,
   "id": "d138255a",
   "metadata": {},
   "outputs": [
    {
     "data": {
      "text/plain": [
       "Name    220\n",
       "dtype: int64"
      ]
     },
     "execution_count": 40,
     "metadata": {},
     "output_type": "execute_result"
    }
   ],
   "source": [
    "nan(df).head(1)"
   ]
  },
  {
   "cell_type": "markdown",
   "id": "bfa297a4",
   "metadata": {},
   "source": [
    "### 'Name' column"
   ]
  },
  {
   "cell_type": "code",
   "execution_count": 41,
   "id": "4283886c",
   "metadata": {},
   "outputs": [],
   "source": [
    "df['Name'].fillna('unknown', inplace=True)"
   ]
  },
  {
   "cell_type": "code",
   "execution_count": 42,
   "id": "f31ab48f",
   "metadata": {},
   "outputs": [
    {
     "data": {
      "text/plain": [
       "Country    60\n",
       "dtype: int64"
      ]
     },
     "execution_count": 42,
     "metadata": {},
     "output_type": "execute_result"
    }
   ],
   "source": [
    "nan(df).head(1)"
   ]
  },
  {
   "cell_type": "markdown",
   "id": "6ab667a3",
   "metadata": {},
   "source": [
    "### 'Country' column"
   ]
  },
  {
   "cell_type": "code",
   "execution_count": 43,
   "id": "04919889",
   "metadata": {},
   "outputs": [],
   "source": [
    "df['Country'].fillna('unknown', inplace=True)"
   ]
  },
  {
   "cell_type": "code",
   "execution_count": 44,
   "id": "c1e29185",
   "metadata": {},
   "outputs": [
    {
     "data": {
      "text/plain": [
       "Injury    38\n",
       "dtype: int64"
      ]
     },
     "execution_count": 44,
     "metadata": {},
     "output_type": "execute_result"
    }
   ],
   "source": [
    "nan(df).head(1)"
   ]
  },
  {
   "cell_type": "markdown",
   "id": "5e179a0f",
   "metadata": {},
   "source": [
    "### 'Injury' column"
   ]
  },
  {
   "cell_type": "code",
   "execution_count": 45,
   "id": "3cb371de",
   "metadata": {},
   "outputs": [],
   "source": [
    "df['Injury'].fillna('unknown', inplace=True)"
   ]
  },
  {
   "cell_type": "code",
   "execution_count": 46,
   "id": "540a023f",
   "metadata": {},
   "outputs": [
    {
     "data": {
      "text/plain": [
       "Investigator or Source    27\n",
       "dtype: int64"
      ]
     },
     "execution_count": 46,
     "metadata": {},
     "output_type": "execute_result"
    }
   ],
   "source": [
    "nan(df).head(1)"
   ]
  },
  {
   "cell_type": "markdown",
   "id": "71367580",
   "metadata": {},
   "source": [
    "### 'Investigator or Source' column"
   ]
  },
  {
   "cell_type": "code",
   "execution_count": 47,
   "id": "8da0f811",
   "metadata": {},
   "outputs": [],
   "source": [
    "df['Investigator or Source'].fillna('unknown', inplace=True)"
   ]
  },
  {
   "cell_type": "code",
   "execution_count": 48,
   "id": "8c337e4e",
   "metadata": {},
   "outputs": [
    {
     "data": {
      "text/plain": [
       "Type    14\n",
       "dtype: int64"
      ]
     },
     "execution_count": 48,
     "metadata": {},
     "output_type": "execute_result"
    }
   ],
   "source": [
    "nan(df).head(1)"
   ]
  },
  {
   "cell_type": "markdown",
   "id": "70d8ce4b",
   "metadata": {},
   "source": [
    "### 'Type' column"
   ]
  },
  {
   "cell_type": "code",
   "execution_count": 49,
   "id": "47500a29",
   "metadata": {},
   "outputs": [],
   "source": [
    "df['Type'].fillna('unknown', inplace=True)"
   ]
  },
  {
   "cell_type": "code",
   "execution_count": 50,
   "id": "1cec5f84",
   "metadata": {},
   "outputs": [
    {
     "data": {
      "text/plain": [
       "Year    12\n",
       "dtype: int64"
      ]
     },
     "execution_count": 50,
     "metadata": {},
     "output_type": "execute_result"
    }
   ],
   "source": [
    "nan(df).head(1)"
   ]
  },
  {
   "cell_type": "markdown",
   "id": "8e694f46",
   "metadata": {},
   "source": [
    "### 'Year' column"
   ]
  },
  {
   "cell_type": "code",
   "execution_count": 51,
   "id": "c4a2716d",
   "metadata": {},
   "outputs": [
    {
     "data": {
      "text/html": [
       "<div>\n",
       "<style scoped>\n",
       "    .dataframe tbody tr th:only-of-type {\n",
       "        vertical-align: middle;\n",
       "    }\n",
       "\n",
       "    .dataframe tbody tr th {\n",
       "        vertical-align: top;\n",
       "    }\n",
       "\n",
       "    .dataframe thead th {\n",
       "        text-align: right;\n",
       "    }\n",
       "</style>\n",
       "<table border=\"1\" class=\"dataframe\">\n",
       "  <thead>\n",
       "    <tr style=\"text-align: right;\">\n",
       "      <th></th>\n",
       "      <th>Case Number</th>\n",
       "      <th>Date</th>\n",
       "      <th>Year</th>\n",
       "      <th>Type</th>\n",
       "      <th>Country</th>\n",
       "      <th>Area</th>\n",
       "      <th>Location</th>\n",
       "      <th>Activity</th>\n",
       "      <th>Name</th>\n",
       "      <th>Sex</th>\n",
       "      <th>...</th>\n",
       "      <th>Species</th>\n",
       "      <th>Investigator or Source</th>\n",
       "      <th>pdf</th>\n",
       "      <th>href formula</th>\n",
       "      <th>href</th>\n",
       "      <th>Case Number.1</th>\n",
       "      <th>Case Number.2</th>\n",
       "      <th>original order</th>\n",
       "      <th>Unnamed: 22</th>\n",
       "      <th>Unnamed: 23</th>\n",
       "    </tr>\n",
       "  </thead>\n",
       "  <tbody>\n",
       "    <tr>\n",
       "      <th>187</th>\n",
       "      <td>2017.01.08.R</td>\n",
       "      <td>Reported 08-Jan-2017</td>\n",
       "      <td>NaN</td>\n",
       "      <td>Invalid</td>\n",
       "      <td>AUSTRALIA</td>\n",
       "      <td>Queensland</td>\n",
       "      <td>unknown</td>\n",
       "      <td>Spearfishing</td>\n",
       "      <td>Kerry Daniel</td>\n",
       "      <td>M</td>\n",
       "      <td>...</td>\n",
       "      <td>Bull shark</td>\n",
       "      <td>Liquid Vision 1/8/2017</td>\n",
       "      <td>2017.01.08.R-KerryDaniel.pdf</td>\n",
       "      <td>http://sharkattackfile.net/spreadsheets/pdf_di...</td>\n",
       "      <td>http://sharkattackfile.net/spreadsheets/pdf_di...</td>\n",
       "      <td>2017.01.08.R</td>\n",
       "      <td>2017.01.08.R</td>\n",
       "      <td>6116.0</td>\n",
       "      <td>unknown</td>\n",
       "      <td>unknown</td>\n",
       "    </tr>\n",
       "    <tr>\n",
       "      <th>6079</th>\n",
       "      <td>1836.08.19.R</td>\n",
       "      <td>Reported 19-Aug-1836</td>\n",
       "      <td>NaN</td>\n",
       "      <td>Unprovoked</td>\n",
       "      <td>ENGLAND</td>\n",
       "      <td>Cumberland</td>\n",
       "      <td>Whitehaven</td>\n",
       "      <td>Swimming</td>\n",
       "      <td>a boy</td>\n",
       "      <td>M</td>\n",
       "      <td>...</td>\n",
       "      <td>unknown</td>\n",
       "      <td>C. Moore, GSAF</td>\n",
       "      <td>1835.08.19.R-Whitehaven.pdf</td>\n",
       "      <td>http://sharkattackfile.net/spreadsheets/pdf_di...</td>\n",
       "      <td>http://sharkattackfile.net/spreadsheets/pdf_di...</td>\n",
       "      <td>1836.08.19.R</td>\n",
       "      <td>1836.08.19.R</td>\n",
       "      <td>224.0</td>\n",
       "      <td>unknown</td>\n",
       "      <td>unknown</td>\n",
       "    </tr>\n",
       "    <tr>\n",
       "      <th>6302</th>\n",
       "      <td>0</td>\n",
       "      <td>NaN</td>\n",
       "      <td>NaN</td>\n",
       "      <td>unknown</td>\n",
       "      <td>unknown</td>\n",
       "      <td>unknown</td>\n",
       "      <td>unknown</td>\n",
       "      <td>unknown</td>\n",
       "      <td>unknown</td>\n",
       "      <td>0</td>\n",
       "      <td>...</td>\n",
       "      <td>unknown</td>\n",
       "      <td>unknown</td>\n",
       "      <td>NaN</td>\n",
       "      <td>NaN</td>\n",
       "      <td>NaN</td>\n",
       "      <td>NaN</td>\n",
       "      <td>NaN</td>\n",
       "      <td>6304.0</td>\n",
       "      <td>unknown</td>\n",
       "      <td>unknown</td>\n",
       "    </tr>\n",
       "    <tr>\n",
       "      <th>6303</th>\n",
       "      <td>0</td>\n",
       "      <td>NaN</td>\n",
       "      <td>NaN</td>\n",
       "      <td>unknown</td>\n",
       "      <td>unknown</td>\n",
       "      <td>unknown</td>\n",
       "      <td>unknown</td>\n",
       "      <td>unknown</td>\n",
       "      <td>unknown</td>\n",
       "      <td>0</td>\n",
       "      <td>...</td>\n",
       "      <td>unknown</td>\n",
       "      <td>unknown</td>\n",
       "      <td>NaN</td>\n",
       "      <td>NaN</td>\n",
       "      <td>NaN</td>\n",
       "      <td>NaN</td>\n",
       "      <td>NaN</td>\n",
       "      <td>6305.0</td>\n",
       "      <td>unknown</td>\n",
       "      <td>unknown</td>\n",
       "    </tr>\n",
       "    <tr>\n",
       "      <th>6304</th>\n",
       "      <td>0</td>\n",
       "      <td>NaN</td>\n",
       "      <td>NaN</td>\n",
       "      <td>unknown</td>\n",
       "      <td>unknown</td>\n",
       "      <td>unknown</td>\n",
       "      <td>unknown</td>\n",
       "      <td>unknown</td>\n",
       "      <td>unknown</td>\n",
       "      <td>0</td>\n",
       "      <td>...</td>\n",
       "      <td>unknown</td>\n",
       "      <td>unknown</td>\n",
       "      <td>NaN</td>\n",
       "      <td>NaN</td>\n",
       "      <td>NaN</td>\n",
       "      <td>NaN</td>\n",
       "      <td>NaN</td>\n",
       "      <td>6306.0</td>\n",
       "      <td>unknown</td>\n",
       "      <td>unknown</td>\n",
       "    </tr>\n",
       "    <tr>\n",
       "      <th>6305</th>\n",
       "      <td>0</td>\n",
       "      <td>NaN</td>\n",
       "      <td>NaN</td>\n",
       "      <td>unknown</td>\n",
       "      <td>unknown</td>\n",
       "      <td>unknown</td>\n",
       "      <td>unknown</td>\n",
       "      <td>unknown</td>\n",
       "      <td>unknown</td>\n",
       "      <td>0</td>\n",
       "      <td>...</td>\n",
       "      <td>unknown</td>\n",
       "      <td>unknown</td>\n",
       "      <td>NaN</td>\n",
       "      <td>NaN</td>\n",
       "      <td>NaN</td>\n",
       "      <td>NaN</td>\n",
       "      <td>NaN</td>\n",
       "      <td>6307.0</td>\n",
       "      <td>unknown</td>\n",
       "      <td>unknown</td>\n",
       "    </tr>\n",
       "    <tr>\n",
       "      <th>6306</th>\n",
       "      <td>0</td>\n",
       "      <td>NaN</td>\n",
       "      <td>NaN</td>\n",
       "      <td>unknown</td>\n",
       "      <td>unknown</td>\n",
       "      <td>unknown</td>\n",
       "      <td>unknown</td>\n",
       "      <td>unknown</td>\n",
       "      <td>unknown</td>\n",
       "      <td>0</td>\n",
       "      <td>...</td>\n",
       "      <td>unknown</td>\n",
       "      <td>unknown</td>\n",
       "      <td>NaN</td>\n",
       "      <td>NaN</td>\n",
       "      <td>NaN</td>\n",
       "      <td>NaN</td>\n",
       "      <td>NaN</td>\n",
       "      <td>6308.0</td>\n",
       "      <td>unknown</td>\n",
       "      <td>unknown</td>\n",
       "    </tr>\n",
       "    <tr>\n",
       "      <th>6307</th>\n",
       "      <td>0</td>\n",
       "      <td>NaN</td>\n",
       "      <td>NaN</td>\n",
       "      <td>unknown</td>\n",
       "      <td>unknown</td>\n",
       "      <td>unknown</td>\n",
       "      <td>unknown</td>\n",
       "      <td>unknown</td>\n",
       "      <td>unknown</td>\n",
       "      <td>0</td>\n",
       "      <td>...</td>\n",
       "      <td>unknown</td>\n",
       "      <td>unknown</td>\n",
       "      <td>NaN</td>\n",
       "      <td>NaN</td>\n",
       "      <td>NaN</td>\n",
       "      <td>NaN</td>\n",
       "      <td>NaN</td>\n",
       "      <td>6309.0</td>\n",
       "      <td>unknown</td>\n",
       "      <td>unknown</td>\n",
       "    </tr>\n",
       "    <tr>\n",
       "      <th>6308</th>\n",
       "      <td>0</td>\n",
       "      <td>NaN</td>\n",
       "      <td>NaN</td>\n",
       "      <td>unknown</td>\n",
       "      <td>unknown</td>\n",
       "      <td>unknown</td>\n",
       "      <td>unknown</td>\n",
       "      <td>unknown</td>\n",
       "      <td>unknown</td>\n",
       "      <td>0</td>\n",
       "      <td>...</td>\n",
       "      <td>unknown</td>\n",
       "      <td>unknown</td>\n",
       "      <td>NaN</td>\n",
       "      <td>NaN</td>\n",
       "      <td>NaN</td>\n",
       "      <td>NaN</td>\n",
       "      <td>NaN</td>\n",
       "      <td>6310.0</td>\n",
       "      <td>unknown</td>\n",
       "      <td>unknown</td>\n",
       "    </tr>\n",
       "    <tr>\n",
       "      <th>6309</th>\n",
       "      <td>0</td>\n",
       "      <td>NaN</td>\n",
       "      <td>NaN</td>\n",
       "      <td>unknown</td>\n",
       "      <td>unknown</td>\n",
       "      <td>unknown</td>\n",
       "      <td>unknown</td>\n",
       "      <td>unknown</td>\n",
       "      <td>unknown</td>\n",
       "      <td>0</td>\n",
       "      <td>...</td>\n",
       "      <td>unknown</td>\n",
       "      <td>unknown</td>\n",
       "      <td>NaN</td>\n",
       "      <td>NaN</td>\n",
       "      <td>NaN</td>\n",
       "      <td>NaN</td>\n",
       "      <td>NaN</td>\n",
       "      <td>NaN</td>\n",
       "      <td>unknown</td>\n",
       "      <td>unknown</td>\n",
       "    </tr>\n",
       "    <tr>\n",
       "      <th>8702</th>\n",
       "      <td>NaN</td>\n",
       "      <td>NaN</td>\n",
       "      <td>NaN</td>\n",
       "      <td>unknown</td>\n",
       "      <td>unknown</td>\n",
       "      <td>unknown</td>\n",
       "      <td>unknown</td>\n",
       "      <td>unknown</td>\n",
       "      <td>unknown</td>\n",
       "      <td>0</td>\n",
       "      <td>...</td>\n",
       "      <td>unknown</td>\n",
       "      <td>unknown</td>\n",
       "      <td>NaN</td>\n",
       "      <td>NaN</td>\n",
       "      <td>NaN</td>\n",
       "      <td>NaN</td>\n",
       "      <td>NaN</td>\n",
       "      <td>NaN</td>\n",
       "      <td>unknown</td>\n",
       "      <td>unknown</td>\n",
       "    </tr>\n",
       "    <tr>\n",
       "      <th>25722</th>\n",
       "      <td>xx</td>\n",
       "      <td>NaN</td>\n",
       "      <td>NaN</td>\n",
       "      <td>unknown</td>\n",
       "      <td>unknown</td>\n",
       "      <td>unknown</td>\n",
       "      <td>unknown</td>\n",
       "      <td>unknown</td>\n",
       "      <td>unknown</td>\n",
       "      <td>0</td>\n",
       "      <td>...</td>\n",
       "      <td>unknown</td>\n",
       "      <td>unknown</td>\n",
       "      <td>NaN</td>\n",
       "      <td>NaN</td>\n",
       "      <td>NaN</td>\n",
       "      <td>NaN</td>\n",
       "      <td>NaN</td>\n",
       "      <td>NaN</td>\n",
       "      <td>unknown</td>\n",
       "      <td>unknown</td>\n",
       "    </tr>\n",
       "  </tbody>\n",
       "</table>\n",
       "<p>12 rows × 24 columns</p>\n",
       "</div>"
      ],
      "text/plain": [
       "        Case Number                  Date  Year        Type    Country  \\\n",
       "187    2017.01.08.R  Reported 08-Jan-2017   NaN     Invalid  AUSTRALIA   \n",
       "6079   1836.08.19.R  Reported 19-Aug-1836   NaN  Unprovoked    ENGLAND   \n",
       "6302              0                   NaN   NaN     unknown    unknown   \n",
       "6303              0                   NaN   NaN     unknown    unknown   \n",
       "6304              0                   NaN   NaN     unknown    unknown   \n",
       "6305              0                   NaN   NaN     unknown    unknown   \n",
       "6306              0                   NaN   NaN     unknown    unknown   \n",
       "6307              0                   NaN   NaN     unknown    unknown   \n",
       "6308              0                   NaN   NaN     unknown    unknown   \n",
       "6309              0                   NaN   NaN     unknown    unknown   \n",
       "8702            NaN                   NaN   NaN     unknown    unknown   \n",
       "25722            xx                   NaN   NaN     unknown    unknown   \n",
       "\n",
       "             Area    Location      Activity          Name Sex  ...  \\\n",
       "187    Queensland     unknown  Spearfishing  Kerry Daniel   M  ...   \n",
       "6079   Cumberland  Whitehaven      Swimming         a boy   M  ...   \n",
       "6302      unknown     unknown       unknown       unknown   0  ...   \n",
       "6303      unknown     unknown       unknown       unknown   0  ...   \n",
       "6304      unknown     unknown       unknown       unknown   0  ...   \n",
       "6305      unknown     unknown       unknown       unknown   0  ...   \n",
       "6306      unknown     unknown       unknown       unknown   0  ...   \n",
       "6307      unknown     unknown       unknown       unknown   0  ...   \n",
       "6308      unknown     unknown       unknown       unknown   0  ...   \n",
       "6309      unknown     unknown       unknown       unknown   0  ...   \n",
       "8702      unknown     unknown       unknown       unknown   0  ...   \n",
       "25722     unknown     unknown       unknown       unknown   0  ...   \n",
       "\n",
       "          Species  Investigator or Source                           pdf  \\\n",
       "187    Bull shark  Liquid Vision 1/8/2017  2017.01.08.R-KerryDaniel.pdf   \n",
       "6079      unknown          C. Moore, GSAF   1835.08.19.R-Whitehaven.pdf   \n",
       "6302      unknown                 unknown                           NaN   \n",
       "6303      unknown                 unknown                           NaN   \n",
       "6304      unknown                 unknown                           NaN   \n",
       "6305      unknown                 unknown                           NaN   \n",
       "6306      unknown                 unknown                           NaN   \n",
       "6307      unknown                 unknown                           NaN   \n",
       "6308      unknown                 unknown                           NaN   \n",
       "6309      unknown                 unknown                           NaN   \n",
       "8702      unknown                 unknown                           NaN   \n",
       "25722     unknown                 unknown                           NaN   \n",
       "\n",
       "                                            href formula  \\\n",
       "187    http://sharkattackfile.net/spreadsheets/pdf_di...   \n",
       "6079   http://sharkattackfile.net/spreadsheets/pdf_di...   \n",
       "6302                                                 NaN   \n",
       "6303                                                 NaN   \n",
       "6304                                                 NaN   \n",
       "6305                                                 NaN   \n",
       "6306                                                 NaN   \n",
       "6307                                                 NaN   \n",
       "6308                                                 NaN   \n",
       "6309                                                 NaN   \n",
       "8702                                                 NaN   \n",
       "25722                                                NaN   \n",
       "\n",
       "                                                    href Case Number.1  \\\n",
       "187    http://sharkattackfile.net/spreadsheets/pdf_di...  2017.01.08.R   \n",
       "6079   http://sharkattackfile.net/spreadsheets/pdf_di...  1836.08.19.R   \n",
       "6302                                                 NaN           NaN   \n",
       "6303                                                 NaN           NaN   \n",
       "6304                                                 NaN           NaN   \n",
       "6305                                                 NaN           NaN   \n",
       "6306                                                 NaN           NaN   \n",
       "6307                                                 NaN           NaN   \n",
       "6308                                                 NaN           NaN   \n",
       "6309                                                 NaN           NaN   \n",
       "8702                                                 NaN           NaN   \n",
       "25722                                                NaN           NaN   \n",
       "\n",
       "      Case Number.2 original order Unnamed: 22 Unnamed: 23  \n",
       "187    2017.01.08.R         6116.0     unknown     unknown  \n",
       "6079   1836.08.19.R          224.0     unknown     unknown  \n",
       "6302            NaN         6304.0     unknown     unknown  \n",
       "6303            NaN         6305.0     unknown     unknown  \n",
       "6304            NaN         6306.0     unknown     unknown  \n",
       "6305            NaN         6307.0     unknown     unknown  \n",
       "6306            NaN         6308.0     unknown     unknown  \n",
       "6307            NaN         6309.0     unknown     unknown  \n",
       "6308            NaN         6310.0     unknown     unknown  \n",
       "6309            NaN            NaN     unknown     unknown  \n",
       "8702            NaN            NaN     unknown     unknown  \n",
       "25722           NaN            NaN     unknown     unknown  \n",
       "\n",
       "[12 rows x 24 columns]"
      ]
     },
     "execution_count": 51,
     "metadata": {},
     "output_type": "execute_result"
    }
   ],
   "source": [
    "df[df['Year'].isna()]"
   ]
  },
  {
   "cell_type": "code",
   "execution_count": 52,
   "id": "03f181db",
   "metadata": {},
   "outputs": [],
   "source": [
    "df.loc[187, 'Year'] = 2017\n",
    "df.loc[6079, 'Year'] = 1836"
   ]
  },
  {
   "cell_type": "code",
   "execution_count": 53,
   "id": "a9b16475",
   "metadata": {},
   "outputs": [],
   "source": [
    "bad_index = df[df['Year'].isna()].index"
   ]
  },
  {
   "cell_type": "code",
   "execution_count": 54,
   "id": "f1b6a59f",
   "metadata": {},
   "outputs": [],
   "source": [
    "df.drop(index=bad_index, inplace=True)"
   ]
  },
  {
   "cell_type": "code",
   "execution_count": 55,
   "id": "4b007d13",
   "metadata": {},
   "outputs": [
    {
     "data": {
      "text/plain": [
       "Case Number     1\n",
       "href formula    1\n",
       "dtype: int64"
      ]
     },
     "execution_count": 55,
     "metadata": {},
     "output_type": "execute_result"
    }
   ],
   "source": [
    "nan(df).head(2)"
   ]
  },
  {
   "cell_type": "markdown",
   "id": "5411b907",
   "metadata": {},
   "source": [
    "### Last two columns with NaN..."
   ]
  },
  {
   "cell_type": "code",
   "execution_count": 56,
   "id": "cd3d4491",
   "metadata": {},
   "outputs": [
    {
     "data": {
      "text/html": [
       "<div>\n",
       "<style scoped>\n",
       "    .dataframe tbody tr th:only-of-type {\n",
       "        vertical-align: middle;\n",
       "    }\n",
       "\n",
       "    .dataframe tbody tr th {\n",
       "        vertical-align: top;\n",
       "    }\n",
       "\n",
       "    .dataframe thead th {\n",
       "        text-align: right;\n",
       "    }\n",
       "</style>\n",
       "<table border=\"1\" class=\"dataframe\">\n",
       "  <thead>\n",
       "    <tr style=\"text-align: right;\">\n",
       "      <th></th>\n",
       "      <th>Case Number</th>\n",
       "      <th>Date</th>\n",
       "      <th>Year</th>\n",
       "      <th>Type</th>\n",
       "      <th>Country</th>\n",
       "      <th>Area</th>\n",
       "      <th>Location</th>\n",
       "      <th>Activity</th>\n",
       "      <th>Name</th>\n",
       "      <th>Sex</th>\n",
       "      <th>...</th>\n",
       "      <th>Species</th>\n",
       "      <th>Investigator or Source</th>\n",
       "      <th>pdf</th>\n",
       "      <th>href formula</th>\n",
       "      <th>href</th>\n",
       "      <th>Case Number.1</th>\n",
       "      <th>Case Number.2</th>\n",
       "      <th>original order</th>\n",
       "      <th>Unnamed: 22</th>\n",
       "      <th>Unnamed: 23</th>\n",
       "    </tr>\n",
       "  </thead>\n",
       "  <tbody>\n",
       "    <tr>\n",
       "      <th>5488</th>\n",
       "      <td>NaN</td>\n",
       "      <td>Reported 06-Sep-1905</td>\n",
       "      <td>1905.0</td>\n",
       "      <td>Provoked</td>\n",
       "      <td>USA</td>\n",
       "      <td>Florida</td>\n",
       "      <td>Fort Pierce, St Lucie County</td>\n",
       "      <td>Fishing</td>\n",
       "      <td>David Curry</td>\n",
       "      <td>M</td>\n",
       "      <td>...</td>\n",
       "      <td>unknown</td>\n",
       "      <td>Muncie Evening Press, 8/6/1913</td>\n",
       "      <td>1905.09.06.R-Curry.pdf</td>\n",
       "      <td>http://sharkattackfile.net/spreadsheets/pdf_di...</td>\n",
       "      <td>http://sharkattackfile.net/spreadsheets/pdf_di...</td>\n",
       "      <td>1905.09.06.R</td>\n",
       "      <td>1905.09.06.R</td>\n",
       "      <td>815.0</td>\n",
       "      <td>unknown</td>\n",
       "      <td>unknown</td>\n",
       "    </tr>\n",
       "  </tbody>\n",
       "</table>\n",
       "<p>1 rows × 24 columns</p>\n",
       "</div>"
      ],
      "text/plain": [
       "     Case Number                  Date    Year      Type Country     Area  \\\n",
       "5488         NaN  Reported 06-Sep-1905  1905.0  Provoked     USA  Florida   \n",
       "\n",
       "                          Location Activity         Name Sex  ...  Species  \\\n",
       "5488  Fort Pierce, St Lucie County  Fishing  David Curry   M  ...  unknown   \n",
       "\n",
       "              Investigator or Source                     pdf  \\\n",
       "5488  Muncie Evening Press, 8/6/1913  1905.09.06.R-Curry.pdf   \n",
       "\n",
       "                                           href formula  \\\n",
       "5488  http://sharkattackfile.net/spreadsheets/pdf_di...   \n",
       "\n",
       "                                                   href Case Number.1  \\\n",
       "5488  http://sharkattackfile.net/spreadsheets/pdf_di...  1905.09.06.R   \n",
       "\n",
       "     Case Number.2 original order Unnamed: 22 Unnamed: 23  \n",
       "5488  1905.09.06.R          815.0     unknown     unknown  \n",
       "\n",
       "[1 rows x 24 columns]"
      ]
     },
     "execution_count": 56,
     "metadata": {},
     "output_type": "execute_result"
    }
   ],
   "source": [
    "df[df['Case Number'].isna()]"
   ]
  },
  {
   "cell_type": "code",
   "execution_count": 57,
   "id": "f2df1cdd",
   "metadata": {},
   "outputs": [],
   "source": [
    "df.loc[5488, 'Case Number'] = '1905.09.06'"
   ]
  },
  {
   "cell_type": "code",
   "execution_count": 58,
   "id": "ff43c50f",
   "metadata": {},
   "outputs": [
    {
     "data": {
      "text/plain": [
       "3244    http://sharkattackfile.net/spreadsheets/pdf_di...\n",
       "Name: href, dtype: object"
      ]
     },
     "execution_count": 58,
     "metadata": {},
     "output_type": "execute_result"
    }
   ],
   "source": [
    "df['href'][df['href formula'].isna()]"
   ]
  },
  {
   "cell_type": "code",
   "execution_count": 59,
   "id": "145d2b78",
   "metadata": {},
   "outputs": [],
   "source": [
    "df.loc[3244, 'href formula'] = df.loc[3244, 'href']"
   ]
  },
  {
   "cell_type": "code",
   "execution_count": 60,
   "id": "238d2884",
   "metadata": {},
   "outputs": [
    {
     "data": {
      "text/plain": [
       "Case Number       0\n",
       "Date              0\n",
       "Unnamed: 22       0\n",
       "original order    0\n",
       "Case Number.2     0\n",
       "dtype: int64"
      ]
     },
     "execution_count": 60,
     "metadata": {},
     "output_type": "execute_result"
    }
   ],
   "source": [
    "nan(df).head()"
   ]
  },
  {
   "cell_type": "code",
   "execution_count": 61,
   "id": "212f5b6f",
   "metadata": {},
   "outputs": [
    {
     "data": {
      "image/png": "[encoded data removed]",
      "text/plain": [
       "<Figure size 1000x600 with 1 Axes>"
      ]
     },
     "metadata": {
      "needs_background": "light"
     },
     "output_type": "display_data"
    }
   ],
   "source": [
    "view_nan(df)"
   ]
  },
  {
   "cell_type": "markdown",
   "id": "82bf3ebf",
   "metadata": {},
   "source": [
    "Now, that we confirm that there are no NaN value left on the df, we can continue with the Data Cleansing"
   ]
  },
  {
   "cell_type": "markdown",
   "id": "8e201dea",
   "metadata": {},
   "source": [
    "____"
   ]
  },
  {
   "cell_type": "markdown",
   "id": "024a2fd6",
   "metadata": {},
   "source": [
    "## 03 - Low Variance columns"
   ]
  },
  {
   "cell_type": "markdown",
   "id": "155d067a",
   "metadata": {},
   "source": [
    "Here we check if there are columns with low variance, meaning that most of the values are distributed very close to the max or to the min value. The criteria to include a column into this category is that the 90% of the values are identical."
   ]
  },
  {
   "cell_type": "code",
   "execution_count": 62,
   "id": "5c4bac7d",
   "metadata": {},
   "outputs": [
    {
     "data": {
      "text/plain": [
       "[]"
      ]
     },
     "execution_count": 62,
     "metadata": {},
     "output_type": "execute_result"
    }
   ],
   "source": [
    "low_variance = []\n",
    "\n",
    "for col in df.select_dtypes(include = np.number): \n",
    "    minimo = df[col].min()\n",
    "    maximo = df[col].max()\n",
    "    per_90 = np.percentile(df[col], 90)\n",
    "    per_10 = np.percentile(df[col], 10)\n",
    "    if minimo == per_90 or maximo == per_10:\n",
    "        low_variance.append(col)\n",
    "        \n",
    "low_variance"
   ]
  },
  {
   "cell_type": "markdown",
   "id": "71c290f5",
   "metadata": {},
   "source": [
    "None of the columns of the dataframe can be included here."
   ]
  },
  {
   "cell_type": "markdown",
   "id": "f845b017",
   "metadata": {},
   "source": [
    "_____"
   ]
  },
  {
   "cell_type": "markdown",
   "id": "3333cc2a",
   "metadata": {},
   "source": [
    "## 04 - Constant columns"
   ]
  },
  {
   "cell_type": "markdown",
   "id": "35f96f9b",
   "metadata": {},
   "source": [
    "Here we check if the column is constant, meaning that all the values are the same value.\n",
    "We need to check separately the columns containing numbers (integers and floats) and the columns containing strings (objects)."
   ]
  },
  {
   "cell_type": "code",
   "execution_count": 63,
   "id": "3ac22edc",
   "metadata": {},
   "outputs": [
    {
     "data": {
      "text/plain": [
       "[]"
      ]
     },
     "execution_count": 63,
     "metadata": {},
     "output_type": "execute_result"
    }
   ],
   "source": [
    "cte_cols = []\n",
    "\n",
    "for col in df.select_dtypes(include = np.number):\n",
    "    if len(df[col].unique()) == 1:\n",
    "        cte_cols.append(col)\n",
    "        \n",
    "cte_cols"
   ]
  },
  {
   "cell_type": "code",
   "execution_count": 64,
   "id": "af27d7ab",
   "metadata": {},
   "outputs": [
    {
     "data": {
      "text/plain": [
       "[]"
      ]
     },
     "execution_count": 64,
     "metadata": {},
     "output_type": "execute_result"
    }
   ],
   "source": [
    "cte_str_cols = []\n",
    "\n",
    "for col in df.select_dtypes(include = 'object'):\n",
    "    if len(df[col].unique()) == 1:\n",
    "        cte_str_cols.append(col)\n",
    "          \n",
    "cte_str_cols"
   ]
  },
  {
   "cell_type": "markdown",
   "id": "50c27092",
   "metadata": {},
   "source": [
    "None of the columns of the dataframe can be included here."
   ]
  },
  {
   "cell_type": "markdown",
   "id": "d54637f2",
   "metadata": {},
   "source": [
    "_____"
   ]
  },
  {
   "cell_type": "markdown",
   "id": "183ef3a4",
   "metadata": {},
   "source": [
    "## 05 - Special characters"
   ]
  },
  {
   "cell_type": "markdown",
   "id": "dea1de55",
   "metadata": {},
   "source": [
    "To check if there are any special characters, I used a regex pattern that will search for:\n",
    "\n",
    "    ?\n",
    "    ¿\n",
    "    *\n",
    "    $\n",
    "    %\n",
    "    &"
   ]
  },
  {
   "cell_type": "code",
   "execution_count": 65,
   "id": "a3758d2d",
   "metadata": {},
   "outputs": [],
   "source": [
    "patron = r'[?¿*$%&]'\n",
    "\n",
    "def find_special_chars(df):\n",
    "    '''\n",
    "    df as input and a str with column, row and special char as output\n",
    "    '''\n",
    "    try:\n",
    "        for col in df.select_dtypes(include = 'object').columns:\n",
    "            for i in range(len(df)):\n",
    "                value = df.loc[i, col]\n",
    "                weird_chars = re.findall(patron, value)\n",
    "                if weird_chars:\n",
    "                    print(f\"Columna: {col} | Fila: {i} | Caracteres raros: {weird_chars}\")\n",
    "    except:\n",
    "        pass"
   ]
  },
  {
   "cell_type": "markdown",
   "id": "e9a366a2",
   "metadata": {},
   "source": [
    "I found that there are many '&', that I will replace with the string 'and'"
   ]
  },
  {
   "cell_type": "code",
   "execution_count": 66,
   "id": "252376f6",
   "metadata": {},
   "outputs": [],
   "source": [
    "df.replace('&', 'and', regex=True, inplace=True)"
   ]
  },
  {
   "cell_type": "markdown",
   "id": "370bfe2e",
   "metadata": {},
   "source": [
    "Also, there are some '?', that I will replace with an empty string ''"
   ]
  },
  {
   "cell_type": "code",
   "execution_count": 67,
   "id": "5acd2aff",
   "metadata": {},
   "outputs": [],
   "source": [
    "df.replace('\\?', '', regex=True, inplace=True)"
   ]
  },
  {
   "cell_type": "code",
   "execution_count": 68,
   "id": "a5cb3342",
   "metadata": {},
   "outputs": [
    {
     "name": "stdout",
     "output_type": "stream",
     "text": [
      "Columna: Name | Fila: 303 | Caracteres raros: ['*']\n",
      "Columna: Species | Fila: 5249 | Caracteres raros: ['*']\n",
      "Columna: Investigator or Source | Fila: 4111 | Caracteres raros: ['*']\n",
      "Columna: Investigator or Source | Fila: 4298 | Caracteres raros: ['$']\n"
     ]
    }
   ],
   "source": [
    "find_special_chars(df)"
   ]
  },
  {
   "cell_type": "markdown",
   "id": "46592aec",
   "metadata": {},
   "source": [
    "Here, I will check the cases one by one:"
   ]
  },
  {
   "cell_type": "code",
   "execution_count": 69,
   "id": "86476032",
   "metadata": {},
   "outputs": [
    {
     "data": {
      "text/plain": [
       "'Adrian *'"
      ]
     },
     "execution_count": 69,
     "metadata": {},
     "output_type": "execute_result"
    }
   ],
   "source": [
    "df.loc[303, 'Name']"
   ]
  },
  {
   "cell_type": "code",
   "execution_count": 70,
   "id": "851d9d2f",
   "metadata": {},
   "outputs": [
    {
     "data": {
      "text/plain": [
       "'15* to 24\" dog shark'"
      ]
     },
     "execution_count": 70,
     "metadata": {},
     "output_type": "execute_result"
    }
   ],
   "source": [
    "df.loc[5249, 'Species']"
   ]
  },
  {
   "cell_type": "code",
   "execution_count": 71,
   "id": "7344055e",
   "metadata": {},
   "outputs": [
    {
     "data": {
      "text/plain": [
       "'West Australian (Perth), * Sunday Times, 2/1/1959s; P. Gilbert, L. Schultz and S. Springer (1960)'"
      ]
     },
     "execution_count": 71,
     "metadata": {},
     "output_type": "execute_result"
    }
   ],
   "source": [
    "df.loc[4111, 'Investigator or Source']"
   ]
  },
  {
   "cell_type": "code",
   "execution_count": 72,
   "id": "19617859",
   "metadata": {},
   "outputs": [
    {
     "data": {
      "text/plain": [
       "'Tribune-Herald (Hilo, Hawaii), 4/14/1963; J. Borg, p.73; L. Taylor, p.100-101 ; NOTE: Oshiro later sued owner of the boat for $15,000 in damages'"
      ]
     },
     "execution_count": 72,
     "metadata": {},
     "output_type": "execute_result"
    }
   ],
   "source": [
    "df.loc[4298, 'Investigator or Source']"
   ]
  },
  {
   "cell_type": "markdown",
   "id": "ec5b2aaf",
   "metadata": {},
   "source": [
    "None of the special characters are needed.\n",
    "\n",
    "I replace the * with an empty string and the $ with 'US dollars'"
   ]
  },
  {
   "cell_type": "code",
   "execution_count": 73,
   "id": "e6e7770a",
   "metadata": {},
   "outputs": [],
   "source": [
    "df.replace('\\*', '', regex=True, inplace=True)"
   ]
  },
  {
   "cell_type": "code",
   "execution_count": 74,
   "id": "a424a45c",
   "metadata": {},
   "outputs": [],
   "source": [
    "df.replace('\\$', 'US dollars', regex=True, inplace=True)"
   ]
  },
  {
   "cell_type": "code",
   "execution_count": 75,
   "id": "970db23c",
   "metadata": {},
   "outputs": [],
   "source": [
    "find_special_chars(df)"
   ]
  },
  {
   "cell_type": "markdown",
   "id": "7284e5e2",
   "metadata": {},
   "source": [
    "And now, there are no remaining special characters, we can continue with the Data Cleansing"
   ]
  },
  {
   "cell_type": "markdown",
   "id": "6d33b119",
   "metadata": {},
   "source": [
    "____"
   ]
  },
  {
   "cell_type": "markdown",
   "id": "6118391c",
   "metadata": {},
   "source": [
    "## 06 - Incorrect values"
   ]
  },
  {
   "cell_type": "markdown",
   "id": "ee437a3d",
   "metadata": {},
   "source": [
    "First (and extremely important with this data), I will remove empty spaces from the begining and the end of every cell string."
   ]
  },
  {
   "cell_type": "code",
   "execution_count": 76,
   "id": "caf81b36",
   "metadata": {},
   "outputs": [],
   "source": [
    "for col in df.select_dtypes(include='object'):\n",
    "    df[col] = df[col].str.strip()"
   ]
  },
  {
   "cell_type": "markdown",
   "id": "e0568880",
   "metadata": {},
   "source": [
    "I create a function to list the columns with its number of unique values ordered ascendingly."
   ]
  },
  {
   "cell_type": "code",
   "execution_count": 77,
   "id": "5ffbfc2e",
   "metadata": {},
   "outputs": [],
   "source": [
    "def unique_values(df):\n",
    "    '''\n",
    "    df as input and a list with the column name \n",
    "    and the amount of unique values as output\n",
    "    '''\n",
    "    return sorted([(col, len(df[col].unique())) for col in df.columns], key=lambda x: x[1])"
   ]
  },
  {
   "cell_type": "code",
   "execution_count": 78,
   "id": "8256f862",
   "metadata": {},
   "outputs": [
    {
     "data": {
      "text/plain": [
       "[('Unnamed: 22', 2),\n",
       " ('Unnamed: 23', 3),\n",
       " ('Sex', 6),\n",
       " ('Fatal (Y/N)', 6),\n",
       " ('Type', 9),\n",
       " ('Age', 149),\n",
       " ('Country', 202),\n",
       " ('Year', 249),\n",
       " ('Time', 359),\n",
       " ('Area', 801),\n",
       " ('Species', 1449),\n",
       " ('Activity', 1499),\n",
       " ('Injury', 3658),\n",
       " ('Location', 4063),\n",
       " ('Investigator or Source', 4928),\n",
       " ('Name', 5224),\n",
       " ('Date', 5425),\n",
       " ('href', 6285),\n",
       " ('Case Number.1', 6285),\n",
       " ('Case Number', 6286),\n",
       " ('Case Number.2', 6286),\n",
       " ('pdf', 6291),\n",
       " ('href formula', 6291),\n",
       " ('original order', 6301)]"
      ]
     },
     "execution_count": 78,
     "metadata": {},
     "output_type": "execute_result"
    }
   ],
   "source": [
    "unique_values(df)"
   ]
  },
  {
   "cell_type": "markdown",
   "id": "072d7d93",
   "metadata": {},
   "source": [
    "Now, I will start to check the nature of the values of the columns.\n",
    "\n",
    "I will follow the order that I stablished with the function 'unique_values', ascending by unique values."
   ]
  },
  {
   "cell_type": "markdown",
   "id": "06da4d48",
   "metadata": {},
   "source": [
    "### 'Unnamed: 22' & 'Unnamed: 23' columns"
   ]
  },
  {
   "cell_type": "code",
   "execution_count": 79,
   "id": "a7e7811e",
   "metadata": {},
   "outputs": [
    {
     "data": {
      "text/plain": [
       "unknown         6301\n",
       "stopped here       1\n",
       "Name: Unnamed: 22, dtype: int64"
      ]
     },
     "execution_count": 79,
     "metadata": {},
     "output_type": "execute_result"
    }
   ],
   "source": [
    "df['Unnamed: 22'].value_counts()"
   ]
  },
  {
   "cell_type": "code",
   "execution_count": 80,
   "id": "ccb59dd2",
   "metadata": {
    "scrolled": true
   },
   "outputs": [
    {
     "data": {
      "text/plain": [
       "unknown            6300\n",
       "Teramo                1\n",
       "change filename       1\n",
       "Name: Unnamed: 23, dtype: int64"
      ]
     },
     "execution_count": 80,
     "metadata": {},
     "output_type": "execute_result"
    }
   ],
   "source": [
    "df['Unnamed: 23'].value_counts()"
   ]
  },
  {
   "cell_type": "markdown",
   "id": "65a61b2b",
   "metadata": {},
   "source": [
    "Those two columns contains just 3 comments that are not even clear.\n",
    "Both will be deleted."
   ]
  },
  {
   "cell_type": "code",
   "execution_count": 81,
   "id": "5d86d218",
   "metadata": {},
   "outputs": [],
   "source": [
    "df.drop(['Unnamed: 23', 'Unnamed: 22'], axis = 1, inplace = True)"
   ]
  },
  {
   "cell_type": "markdown",
   "id": "f5cb5335",
   "metadata": {},
   "source": [
    "### 'Sex' column"
   ]
  },
  {
   "cell_type": "code",
   "execution_count": 82,
   "id": "7ce8e36a",
   "metadata": {},
   "outputs": [
    {
     "data": {
      "text/plain": [
       "M      5096\n",
       "F       637\n",
       "0       565\n",
       "N         2\n",
       "lli       1\n",
       ".         1\n",
       "Name: Sex, dtype: int64"
      ]
     },
     "execution_count": 82,
     "metadata": {},
     "output_type": "execute_result"
    }
   ],
   "source": [
    "df['Sex'].value_counts()"
   ]
  },
  {
   "cell_type": "markdown",
   "id": "2861ce9f",
   "metadata": {},
   "source": [
    "This column just needs three categories:\n",
    "\n",
    "    0 for Unknown\n",
    "    1 for Male\n",
    "    2 for Female"
   ]
  },
  {
   "cell_type": "code",
   "execution_count": 83,
   "id": "a1bb4254",
   "metadata": {},
   "outputs": [],
   "source": [
    "def clean_sex(x):\n",
    "    if 'M' in x:\n",
    "        return 1\n",
    "    elif 'F' in x:\n",
    "        return 2\n",
    "    elif 'N' in x:\n",
    "        return 0\n",
    "    elif 'lli' in x:\n",
    "        return 0\n",
    "    elif '.' in x:\n",
    "        return 0\n",
    "    elif '0' in x:\n",
    "        return 0\n",
    "    else:\n",
    "        return x"
   ]
  },
  {
   "cell_type": "code",
   "execution_count": 84,
   "id": "4b417b0b",
   "metadata": {},
   "outputs": [],
   "source": [
    "df['Sex'] = df['Sex'].apply(clean_sex)"
   ]
  },
  {
   "cell_type": "code",
   "execution_count": 85,
   "id": "313f7d73",
   "metadata": {},
   "outputs": [
    {
     "data": {
      "text/plain": [
       "1    5096\n",
       "2     637\n",
       "0     569\n",
       "Name: Sex, dtype: int64"
      ]
     },
     "execution_count": 85,
     "metadata": {},
     "output_type": "execute_result"
    }
   ],
   "source": [
    "df['Sex'].value_counts()"
   ]
  },
  {
   "cell_type": "markdown",
   "id": "8826663b",
   "metadata": {},
   "source": [
    "### 'Fatal (Y/N)' column... 'Fatality'"
   ]
  },
  {
   "cell_type": "markdown",
   "id": "5d7555f1",
   "metadata": {},
   "source": [
    "First, I change the name of the column to remove the empty space."
   ]
  },
  {
   "cell_type": "code",
   "execution_count": 86,
   "id": "286eddc7",
   "metadata": {},
   "outputs": [],
   "source": [
    "df = df.rename(columns = {\"Fatal (Y/N)\": \"Fatality\"})"
   ]
  },
  {
   "cell_type": "markdown",
   "id": "b97451bd",
   "metadata": {},
   "source": [
    "This column just needs three categories:\n",
    "\n",
    "    0 for unknown \n",
    "    1 for Fatal\n",
    "    2 for Non Fatal"
   ]
  },
  {
   "cell_type": "markdown",
   "id": "74bff3aa",
   "metadata": {},
   "source": [
    "I check if there is any column with 'UNKNOWN' for 'Fatality' but included words containg 'atal' or 'dead' on 'Injury"
   ]
  },
  {
   "cell_type": "code",
   "execution_count": 87,
   "id": "e68eb1a8",
   "metadata": {},
   "outputs": [],
   "source": [
    "fatal_index = df[(df['Injury'].str.contains('atal' or 'dead')) & (df['Fatality'] == 'UNKNOWN')].index"
   ]
  },
  {
   "cell_type": "code",
   "execution_count": 88,
   "id": "6b3db7a5",
   "metadata": {},
   "outputs": [],
   "source": [
    "df.loc[fatal_index, 'Fatality'] = 1"
   ]
  },
  {
   "cell_type": "code",
   "execution_count": 89,
   "id": "210d4566",
   "metadata": {},
   "outputs": [
    {
     "data": {
      "text/plain": [
       "array(['N', 'Y', 'UNKNOWN', 1, 'M', '2017', 'y'], dtype=object)"
      ]
     },
     "execution_count": 89,
     "metadata": {},
     "output_type": "execute_result"
    }
   ],
   "source": [
    "df['Fatality'].unique()"
   ]
  },
  {
   "cell_type": "code",
   "execution_count": 90,
   "id": "762bc659",
   "metadata": {},
   "outputs": [],
   "source": [
    "def clean_fatal(x):\n",
    "    x = str(x)\n",
    "    if 'N' in x:\n",
    "        return 2\n",
    "    elif 'Y' in x:\n",
    "        return 1\n",
    "    elif '2017' in x:\n",
    "        return 0\n",
    "    elif 'UNKNOWN' in x:\n",
    "        return 0\n",
    "    elif 'y' in x:\n",
    "        return 1\n",
    "    elif 'M' in x:\n",
    "        return 0\n",
    "    elif 'U' in x:\n",
    "        return 0\n",
    "    else:\n",
    "        return x"
   ]
  },
  {
   "cell_type": "code",
   "execution_count": 91,
   "id": "7b42a56a",
   "metadata": {},
   "outputs": [],
   "source": [
    "df['Fatality'] = df['Fatality'].apply(clean_fatal)"
   ]
  },
  {
   "cell_type": "code",
   "execution_count": 92,
   "id": "e672b0e4",
   "metadata": {},
   "outputs": [],
   "source": [
    "df['Fatality'] = df['Fatality'].astype(int)"
   ]
  },
  {
   "cell_type": "code",
   "execution_count": 93,
   "id": "34806548",
   "metadata": {},
   "outputs": [
    {
     "data": {
      "text/plain": [
       "2    4898\n",
       "1    1402\n",
       "0       2\n",
       "Name: Fatality, dtype: int64"
      ]
     },
     "execution_count": 93,
     "metadata": {},
     "output_type": "execute_result"
    }
   ],
   "source": [
    "df['Fatality'].value_counts()"
   ]
  },
  {
   "cell_type": "markdown",
   "id": "2df02cd7",
   "metadata": {},
   "source": [
    "### 'Type' column"
   ]
  },
  {
   "cell_type": "code",
   "execution_count": 94,
   "id": "c97f524a",
   "metadata": {},
   "outputs": [
    {
     "data": {
      "text/plain": [
       "Unprovoked      4595\n",
       "Provoked         574\n",
       "Invalid          547\n",
       "Sea Disaster     239\n",
       "Boating          203\n",
       "Boat             137\n",
       "unknown            4\n",
       "Questionable       2\n",
       "Boatomg            1\n",
       "Name: Type, dtype: int64"
      ]
     },
     "execution_count": 94,
     "metadata": {},
     "output_type": "execute_result"
    }
   ],
   "source": [
    "df['Type'].value_counts()"
   ]
  },
  {
   "cell_type": "markdown",
   "id": "aad303cc",
   "metadata": {},
   "source": [
    "This column just needs five categories:\n",
    "\n",
    "    0    unknown\n",
    "    1    Unprovoked\n",
    "    2    Provoked\n",
    "    3    Boating\n",
    "    4    Disaster"
   ]
  },
  {
   "cell_type": "code",
   "execution_count": 95,
   "id": "379de743",
   "metadata": {},
   "outputs": [],
   "source": [
    "def clean_type(x):\n",
    "    x = x.lower()\n",
    "    if 'unprov' in x:\n",
    "        return 1\n",
    "    elif 'provoked' in x:\n",
    "        return 2    \n",
    "    elif 'boat' in x:\n",
    "        return 3\n",
    "    elif 'disa' in x:\n",
    "        return 4\n",
    "    elif 'quest' in x:\n",
    "        return 0\n",
    "    elif 'unk' in x:\n",
    "        return 0\n",
    "    elif 'inval' in x:\n",
    "        return 0\n",
    "    else:\n",
    "        return x.title()"
   ]
  },
  {
   "cell_type": "code",
   "execution_count": 96,
   "id": "80040440",
   "metadata": {},
   "outputs": [],
   "source": [
    "df['Type'] = df['Type'].apply(clean_type)"
   ]
  },
  {
   "cell_type": "code",
   "execution_count": 97,
   "id": "83e0d06c",
   "metadata": {},
   "outputs": [
    {
     "data": {
      "text/plain": [
       "1    4595\n",
       "2     574\n",
       "0     553\n",
       "3     341\n",
       "4     239\n",
       "Name: Type, dtype: int64"
      ]
     },
     "execution_count": 97,
     "metadata": {},
     "output_type": "execute_result"
    }
   ],
   "source": [
    "df['Type'].value_counts()"
   ]
  },
  {
   "cell_type": "code",
   "execution_count": 98,
   "id": "c3f8f555",
   "metadata": {},
   "outputs": [],
   "source": [
    "df['Type'] = df['Type'].astype(int)"
   ]
  },
  {
   "cell_type": "markdown",
   "id": "ef2ab22d",
   "metadata": {},
   "source": [
    "### 'Age' column"
   ]
  },
  {
   "cell_type": "markdown",
   "id": "96c255d4",
   "metadata": {},
   "source": [
    "The values in 'Age' are not always coherent:"
   ]
  },
  {
   "cell_type": "code",
   "execution_count": 99,
   "id": "c51acb29",
   "metadata": {},
   "outputs": [
    {
     "data": {
      "text/plain": [
       "array(['57', '11', '48', '0', '18', '52', '15', '12', '32', '10', '21',\n",
       "       '34', '30', '60', '33', '29', '54', '41', '37', '56', '19', '25',\n",
       "       '69', '38', '55', '35', '46', '45', '14', '40s', '28', '20', '24',\n",
       "       '26', '49', '22', '7', '31', '17', '40', '13', '42', '3', '8',\n",
       "       '50', '16', '82', '73', '20s', '68', '51', '39', '58', 'Teen',\n",
       "       '47', '61', '65', '36', '66', '43', '60s', '9', '72', '59', '6',\n",
       "       '27', '64', '23', '71', '44', '62', '63', '70', '18 months', '53',\n",
       "       '30s', '50s', 'teen', '77', '74', '28 and 26', '5', '86',\n",
       "       '18 or 20', '12 or 13', '46 and 34', '28, 23 and 30', 'Teens',\n",
       "       '36 and 26', '8 or 10', '84', '', '30 or 36', '6½', '21 and', '75',\n",
       "       '33 or 37', 'mid-30s', '23 and 20', '7      and    31', \"60's\",\n",
       "       '32 and 30', '16 to 18', '87', '67', 'Elderly', 'mid-20s',\n",
       "       'Ca. 33', '21 or 26', '>50', '18 to 22', 'adult', '9 and 12',\n",
       "       'and 19', '9 months', '25 to 35', '23 and 26', '1', '(adult)',\n",
       "       '33 and 37', '25 or 28', '37, 67, 35, 27,   and 27',\n",
       "       '21, 34,24 and 35', '30 and 32', '50 and 30', '17 and 35', 'X',\n",
       "       '\"middle-age\"', '13 or 18', '34 and 19', '33 and 26',\n",
       "       '2 to 3 months', 'MAKE LINE GREEN', '81', '\"young\"', '7 or 8',\n",
       "       '78', '17 and 16', 'F', 'Both 11', '9 or 10', 'young', '36 and 23',\n",
       "       'A.M.', 'and   14', '10 or 12', '31 or 33', '2½', '13 or 14'],\n",
       "      dtype=object)"
      ]
     },
     "execution_count": 99,
     "metadata": {},
     "output_type": "execute_result"
    }
   ],
   "source": [
    "df['Age'].unique()"
   ]
  },
  {
   "cell_type": "markdown",
   "id": "02bc1f2f",
   "metadata": {},
   "source": [
    "The idea here is to create a column with the integers of the victim age with the name 'Age_years'"
   ]
  },
  {
   "cell_type": "code",
   "execution_count": 100,
   "id": "420140a0",
   "metadata": {},
   "outputs": [],
   "source": [
    "def extract_number(x):\n",
    "    num = re.findall('\\d+', x)\n",
    "    if num:         \n",
    "        return int(num[0])\n",
    "    else:\n",
    "        return 0"
   ]
  },
  {
   "cell_type": "code",
   "execution_count": 101,
   "id": "38fe3609",
   "metadata": {},
   "outputs": [],
   "source": [
    "df['Age_years'] = df['Age'].apply(extract_number)"
   ]
  },
  {
   "cell_type": "code",
   "execution_count": 102,
   "id": "85477d23",
   "metadata": {},
   "outputs": [
    {
     "data": {
      "text/plain": [
       "array([57, 11, 48,  0, 18, 52, 15, 12, 32, 10, 21, 34, 30, 60, 33, 29, 54,\n",
       "       41, 37, 56, 19, 25, 69, 38, 55, 35, 46, 45, 14, 40, 28, 20, 24, 26,\n",
       "       49, 22,  7, 31, 17, 13, 42,  3,  8, 50, 16, 82, 73, 68, 51, 39, 58,\n",
       "       47, 61, 65, 36, 66, 43,  9, 72, 59,  6, 27, 64, 23, 71, 44, 62, 63,\n",
       "       70, 53, 77, 74,  5, 86, 84, 75, 87, 67,  1,  2, 81, 78],\n",
       "      dtype=int64)"
      ]
     },
     "execution_count": 102,
     "metadata": {},
     "output_type": "execute_result"
    }
   ],
   "source": [
    "df['Age_years'].unique()"
   ]
  },
  {
   "cell_type": "markdown",
   "id": "b933f301",
   "metadata": {},
   "source": [
    "Now, transform the values of the 'Age' column into numerical categories:\n",
    "\n",
    "    0     unknown\n",
    "    1       Child\t0-12 años\n",
    "    2        Teen\t13-19 años\n",
    "    3       Young\t20-39 años\n",
    "    4       Adult\t40-64 años\n",
    "    5       Elder\t65 años o más"
   ]
  },
  {
   "cell_type": "code",
   "execution_count": 103,
   "id": "3074e924",
   "metadata": {},
   "outputs": [],
   "source": [
    "child_index = df[(df['Age_years'] > 0) & (df['Age_years'] < 13)].index\n",
    "teen_index = df[(df['Age_years'] > 13) & (df['Age_years'] < 20)].index\n",
    "young_index = df[(df['Age_years'] > 20) & (df['Age_years'] < 40)].index\n",
    "adult_index = df[(df['Age_years'] > 40) & (df['Age_years'] < 64)].index\n",
    "elder_index = df[(df['Age_years'] > 65)].index"
   ]
  },
  {
   "cell_type": "code",
   "execution_count": 104,
   "id": "d6b8366f",
   "metadata": {},
   "outputs": [],
   "source": [
    "df.loc[child_index, 'Age'] = 1\n",
    "df.loc[teen_index, 'Age'] = 2\n",
    "df.loc[young_index, 'Age'] = 3\n",
    "df.loc[adult_index, 'Age'] = 4\n",
    "df.loc[elder_index, 'Age'] = 5"
   ]
  },
  {
   "cell_type": "markdown",
   "id": "557387ac",
   "metadata": {},
   "source": [
    "The column still contains values that are undesired strings:"
   ]
  },
  {
   "cell_type": "code",
   "execution_count": 105,
   "id": "e66b7767",
   "metadata": {},
   "outputs": [
    {
     "data": {
      "text/plain": [
       "                   3137\n",
       "s                    10\n",
       "Teen                  9\n",
       "teen                  5\n",
       "young                 2\n",
       " or                   2\n",
       "\"middle-age\"          1\n",
       "F                     1\n",
       "\"young\"               1\n",
       "MAKE LINE GREEN       1\n",
       "(adult)               1\n",
       "X                     1\n",
       "adult                 1\n",
       "mid-s                 1\n",
       "Elderly               1\n",
       "Teens                 1\n",
       "A.M.                  1\n",
       "Name: Age, dtype: int64"
      ]
     },
     "execution_count": 105,
     "metadata": {},
     "output_type": "execute_result"
    }
   ],
   "source": [
    "df['Age'].str.replace(r\"\\d\", \"\", regex = True).value_counts()"
   ]
  },
  {
   "cell_type": "code",
   "execution_count": 106,
   "id": "a2f69cbc",
   "metadata": {},
   "outputs": [],
   "source": [
    "def clean_age(x):\n",
    "    try:\n",
    "        x = int(x)\n",
    "        if x in range(6, 13):   \n",
    "            return 1\n",
    "        elif x in range(13, 20):\n",
    "            return 2\n",
    "        elif x in range(20, 40):\n",
    "            return 3\n",
    "        elif x in range(40, 65):\n",
    "            return 4\n",
    "        elif x in range(65, 150):\n",
    "            return 5\n",
    "        else:\n",
    "            return x\n",
    "    except:\n",
    "        x = x.lower()\n",
    "        if 'child' in x:\n",
    "            return 1\n",
    "        elif 'month' in x:\n",
    "            return 1\n",
    "        elif 'teen' in x:\n",
    "            return 2\n",
    "        elif 'youn' in x:\n",
    "            return 3\n",
    "        elif 'adult' in x:\n",
    "            return 4\n",
    "        elif 'elde' in x:\n",
    "            return 5\n",
    "        elif 'iddle' in x:\n",
    "            return 4      \n",
    "        elif '40s' in x:\n",
    "            return 4\n",
    "        elif '20s' in x:\n",
    "            return 3\n",
    "        elif '' in x:\n",
    "            return 0\n",
    "        elif '20?' in x:\n",
    "            return 3\n",
    "        elif 'mid-20s' in x:\n",
    "            return 3\n",
    "        elif 'x' in x:\n",
    "            return 0\n",
    "        elif '13 or 18' in x:\n",
    "            return 2\n",
    "        elif 'make line green' in x:\n",
    "            return 0\n",
    "        elif 'f' in x:\n",
    "            return 0\n",
    "        elif 'a.m.' in x:\n",
    "            return 0\n",
    "        elif '13 or 14' in x:\n",
    "            return 2\n",
    "        else:\n",
    "            return x"
   ]
  },
  {
   "cell_type": "code",
   "execution_count": 107,
   "id": "b0b3ca00",
   "metadata": {},
   "outputs": [],
   "source": [
    "df['Age'] = df['Age'].apply(clean_age)"
   ]
  },
  {
   "cell_type": "markdown",
   "id": "720fa3c3",
   "metadata": {},
   "source": [
    "Rename the column 'Age' to 'Age_groups'"
   ]
  },
  {
   "cell_type": "code",
   "execution_count": 108,
   "id": "89566be4",
   "metadata": {},
   "outputs": [],
   "source": [
    "df = df.rename(columns = {\"Age\": \"Age_groups\"})"
   ]
  },
  {
   "cell_type": "markdown",
   "id": "8bbdae3e",
   "metadata": {},
   "source": [
    "Is there any column with unknown 'Age_groups' but 'Age_years' different from 0 (unknown)?"
   ]
  },
  {
   "cell_type": "code",
   "execution_count": 109,
   "id": "6cbe42c6",
   "metadata": {},
   "outputs": [
    {
     "data": {
      "text/html": [
       "<div>\n",
       "<style scoped>\n",
       "    .dataframe tbody tr th:only-of-type {\n",
       "        vertical-align: middle;\n",
       "    }\n",
       "\n",
       "    .dataframe tbody tr th {\n",
       "        vertical-align: top;\n",
       "    }\n",
       "\n",
       "    .dataframe thead th {\n",
       "        text-align: right;\n",
       "    }\n",
       "</style>\n",
       "<table border=\"1\" class=\"dataframe\">\n",
       "  <thead>\n",
       "    <tr style=\"text-align: right;\">\n",
       "      <th></th>\n",
       "      <th>Case Number</th>\n",
       "      <th>Date</th>\n",
       "      <th>Year</th>\n",
       "      <th>Type</th>\n",
       "      <th>Country</th>\n",
       "      <th>Area</th>\n",
       "      <th>Location</th>\n",
       "      <th>Activity</th>\n",
       "      <th>Name</th>\n",
       "      <th>Sex</th>\n",
       "      <th>...</th>\n",
       "      <th>Time</th>\n",
       "      <th>Species</th>\n",
       "      <th>Investigator or Source</th>\n",
       "      <th>pdf</th>\n",
       "      <th>href formula</th>\n",
       "      <th>href</th>\n",
       "      <th>Case Number.1</th>\n",
       "      <th>Case Number.2</th>\n",
       "      <th>original order</th>\n",
       "      <th>Age_years</th>\n",
       "    </tr>\n",
       "  </thead>\n",
       "  <tbody>\n",
       "  </tbody>\n",
       "</table>\n",
       "<p>0 rows × 23 columns</p>\n",
       "</div>"
      ],
      "text/plain": [
       "Empty DataFrame\n",
       "Columns: [Case Number, Date, Year, Type, Country, Area, Location, Activity, Name, Sex, Age_groups, Injury, Fatality, Time, Species, Investigator or Source, pdf, href formula, href, Case Number.1, Case Number.2, original order, Age_years]\n",
       "Index: []\n",
       "\n",
       "[0 rows x 23 columns]"
      ]
     },
     "execution_count": 109,
     "metadata": {},
     "output_type": "execute_result"
    }
   ],
   "source": [
    "df[(df['Age_groups'] == 'unknown') & (df['Age_years'] != 0)]"
   ]
  },
  {
   "cell_type": "code",
   "execution_count": 110,
   "id": "320b9809",
   "metadata": {},
   "outputs": [],
   "source": [
    "'''\n",
    "df.loc[2441, 'Age_groups'] = 3\n",
    "df.loc[4075, 'Age_groups'] = 2\n",
    "df.loc[6265, 'Age_groups'] = 2\n",
    "''';"
   ]
  },
  {
   "cell_type": "code",
   "execution_count": 111,
   "id": "15855386",
   "metadata": {},
   "outputs": [
    {
     "data": {
      "text/plain": [
       "0    2841\n",
       "3    1565\n",
       "2     941\n",
       "4     607\n",
       "1     293\n",
       "5      55\n",
       "Name: Age_groups, dtype: int64"
      ]
     },
     "execution_count": 111,
     "metadata": {},
     "output_type": "execute_result"
    }
   ],
   "source": [
    "df['Age_groups'].value_counts()"
   ]
  },
  {
   "cell_type": "code",
   "execution_count": 112,
   "id": "857618c6",
   "metadata": {},
   "outputs": [],
   "source": [
    "df['Age_groups'] = df['Age_groups'].astype(int)"
   ]
  },
  {
   "cell_type": "markdown",
   "id": "059933ab",
   "metadata": {},
   "source": [
    "### 'Country' column"
   ]
  },
  {
   "cell_type": "markdown",
   "id": "72bfc6ed",
   "metadata": {},
   "source": [
    "This column is quite clean,\n",
    "the amount of unique values is smaller \n",
    "than the number of countries in the world."
   ]
  },
  {
   "cell_type": "code",
   "execution_count": 113,
   "id": "e3b4693c",
   "metadata": {},
   "outputs": [
    {
     "data": {
      "text/plain": [
       "202"
      ]
     },
     "execution_count": 113,
     "metadata": {},
     "output_type": "execute_result"
    }
   ],
   "source": [
    "len(df['Country'].unique())"
   ]
  },
  {
   "cell_type": "code",
   "execution_count": 114,
   "id": "51859322",
   "metadata": {},
   "outputs": [
    {
     "data": {
      "text/plain": [
       "(50, 23)"
      ]
     },
     "execution_count": 114,
     "metadata": {},
     "output_type": "execute_result"
    }
   ],
   "source": [
    "df[df['Country'] == 'unknown'].shape"
   ]
  },
  {
   "cell_type": "code",
   "execution_count": 115,
   "id": "737b4e2c",
   "metadata": {},
   "outputs": [],
   "source": [
    "def clean_countries(x):\n",
    "    x = x.upper()\n",
    "    if 'USA' in x:\n",
    "        return 'United States'\n",
    "    elif 'OCEAN' in x:\n",
    "        return 'ocean'\n",
    "    elif 'SEA' in x:\n",
    "        return 'ocean'\n",
    "    elif x == 'UNKNOWN':\n",
    "        return 'unknown'\n",
    "    else:\n",
    "        return x.title()"
   ]
  },
  {
   "cell_type": "code",
   "execution_count": 116,
   "id": "80ede78d",
   "metadata": {},
   "outputs": [
    {
     "data": {
      "text/plain": [
       "United States           2229\n",
       "Australia               1338\n",
       "South Africa             579\n",
       "Papua New Guinea         134\n",
       "New Zealand              128\n",
       "                        ... \n",
       "Netherlands Antilles       1\n",
       "Guatemala                  1\n",
       "St. Martin                 1\n",
       "Argentina                  1\n",
       "Ceylon (Sri Lanka)         1\n",
       "Name: Country, Length: 180, dtype: int64"
      ]
     },
     "execution_count": 116,
     "metadata": {},
     "output_type": "execute_result"
    }
   ],
   "source": [
    "df['Country'] = df['Country'].apply(clean_countries)\n",
    "df['Country'].value_counts()"
   ]
  },
  {
   "cell_type": "markdown",
   "id": "aa8f271e",
   "metadata": {},
   "source": [
    "Is there any cell with 'unknown' Country, but 'Area' not unknonwn?"
   ]
  },
  {
   "cell_type": "code",
   "execution_count": 117,
   "id": "f529ea66",
   "metadata": {},
   "outputs": [
    {
     "data": {
      "text/html": [
       "<div>\n",
       "<style scoped>\n",
       "    .dataframe tbody tr th:only-of-type {\n",
       "        vertical-align: middle;\n",
       "    }\n",
       "\n",
       "    .dataframe tbody tr th {\n",
       "        vertical-align: top;\n",
       "    }\n",
       "\n",
       "    .dataframe thead th {\n",
       "        text-align: right;\n",
       "    }\n",
       "</style>\n",
       "<table border=\"1\" class=\"dataframe\">\n",
       "  <thead>\n",
       "    <tr style=\"text-align: right;\">\n",
       "      <th></th>\n",
       "      <th>Case Number</th>\n",
       "      <th>Date</th>\n",
       "      <th>Year</th>\n",
       "      <th>Type</th>\n",
       "      <th>Country</th>\n",
       "      <th>Area</th>\n",
       "      <th>Location</th>\n",
       "      <th>Activity</th>\n",
       "      <th>Name</th>\n",
       "      <th>Sex</th>\n",
       "      <th>...</th>\n",
       "      <th>Time</th>\n",
       "      <th>Species</th>\n",
       "      <th>Investigator or Source</th>\n",
       "      <th>pdf</th>\n",
       "      <th>href formula</th>\n",
       "      <th>href</th>\n",
       "      <th>Case Number.1</th>\n",
       "      <th>Case Number.2</th>\n",
       "      <th>original order</th>\n",
       "      <th>Age_years</th>\n",
       "    </tr>\n",
       "  </thead>\n",
       "  <tbody>\n",
       "    <tr>\n",
       "      <th>2956</th>\n",
       "      <td>1983.00.00.d</td>\n",
       "      <td>Ca. 1983</td>\n",
       "      <td>1983.0</td>\n",
       "      <td>1</td>\n",
       "      <td>unknown</td>\n",
       "      <td>English Channel</td>\n",
       "      <td>unknown</td>\n",
       "      <td>Swimming</td>\n",
       "      <td>Padma Shri Taranath Narayan Shenoy</td>\n",
       "      <td>1</td>\n",
       "      <td>...</td>\n",
       "      <td>unknown</td>\n",
       "      <td>unknown</td>\n",
       "      <td>Times of India, 2/5/2012</td>\n",
       "      <td>1983.00.00.d-Shenoy.pdf</td>\n",
       "      <td>http://sharkattackfile.net/spreadsheets/pdf_di...</td>\n",
       "      <td>http://sharkattackfile.net/spreadsheets/pdf_di...</td>\n",
       "      <td>1983.00.00.d</td>\n",
       "      <td>1983.00.00.d</td>\n",
       "      <td>3347.0</td>\n",
       "      <td>0</td>\n",
       "    </tr>\n",
       "    <tr>\n",
       "      <th>3387</th>\n",
       "      <td>1970.08.02</td>\n",
       "      <td>02-Aug-1970</td>\n",
       "      <td>1970.0</td>\n",
       "      <td>0</td>\n",
       "      <td>unknown</td>\n",
       "      <td>Caribbean Sea</td>\n",
       "      <td>Between St. Kitts and Nevis</td>\n",
       "      <td>Sea Disaster Sinking of ferryboat Christina</td>\n",
       "      <td>unknown</td>\n",
       "      <td>0</td>\n",
       "      <td>...</td>\n",
       "      <td>Afternoon</td>\n",
       "      <td>Shark involvement prior to death was not confi...</td>\n",
       "      <td>Rome News Tribune, 8/3/1970</td>\n",
       "      <td>1970.08.02-Christina-ferryboat.pdf</td>\n",
       "      <td>http://sharkattackfile.net/spreadsheets/pdf_di...</td>\n",
       "      <td>http://sharkattackfile.net/spreadsheets/pdf_di...</td>\n",
       "      <td>1970.08.02</td>\n",
       "      <td>1970.08.02</td>\n",
       "      <td>2916.0</td>\n",
       "      <td>0</td>\n",
       "    </tr>\n",
       "    <tr>\n",
       "      <th>4018</th>\n",
       "      <td>1960.01.26</td>\n",
       "      <td>26-Jan-1960</td>\n",
       "      <td>1960.0</td>\n",
       "      <td>4</td>\n",
       "      <td>unknown</td>\n",
       "      <td>Between Timor and Darwin, Australia</td>\n",
       "      <td>unknown</td>\n",
       "      <td>Portuguese Airliner with 9 people aboard went ...</td>\n",
       "      <td>unknown</td>\n",
       "      <td>0</td>\n",
       "      <td>...</td>\n",
       "      <td>unknown</td>\n",
       "      <td>unknown</td>\n",
       "      <td>V.M. Coppleson (1962), p.260</td>\n",
       "      <td>1960.01.26-Portuguese airliner.pdf</td>\n",
       "      <td>http://sharkattackfile.net/spreadsheets/pdf_di...</td>\n",
       "      <td>http://sharkattackfile.net/spreadsheets/pdf_di...</td>\n",
       "      <td>1960.01.26</td>\n",
       "      <td>1960.01.26</td>\n",
       "      <td>2285.0</td>\n",
       "      <td>0</td>\n",
       "    </tr>\n",
       "    <tr>\n",
       "      <th>4231</th>\n",
       "      <td>1956.09.13</td>\n",
       "      <td>13-Sep-1956</td>\n",
       "      <td>1956.0</td>\n",
       "      <td>1</td>\n",
       "      <td>unknown</td>\n",
       "      <td>Near the Andaman and Nicobar Islands</td>\n",
       "      <td>unknown</td>\n",
       "      <td>Climbing back on ship</td>\n",
       "      <td>male</td>\n",
       "      <td>1</td>\n",
       "      <td>...</td>\n",
       "      <td>P.M.</td>\n",
       "      <td>Blue shark</td>\n",
       "      <td>M. Hosina</td>\n",
       "      <td>1956.09.13-TunaBoat.pdf</td>\n",
       "      <td>http://sharkattackfile.net/spreadsheets/pdf_di...</td>\n",
       "      <td>http://sharkattackfile.net/spreadsheets/pdf_di...</td>\n",
       "      <td>1956.09.13</td>\n",
       "      <td>1956.09.13</td>\n",
       "      <td>2072.0</td>\n",
       "      <td>0</td>\n",
       "    </tr>\n",
       "    <tr>\n",
       "      <th>4266</th>\n",
       "      <td>1956.00.00.g</td>\n",
       "      <td>1956</td>\n",
       "      <td>1956.0</td>\n",
       "      <td>4</td>\n",
       "      <td>unknown</td>\n",
       "      <td>Between Comores and Madagascar</td>\n",
       "      <td>Geyser Bank</td>\n",
       "      <td>Shipwreck</td>\n",
       "      <td>Captain Eric Hunt, the cook and a French passe...</td>\n",
       "      <td>1</td>\n",
       "      <td>...</td>\n",
       "      <td>unknown</td>\n",
       "      <td>unknown</td>\n",
       "      <td>dinofish.com</td>\n",
       "      <td>1956.00.00.g-Capt-Hunt.pdf</td>\n",
       "      <td>http://sharkattackfile.net/spreadsheets/pdf_di...</td>\n",
       "      <td>http://sharkattackfile.net/spreadsheets/pdf_di...</td>\n",
       "      <td>1956.00.00.g</td>\n",
       "      <td>1956.00.00.g</td>\n",
       "      <td>2037.0</td>\n",
       "      <td>0</td>\n",
       "    </tr>\n",
       "  </tbody>\n",
       "</table>\n",
       "<p>5 rows × 23 columns</p>\n",
       "</div>"
      ],
      "text/plain": [
       "       Case Number         Date    Year  Type  Country  \\\n",
       "2956  1983.00.00.d     Ca. 1983  1983.0     1  unknown   \n",
       "3387    1970.08.02  02-Aug-1970  1970.0     0  unknown   \n",
       "4018    1960.01.26  26-Jan-1960  1960.0     4  unknown   \n",
       "4231    1956.09.13  13-Sep-1956  1956.0     1  unknown   \n",
       "4266  1956.00.00.g         1956  1956.0     4  unknown   \n",
       "\n",
       "                                      Area                     Location  \\\n",
       "2956                       English Channel                      unknown   \n",
       "3387                         Caribbean Sea  Between St. Kitts and Nevis   \n",
       "4018   Between Timor and Darwin, Australia                      unknown   \n",
       "4231  Near the Andaman and Nicobar Islands                      unknown   \n",
       "4266        Between Comores and Madagascar                  Geyser Bank   \n",
       "\n",
       "                                               Activity  \\\n",
       "2956                                           Swimming   \n",
       "3387        Sea Disaster Sinking of ferryboat Christina   \n",
       "4018  Portuguese Airliner with 9 people aboard went ...   \n",
       "4231                              Climbing back on ship   \n",
       "4266                                          Shipwreck   \n",
       "\n",
       "                                                   Name  Sex  ...       Time  \\\n",
       "2956                 Padma Shri Taranath Narayan Shenoy    1  ...    unknown   \n",
       "3387                                            unknown    0  ...  Afternoon   \n",
       "4018                                            unknown    0  ...    unknown   \n",
       "4231                                               male    1  ...       P.M.   \n",
       "4266  Captain Eric Hunt, the cook and a French passe...    1  ...    unknown   \n",
       "\n",
       "                                                Species  \\\n",
       "2956                                            unknown   \n",
       "3387  Shark involvement prior to death was not confi...   \n",
       "4018                                            unknown   \n",
       "4231                                         Blue shark   \n",
       "4266                                            unknown   \n",
       "\n",
       "            Investigator or Source                                 pdf  \\\n",
       "2956      Times of India, 2/5/2012             1983.00.00.d-Shenoy.pdf   \n",
       "3387   Rome News Tribune, 8/3/1970  1970.08.02-Christina-ferryboat.pdf   \n",
       "4018  V.M. Coppleson (1962), p.260  1960.01.26-Portuguese airliner.pdf   \n",
       "4231                     M. Hosina             1956.09.13-TunaBoat.pdf   \n",
       "4266                  dinofish.com          1956.00.00.g-Capt-Hunt.pdf   \n",
       "\n",
       "                                           href formula  \\\n",
       "2956  http://sharkattackfile.net/spreadsheets/pdf_di...   \n",
       "3387  http://sharkattackfile.net/spreadsheets/pdf_di...   \n",
       "4018  http://sharkattackfile.net/spreadsheets/pdf_di...   \n",
       "4231  http://sharkattackfile.net/spreadsheets/pdf_di...   \n",
       "4266  http://sharkattackfile.net/spreadsheets/pdf_di...   \n",
       "\n",
       "                                                   href Case Number.1  \\\n",
       "2956  http://sharkattackfile.net/spreadsheets/pdf_di...  1983.00.00.d   \n",
       "3387  http://sharkattackfile.net/spreadsheets/pdf_di...    1970.08.02   \n",
       "4018  http://sharkattackfile.net/spreadsheets/pdf_di...    1960.01.26   \n",
       "4231  http://sharkattackfile.net/spreadsheets/pdf_di...    1956.09.13   \n",
       "4266  http://sharkattackfile.net/spreadsheets/pdf_di...  1956.00.00.g   \n",
       "\n",
       "     Case Number.2 original order Age_years  \n",
       "2956  1983.00.00.d         3347.0         0  \n",
       "3387    1970.08.02         2916.0         0  \n",
       "4018    1960.01.26         2285.0         0  \n",
       "4231    1956.09.13         2072.0         0  \n",
       "4266  1956.00.00.g         2037.0         0  \n",
       "\n",
       "[5 rows x 23 columns]"
      ]
     },
     "execution_count": 117,
     "metadata": {},
     "output_type": "execute_result"
    }
   ],
   "source": [
    "df[(df['Country'] == 'unknown') & (df['Area'] != 'unknown')].head()"
   ]
  },
  {
   "cell_type": "markdown",
   "id": "6efcd740",
   "metadata": {},
   "source": [
    "Correct those countries with the corresponding country"
   ]
  },
  {
   "cell_type": "code",
   "execution_count": 118,
   "id": "5ce70245",
   "metadata": {},
   "outputs": [],
   "source": [
    "index_area = df[(df['Country'] == 'unknown') & (df['Area'] != 'unknown')].index\n",
    "countries_to_fill = ['England', 'ocean', 'Australia', 'India', \n",
    "                     'Madagascar', 'ocean', 'United states', 'ocean', \n",
    "                     'ocean', 'ocean', 'United states', 'unknown', \n",
    "                     'England', 'Greece', 'Greece']\n",
    "\n",
    "df.loc[index_area, 'Country'] = countries_to_fill"
   ]
  },
  {
   "cell_type": "markdown",
   "id": "344ae6ef",
   "metadata": {},
   "source": [
    "### 'Year' column"
   ]
  },
  {
   "cell_type": "code",
   "execution_count": 119,
   "id": "e3f7d79e",
   "metadata": {},
   "outputs": [
    {
     "data": {
      "text/plain": [
       "array([2018., 2017., 2016., 2015., 2014., 2013., 2012., 2011., 2010.,\n",
       "       2009., 2008., 2007., 2006., 2005., 2004., 2003., 2002., 2001.,\n",
       "       2000., 1999., 1998., 1997., 1996., 1995., 1984., 1994., 1993.,\n",
       "       1992., 1991., 1990., 1989., 1969., 1988., 1987., 1986., 1985.,\n",
       "       1983., 1982., 1981., 1980., 1979., 1978., 1977., 1976., 1975.,\n",
       "       1974., 1973., 1972., 1971., 1970., 1968., 1967., 1966., 1965.,\n",
       "       1964., 1963., 1962., 1961., 1960., 1959., 1958., 1957., 1956.,\n",
       "       1955., 1954., 1953., 1952., 1951., 1950., 1949., 1948., 1848.,\n",
       "       1947., 1946., 1945., 1944., 1943., 1942., 1941., 1940., 1939.,\n",
       "       1938., 1937., 1936., 1935., 1934., 1933., 1932., 1931., 1930.,\n",
       "       1929., 1928., 1927., 1926., 1925., 1924., 1923., 1922., 1921.,\n",
       "       1920., 1919., 1918., 1917., 1916., 1915., 1914., 1913., 1912.,\n",
       "       1911., 1910., 1909., 1908., 1907., 1906., 1905., 1904., 1903.,\n",
       "       1902., 1901., 1900., 1899., 1898., 1897., 1896., 1895., 1894.,\n",
       "       1893., 1892., 1891., 1890., 1889., 1888., 1887., 1886., 1885.,\n",
       "       1884., 1883., 1882., 1881., 1880., 1879., 1878., 1877., 1876.,\n",
       "       1875., 1874., 1873., 1872., 1871., 1870., 1869., 1868., 1867.,\n",
       "       1866., 1865., 1864., 1863., 1862., 1861., 1860., 1859., 1858.,\n",
       "       1857., 1856., 1855., 1853., 1852., 1851., 1850., 1849., 1847.,\n",
       "       1846., 1845., 1844., 1842., 1841., 1840., 1839., 1837., 1836.,\n",
       "       1835., 1834., 1832., 1831., 1830., 1829., 1828., 1827., 1826.,\n",
       "       1825., 1823., 1822., 1819., 1818., 1817., 1816., 1815., 1812.,\n",
       "       1811., 1810., 1808., 1807., 1805., 1804., 1803., 1802., 1801.,\n",
       "       1800., 1797., 1792., 1791., 1788., 1787., 1786., 1785., 1784.,\n",
       "       1783., 1780., 1779., 1776., 1771., 1767., 1764., 1758., 1753.,\n",
       "       1751., 1749., 1755., 1748., 1742., 1738., 1733., 1723., 1721.,\n",
       "       1703., 1700., 1642., 1638., 1637., 1617., 1595., 1580., 1555.,\n",
       "       1554., 1543.,  500.,   77.,    5.,    0.])"
      ]
     },
     "execution_count": 119,
     "metadata": {},
     "output_type": "execute_result"
    }
   ],
   "source": [
    "df['Year'].unique()"
   ]
  },
  {
   "cell_type": "markdown",
   "id": "34783e33",
   "metadata": {},
   "source": [
    "All the values for years seems corrects except: '500', '77' and '5' "
   ]
  },
  {
   "cell_type": "code",
   "execution_count": 120,
   "id": "04664668",
   "metadata": {},
   "outputs": [],
   "source": [
    "def clean_year(x):\n",
    "    if x == 5.0:\n",
    "        return 0\n",
    "    elif x == 77.0:\n",
    "        return 0\n",
    "    elif x == 500.0:\n",
    "        return 0\n",
    "    else:\n",
    "        return x"
   ]
  },
  {
   "cell_type": "code",
   "execution_count": 121,
   "id": "7eabda37",
   "metadata": {},
   "outputs": [],
   "source": [
    "df['Year'] = df['Year'].apply(clean_year)"
   ]
  },
  {
   "cell_type": "code",
   "execution_count": 122,
   "id": "a43e03a6",
   "metadata": {},
   "outputs": [
    {
     "data": {
      "text/plain": [
       "2015.0    143\n",
       "2017.0    137\n",
       "2016.0    130\n",
       "0.0       128\n",
       "2011.0    128\n",
       "         ... \n",
       "1788.0      1\n",
       "1787.0      1\n",
       "1786.0      1\n",
       "1785.0      1\n",
       "1819.0      1\n",
       "Name: Year, Length: 246, dtype: int64"
      ]
     },
     "execution_count": 122,
     "metadata": {},
     "output_type": "execute_result"
    }
   ],
   "source": [
    "df['Year'].value_counts()"
   ]
  },
  {
   "cell_type": "markdown",
   "id": "223569f4",
   "metadata": {},
   "source": [
    "I will remove all the rows with unknown (0) year"
   ]
  },
  {
   "cell_type": "code",
   "execution_count": 123,
   "id": "2d79c9bc",
   "metadata": {},
   "outputs": [],
   "source": [
    "index_zero_years = df[df['Year'] == 0.0].index"
   ]
  },
  {
   "cell_type": "code",
   "execution_count": 124,
   "id": "5a0eaf55",
   "metadata": {},
   "outputs": [],
   "source": [
    "df.drop(index_zero_years, inplace = True)"
   ]
  },
  {
   "cell_type": "code",
   "execution_count": 125,
   "id": "59ebb25d",
   "metadata": {},
   "outputs": [
    {
     "data": {
      "text/plain": [
       "'Original: (25723, 24), Now: (6174, 23)'"
      ]
     },
     "execution_count": 125,
     "metadata": {},
     "output_type": "execute_result"
    }
   ],
   "source": [
    "shape(df)"
   ]
  },
  {
   "cell_type": "markdown",
   "id": "cded719c",
   "metadata": {},
   "source": [
    "### 'Time' column"
   ]
  },
  {
   "cell_type": "markdown",
   "id": "a75db88b",
   "metadata": {},
   "source": [
    "I will first change the time from 12h00 to 12:00, replace the 'h' with ':'"
   ]
  },
  {
   "cell_type": "code",
   "execution_count": 126,
   "id": "f6dd5980",
   "metadata": {},
   "outputs": [],
   "source": [
    "df['Time'] = df['Time'].str.replace(r\"h\", \":\", regex=True)"
   ]
  },
  {
   "cell_type": "code",
   "execution_count": 127,
   "id": "4d748744",
   "metadata": {},
   "outputs": [
    {
     "data": {
      "text/plain": [
       "unknown        3233\n",
       "Afternoon       183\n",
       "11:00           128\n",
       "Morning         121\n",
       "12:00           109\n",
       "               ... \n",
       "14:37             1\n",
       "10:07             1\n",
       "13:53             1\n",
       "13:23             1\n",
       "19:00-20:00       1\n",
       "Name: Time, Length: 359, dtype: int64"
      ]
     },
     "execution_count": 127,
     "metadata": {},
     "output_type": "execute_result"
    }
   ],
   "source": [
    "df['Time'].value_counts()"
   ]
  },
  {
   "cell_type": "markdown",
   "id": "9f620650",
   "metadata": {},
   "source": [
    "Clasify the time of the accident into four categories:\n",
    "\n",
    "    0 - Unknown\n",
    "    1 - Morning:    6:00 AM - 12:00 PM\n",
    "    2 - Afternoon: 12:00 PM - 6:00 PM\n",
    "    3 - Evening:    6:00 PM - 12:00 AM\n",
    "    4 - Night:     12:00 AM - 6:00 AM"
   ]
  },
  {
   "cell_type": "code",
   "execution_count": 128,
   "id": "5eafeee4",
   "metadata": {},
   "outputs": [],
   "source": [
    "def clean_time(x):\n",
    "    try:\n",
    "        x = x.replace(':', '')\n",
    "        x = int(x)\n",
    "        if x in range(0, 2400):\n",
    "            if x in range(600, 1300):   \n",
    "                return int(1)\n",
    "            elif x in range(1200, 1800):\n",
    "                return int(2)\n",
    "            elif x in range(1800, 2400):\n",
    "                return int(3)\n",
    "            elif x in range(0, 700):\n",
    "                return int(4)\n",
    "    except:\n",
    "        return int(0)"
   ]
  },
  {
   "cell_type": "code",
   "execution_count": 129,
   "id": "b46bee9c",
   "metadata": {},
   "outputs": [
    {
     "data": {
      "text/plain": [
       "array([ 3.,  0.,  1.,  2.,  4., nan])"
      ]
     },
     "execution_count": 129,
     "metadata": {},
     "output_type": "execute_result"
    }
   ],
   "source": [
    "df['Time_groups'] = df['Time'].apply(clean_time)\n",
    "df['Time_groups'].unique()"
   ]
  },
  {
   "cell_type": "code",
   "execution_count": 130,
   "id": "d05befce",
   "metadata": {},
   "outputs": [],
   "source": [
    "df['Time_groups'].fillna(0, inplace=True)"
   ]
  },
  {
   "cell_type": "markdown",
   "id": "37d6548c",
   "metadata": {},
   "source": [
    "### 'Area' column"
   ]
  },
  {
   "cell_type": "code",
   "execution_count": 131,
   "id": "9d036fb6",
   "metadata": {
    "scrolled": true
   },
   "outputs": [
    {
     "data": {
      "text/plain": [
       "Florida                        1030\n",
       "New South Wales                 483\n",
       "unknown                         428\n",
       "Queensland                      309\n",
       "Hawaii                          295\n",
       "                               ... \n",
       "Chungnam                          1\n",
       "Biserta                           1\n",
       "Kumamoto Prefecture               1\n",
       "North and South Carolina          1\n",
       "Magarita or Cubagua Islands       1\n",
       "Name: Area, Length: 780, dtype: int64"
      ]
     },
     "execution_count": 131,
     "metadata": {},
     "output_type": "execute_result"
    }
   ],
   "source": [
    "df['Area'].value_counts()"
   ]
  },
  {
   "cell_type": "code",
   "execution_count": 132,
   "id": "beb7048c",
   "metadata": {},
   "outputs": [],
   "source": [
    "states_usa = {\n",
    "    1: 'Alabama',\n",
    "    2: 'Alaska',\n",
    "    3: 'Arizona',\n",
    "    4: 'Arkansas',\n",
    "    5: 'California',\n",
    "    6: 'Colorado',\n",
    "    7: 'Connecticut',\n",
    "    8: 'Delaware',\n",
    "    9: 'Florida',\n",
    "    10: 'Georgia',\n",
    "    11: 'Hawaii',\n",
    "    12: 'Idaho',\n",
    "    13: 'Illinois',\n",
    "    14: 'Indiana',\n",
    "    15: 'Iowa',\n",
    "    16: 'Kansas',\n",
    "    17: 'Kentucky',\n",
    "    18: 'Louisiana',\n",
    "    19: 'Maine',\n",
    "    20: 'Maryland',\n",
    "    21: 'Massachusetts',\n",
    "    22: 'Michigan',\n",
    "    23: 'Minnesota',\n",
    "    24: 'Mississippi',\n",
    "    25: 'Missouri',\n",
    "    26: 'Montana',\n",
    "    27: 'Nebraska',\n",
    "    28: 'Nevada',\n",
    "    29: 'New Hampshire',\n",
    "    30: 'New Jersey',\n",
    "    31: 'New Mexico',\n",
    "    32: 'New York',\n",
    "    33: 'North Carolina',\n",
    "    34: 'North Dakota',\n",
    "    35: 'Ohio',\n",
    "    36: 'Oklahoma',\n",
    "    37: 'Oregon',\n",
    "    38: 'Pennsylvania',\n",
    "    39: 'Rhode Island',\n",
    "    40: 'South Carolina',\n",
    "    41: 'South Dakota',\n",
    "    42: 'Tennessee',\n",
    "    43: 'Texas',\n",
    "    44: 'Utah',\n",
    "    45: 'Vermont',\n",
    "    46: 'Virginia',\n",
    "    47: 'Washington',\n",
    "    48: 'West Virginia',\n",
    "    49: 'Wisconsin',\n",
    "    50: 'Wyoming'}"
   ]
  },
  {
   "cell_type": "code",
   "execution_count": 133,
   "id": "01cd17c5",
   "metadata": {},
   "outputs": [],
   "source": [
    "def states(x):\n",
    "    x = x.title()\n",
    "    for num, state in states_usa.items():\n",
    "        if state == x:\n",
    "            return num\n",
    "    return 0"
   ]
  },
  {
   "cell_type": "code",
   "execution_count": 134,
   "id": "41af3f6c",
   "metadata": {},
   "outputs": [
    {
     "data": {
      "text/plain": [
       "array([ 5, 10, 11,  0,  9, 40, 32, 43, 21, 30, 47, 37,  1, 33, 20, 18,  8,\n",
       "       19, 46, 17, 31,  2, 25, 24, 39,  7, 38, 13], dtype=int64)"
      ]
     },
     "execution_count": 134,
     "metadata": {},
     "output_type": "execute_result"
    }
   ],
   "source": [
    "df['States'] = df['Area'].apply(states)\n",
    "df['States'].unique()"
   ]
  },
  {
   "cell_type": "markdown",
   "id": "7375afbd",
   "metadata": {},
   "source": [
    "Hay 34 estados de los Estados Unidos que tienen costa. Estos estados están ubicados a lo largo de las costas del océano Atlántico, el océano Pacífico y el golfo de México.\n",
    "\n",
    "Los estados costeros de los Estados Unidos son los siguientes:\n",
    "\n",
    "    - Costa Este: Maine, Nueva Hampshire, Massachusetts, Rhode Island, Connecticut, Nueva York, Nueva Jersey, Delaware, Maryland, Virginia, Carolina del Norte, Carolina del Sur, Georgia, Florida\n",
    "    - Costa Oeste: Alaska, Washington, Oregon, California\n",
    "    - Golfo de México: Texas, Louisiana, Mississippi, Alabama, Florida"
   ]
  },
  {
   "cell_type": "markdown",
   "id": "de6ab49b",
   "metadata": {},
   "source": [
    "Here I create a dicctionary with the states by coast that maybe, in the future can be used..."
   ]
  },
  {
   "cell_type": "code",
   "execution_count": 135,
   "id": "022fb431",
   "metadata": {},
   "outputs": [
    {
     "data": {
      "text/plain": [
       "{'east_coast': [7, 8, 9, 10, 19, 20, 21, 29, 30, 32, 33, 39, 40, 46],\n",
       " 'western_coast': [2, 5, 37, 47],\n",
       " 'mexico_golf': [1, 18, 24, 43]}"
      ]
     },
     "execution_count": 135,
     "metadata": {},
     "output_type": "execute_result"
    }
   ],
   "source": [
    "coasts = {\n",
    "    'east_coast': [],\n",
    "    'western_coast': [],\n",
    "    'mexico_golf': []\n",
    "        }\n",
    "\n",
    "for state_number, state_name in states_usa.items():\n",
    "    if state_name in ['Maine', 'New Hampshire', 'Massachusetts', 'Rhode Island', 'Connecticut', 'New York', 'New Jersey', 'Delaware', 'Maryland', 'Virginia', 'North Carolina', 'South Carolina', 'Georgia', 'Florida']:\n",
    "        coasts['east_coast'].append(state_number)\n",
    "    elif state_name in ['Alaska', 'Washington', 'Oregon', 'California']:\n",
    "        coasts['western_coast'].append(state_number)\n",
    "    elif state_name in ['Texas', 'Louisiana', 'Mississippi', 'Alabama', 'Florida']:\n",
    "        coasts['mexico_golf'].append(state_number)\n",
    "\n",
    "coasts"
   ]
  },
  {
   "cell_type": "markdown",
   "id": "a282bec5",
   "metadata": {},
   "source": [
    "### 'Activity' column"
   ]
  },
  {
   "cell_type": "code",
   "execution_count": 136,
   "id": "acb8f39d",
   "metadata": {},
   "outputs": [
    {
     "data": {
      "text/plain": [
       "Surfing                                                                                                                  975\n",
       "Swimming                                                                                                                 901\n",
       "unknown                                                                                                                  524\n",
       "Fishing                                                                                                                  436\n",
       "Spearfishing                                                                                                             336\n",
       "                                                                                                                        ... \n",
       "Washing cooking pans                                                                                                       1\n",
       "Spearfishing / freediving                                                                                                  1\n",
       "Attempted to return injured shark to the sea                                                                               1\n",
       "Motor launch Baby Princesa capsized with 22 people on board                                                                1\n",
       "Man fell overboard from ship. Those on board threw a rope to him with a wooden block and were pulling him to the ship      1\n",
       "Name: Activity, Length: 1461, dtype: int64"
      ]
     },
     "execution_count": 136,
     "metadata": {},
     "output_type": "execute_result"
    }
   ],
   "source": [
    "df['Activity'].value_counts()"
   ]
  },
  {
   "cell_type": "code",
   "execution_count": 137,
   "id": "1b730926",
   "metadata": {},
   "outputs": [
    {
     "data": {
      "text/plain": [
       "1461"
      ]
     },
     "execution_count": 137,
     "metadata": {},
     "output_type": "execute_result"
    }
   ],
   "source": [
    "len(df['Activity'].unique())"
   ]
  },
  {
   "cell_type": "markdown",
   "id": "ef0107a3",
   "metadata": {},
   "source": [
    "The idea here is to reduce the categories to the next 'activity_dict.keys()'"
   ]
  },
  {
   "cell_type": "code",
   "execution_count": 138,
   "id": "1334c9e9",
   "metadata": {},
   "outputs": [],
   "source": [
    "activity_dict = {\n",
    "    'unknown': ['unclea', 'unkno'],\n",
    "    'Fishing': ['fish', 'hunt', 'clam', 'oyster', 'crab', 'pilchard', 'catch', 'shrimp', 'shell', 'lobster', 'turtle', 'net', 'pêch', 'collect'],\n",
    "    'Diving': ['div', 'snork', 'tube'],\n",
    "    'Surfing': ['surf', 'body', 'kite', 'boarding', 'sup', 'paddl', 'wave'],\n",
    "    'Swimming': ['swim', 'swam', 'swum', 'bath', 'shallow', 'float', 'tread', 'fix', 'resc', 'sav', 'life', 'sea'],\n",
    "    'Standing': ['stand', 'water', 'river', 'beach', 'walk', 'splash', 'sit', 'play', 'craw', 'run', 'ran', 'wash', 'wad', 'photo', 'film'],\n",
    "    'Large': ['larg', 'sail', 'boat', 'yach', 'ferry', 'race', 'ship', 'anch', 'cruis'],\n",
    "    'Small': ['smal', 'padd', 'kayak', 'kaka', 'canoe', 'raft', 'rowing', 'ski', 'sculling', 'dinghy'],\n",
    "    'Conflict': ['confl', 'war', 'torpe', 'tank', 'navy', 'murd', 'pirat', 'legal', 'marine', 'catraz', 'homic', 'suic', 'escap'],\n",
    "    'Overboard': ['overbo', 'jump', 'wreck', 'capsize', 'fell', 'sink', 'sank', 'sunk', 'founder', 'air', 'drown', 'subm', 'plan', 'parach'],\n",
    "    'Disaster': ['disast', 'typho', 'tsunami', 'hurric', 'expl', 'desert'],\n",
    "    'Contact': ['cont', 'shark', 'tip', 'feed', 'jaws', 'dolph']        \n",
    "                }\n",
    "\n",
    "def clean_activity(x):\n",
    "    x = x.lower()\n",
    "    \n",
    "    for activity, words in activity_dict.items():\n",
    "        for word in words:\n",
    "            if word in x:\n",
    "                return activity\n",
    "            \n",
    "    return 'unknown'"
   ]
  },
  {
   "cell_type": "code",
   "execution_count": 139,
   "id": "717319ef",
   "metadata": {},
   "outputs": [],
   "source": [
    "df['Activity'] = df['Activity'].apply(clean_activity)"
   ]
  },
  {
   "cell_type": "code",
   "execution_count": 140,
   "id": "e4a2fc44",
   "metadata": {},
   "outputs": [
    {
     "data": {
      "text/plain": [
       "Swimming     1427\n",
       "Surfing      1392\n",
       "Fishing      1300\n",
       "Diving        589\n",
       "unknown       559\n",
       "Standing      436\n",
       "Large         146\n",
       "Overboard     121\n",
       "Small          97\n",
       "Contact        69\n",
       "Conflict       33\n",
       "Disaster        5\n",
       "Name: Activity, dtype: int64"
      ]
     },
     "execution_count": 140,
     "metadata": {},
     "output_type": "execute_result"
    }
   ],
   "source": [
    "df['Activity'].value_counts()"
   ]
  },
  {
   "cell_type": "markdown",
   "id": "f6b47666",
   "metadata": {},
   "source": [
    "I will remove the rows with unknown 'Activity'"
   ]
  },
  {
   "cell_type": "code",
   "execution_count": 141,
   "id": "c8a84e6f",
   "metadata": {},
   "outputs": [],
   "source": [
    "unknown_act_index = df[df['Activity'] == 'unknown'].index"
   ]
  },
  {
   "cell_type": "code",
   "execution_count": 142,
   "id": "205fd9d9",
   "metadata": {},
   "outputs": [],
   "source": [
    "df.drop(unknown_act_index, inplace = True)"
   ]
  },
  {
   "cell_type": "code",
   "execution_count": 143,
   "id": "5754d995",
   "metadata": {},
   "outputs": [
    {
     "data": {
      "text/plain": [
       "'Original: (25723, 24), Now: (5615, 25)'"
      ]
     },
     "execution_count": 143,
     "metadata": {},
     "output_type": "execute_result"
    }
   ],
   "source": [
    "shape(df)"
   ]
  },
  {
   "cell_type": "markdown",
   "id": "2efd98a6",
   "metadata": {},
   "source": [
    "Create a new column with the numeric values of the category:\n",
    "    \n",
    "    1: Fishing\n",
    "    2: Diving\n",
    "    3: Surfing        \n",
    "    4: Swimming\n",
    "    5: Standing      \n",
    "    6: Large\n",
    "    7: Small\n",
    "    8: Conflict\n",
    "    9: Overboard\n",
    "    10: Disaster\n",
    "    11: Contact"
   ]
  },
  {
   "cell_type": "code",
   "execution_count": 144,
   "id": "7d907169",
   "metadata": {},
   "outputs": [],
   "source": [
    "def clean_activ(x):\n",
    "    x = x.lower()\n",
    "\n",
    "    act_groups_dict = {\n",
    "        'fishing': 1,\n",
    "        'diving': 2,\n",
    "        'surfing': 3,\n",
    "        'swimming': 4,\n",
    "        'standing': 5,\n",
    "        'large': 6,\n",
    "        'small': 7,\n",
    "        'conflict': 8,\n",
    "        'overboard': 9,\n",
    "        'disaster': 10,\n",
    "        'contact': 11}\n",
    "    \n",
    "    for activity, group in act_groups_dict.items():\n",
    "        if activity in x:\n",
    "            return group"
   ]
  },
  {
   "cell_type": "code",
   "execution_count": 145,
   "id": "691a7084",
   "metadata": {},
   "outputs": [
    {
     "data": {
      "text/plain": [
       "4     1427\n",
       "3     1392\n",
       "1     1300\n",
       "2      589\n",
       "5      436\n",
       "6      146\n",
       "9      121\n",
       "7       97\n",
       "11      69\n",
       "8       33\n",
       "10       5\n",
       "Name: Act_group, dtype: int64"
      ]
     },
     "execution_count": 145,
     "metadata": {},
     "output_type": "execute_result"
    }
   ],
   "source": [
    "df['Act_group'] = df['Activity'].apply(clean_activ)\n",
    "df['Act_group'].value_counts()"
   ]
  },
  {
   "cell_type": "markdown",
   "id": "db403aab",
   "metadata": {},
   "source": [
    "### 'Species' column"
   ]
  },
  {
   "cell_type": "code",
   "execution_count": 146,
   "id": "468ef2dd",
   "metadata": {},
   "outputs": [
    {
     "data": {
      "text/plain": [
       "unknown                            2428\n",
       "White shark                         162\n",
       "Invalid                              85\n",
       "Shark involvement not confirmed      77\n",
       "Tiger shark                          74\n",
       "                                   ... \n",
       "Porbeagle shark, 3 m [10']rk          1\n",
       "1.2 m to 1.8 m [4' to 6'] shark       1\n",
       "2.1 to 2.4 m [7' to 8'] shark         1\n",
       "Blacktip shark, 2'                    1\n",
       "White shark, 1600-lb female           1\n",
       "Name: Species, Length: 1388, dtype: int64"
      ]
     },
     "execution_count": 146,
     "metadata": {},
     "output_type": "execute_result"
    }
   ],
   "source": [
    "df['Species'].value_counts()"
   ]
  },
  {
   "cell_type": "code",
   "execution_count": 147,
   "id": "0b75d3a7",
   "metadata": {},
   "outputs": [],
   "source": [
    "bad_obser_index = df.loc[df['Species'].str.contains('Shark involvement not confirmed')].index"
   ]
  },
  {
   "cell_type": "code",
   "execution_count": 148,
   "id": "cc783f05",
   "metadata": {},
   "outputs": [],
   "source": [
    "df.drop(bad_obser_index, inplace = True)"
   ]
  },
  {
   "cell_type": "markdown",
   "id": "82fd6deb",
   "metadata": {},
   "source": [
    "To clean the 'Species', I create a dicctionary with the categories as keys and words to search in the columns in values"
   ]
  },
  {
   "cell_type": "code",
   "execution_count": 149,
   "id": "3bcd7346",
   "metadata": {},
   "outputs": [],
   "source": [
    "sharks = {\n",
    "    'Unknown': ['unkn', 'uncle', 'inval', 'unconf', 'quest'],\n",
    "    \"Whale Shark\": [\"rhincodon typus\", 'whale'],\n",
    "    'Blue Shark': ['prionace glauca', 'blue'],\n",
    "    \"Basking Shark\": [\"cetorhinus maximus\", 'bask'],\n",
    "    \"Chinese White Dolphin\": [\"sousa chinensis\", 'chine'],\n",
    "    \"Great White Shark\": [\"carcharodon carcharias\", 'white '],\n",
    "    \"Tiger Shark\": [\"galeocerdo cuvier\", 'tiger'],\n",
    "    \"Giant Hammerhead Shark\": [\"sphyrna mokarran\", 'ant ham'],\n",
    "    \"Hammerhead Shark\": [\"sphyrnidae\", 'hammer'],\n",
    "    \"Bull Shark\": [\"carcharhinus leucas\", 'bull '],\n",
    "    \"Lemon Shark\": [\"negaprion brevirostris\", 'lemon'],\n",
    "    \"Finless Blacktip Shark\": [\"carcharhinus sealei\", 'finle'],\n",
    "    \"Pacific Blacktip Shark\": [\"carcharhinus limbatus\", 'fic bl'],\n",
    "    \"Blacktip Reef Shark\": [\"carcharhinus melanopterus\", 'black'],\n",
    "    \"Whitetip Reef Shark\": [\"triaenodon obesus\", 'whitetip'],\n",
    "    \"Eastern Angel Shark\": [\"squatina albipunctata\", 'ern an'],\n",
    "    \"Pacific Angel Shark\": [\"squatina californica\", 'ic an'],\n",
    "    \"Angel Shark\": [\"squatinidae\", 'angel'],\n",
    "    \"Bigeye Thresher Shark\": [\"alopias superciliosus\", 'bigeye', 'thresher'],\n",
    "    \"Bluntnose Sixgill Shark\": [\"hexanchus griseus\", 'blunt', 'sixg'],\n",
    "    \"Bonnethead Shark\": [\"sphyrna tiburo\", 'bonnet'],\n",
    "    \"Borneo Shark\": [\"carcharhinus borneensis\", 'borneo'],\n",
    "    \"Broadnose Sevengill Shark\": [\"notorynchus cepedianus\", 'broad', 'seveng'],\n",
    "    \"Caribbean Reef Shark\": [\"carcharhinus perezi\", 'carib'],\n",
    "    \"Coral Catshark\": [\"atelomycterus marmoratus\", 'coral'],\n",
    "    \"Elegant Catshark\": [\"apristurus elegans\", 'eleg'],\n",
    "    \"False Catshark\": [\"pseudotriakis microdon\", 'fals'],\n",
    "    \"Filetail Catshark\": [\"apristurus acutirostris\", 'filet'],\n",
    "    \"Flathead Catshark\": [\"eridacnis radcliffei\", 'flat'],\n",
    "    \"Pangasé Catshark\": [\"hemiscyllium freycineti\", 'pang'],\n",
    "    \"Pygmy Ribbontail Catshark\": [\"eridacnis radcliffei\", 'pygm'],\n",
    "    \"Catshark\": [\"scyliorhinidae\", 'cat'],\n",
    "    \"Cookiecutter Shark\": [\"isistius brasiliensis\", 'okie'],\n",
    "    \"Javanese Cowshark\": [\"parascyllium variolatum\", 'java'],\n",
    "    \"Cow Shark\": [\"hexanchus nakamurai\", 'cow'],\n",
    "    \"Crested Bullhead Shark\": [\"heterodontus galeatus\", 'crest'],\n",
    "    \"Cuban Dogfish\": [\"squalus cubensis\", 'cuba'],\n",
    "    \"Daggernose Shark\": [\"isogomphodon oxyrhynchus\", 'dagger'],\n",
    "    \"Dwarf Lanternshark\": [\"etmopterus schmidti\", 'dwar'],\n",
    "    \"Longnose Sawshark\": [\"pristiophorus cirratus\", 'longno'],\n",
    "    \"Narrow Sawfish\": [\"anoxypristis cuspidata\", 'narrow'],\n",
    "    \"Eastern Sawfish\": [\"pristis pectinata\", 'saw'],\n",
    "    \"Edgespotted Wobbegong\": [\"orectolobus ornatus\", 'edg'],\n",
    "    \"Florida Smoothhound\": [\"mustelus norrisi\", 'florida'],\n",
    "    \"Frilled Shark\": [\"chlamydoselachus anguineus\", 'frill'],\n",
    "    \"Galapagos Shark\": [\"carcharhinus galapagensis\", 'galap'],\n",
    "    \"Ganges Shark\": [\"glyphis gangeticus\", 'gang'],\n",
    "    \"Ghost Shark\": [\"callorhinchus milii\", 'gho'],\n",
    "    \"Giant Guitarfish\": [\"rhynchobatus djiddensis\", 'ant g'],\n",
    "    \"Guitarfish\": [\"rhinobatidae\", 'guit'],\n",
    "    \"Greenland Shark\": [\"somniosus microcephalus\", 'green'],\n",
    "    \"Grey Reef Shark\": [\"carcharhinus amblyrhynchos\", 'grey'],\n",
    "    \"Mexican Hornshark\": [\"heterodontus mexicanus\", 'mexic'],\n",
    "    \"Horn Shark\": [\"heterodontus francisci\", 'horn'],\n",
    "    \"Japanese Bullhead Shark\": [\"heterodontus japonicus\", 'ese b'],\n",
    "    \"Japanese Wobbegong\": [\"orectolobus japonicus\", 'japan'],\n",
    "    \"Lancetfish\": [\"brachaelurus waddi\", 'lancet'],\n",
    "    \"Leopard Shark\": [\"triakis semifasciata\", 'leop'],\n",
    "    \"Longfin Mako Shark\": [\"isurus paucus\", 'longf'],\n",
    "    \"Manta Ray\": [\"manta birostris\", 'manta', 'ray'],\n",
    "    \"Nurse Shark\": [\"ginglymostoma cirratum\", 'nur'],\n",
    "    \"Oman Bullhead Shark\": [\"heterodontus omanensis\", 'oman'],\n",
    "    \"Ornate Wobbegong\": [\"orectolobus maculatus\", 'ornate'],\n",
    "    \"Pacific Sleeper Shark\": [\"somniosus pacificus\", 'sleep'],\n",
    "    \"Pajama Shark\": [\"poroderma africanum\", 'paja'],\n",
    "    \"Port Jackson Shark\": [\"heterodontus portusjacksoni\", 'port', 'jack'],\n",
    "    \"Queensland Groper\": [\"epinephelus lanceolatus\", 'queen'],\n",
    "    \"Silky Shark\": ['carcharhinus falciformis', 'silky'],\n",
    "    \"Unspecific Shark\": ['shark', 'sharks']\n",
    "            }\n",
    "\n",
    "def clean_species(x):\n",
    "    x = x.lower()    \n",
    "    for name, words in sharks.items():\n",
    "        for word in words:\n",
    "            if word in x:\n",
    "                return name.title()\n",
    "\n",
    "    return x"
   ]
  },
  {
   "cell_type": "code",
   "execution_count": 150,
   "id": "8bb92b7a",
   "metadata": {},
   "outputs": [],
   "source": [
    "df['Species'] = df['Species'].apply(clean_species)"
   ]
  },
  {
   "cell_type": "code",
   "execution_count": 151,
   "id": "78db7909",
   "metadata": {},
   "outputs": [],
   "source": [
    "df.drop(df[ ~ df['Species'].isin(sharks.keys())].index, inplace = True)"
   ]
  },
  {
   "cell_type": "code",
   "execution_count": 152,
   "id": "7c360226",
   "metadata": {},
   "outputs": [
    {
     "data": {
      "text/plain": [
       "'Original: (25723, 24), Now: (5491, 26)'"
      ]
     },
     "execution_count": 152,
     "metadata": {},
     "output_type": "execute_result"
    }
   ],
   "source": [
    "shape(df)"
   ]
  },
  {
   "cell_type": "markdown",
   "id": "facba6c3",
   "metadata": {},
   "source": [
    "### 'Injury' column"
   ]
  },
  {
   "cell_type": "code",
   "execution_count": 153,
   "id": "9404235d",
   "metadata": {},
   "outputs": [
    {
     "data": {
      "text/plain": [
       "FATAL                                                     698\n",
       "Foot bitten                                                78\n",
       "No injury                                                  72\n",
       "Leg bitten                                                 68\n",
       "Survived                                                   53\n",
       "                                                         ... \n",
       "Puncture wounds on right hip and arm                        1\n",
       "Right forearm severed surgically amputated above elbow      1\n",
       "Sharks prevented recovery of remains                        1\n",
       "Left leg and ankle bitten                                   1\n",
       "FATAL. \"Shark tore him to pieces.                           1\n",
       "Name: Injury, Length: 3257, dtype: int64"
      ]
     },
     "execution_count": 153,
     "metadata": {},
     "output_type": "execute_result"
    }
   ],
   "source": [
    "df['Injury'].value_counts()"
   ]
  },
  {
   "cell_type": "markdown",
   "id": "d1dc5c09",
   "metadata": {},
   "source": [
    "I am not familiar with that kind of knowledge, so I will just check that if the word 'fatal' is presented here, the column 'Fatality' is well noted"
   ]
  },
  {
   "cell_type": "code",
   "execution_count": 154,
   "id": "64108528",
   "metadata": {},
   "outputs": [],
   "source": [
    "index_fatality = df[['Injury', 'Fatality']][(df['Injury'] == 'FATAL') & (df['Fatality'] != 1)].index"
   ]
  },
  {
   "cell_type": "code",
   "execution_count": 155,
   "id": "e5ae44a1",
   "metadata": {},
   "outputs": [],
   "source": [
    "df.loc[index_fatality, 'Fatality'] = 1"
   ]
  },
  {
   "cell_type": "markdown",
   "id": "5c5b462f",
   "metadata": {},
   "source": [
    "### 'Location' column"
   ]
  },
  {
   "cell_type": "markdown",
   "id": "4a84206f",
   "metadata": {},
   "source": [
    "I will not use this column"
   ]
  },
  {
   "cell_type": "code",
   "execution_count": 156,
   "id": "a14cb6d0",
   "metadata": {},
   "outputs": [
    {
     "data": {
      "text/plain": [
       "unknown                                                           410\n",
       "New Smyrna Beach, Volusia County                                  153\n",
       "Daytona Beach, Volusia County                                      32\n",
       "Ponce Inlet, Volusia County                                        20\n",
       "Melbourne Beach, Brevard County                                    18\n",
       "                                                                 ... \n",
       "Cintsa East, East London                                            1\n",
       "11 miles off Dog Island in the Gulf of Mexico, Franklin County      1\n",
       "Atlantiic Beach, Duval County                                       1\n",
       "Atlantic Dunes Park, Delray Beach, Palm Beach County                1\n",
       "River Cochin                                                        1\n",
       "Name: Location, Length: 3665, dtype: int64"
      ]
     },
     "execution_count": 156,
     "metadata": {},
     "output_type": "execute_result"
    }
   ],
   "source": [
    "df['Location'].value_counts()"
   ]
  },
  {
   "cell_type": "markdown",
   "id": "64026d87",
   "metadata": {},
   "source": [
    "### 'Investigator or Source' column"
   ]
  },
  {
   "cell_type": "markdown",
   "id": "ad074496",
   "metadata": {},
   "source": [
    "I will just change the name of the column to remove the empty spaces"
   ]
  },
  {
   "cell_type": "code",
   "execution_count": 157,
   "id": "1d486ed4",
   "metadata": {},
   "outputs": [],
   "source": [
    "df.rename(columns = {'Investigator or Source': 'Source'}, inplace=True)"
   ]
  },
  {
   "cell_type": "code",
   "execution_count": 158,
   "id": "828eaa5d",
   "metadata": {},
   "outputs": [
    {
     "data": {
      "text/plain": [
       "4398"
      ]
     },
     "execution_count": 158,
     "metadata": {},
     "output_type": "execute_result"
    }
   ],
   "source": [
    "len(df['Source'].unique())"
   ]
  },
  {
   "cell_type": "markdown",
   "id": "0826d9cc",
   "metadata": {},
   "source": [
    "### 'Name' column"
   ]
  },
  {
   "cell_type": "markdown",
   "id": "ad4972fd",
   "metadata": {},
   "source": [
    "I will use this column to check that the column 'Sex' is filled correctly"
   ]
  },
  {
   "cell_type": "code",
   "execution_count": 159,
   "id": "4711bc90",
   "metadata": {},
   "outputs": [
    {
     "data": {
      "text/plain": [
       "male                     428\n",
       "unknown                  143\n",
       "female                    69\n",
       "2 males                   18\n",
       "boy                       13\n",
       "                        ... \n",
       "Austin White               1\n",
       "Matt Kraskiewicz           1\n",
       "Norman Payne               1\n",
       "Henrietta Musselwhite      1\n",
       "Indian slave               1\n",
       "Name: Name, Length: 4709, dtype: int64"
      ]
     },
     "execution_count": 159,
     "metadata": {},
     "output_type": "execute_result"
    }
   ],
   "source": [
    "df['Name'].value_counts()"
   ]
  },
  {
   "cell_type": "code",
   "execution_count": 160,
   "id": "47e81607",
   "metadata": {},
   "outputs": [],
   "source": [
    "index_males = df[(df['Name'] == 'male') & (df['Sex'] != 1)].index\n",
    "index_females = df[(df['Name'] == 'female') & (df['Sex'] != 2)].index"
   ]
  },
  {
   "cell_type": "code",
   "execution_count": 161,
   "id": "132afd66",
   "metadata": {},
   "outputs": [],
   "source": [
    "df.loc[index_males, 'Sex'] = 1\n",
    "df.loc[index_females, 'Sex'] = 2"
   ]
  },
  {
   "cell_type": "markdown",
   "id": "48e91164",
   "metadata": {},
   "source": [
    "### 'Date' column"
   ]
  },
  {
   "cell_type": "markdown",
   "id": "3d6aa9a0",
   "metadata": {},
   "source": [
    "With the data of this column I will create three other columns:\n",
    "\n",
    "    YYYY year\n",
    "    MM month\n",
    "    DD day"
   ]
  },
  {
   "cell_type": "code",
   "execution_count": 162,
   "id": "380f4db2",
   "metadata": {},
   "outputs": [
    {
     "data": {
      "text/plain": [
       "1957           8\n",
       "1950           7\n",
       "1942           7\n",
       "1958           6\n",
       "1970s          5\n",
       "              ..\n",
       "10-Dec-1996    1\n",
       "29-Nov-1996    1\n",
       "18-Nov-1996    1\n",
       "09-Oct-1996    1\n",
       "Ca. 1543       1\n",
       "Name: Date, Length: 4814, dtype: int64"
      ]
     },
     "execution_count": 162,
     "metadata": {},
     "output_type": "execute_result"
    }
   ],
   "source": [
    "df['Date'].value_counts()"
   ]
  },
  {
   "cell_type": "code",
   "execution_count": 163,
   "id": "725c4609",
   "metadata": {},
   "outputs": [],
   "source": [
    "try:\n",
    "    df['YYYY'] = [d[0:4] for d in df['Case Number']]\n",
    "except:\n",
    "    df['YYYY'] = '00'\n",
    "    \n",
    "try:\n",
    "    df['MM'] = [d[5:7] for d in df['Case Number']]\n",
    "except:\n",
    "    df['MM'] = '00'\n",
    "    \n",
    "try:\n",
    "    df['DD'] = [d[8:10] for d in df['Case Number']]\n",
    "except:\n",
    "    df['DD'] = '00'"
   ]
  },
  {
   "cell_type": "code",
   "execution_count": 164,
   "id": "8e79ae9f",
   "metadata": {},
   "outputs": [],
   "source": [
    "df.loc[df['YYYY'].str.contains('(?i)ND'), 'YYYY'] = '00'\n",
    "df.loc[df['YYYY'].str.contains('ND'), 'DD'] = '00'\n",
    "df.loc[df['YYYY'].str.contains('ND'), 'MM'] = '00'"
   ]
  },
  {
   "cell_type": "code",
   "execution_count": 165,
   "id": "e4e5802a",
   "metadata": {},
   "outputs": [],
   "source": [
    "df['YYYY'] = df['YYYY'].replace(['0.02','0.03','0.04','0.07'], 0)"
   ]
  },
  {
   "cell_type": "code",
   "execution_count": 166,
   "id": "65779cd2",
   "metadata": {},
   "outputs": [],
   "source": [
    "df['YYYY'] = df['YYYY'].astype(int)"
   ]
  },
  {
   "cell_type": "markdown",
   "id": "4ec07962",
   "metadata": {},
   "source": [
    "Check if the columns 'Year' and 'YYYY' are equal."
   ]
  },
  {
   "cell_type": "code",
   "execution_count": 167,
   "id": "cfcced5f",
   "metadata": {},
   "outputs": [
    {
     "data": {
      "text/plain": [
       "True    5491\n",
       "Name: Year, dtype: int64"
      ]
     },
     "execution_count": 167,
     "metadata": {},
     "output_type": "execute_result"
    }
   ],
   "source": [
    "df['Year'].isin(df['YYYY']).value_counts()"
   ]
  },
  {
   "cell_type": "code",
   "execution_count": 168,
   "id": "a8114c2f",
   "metadata": {},
   "outputs": [],
   "source": [
    "df.drop(['Year'], axis = 1, inplace = True)"
   ]
  },
  {
   "cell_type": "code",
   "execution_count": 169,
   "id": "89a233ce",
   "metadata": {},
   "outputs": [
    {
     "data": {
      "text/plain": [
       "07    594\n",
       "08    539\n",
       "09    510\n",
       "01    460\n",
       "06    454\n",
       "10    414\n",
       "04    398\n",
       "12    384\n",
       "03    374\n",
       "11    361\n",
       "02    354\n",
       "05    348\n",
       "00    300\n",
       "94      1\n",
       "Name: MM, dtype: int64"
      ]
     },
     "execution_count": 169,
     "metadata": {},
     "output_type": "execute_result"
    }
   ],
   "source": [
    "df['MM'].value_counts()"
   ]
  },
  {
   "cell_type": "code",
   "execution_count": 170,
   "id": "a0788fe4",
   "metadata": {},
   "outputs": [
    {
     "data": {
      "text/html": [
       "<div>\n",
       "<style scoped>\n",
       "    .dataframe tbody tr th:only-of-type {\n",
       "        vertical-align: middle;\n",
       "    }\n",
       "\n",
       "    .dataframe tbody tr th {\n",
       "        vertical-align: top;\n",
       "    }\n",
       "\n",
       "    .dataframe thead th {\n",
       "        text-align: right;\n",
       "    }\n",
       "</style>\n",
       "<table border=\"1\" class=\"dataframe\">\n",
       "  <thead>\n",
       "    <tr style=\"text-align: right;\">\n",
       "      <th></th>\n",
       "      <th>Case Number</th>\n",
       "      <th>Date</th>\n",
       "      <th>Type</th>\n",
       "      <th>Country</th>\n",
       "      <th>Area</th>\n",
       "      <th>Location</th>\n",
       "      <th>Activity</th>\n",
       "      <th>Name</th>\n",
       "      <th>Sex</th>\n",
       "      <th>Age_groups</th>\n",
       "      <th>...</th>\n",
       "      <th>Case Number.1</th>\n",
       "      <th>Case Number.2</th>\n",
       "      <th>original order</th>\n",
       "      <th>Age_years</th>\n",
       "      <th>Time_groups</th>\n",
       "      <th>States</th>\n",
       "      <th>Act_group</th>\n",
       "      <th>YYYY</th>\n",
       "      <th>MM</th>\n",
       "      <th>DD</th>\n",
       "    </tr>\n",
       "  </thead>\n",
       "  <tbody>\n",
       "    <tr>\n",
       "      <th>6009</th>\n",
       "      <td>1853,94.29</td>\n",
       "      <td>29-Apr-1853</td>\n",
       "      <td>1</td>\n",
       "      <td>Greece</td>\n",
       "      <td>Corfu</td>\n",
       "      <td>unknown</td>\n",
       "      <td>Swimming</td>\n",
       "      <td>Hanson</td>\n",
       "      <td>1</td>\n",
       "      <td>0</td>\n",
       "      <td>...</td>\n",
       "      <td>1853.04.29</td>\n",
       "      <td>1853,94.29</td>\n",
       "      <td>294.0</td>\n",
       "      <td>0</td>\n",
       "      <td>0.0</td>\n",
       "      <td>0</td>\n",
       "      <td>4</td>\n",
       "      <td>1853</td>\n",
       "      <td>94</td>\n",
       "      <td>29</td>\n",
       "    </tr>\n",
       "  </tbody>\n",
       "</table>\n",
       "<p>1 rows × 28 columns</p>\n",
       "</div>"
      ],
      "text/plain": [
       "     Case Number         Date  Type Country   Area Location  Activity    Name  \\\n",
       "6009  1853,94.29  29-Apr-1853     1  Greece  Corfu  unknown  Swimming  Hanson   \n",
       "\n",
       "      Sex  Age_groups  ... Case Number.1  Case Number.2 original order  \\\n",
       "6009    1           0  ...    1853.04.29     1853,94.29          294.0   \n",
       "\n",
       "     Age_years Time_groups States Act_group  YYYY  MM  DD  \n",
       "6009         0         0.0      0         4  1853  94  29  \n",
       "\n",
       "[1 rows x 28 columns]"
      ]
     },
     "execution_count": 170,
     "metadata": {},
     "output_type": "execute_result"
    }
   ],
   "source": [
    "df[df['MM'] == '94']"
   ]
  },
  {
   "cell_type": "code",
   "execution_count": 171,
   "id": "e032f9f8",
   "metadata": {},
   "outputs": [],
   "source": [
    "df.loc[6009, 'MM'] = '04'"
   ]
  },
  {
   "cell_type": "code",
   "execution_count": 172,
   "id": "f2b05bdd",
   "metadata": {},
   "outputs": [],
   "source": [
    "df['MM'] = df['MM'].astype(int)"
   ]
  },
  {
   "cell_type": "code",
   "execution_count": 173,
   "id": "7b29857b",
   "metadata": {},
   "outputs": [
    {
     "data": {
      "image/png": "[encoded data removed]",
      "text/plain": [
       "<Figure size 1000x800 with 1 Axes>"
      ]
     },
     "metadata": {},
     "output_type": "display_data"
    }
   ],
   "source": [
    "plt.figure(figsize = (10, 8)) \n",
    "sns.histplot(data = df['YYYY'], \n",
    "             binwidth = 2, \n",
    "             element = \"step\", \n",
    "             fill = False,\n",
    "             color = 'black').set_xticks(range(1500, 2024, 30));"
   ]
  },
  {
   "cell_type": "markdown",
   "id": "996c2198",
   "metadata": {},
   "source": [
    "Here we can observe the evolution of the shark attacks observations over the time.\n",
    "In the decade of the 60s there is an accelerated increase of cases.\n",
    "We can conclude indicating that the number of observations of the global shark attacks increase with the time, over the years. "
   ]
  },
  {
   "cell_type": "markdown",
   "id": "183fec6d",
   "metadata": {},
   "source": [
    "### 'Case Number', 'Case Number.1' and 'Case Number.2' columns"
   ]
  },
  {
   "cell_type": "markdown",
   "id": "c8c72950",
   "metadata": {},
   "source": [
    "Check the differences between the three columns"
   ]
  },
  {
   "cell_type": "code",
   "execution_count": 174,
   "id": "90fee249",
   "metadata": {},
   "outputs": [
    {
     "data": {
      "text/plain": [
       "True     5470\n",
       "False      21\n",
       "Name: Case Number, dtype: int64"
      ]
     },
     "execution_count": 174,
     "metadata": {},
     "output_type": "execute_result"
    }
   ],
   "source": [
    "df['Case Number'].isin(df['Case Number.1']).value_counts()"
   ]
  },
  {
   "cell_type": "code",
   "execution_count": 175,
   "id": "e3a4e770",
   "metadata": {},
   "outputs": [
    {
     "data": {
      "text/plain": [
       "True     5487\n",
       "False       4\n",
       "Name: Case Number, dtype: int64"
      ]
     },
     "execution_count": 175,
     "metadata": {},
     "output_type": "execute_result"
    }
   ],
   "source": [
    "df['Case Number'].isin(df['Case Number.2']).value_counts()"
   ]
  },
  {
   "cell_type": "code",
   "execution_count": 176,
   "id": "2514dc16",
   "metadata": {},
   "outputs": [
    {
     "data": {
      "text/plain": [
       "True     5475\n",
       "False      16\n",
       "Name: Case Number.1, dtype: int64"
      ]
     },
     "execution_count": 176,
     "metadata": {},
     "output_type": "execute_result"
    }
   ],
   "source": [
    "df['Case Number.1'].isin(df['Case Number.2']).value_counts()"
   ]
  },
  {
   "cell_type": "markdown",
   "id": "5763b63c",
   "metadata": {},
   "source": [
    "The differences between the columns are minimal.\n",
    "I will drop two of the three columns"
   ]
  },
  {
   "cell_type": "code",
   "execution_count": 177,
   "id": "415fd27a",
   "metadata": {},
   "outputs": [],
   "source": [
    "df = df.drop(['Case Number.1', 'Case Number.2'], axis = 1)"
   ]
  },
  {
   "cell_type": "code",
   "execution_count": 178,
   "id": "d8b29b15",
   "metadata": {},
   "outputs": [
    {
     "data": {
      "text/plain": [
       "'Original: (25723, 24), Now: (5491, 26)'"
      ]
     },
     "execution_count": 178,
     "metadata": {},
     "output_type": "execute_result"
    }
   ],
   "source": [
    "shape(df)"
   ]
  },
  {
   "cell_type": "markdown",
   "id": "24834011",
   "metadata": {},
   "source": [
    "### 'pdf', 'href' and 'href formula' column"
   ]
  },
  {
   "cell_type": "code",
   "execution_count": 179,
   "id": "99baafc2",
   "metadata": {},
   "outputs": [
    {
     "data": {
      "text/plain": [
       "True     5437\n",
       "False      54\n",
       "Name: href formula, dtype: int64"
      ]
     },
     "execution_count": 179,
     "metadata": {},
     "output_type": "execute_result"
    }
   ],
   "source": [
    "df['href formula'].isin(df['href']).value_counts()"
   ]
  },
  {
   "cell_type": "code",
   "execution_count": 180,
   "id": "455c770c",
   "metadata": {},
   "outputs": [
    {
     "data": {
      "text/plain": [
       "False    5491\n",
       "Name: href formula, dtype: int64"
      ]
     },
     "execution_count": 180,
     "metadata": {},
     "output_type": "execute_result"
    }
   ],
   "source": [
    "df['href formula'].isin(df['pdf']).value_counts()"
   ]
  },
  {
   "cell_type": "code",
   "execution_count": 181,
   "id": "adcc557c",
   "metadata": {},
   "outputs": [
    {
     "data": {
      "text/plain": [
       "False    5491\n",
       "Name: pdf, dtype: int64"
      ]
     },
     "execution_count": 181,
     "metadata": {},
     "output_type": "execute_result"
    }
   ],
   "source": [
    "df['pdf'].isin(df['href']).value_counts()"
   ]
  },
  {
   "cell_type": "markdown",
   "id": "5d91735b",
   "metadata": {},
   "source": [
    "The differences between both 'href' columns are minimal,\n",
    "I will just keep one of them.\n",
    "\n",
    "The column 'pdf' is completely different, \n",
    "I will save the 'pdf' column."
   ]
  },
  {
   "cell_type": "code",
   "execution_count": 182,
   "id": "8cc2459f",
   "metadata": {},
   "outputs": [],
   "source": [
    "df.drop(['href formula'], axis = 1, inplace = True)"
   ]
  },
  {
   "cell_type": "code",
   "execution_count": 183,
   "id": "bb86fc8c",
   "metadata": {},
   "outputs": [
    {
     "data": {
      "text/plain": [
       "'Original: (25723, 24), Now: (5491, 25)'"
      ]
     },
     "execution_count": 183,
     "metadata": {},
     "output_type": "execute_result"
    }
   ],
   "source": [
    "shape(df)"
   ]
  },
  {
   "cell_type": "markdown",
   "id": "945a90d6",
   "metadata": {},
   "source": [
    "### 'original order' column"
   ]
  },
  {
   "cell_type": "code",
   "execution_count": 184,
   "id": "2166adca",
   "metadata": {},
   "outputs": [
    {
     "data": {
      "text/plain": [
       "5490"
      ]
     },
     "execution_count": 184,
     "metadata": {},
     "output_type": "execute_result"
    }
   ],
   "source": [
    "len(df['original order'].unique())"
   ]
  },
  {
   "cell_type": "code",
   "execution_count": 185,
   "id": "ccd5ce40",
   "metadata": {},
   "outputs": [
    {
     "data": {
      "text/plain": [
       "'Original: (25723, 24), Now: (5491, 25)'"
      ]
     },
     "execution_count": 185,
     "metadata": {},
     "output_type": "execute_result"
    }
   ],
   "source": [
    "shape(df)"
   ]
  },
  {
   "cell_type": "code",
   "execution_count": 186,
   "id": "ce91f66f",
   "metadata": {},
   "outputs": [],
   "source": [
    "duplicated_order = df.duplicated(\"original order\")"
   ]
  },
  {
   "cell_type": "code",
   "execution_count": 187,
   "id": "1103534d",
   "metadata": {},
   "outputs": [
    {
     "data": {
      "text/html": [
       "<div>\n",
       "<style scoped>\n",
       "    .dataframe tbody tr th:only-of-type {\n",
       "        vertical-align: middle;\n",
       "    }\n",
       "\n",
       "    .dataframe tbody tr th {\n",
       "        vertical-align: top;\n",
       "    }\n",
       "\n",
       "    .dataframe thead th {\n",
       "        text-align: right;\n",
       "    }\n",
       "</style>\n",
       "<table border=\"1\" class=\"dataframe\">\n",
       "  <thead>\n",
       "    <tr style=\"text-align: right;\">\n",
       "      <th></th>\n",
       "      <th>Case Number</th>\n",
       "      <th>Date</th>\n",
       "      <th>Type</th>\n",
       "      <th>Country</th>\n",
       "      <th>Area</th>\n",
       "      <th>Location</th>\n",
       "      <th>Activity</th>\n",
       "      <th>Name</th>\n",
       "      <th>Sex</th>\n",
       "      <th>Age_groups</th>\n",
       "      <th>...</th>\n",
       "      <th>pdf</th>\n",
       "      <th>href</th>\n",
       "      <th>original order</th>\n",
       "      <th>Age_years</th>\n",
       "      <th>Time_groups</th>\n",
       "      <th>States</th>\n",
       "      <th>Act_group</th>\n",
       "      <th>YYYY</th>\n",
       "      <th>MM</th>\n",
       "      <th>DD</th>\n",
       "    </tr>\n",
       "  </thead>\n",
       "  <tbody>\n",
       "    <tr>\n",
       "      <th>5734</th>\n",
       "      <td>1888.02.00</td>\n",
       "      <td>Feb-1888</td>\n",
       "      <td>1</td>\n",
       "      <td>South Africa</td>\n",
       "      <td>Eastern Cape Province</td>\n",
       "      <td>Mzimvubu River mouth</td>\n",
       "      <td>Standing</td>\n",
       "      <td>male</td>\n",
       "      <td>1</td>\n",
       "      <td>0</td>\n",
       "      <td>...</td>\n",
       "      <td>1888.02.00-Mzimvubu.pdf</td>\n",
       "      <td>http://sharkattackfile.net/spreadsheets/pdf_di...</td>\n",
       "      <td>569.0</td>\n",
       "      <td>0</td>\n",
       "      <td>0.0</td>\n",
       "      <td>0</td>\n",
       "      <td>5</td>\n",
       "      <td>1888</td>\n",
       "      <td>2</td>\n",
       "      <td>00</td>\n",
       "    </tr>\n",
       "  </tbody>\n",
       "</table>\n",
       "<p>1 rows × 25 columns</p>\n",
       "</div>"
      ],
      "text/plain": [
       "     Case Number      Date  Type       Country                   Area  \\\n",
       "5734  1888.02.00  Feb-1888     1  South Africa  Eastern Cape Province   \n",
       "\n",
       "                  Location  Activity  Name  Sex  Age_groups  ...  \\\n",
       "5734  Mzimvubu River mouth  Standing  male    1           0  ...   \n",
       "\n",
       "                          pdf  \\\n",
       "5734  1888.02.00-Mzimvubu.pdf   \n",
       "\n",
       "                                                   href original order  \\\n",
       "5734  http://sharkattackfile.net/spreadsheets/pdf_di...          569.0   \n",
       "\n",
       "     Age_years Time_groups States Act_group  YYYY  MM  DD  \n",
       "5734         0         0.0      0         5  1888   2  00  \n",
       "\n",
       "[1 rows x 25 columns]"
      ]
     },
     "execution_count": 187,
     "metadata": {},
     "output_type": "execute_result"
    }
   ],
   "source": [
    "dupl_order_df = df[duplicated_order]\n",
    "dupl_order_df"
   ]
  },
  {
   "cell_type": "code",
   "execution_count": 188,
   "id": "7c01e131",
   "metadata": {},
   "outputs": [],
   "source": [
    "df = df.drop(5734)"
   ]
  },
  {
   "cell_type": "code",
   "execution_count": 189,
   "id": "b090dd18",
   "metadata": {},
   "outputs": [
    {
     "data": {
      "text/plain": [
       "'Original: (25723, 24), Now: (5490, 25)'"
      ]
     },
     "execution_count": 189,
     "metadata": {},
     "output_type": "execute_result"
    }
   ],
   "source": [
    "shape(df)"
   ]
  },
  {
   "cell_type": "markdown",
   "id": "67d67d0f",
   "metadata": {},
   "source": [
    "### Change the order of the columns:"
   ]
  },
  {
   "cell_type": "code",
   "execution_count": 190,
   "id": "b222ec85",
   "metadata": {},
   "outputs": [
    {
     "data": {
      "text/plain": [
       "Index(['Case Number', 'Date', 'Type', 'Country', 'Area', 'Location',\n",
       "       'Activity', 'Name', 'Sex', 'Age_groups', 'Injury', 'Fatality', 'Time',\n",
       "       'Species', 'Source', 'pdf', 'href', 'original order', 'Age_years',\n",
       "       'Time_groups', 'States', 'Act_group', 'YYYY', 'MM', 'DD'],\n",
       "      dtype='object')"
      ]
     },
     "execution_count": 190,
     "metadata": {},
     "output_type": "execute_result"
    }
   ],
   "source": [
    "df.columns"
   ]
  },
  {
   "cell_type": "code",
   "execution_count": 191,
   "id": "511f2ad2",
   "metadata": {},
   "outputs": [],
   "source": [
    "df = df[['Case Number', 'Date', 'DD', 'MM', 'YYYY', 'Type',\n",
    "         'Country', 'Area', 'Location', 'States',\n",
    "         'Activity', 'Act_group', 'Time', 'Time_groups',\n",
    "         'Name', 'Sex', 'Age_groups', 'Age_years', \n",
    "         'Injury', 'Fatality', 'Species',\n",
    "         'Source', 'original order', 'pdf', 'href']]"
   ]
  },
  {
   "cell_type": "markdown",
   "id": "4009dd94",
   "metadata": {},
   "source": [
    "## 07 - Outliers"
   ]
  },
  {
   "cell_type": "code",
   "execution_count": 192,
   "id": "4a3d80a0",
   "metadata": {},
   "outputs": [
    {
     "data": {
      "text/html": [
       "<div>\n",
       "<style scoped>\n",
       "    .dataframe tbody tr th:only-of-type {\n",
       "        vertical-align: middle;\n",
       "    }\n",
       "\n",
       "    .dataframe tbody tr th {\n",
       "        vertical-align: top;\n",
       "    }\n",
       "\n",
       "    .dataframe thead th {\n",
       "        text-align: right;\n",
       "    }\n",
       "</style>\n",
       "<table border=\"1\" class=\"dataframe\">\n",
       "  <thead>\n",
       "    <tr style=\"text-align: right;\">\n",
       "      <th></th>\n",
       "      <th>count</th>\n",
       "      <th>mean</th>\n",
       "      <th>std</th>\n",
       "      <th>min</th>\n",
       "      <th>25%</th>\n",
       "      <th>50%</th>\n",
       "      <th>75%</th>\n",
       "      <th>max</th>\n",
       "      <th>IQR</th>\n",
       "      <th>Tukey</th>\n",
       "    </tr>\n",
       "  </thead>\n",
       "  <tbody>\n",
       "    <tr>\n",
       "      <th>MM</th>\n",
       "      <td>5490.0</td>\n",
       "      <td>6.216211</td>\n",
       "      <td>3.566365</td>\n",
       "      <td>0.0</td>\n",
       "      <td>3.00</td>\n",
       "      <td>7.0</td>\n",
       "      <td>9.00</td>\n",
       "      <td>12.0</td>\n",
       "      <td>6.0</td>\n",
       "      <td>18.0</td>\n",
       "    </tr>\n",
       "    <tr>\n",
       "      <th>YYYY</th>\n",
       "      <td>5490.0</td>\n",
       "      <td>1968.789800</td>\n",
       "      <td>46.889565</td>\n",
       "      <td>1543.0</td>\n",
       "      <td>1947.00</td>\n",
       "      <td>1981.0</td>\n",
       "      <td>2006.00</td>\n",
       "      <td>2018.0</td>\n",
       "      <td>59.0</td>\n",
       "      <td>2094.5</td>\n",
       "    </tr>\n",
       "    <tr>\n",
       "      <th>Type</th>\n",
       "      <td>5490.0</td>\n",
       "      <td>1.256831</td>\n",
       "      <td>0.812082</td>\n",
       "      <td>0.0</td>\n",
       "      <td>1.00</td>\n",
       "      <td>1.0</td>\n",
       "      <td>1.00</td>\n",
       "      <td>4.0</td>\n",
       "      <td>0.0</td>\n",
       "      <td>1.0</td>\n",
       "    </tr>\n",
       "    <tr>\n",
       "      <th>States</th>\n",
       "      <td>5490.0</td>\n",
       "      <td>5.400546</td>\n",
       "      <td>10.216532</td>\n",
       "      <td>0.0</td>\n",
       "      <td>0.00</td>\n",
       "      <td>0.0</td>\n",
       "      <td>9.00</td>\n",
       "      <td>47.0</td>\n",
       "      <td>9.0</td>\n",
       "      <td>22.5</td>\n",
       "    </tr>\n",
       "    <tr>\n",
       "      <th>Act_group</th>\n",
       "      <td>5490.0</td>\n",
       "      <td>3.244080</td>\n",
       "      <td>1.948739</td>\n",
       "      <td>1.0</td>\n",
       "      <td>2.00</td>\n",
       "      <td>3.0</td>\n",
       "      <td>4.00</td>\n",
       "      <td>11.0</td>\n",
       "      <td>2.0</td>\n",
       "      <td>7.0</td>\n",
       "    </tr>\n",
       "    <tr>\n",
       "      <th>Time_groups</th>\n",
       "      <td>5490.0</td>\n",
       "      <td>0.691803</td>\n",
       "      <td>0.951984</td>\n",
       "      <td>0.0</td>\n",
       "      <td>0.00</td>\n",
       "      <td>0.0</td>\n",
       "      <td>1.00</td>\n",
       "      <td>4.0</td>\n",
       "      <td>1.0</td>\n",
       "      <td>2.5</td>\n",
       "    </tr>\n",
       "    <tr>\n",
       "      <th>Sex</th>\n",
       "      <td>5490.0</td>\n",
       "      <td>1.030419</td>\n",
       "      <td>0.412927</td>\n",
       "      <td>0.0</td>\n",
       "      <td>1.00</td>\n",
       "      <td>1.0</td>\n",
       "      <td>1.00</td>\n",
       "      <td>2.0</td>\n",
       "      <td>0.0</td>\n",
       "      <td>1.0</td>\n",
       "    </tr>\n",
       "    <tr>\n",
       "      <th>Age_groups</th>\n",
       "      <td>5490.0</td>\n",
       "      <td>1.633698</td>\n",
       "      <td>1.527925</td>\n",
       "      <td>0.0</td>\n",
       "      <td>0.00</td>\n",
       "      <td>2.0</td>\n",
       "      <td>3.00</td>\n",
       "      <td>5.0</td>\n",
       "      <td>3.0</td>\n",
       "      <td>7.5</td>\n",
       "    </tr>\n",
       "    <tr>\n",
       "      <th>Age_years</th>\n",
       "      <td>5490.0</td>\n",
       "      <td>16.058652</td>\n",
       "      <td>17.192485</td>\n",
       "      <td>0.0</td>\n",
       "      <td>0.00</td>\n",
       "      <td>15.0</td>\n",
       "      <td>26.00</td>\n",
       "      <td>87.0</td>\n",
       "      <td>26.0</td>\n",
       "      <td>65.0</td>\n",
       "    </tr>\n",
       "    <tr>\n",
       "      <th>Fatality</th>\n",
       "      <td>5490.0</td>\n",
       "      <td>1.773042</td>\n",
       "      <td>0.419772</td>\n",
       "      <td>0.0</td>\n",
       "      <td>2.00</td>\n",
       "      <td>2.0</td>\n",
       "      <td>2.00</td>\n",
       "      <td>2.0</td>\n",
       "      <td>0.0</td>\n",
       "      <td>2.0</td>\n",
       "    </tr>\n",
       "    <tr>\n",
       "      <th>original order</th>\n",
       "      <td>5490.0</td>\n",
       "      <td>3271.416576</td>\n",
       "      <td>1779.812264</td>\n",
       "      <td>130.0</td>\n",
       "      <td>1725.25</td>\n",
       "      <td>3303.0</td>\n",
       "      <td>4825.75</td>\n",
       "      <td>6303.0</td>\n",
       "      <td>3100.5</td>\n",
       "      <td>9476.5</td>\n",
       "    </tr>\n",
       "  </tbody>\n",
       "</table>\n",
       "</div>"
      ],
      "text/plain": [
       "                 count         mean          std     min      25%     50%  \\\n",
       "MM              5490.0     6.216211     3.566365     0.0     3.00     7.0   \n",
       "YYYY            5490.0  1968.789800    46.889565  1543.0  1947.00  1981.0   \n",
       "Type            5490.0     1.256831     0.812082     0.0     1.00     1.0   \n",
       "States          5490.0     5.400546    10.216532     0.0     0.00     0.0   \n",
       "Act_group       5490.0     3.244080     1.948739     1.0     2.00     3.0   \n",
       "Time_groups     5490.0     0.691803     0.951984     0.0     0.00     0.0   \n",
       "Sex             5490.0     1.030419     0.412927     0.0     1.00     1.0   \n",
       "Age_groups      5490.0     1.633698     1.527925     0.0     0.00     2.0   \n",
       "Age_years       5490.0    16.058652    17.192485     0.0     0.00    15.0   \n",
       "Fatality        5490.0     1.773042     0.419772     0.0     2.00     2.0   \n",
       "original order  5490.0  3271.416576  1779.812264   130.0  1725.25  3303.0   \n",
       "\n",
       "                    75%     max     IQR   Tukey  \n",
       "MM                 9.00    12.0     6.0    18.0  \n",
       "YYYY            2006.00  2018.0    59.0  2094.5  \n",
       "Type               1.00     4.0     0.0     1.0  \n",
       "States             9.00    47.0     9.0    22.5  \n",
       "Act_group          4.00    11.0     2.0     7.0  \n",
       "Time_groups        1.00     4.0     1.0     2.5  \n",
       "Sex                1.00     2.0     0.0     1.0  \n",
       "Age_groups         3.00     5.0     3.0     7.5  \n",
       "Age_years         26.00    87.0    26.0    65.0  \n",
       "Fatality           2.00     2.0     0.0     2.0  \n",
       "original order  4825.75  6303.0  3100.5  9476.5  "
      ]
     },
     "execution_count": 192,
     "metadata": {},
     "output_type": "execute_result"
    }
   ],
   "source": [
    "stats = df.describe().T\n",
    "\n",
    "stats['IQR'] = stats['75%']-stats['25%']\n",
    "stats['Tukey'] = 1.5 * stats['IQR'] + stats['75%']\n",
    "\n",
    "stats"
   ]
  },
  {
   "cell_type": "code",
   "execution_count": 193,
   "id": "3f1cc93b",
   "metadata": {},
   "outputs": [
    {
     "data": {
      "image/png": "[encoded data removed]",
      "text/plain": [
       "<Figure size 1500x800 with 1 Axes>"
      ]
     },
     "metadata": {},
     "output_type": "display_data"
    }
   ],
   "source": [
    "df.boxplot(figsize=(15, 8));"
   ]
  },
  {
   "cell_type": "code",
   "execution_count": 194,
   "id": "79a59e6b",
   "metadata": {},
   "outputs": [
    {
     "data": {
      "text/plain": [
       "918"
      ]
     },
     "execution_count": 194,
     "metadata": {},
     "output_type": "execute_result"
    }
   ],
   "source": [
    "outliers = pd.DataFrame(columns = df.columns)\n",
    "\n",
    "for col in stats.index:\n",
    "    iqr = stats.at[col,'IQR']\n",
    "    cutoff = stats.at[col,'Tukey']\n",
    "    lower = stats.at[col,'25%'] - cutoff\n",
    "    upper = stats.at[col,'75%'] + cutoff\n",
    "    results = df[(df[col] < lower) | (df[col] > upper)].copy()\n",
    "    results['Outlier'] = col\n",
    "    outliers = outliers.append(results)\n",
    "    \n",
    "len(outliers)"
   ]
  },
  {
   "cell_type": "code",
   "execution_count": 195,
   "id": "4b273c13",
   "metadata": {},
   "outputs": [
    {
     "data": {
      "text/plain": [
       "3"
      ]
     },
     "execution_count": 195,
     "metadata": {},
     "output_type": "execute_result"
    }
   ],
   "source": [
    "outlier_index = outliers['Outlier'].value_counts().index\n",
    "len(outlier_index)"
   ]
  },
  {
   "cell_type": "markdown",
   "id": "a28a2ce0",
   "metadata": {},
   "source": [
    "## 08 - Duplicated rows II"
   ]
  },
  {
   "cell_type": "code",
   "execution_count": 196,
   "id": "f41ee180",
   "metadata": {},
   "outputs": [
    {
     "data": {
      "text/plain": [
       "False"
      ]
     },
     "execution_count": 196,
     "metadata": {},
     "output_type": "execute_result"
    }
   ],
   "source": [
    "df.duplicated().any()"
   ]
  },
  {
   "cell_type": "code",
   "execution_count": 197,
   "id": "38267465",
   "metadata": {},
   "outputs": [
    {
     "data": {
      "image/png": "[encoded data removed]",
      "text/plain": [
       "<Figure size 1000x600 with 1 Axes>"
      ]
     },
     "metadata": {
      "needs_background": "light"
     },
     "output_type": "display_data"
    }
   ],
   "source": [
    "view_nan(df)"
   ]
  },
  {
   "cell_type": "markdown",
   "id": "566dc700",
   "metadata": {},
   "source": [
    "## 09 - Data types"
   ]
  },
  {
   "cell_type": "code",
   "execution_count": 198,
   "id": "5910b948",
   "metadata": {},
   "outputs": [
    {
     "name": "stdout",
     "output_type": "stream",
     "text": [
      "<class 'pandas.core.frame.DataFrame'>\n",
      "Int64Index: 5490 entries, 0 to 6173\n",
      "Data columns (total 25 columns):\n",
      " #   Column          Non-Null Count  Dtype  \n",
      "---  ------          --------------  -----  \n",
      " 0   Case Number     5490 non-null   object \n",
      " 1   Date            5490 non-null   object \n",
      " 2   DD              5490 non-null   object \n",
      " 3   MM              5490 non-null   int32  \n",
      " 4   YYYY            5490 non-null   int32  \n",
      " 5   Type            5490 non-null   int32  \n",
      " 6   Country         5490 non-null   object \n",
      " 7   Area            5490 non-null   object \n",
      " 8   Location        5490 non-null   object \n",
      " 9   States          5490 non-null   int64  \n",
      " 10  Activity        5490 non-null   object \n",
      " 11  Act_group       5490 non-null   int64  \n",
      " 12  Time            5490 non-null   object \n",
      " 13  Time_groups     5490 non-null   float64\n",
      " 14  Name            5490 non-null   object \n",
      " 15  Sex             5490 non-null   int64  \n",
      " 16  Age_groups      5490 non-null   int32  \n",
      " 17  Age_years       5490 non-null   int64  \n",
      " 18  Injury          5490 non-null   object \n",
      " 19  Fatality        5490 non-null   int32  \n",
      " 20  Species         5490 non-null   object \n",
      " 21  Source          5490 non-null   object \n",
      " 22  original order  5490 non-null   float64\n",
      " 23  pdf             5490 non-null   object \n",
      " 24  href            5490 non-null   object \n",
      "dtypes: float64(2), int32(5), int64(4), object(14)\n",
      "memory usage: 6.0 MB\n"
     ]
    }
   ],
   "source": [
    "df.info(memory_usage='deep')"
   ]
  },
  {
   "cell_type": "markdown",
   "id": "f5da3623",
   "metadata": {},
   "source": [
    "Change the objects to categories in order to save space."
   ]
  },
  {
   "cell_type": "code",
   "execution_count": 199,
   "id": "f8f9a437",
   "metadata": {},
   "outputs": [
    {
     "name": "stdout",
     "output_type": "stream",
     "text": [
      "<class 'pandas.core.frame.DataFrame'>\n",
      "Int64Index: 5490 entries, 0 to 6173\n",
      "Data columns (total 25 columns):\n",
      " #   Column          Non-Null Count  Dtype   \n",
      "---  ------          --------------  -----   \n",
      " 0   Case Number     5490 non-null   category\n",
      " 1   Date            5490 non-null   category\n",
      " 2   DD              5490 non-null   category\n",
      " 3   MM              5490 non-null   int32   \n",
      " 4   YYYY            5490 non-null   int32   \n",
      " 5   Type            5490 non-null   int32   \n",
      " 6   Country         5490 non-null   category\n",
      " 7   Area            5490 non-null   category\n",
      " 8   Location        5490 non-null   category\n",
      " 9   States          5490 non-null   int64   \n",
      " 10  Activity        5490 non-null   category\n",
      " 11  Act_group       5490 non-null   int64   \n",
      " 12  Time            5490 non-null   category\n",
      " 13  Time_groups     5490 non-null   float64 \n",
      " 14  Name            5490 non-null   category\n",
      " 15  Sex             5490 non-null   int64   \n",
      " 16  Age_groups      5490 non-null   int32   \n",
      " 17  Age_years       5490 non-null   int64   \n",
      " 18  Injury          5490 non-null   category\n",
      " 19  Fatality        5490 non-null   int32   \n",
      " 20  Species         5490 non-null   category\n",
      " 21  Source          5490 non-null   category\n",
      " 22  original order  5490 non-null   float64 \n",
      " 23  pdf             5490 non-null   category\n",
      " 24  href            5490 non-null   category\n",
      "dtypes: category(14), float64(2), int32(5), int64(4)\n",
      "memory usage: 4.8 MB\n"
     ]
    }
   ],
   "source": [
    "for col in df.select_dtypes(include='object'):\n",
    "    df[col] = df[col].astype('category')\n",
    "    \n",
    "df.info(memory_usage='deep')"
   ]
  },
  {
   "cell_type": "markdown",
   "id": "c66e9d01",
   "metadata": {},
   "source": [
    "Try to reduce the type of numeric columns"
   ]
  },
  {
   "cell_type": "code",
   "execution_count": 200,
   "id": "4fcbbdae",
   "metadata": {},
   "outputs": [
    {
     "name": "stdout",
     "output_type": "stream",
     "text": [
      "<class 'pandas.core.frame.DataFrame'>\n",
      "Int64Index: 5490 entries, 0 to 6173\n",
      "Data columns (total 25 columns):\n",
      " #   Column          Non-Null Count  Dtype   \n",
      "---  ------          --------------  -----   \n",
      " 0   Case Number     5490 non-null   category\n",
      " 1   Date            5490 non-null   category\n",
      " 2   DD              5490 non-null   category\n",
      " 3   MM              5490 non-null   int8    \n",
      " 4   YYYY            5490 non-null   int16   \n",
      " 5   Type            5490 non-null   int8    \n",
      " 6   Country         5490 non-null   category\n",
      " 7   Area            5490 non-null   category\n",
      " 8   Location        5490 non-null   category\n",
      " 9   States          5490 non-null   int8    \n",
      " 10  Activity        5490 non-null   category\n",
      " 11  Act_group       5490 non-null   int8    \n",
      " 12  Time            5490 non-null   category\n",
      " 13  Time_groups     5490 non-null   float32 \n",
      " 14  Name            5490 non-null   category\n",
      " 15  Sex             5490 non-null   int8    \n",
      " 16  Age_groups      5490 non-null   int8    \n",
      " 17  Age_years       5490 non-null   int8    \n",
      " 18  Injury          5490 non-null   category\n",
      " 19  Fatality        5490 non-null   int8    \n",
      " 20  Species         5490 non-null   category\n",
      " 21  Source          5490 non-null   category\n",
      " 22  original order  5490 non-null   float32 \n",
      " 23  pdf             5490 non-null   category\n",
      " 24  href            5490 non-null   category\n",
      "dtypes: category(14), float32(2), int16(1), int8(8)\n",
      "memory usage: 4.5 MB\n"
     ]
    }
   ],
   "source": [
    "for col in df.select_dtypes(include='integer'):\n",
    "    df[col]=pd.to_numeric(df[col], downcast='integer')\n",
    "\n",
    "for col in df.select_dtypes(include='float'):\n",
    "    df[col]=pd.to_numeric(df[col], downcast='float')\n",
    "\n",
    "df.info(memory_usage='deep')   "
   ]
  },
  {
   "cell_type": "markdown",
   "id": "e0f7b75f",
   "metadata": {},
   "source": [
    "## 10 - Save the clean document"
   ]
  },
  {
   "cell_type": "code",
   "execution_count": 201,
   "id": "017d425a",
   "metadata": {},
   "outputs": [],
   "source": [
    "df.to_csv('../output/sharks_IGC.csv', index=False)"
   ]
  },
  {
   "cell_type": "markdown",
   "id": "1e44a67f",
   "metadata": {},
   "source": [
    "# Extra"
   ]
  },
  {
   "cell_type": "code",
   "execution_count": 202,
   "id": "4fe5740f",
   "metadata": {},
   "outputs": [
    {
     "data": {
      "text/plain": [
       "Index(['Case Number', 'Date', 'DD', 'MM', 'YYYY', 'Type', 'Country', 'Area',\n",
       "       'Location', 'States', 'Activity', 'Act_group', 'Time', 'Time_groups',\n",
       "       'Name', 'Sex', 'Age_groups', 'Age_years', 'Injury', 'Fatality',\n",
       "       'Species', 'Source', 'original order', 'pdf', 'href'],\n",
       "      dtype='object')"
      ]
     },
     "execution_count": 202,
     "metadata": {},
     "output_type": "execute_result"
    }
   ],
   "source": [
    "df.columns"
   ]
  },
  {
   "cell_type": "code",
   "execution_count": 203,
   "id": "88d00111",
   "metadata": {},
   "outputs": [
    {
     "data": {
      "image/png": "[encoded data removed]",
      "text/plain": [
       "<Figure size 1000x800 with 2 Axes>"
      ]
     },
     "metadata": {
      "needs_background": "light"
     },
     "output_type": "display_data"
    }
   ],
   "source": [
    "plt.figure(figsize=(10, 8), facecolor='none') \n",
    "sns.heatmap(df.corr(), \n",
    "            cmap = 'magma');"
   ]
  },
  {
   "cell_type": "code",
   "execution_count": 204,
   "id": "e8798b74",
   "metadata": {},
   "outputs": [],
   "source": [
    "col_corred = []\n",
    "\n",
    "for col in df._get_numeric_data():  \n",
    "    for i in range(len(df.corr())): \n",
    "        if abs(df.corr()[col][i]) > 0.9 and abs(df.corr()[col][i]) < 1:\n",
    "            col_corred.append(col)"
   ]
  },
  {
   "cell_type": "code",
   "execution_count": 205,
   "id": "6a6b8599",
   "metadata": {},
   "outputs": [
    {
     "data": {
      "text/plain": [
       "['Age_groups', 'original order', 'YYYY', 'Age_years']"
      ]
     },
     "execution_count": 205,
     "metadata": {},
     "output_type": "execute_result"
    }
   ],
   "source": [
    "col_corred = list(set(col_corred))\n",
    "col_corred"
   ]
  },
  {
   "cell_type": "code",
   "execution_count": 206,
   "id": "4817a874",
   "metadata": {},
   "outputs": [
    {
     "data": {
      "text/html": [
       "<div>\n",
       "<style scoped>\n",
       "    .dataframe tbody tr th:only-of-type {\n",
       "        vertical-align: middle;\n",
       "    }\n",
       "\n",
       "    .dataframe tbody tr th {\n",
       "        vertical-align: top;\n",
       "    }\n",
       "\n",
       "    .dataframe thead th {\n",
       "        text-align: right;\n",
       "    }\n",
       "</style>\n",
       "<table border=\"1\" class=\"dataframe\">\n",
       "  <thead>\n",
       "    <tr style=\"text-align: right;\">\n",
       "      <th></th>\n",
       "      <th></th>\n",
       "      <th>MM</th>\n",
       "      <th>Type</th>\n",
       "      <th>States</th>\n",
       "      <th>Act_group</th>\n",
       "      <th>Time_groups</th>\n",
       "      <th>Sex</th>\n",
       "      <th>Age_groups</th>\n",
       "      <th>Age_years</th>\n",
       "      <th>original order</th>\n",
       "    </tr>\n",
       "    <tr>\n",
       "      <th>YYYY</th>\n",
       "      <th>Fatality</th>\n",
       "      <th></th>\n",
       "      <th></th>\n",
       "      <th></th>\n",
       "      <th></th>\n",
       "      <th></th>\n",
       "      <th></th>\n",
       "      <th></th>\n",
       "      <th></th>\n",
       "      <th></th>\n",
       "    </tr>\n",
       "  </thead>\n",
       "  <tbody>\n",
       "    <tr>\n",
       "      <th>1543</th>\n",
       "      <th>1</th>\n",
       "      <td>0.000000</td>\n",
       "      <td>1.000000</td>\n",
       "      <td>0.000000</td>\n",
       "      <td>2.000000</td>\n",
       "      <td>0.000000</td>\n",
       "      <td>1.000000</td>\n",
       "      <td>0.000000</td>\n",
       "      <td>0.000000</td>\n",
       "      <td>130.000000</td>\n",
       "    </tr>\n",
       "    <tr>\n",
       "      <th>1555</th>\n",
       "      <th>2</th>\n",
       "      <td>0.000000</td>\n",
       "      <td>1.000000</td>\n",
       "      <td>0.000000</td>\n",
       "      <td>4.000000</td>\n",
       "      <td>0.000000</td>\n",
       "      <td>1.000000</td>\n",
       "      <td>0.000000</td>\n",
       "      <td>0.000000</td>\n",
       "      <td>132.000000</td>\n",
       "    </tr>\n",
       "    <tr>\n",
       "      <th>1580</th>\n",
       "      <th>1</th>\n",
       "      <td>1.000000</td>\n",
       "      <td>1.000000</td>\n",
       "      <td>0.000000</td>\n",
       "      <td>6.000000</td>\n",
       "      <td>0.000000</td>\n",
       "      <td>1.000000</td>\n",
       "      <td>0.000000</td>\n",
       "      <td>0.000000</td>\n",
       "      <td>133.000000</td>\n",
       "    </tr>\n",
       "    <tr>\n",
       "      <th>1595</th>\n",
       "      <th>2</th>\n",
       "      <td>0.000000</td>\n",
       "      <td>1.000000</td>\n",
       "      <td>0.000000</td>\n",
       "      <td>6.000000</td>\n",
       "      <td>0.000000</td>\n",
       "      <td>1.000000</td>\n",
       "      <td>0.000000</td>\n",
       "      <td>0.000000</td>\n",
       "      <td>134.000000</td>\n",
       "    </tr>\n",
       "    <tr>\n",
       "      <th>1637</th>\n",
       "      <th>2</th>\n",
       "      <td>0.000000</td>\n",
       "      <td>1.000000</td>\n",
       "      <td>0.000000</td>\n",
       "      <td>5.000000</td>\n",
       "      <td>0.000000</td>\n",
       "      <td>0.000000</td>\n",
       "      <td>0.000000</td>\n",
       "      <td>0.000000</td>\n",
       "      <td>137.000000</td>\n",
       "    </tr>\n",
       "    <tr>\n",
       "      <th>...</th>\n",
       "      <th>...</th>\n",
       "      <td>...</td>\n",
       "      <td>...</td>\n",
       "      <td>...</td>\n",
       "      <td>...</td>\n",
       "      <td>...</td>\n",
       "      <td>...</td>\n",
       "      <td>...</td>\n",
       "      <td>...</td>\n",
       "      <td>...</td>\n",
       "    </tr>\n",
       "    <tr>\n",
       "      <th>2016</th>\n",
       "      <th>2</th>\n",
       "      <td>6.474138</td>\n",
       "      <td>1.155172</td>\n",
       "      <td>6.827586</td>\n",
       "      <td>2.939655</td>\n",
       "      <td>0.948276</td>\n",
       "      <td>1.129310</td>\n",
       "      <td>2.353448</td>\n",
       "      <td>25.767241</td>\n",
       "      <td>6050.560547</td>\n",
       "    </tr>\n",
       "    <tr>\n",
       "      <th rowspan=\"2\" valign=\"top\">2017</th>\n",
       "      <th>1</th>\n",
       "      <td>6.777778</td>\n",
       "      <td>1.222222</td>\n",
       "      <td>0.000000</td>\n",
       "      <td>3.222222</td>\n",
       "      <td>1.000000</td>\n",
       "      <td>1.111111</td>\n",
       "      <td>2.555556</td>\n",
       "      <td>27.000000</td>\n",
       "      <td>6186.000000</td>\n",
       "    </tr>\n",
       "    <tr>\n",
       "      <th>2</th>\n",
       "      <td>6.547009</td>\n",
       "      <td>1.076923</td>\n",
       "      <td>7.299145</td>\n",
       "      <td>3.427350</td>\n",
       "      <td>1.017094</td>\n",
       "      <td>1.264957</td>\n",
       "      <td>1.957265</td>\n",
       "      <td>20.683761</td>\n",
       "      <td>6182.880371</td>\n",
       "    </tr>\n",
       "    <tr>\n",
       "      <th rowspan=\"2\" valign=\"top\">2018</th>\n",
       "      <th>1</th>\n",
       "      <td>6.000000</td>\n",
       "      <td>1.000000</td>\n",
       "      <td>0.000000</td>\n",
       "      <td>4.000000</td>\n",
       "      <td>0.000000</td>\n",
       "      <td>1.000000</td>\n",
       "      <td>2.000000</td>\n",
       "      <td>18.000000</td>\n",
       "      <td>6297.000000</td>\n",
       "    </tr>\n",
       "    <tr>\n",
       "      <th>2</th>\n",
       "      <td>3.750000</td>\n",
       "      <td>1.020833</td>\n",
       "      <td>3.229167</td>\n",
       "      <td>3.270833</td>\n",
       "      <td>0.875000</td>\n",
       "      <td>1.104167</td>\n",
       "      <td>2.166667</td>\n",
       "      <td>24.166667</td>\n",
       "      <td>6277.270996</td>\n",
       "    </tr>\n",
       "  </tbody>\n",
       "</table>\n",
       "<p>400 rows × 9 columns</p>\n",
       "</div>"
      ],
      "text/plain": [
       "                     MM      Type    States  Act_group  Time_groups       Sex  \\\n",
       "YYYY Fatality                                                                   \n",
       "1543 1         0.000000  1.000000  0.000000   2.000000     0.000000  1.000000   \n",
       "1555 2         0.000000  1.000000  0.000000   4.000000     0.000000  1.000000   \n",
       "1580 1         1.000000  1.000000  0.000000   6.000000     0.000000  1.000000   \n",
       "1595 2         0.000000  1.000000  0.000000   6.000000     0.000000  1.000000   \n",
       "1637 2         0.000000  1.000000  0.000000   5.000000     0.000000  0.000000   \n",
       "...                 ...       ...       ...        ...          ...       ...   \n",
       "2016 2         6.474138  1.155172  6.827586   2.939655     0.948276  1.129310   \n",
       "2017 1         6.777778  1.222222  0.000000   3.222222     1.000000  1.111111   \n",
       "     2         6.547009  1.076923  7.299145   3.427350     1.017094  1.264957   \n",
       "2018 1         6.000000  1.000000  0.000000   4.000000     0.000000  1.000000   \n",
       "     2         3.750000  1.020833  3.229167   3.270833     0.875000  1.104167   \n",
       "\n",
       "               Age_groups  Age_years  original order  \n",
       "YYYY Fatality                                         \n",
       "1543 1           0.000000   0.000000      130.000000  \n",
       "1555 2           0.000000   0.000000      132.000000  \n",
       "1580 1           0.000000   0.000000      133.000000  \n",
       "1595 2           0.000000   0.000000      134.000000  \n",
       "1637 2           0.000000   0.000000      137.000000  \n",
       "...                   ...        ...             ...  \n",
       "2016 2           2.353448  25.767241     6050.560547  \n",
       "2017 1           2.555556  27.000000     6186.000000  \n",
       "     2           1.957265  20.683761     6182.880371  \n",
       "2018 1           2.000000  18.000000     6297.000000  \n",
       "     2           2.166667  24.166667     6277.270996  \n",
       "\n",
       "[400 rows x 9 columns]"
      ]
     },
     "execution_count": 206,
     "metadata": {},
     "output_type": "execute_result"
    }
   ],
   "source": [
    "df.groupby(['YYYY', 'Fatality']).mean()"
   ]
  },
  {
   "cell_type": "markdown",
   "id": "9baa24d8",
   "metadata": {},
   "source": [
    "At this point of the data cleansing,\n",
    "I can confirm that my 'Age_groups' are well done\n",
    "because are correlated with the 'Age_years' but\n",
    "I can't throw any conclusion...\n",
    "\n",
    "I would like to know if there is any relation between \n",
    "the fatality and the number of cases with the Species\n",
    "\n",
    "To do so, my perspectives are:\n",
    "Transform more categories into numbers in order to analize them,\n",
    "for example: To use ISO codes for countries, [...]"
   ]
  }
 ],
 "metadata": {
  "kernelspec": {
   "display_name": "Python 3 (ipykernel)",
   "language": "python",
   "name": "python3"
  },
  "language_info": {
   "codemirror_mode": {
    "name": "ipython",
    "version": 3
   },
   "file_extension": ".py",
   "mimetype": "text/x-python",
   "name": "python",
   "nbconvert_exporter": "python",
   "pygments_lexer": "ipython3",
   "version": "3.11.4"
  }
 },
 "nbformat": 4,
 "nbformat_minor": 5
}
