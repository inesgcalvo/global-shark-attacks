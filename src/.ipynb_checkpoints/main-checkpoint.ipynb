{
 "cells": [
  {
   "cell_type": "markdown",
   "id": "0f8659ec",
   "metadata": {},
   "source": [
    "# Global Shark Attacks\n",
    "\n",
    "Data compiled by the global shark attack file, extracted from: https://www.kaggle.com/datasets/teajay/global-shark-attacks/data"
   ]
  },
  {
   "cell_type": "markdown",
   "id": "77276140",
   "metadata": {},
   "source": [
    "___"
   ]
  },
  {
   "cell_type": "markdown",
   "id": "66245a16",
   "metadata": {},
   "source": [
    "![Shark](https://www.nationalgeographic.com.es/medio/2022/06/09/ilustracion-del-terrible-megalodon_3d7a520e_800x800.jpg)"
   ]
  },
  {
   "cell_type": "markdown",
   "id": "9f159237",
   "metadata": {},
   "source": [
    "___"
   ]
  },
  {
   "cell_type": "code",
   "execution_count": 1,
   "id": "938169d8",
   "metadata": {},
   "outputs": [],
   "source": [
    "import re\n",
    "import zipfile\n",
    "import datetime\n",
    "import numpy as np\n",
    "import pandas as pd\n",
    "import seaborn as sns\n",
    "import matplotlib.pyplot as plt\n",
    "\n",
    "import warnings\n",
    "warnings.filterwarnings('ignore')"
   ]
  },
  {
   "cell_type": "code",
   "execution_count": 2,
   "id": "d0add57a",
   "metadata": {},
   "outputs": [],
   "source": [
    "zf = zipfile.ZipFile('../data/archive.zip')"
   ]
  },
  {
   "cell_type": "code",
   "execution_count": 3,
   "id": "9a545ac4",
   "metadata": {},
   "outputs": [],
   "source": [
    "archivo = zf.open('attacks.csv')"
   ]
  },
  {
   "cell_type": "code",
   "execution_count": 4,
   "id": "94ccf19c",
   "metadata": {},
   "outputs": [],
   "source": [
    "raw_df = pd.read_csv(archivo, encoding='latin1')"
   ]
  },
  {
   "cell_type": "code",
   "execution_count": 5,
   "id": "4d11d447",
   "metadata": {},
   "outputs": [],
   "source": [
    "df = raw_df.copy()"
   ]
  },
  {
   "cell_type": "code",
   "execution_count": 6,
   "id": "fa10a80d",
   "metadata": {},
   "outputs": [],
   "source": [
    "def shape(df):\n",
    "    '''\n",
    "    df as input, str with the raw_df and df shapes as output\n",
    "    '''\n",
    "    return f\"Original: {raw_df.shape}, Now: {df.shape}\""
   ]
  },
  {
   "cell_type": "code",
   "execution_count": 7,
   "id": "836856f9",
   "metadata": {},
   "outputs": [
    {
     "data": {
      "text/plain": [
       "'Original: (25723, 24), Now: (25723, 24)'"
      ]
     },
     "execution_count": 7,
     "metadata": {},
     "output_type": "execute_result"
    }
   ],
   "source": [
    "shape(df)"
   ]
  },
  {
   "cell_type": "code",
   "execution_count": 8,
   "id": "67583da6",
   "metadata": {},
   "outputs": [
    {
     "data": {
      "text/html": [
       "<div>\n",
       "<style scoped>\n",
       "    .dataframe tbody tr th:only-of-type {\n",
       "        vertical-align: middle;\n",
       "    }\n",
       "\n",
       "    .dataframe tbody tr th {\n",
       "        vertical-align: top;\n",
       "    }\n",
       "\n",
       "    .dataframe thead th {\n",
       "        text-align: right;\n",
       "    }\n",
       "</style>\n",
       "<table border=\"1\" class=\"dataframe\">\n",
       "  <thead>\n",
       "    <tr style=\"text-align: right;\">\n",
       "      <th></th>\n",
       "      <th>Case Number</th>\n",
       "      <th>Date</th>\n",
       "      <th>Year</th>\n",
       "      <th>Type</th>\n",
       "      <th>Country</th>\n",
       "      <th>Area</th>\n",
       "      <th>Location</th>\n",
       "      <th>Activity</th>\n",
       "      <th>Name</th>\n",
       "      <th>Sex</th>\n",
       "      <th>...</th>\n",
       "      <th>Species</th>\n",
       "      <th>Investigator or Source</th>\n",
       "      <th>pdf</th>\n",
       "      <th>href formula</th>\n",
       "      <th>href</th>\n",
       "      <th>Case Number.1</th>\n",
       "      <th>Case Number.2</th>\n",
       "      <th>original order</th>\n",
       "      <th>Unnamed: 22</th>\n",
       "      <th>Unnamed: 23</th>\n",
       "    </tr>\n",
       "  </thead>\n",
       "  <tbody>\n",
       "    <tr>\n",
       "      <th>0</th>\n",
       "      <td>2018.06.25</td>\n",
       "      <td>25-Jun-2018</td>\n",
       "      <td>2018.0</td>\n",
       "      <td>Boating</td>\n",
       "      <td>USA</td>\n",
       "      <td>California</td>\n",
       "      <td>Oceanside, San Diego County</td>\n",
       "      <td>Paddling</td>\n",
       "      <td>Julie Wolfe</td>\n",
       "      <td>F</td>\n",
       "      <td>...</td>\n",
       "      <td>White shark</td>\n",
       "      <td>R. Collier, GSAF</td>\n",
       "      <td>2018.06.25-Wolfe.pdf</td>\n",
       "      <td>http://sharkattackfile.net/spreadsheets/pdf_di...</td>\n",
       "      <td>http://sharkattackfile.net/spreadsheets/pdf_di...</td>\n",
       "      <td>2018.06.25</td>\n",
       "      <td>2018.06.25</td>\n",
       "      <td>6303.0</td>\n",
       "      <td>NaN</td>\n",
       "      <td>NaN</td>\n",
       "    </tr>\n",
       "  </tbody>\n",
       "</table>\n",
       "<p>1 rows × 24 columns</p>\n",
       "</div>"
      ],
      "text/plain": [
       "  Case Number         Date    Year     Type Country        Area  \\\n",
       "0  2018.06.25  25-Jun-2018  2018.0  Boating     USA  California   \n",
       "\n",
       "                      Location  Activity         Name Sex   ...     Species   \\\n",
       "0  Oceanside, San Diego County  Paddling  Julie Wolfe    F  ...  White shark   \n",
       "\n",
       "  Investigator or Source                   pdf  \\\n",
       "0       R. Collier, GSAF  2018.06.25-Wolfe.pdf   \n",
       "\n",
       "                                        href formula  \\\n",
       "0  http://sharkattackfile.net/spreadsheets/pdf_di...   \n",
       "\n",
       "                                                href Case Number.1  \\\n",
       "0  http://sharkattackfile.net/spreadsheets/pdf_di...    2018.06.25   \n",
       "\n",
       "  Case Number.2 original order Unnamed: 22 Unnamed: 23  \n",
       "0    2018.06.25         6303.0         NaN         NaN  \n",
       "\n",
       "[1 rows x 24 columns]"
      ]
     },
     "execution_count": 8,
     "metadata": {},
     "output_type": "execute_result"
    }
   ],
   "source": [
    "df.head(1)"
   ]
  },
  {
   "cell_type": "markdown",
   "id": "ae357cac",
   "metadata": {},
   "source": [
    "____"
   ]
  },
  {
   "cell_type": "markdown",
   "id": "97d1c18d",
   "metadata": {},
   "source": [
    "# Data Cleansing\n",
    "\n",
    "This stage include:\n",
    "\n",
    "* 01 - Duplicated rows\n",
    "* 02 - NaN values\n",
    "* 03 - Low Variance columns\n",
    "* 04 - Constant columns\n",
    "* 05 - Special characters\n",
    "* 06 - Incorrect values\n",
    "* 07 - Outliers\n",
    "* 08 - Duplicated rows II\n",
    "* 09 - Data types\n",
    "* 10 - Save the clean document"
   ]
  },
  {
   "cell_type": "markdown",
   "id": "94080edb",
   "metadata": {},
   "source": [
    "_____"
   ]
  },
  {
   "cell_type": "markdown",
   "id": "69bbe762",
   "metadata": {},
   "source": [
    "## 01 - Duplicated rows"
   ]
  },
  {
   "cell_type": "code",
   "execution_count": 9,
   "id": "f708123c",
   "metadata": {},
   "outputs": [
    {
     "data": {
      "text/plain": [
       "True"
      ]
     },
     "execution_count": 9,
     "metadata": {},
     "output_type": "execute_result"
    }
   ],
   "source": [
    "df.duplicated().any()"
   ]
  },
  {
   "cell_type": "code",
   "execution_count": 10,
   "id": "efaf4f21",
   "metadata": {},
   "outputs": [],
   "source": [
    "df.drop_duplicates(inplace=True)"
   ]
  },
  {
   "cell_type": "code",
   "execution_count": 11,
   "id": "887db259",
   "metadata": {},
   "outputs": [
    {
     "data": {
      "text/plain": [
       "False"
      ]
     },
     "execution_count": 11,
     "metadata": {},
     "output_type": "execute_result"
    }
   ],
   "source": [
    "df.duplicated().any()"
   ]
  },
  {
   "cell_type": "code",
   "execution_count": 12,
   "id": "46025ed4",
   "metadata": {},
   "outputs": [
    {
     "data": {
      "text/plain": [
       "'Original: (25723, 24), Now: (6312, 24)'"
      ]
     },
     "execution_count": 12,
     "metadata": {},
     "output_type": "execute_result"
    }
   ],
   "source": [
    "shape(df)"
   ]
  },
  {
   "cell_type": "markdown",
   "id": "d6e78873",
   "metadata": {},
   "source": [
    "_____"
   ]
  },
  {
   "cell_type": "markdown",
   "id": "2676ae36",
   "metadata": {},
   "source": [
    "## 02 - NaN values"
   ]
  },
  {
   "cell_type": "code",
   "execution_count": 13,
   "id": "90aaa37c",
   "metadata": {},
   "outputs": [],
   "source": [
    "def nan(df):\n",
    "    '''\n",
    "    df as input and a list with the column name and \n",
    "    the amount of NaN values as output\n",
    "    '''\n",
    "    return df.isna().sum().sort_values(ascending = False)"
   ]
  },
  {
   "cell_type": "code",
   "execution_count": 14,
   "id": "6da4eb20",
   "metadata": {},
   "outputs": [
    {
     "data": {
      "text/plain": [
       "Unnamed: 22               6311\n",
       "Unnamed: 23               6310\n",
       "Time                      3364\n",
       "Species                   2848\n",
       "Age                       2841\n",
       "Sex                        575\n",
       "Activity                   554\n",
       "Location                   550\n",
       "Fatal (Y/N)                549\n",
       "Area                       465\n",
       "Name                       220\n",
       "Country                     60\n",
       "Injury                      38\n",
       "Investigator or Source      27\n",
       "Type                        14\n",
       "Year                        12\n",
       "href formula                11\n",
       "Date                        10\n",
       "pdf                         10\n",
       "href                        10\n",
       "Case Number.1               10\n",
       "Case Number.2               10\n",
       "original order               3\n",
       "Case Number                  2\n",
       "dtype: int64"
      ]
     },
     "execution_count": 14,
     "metadata": {},
     "output_type": "execute_result"
    }
   ],
   "source": [
    "nan(df)"
   ]
  },
  {
   "cell_type": "code",
   "execution_count": 15,
   "id": "57ecbbd3",
   "metadata": {},
   "outputs": [],
   "source": [
    "def view_nan(df: pd.DataFrame) -> None:\n",
    "    \"\"\"\n",
    "    df as input and a plot of NaN values per column as output\n",
    "    \"\"\"\n",
    "    plt.figure(figsize=(10, 6), facecolor='none') \n",
    "    sns.heatmap(df.isna(),           \n",
    "                yticklabels=False,  \n",
    "                cmap='magma',     \n",
    "                cbar=False)\n",
    "    plt.show();"
   ]
  },
  {
   "cell_type": "code",
   "execution_count": 16,
   "id": "2a1d1518",
   "metadata": {},
   "outputs": [
    {
     "data": {
      "image/png": "[encoded data removed]",
      "text/plain": [
       "<Figure size 1000x600 with 1 Axes>"
      ]
     },
     "metadata": {
      "needs_background": "light"
     },
     "output_type": "display_data"
    }
   ],
   "source": [
    "view_nan(df)"
   ]
  },
  {
   "cell_type": "markdown",
   "id": "69decfe5",
   "metadata": {},
   "source": [
    "### 'Unnamed: 22' & 'Unnamed: 23' columns"
   ]
  },
  {
   "cell_type": "code",
   "execution_count": 17,
   "id": "791fea48",
   "metadata": {},
   "outputs": [
    {
     "data": {
      "text/plain": [
       "stopped here    1\n",
       "Name: Unnamed: 22, dtype: int64"
      ]
     },
     "execution_count": 17,
     "metadata": {},
     "output_type": "execute_result"
    }
   ],
   "source": [
    "df['Unnamed: 22'].value_counts()"
   ]
  },
  {
   "cell_type": "code",
   "execution_count": 18,
   "id": "72694b31",
   "metadata": {},
   "outputs": [
    {
     "data": {
      "text/plain": [
       "Teramo             1\n",
       "change filename    1\n",
       "Name: Unnamed: 23, dtype: int64"
      ]
     },
     "execution_count": 18,
     "metadata": {},
     "output_type": "execute_result"
    }
   ],
   "source": [
    "df['Unnamed: 23'].value_counts()"
   ]
  },
  {
   "cell_type": "code",
   "execution_count": 19,
   "id": "cc686bf3",
   "metadata": {},
   "outputs": [],
   "source": [
    "df['Unnamed: 22'].fillna('unknown', inplace=True)"
   ]
  },
  {
   "cell_type": "code",
   "execution_count": 20,
   "id": "468bee9a",
   "metadata": {},
   "outputs": [],
   "source": [
    "df['Unnamed: 23'].fillna('unknown', inplace=True)"
   ]
  },
  {
   "cell_type": "code",
   "execution_count": 21,
   "id": "2851bb20",
   "metadata": {},
   "outputs": [
    {
     "data": {
      "text/plain": [
       "Time    3364\n",
       "dtype: int64"
      ]
     },
     "execution_count": 21,
     "metadata": {},
     "output_type": "execute_result"
    }
   ],
   "source": [
    "nan(df).head(1)"
   ]
  },
  {
   "cell_type": "markdown",
   "id": "98d45648",
   "metadata": {},
   "source": [
    "### 'Time' column"
   ]
  },
  {
   "cell_type": "code",
   "execution_count": 22,
   "id": "de35a1cc",
   "metadata": {},
   "outputs": [],
   "source": [
    "df['Time'].fillna('unknown', inplace=True)"
   ]
  },
  {
   "cell_type": "code",
   "execution_count": 23,
   "id": "1c80a8b2",
   "metadata": {},
   "outputs": [
    {
     "data": {
      "text/plain": [
       "Species     2848\n",
       "dtype: int64"
      ]
     },
     "execution_count": 23,
     "metadata": {},
     "output_type": "execute_result"
    }
   ],
   "source": [
    "nan(df).head(1)"
   ]
  },
  {
   "cell_type": "markdown",
   "id": "84e88e01",
   "metadata": {},
   "source": [
    "### 'Species' column"
   ]
  },
  {
   "cell_type": "raw",
   "id": "bc5ac40a",
   "metadata": {},
   "source": [
    "Because I did not found the column using 'Species', I decided to remove all the empty spaces from the column names of the dataframe"
   ]
  },
  {
   "cell_type": "code",
   "execution_count": 24,
   "id": "2c5caae5",
   "metadata": {},
   "outputs": [],
   "source": [
    "df.columns = df.columns.str.strip()"
   ]
  },
  {
   "cell_type": "code",
   "execution_count": 25,
   "id": "3e0aeba4",
   "metadata": {},
   "outputs": [
    {
     "data": {
      "text/html": [
       "<div>\n",
       "<style scoped>\n",
       "    .dataframe tbody tr th:only-of-type {\n",
       "        vertical-align: middle;\n",
       "    }\n",
       "\n",
       "    .dataframe tbody tr th {\n",
       "        vertical-align: top;\n",
       "    }\n",
       "\n",
       "    .dataframe thead th {\n",
       "        text-align: right;\n",
       "    }\n",
       "</style>\n",
       "<table border=\"1\" class=\"dataframe\">\n",
       "  <thead>\n",
       "    <tr style=\"text-align: right;\">\n",
       "      <th></th>\n",
       "      <th>Case Number</th>\n",
       "      <th>Date</th>\n",
       "      <th>Year</th>\n",
       "      <th>Type</th>\n",
       "      <th>Country</th>\n",
       "      <th>Area</th>\n",
       "      <th>Location</th>\n",
       "      <th>Activity</th>\n",
       "      <th>Name</th>\n",
       "      <th>Sex</th>\n",
       "      <th>...</th>\n",
       "      <th>Species</th>\n",
       "      <th>Investigator or Source</th>\n",
       "      <th>pdf</th>\n",
       "      <th>href formula</th>\n",
       "      <th>href</th>\n",
       "      <th>Case Number.1</th>\n",
       "      <th>Case Number.2</th>\n",
       "      <th>original order</th>\n",
       "      <th>Unnamed: 22</th>\n",
       "      <th>Unnamed: 23</th>\n",
       "    </tr>\n",
       "  </thead>\n",
       "  <tbody>\n",
       "    <tr>\n",
       "      <th>0</th>\n",
       "      <td>2018.06.25</td>\n",
       "      <td>25-Jun-2018</td>\n",
       "      <td>2018.0</td>\n",
       "      <td>Boating</td>\n",
       "      <td>USA</td>\n",
       "      <td>California</td>\n",
       "      <td>Oceanside, San Diego County</td>\n",
       "      <td>Paddling</td>\n",
       "      <td>Julie Wolfe</td>\n",
       "      <td>F</td>\n",
       "      <td>...</td>\n",
       "      <td>White shark</td>\n",
       "      <td>R. Collier, GSAF</td>\n",
       "      <td>2018.06.25-Wolfe.pdf</td>\n",
       "      <td>http://sharkattackfile.net/spreadsheets/pdf_di...</td>\n",
       "      <td>http://sharkattackfile.net/spreadsheets/pdf_di...</td>\n",
       "      <td>2018.06.25</td>\n",
       "      <td>2018.06.25</td>\n",
       "      <td>6303.0</td>\n",
       "      <td>unknown</td>\n",
       "      <td>unknown</td>\n",
       "    </tr>\n",
       "  </tbody>\n",
       "</table>\n",
       "<p>1 rows × 24 columns</p>\n",
       "</div>"
      ],
      "text/plain": [
       "  Case Number         Date    Year     Type Country        Area  \\\n",
       "0  2018.06.25  25-Jun-2018  2018.0  Boating     USA  California   \n",
       "\n",
       "                      Location  Activity         Name Sex  ...      Species  \\\n",
       "0  Oceanside, San Diego County  Paddling  Julie Wolfe   F  ...  White shark   \n",
       "\n",
       "  Investigator or Source                   pdf  \\\n",
       "0       R. Collier, GSAF  2018.06.25-Wolfe.pdf   \n",
       "\n",
       "                                        href formula  \\\n",
       "0  http://sharkattackfile.net/spreadsheets/pdf_di...   \n",
       "\n",
       "                                                href Case Number.1  \\\n",
       "0  http://sharkattackfile.net/spreadsheets/pdf_di...    2018.06.25   \n",
       "\n",
       "  Case Number.2 original order Unnamed: 22 Unnamed: 23  \n",
       "0    2018.06.25         6303.0     unknown     unknown  \n",
       "\n",
       "[1 rows x 24 columns]"
      ]
     },
     "execution_count": 25,
     "metadata": {},
     "output_type": "execute_result"
    }
   ],
   "source": [
    "df.head(1)"
   ]
  },
  {
   "cell_type": "code",
   "execution_count": 26,
   "id": "e0a470c3",
   "metadata": {},
   "outputs": [
    {
     "data": {
      "text/plain": [
       "1550"
      ]
     },
     "execution_count": 26,
     "metadata": {},
     "output_type": "execute_result"
    }
   ],
   "source": [
    "len(df['Species'].unique())"
   ]
  },
  {
   "cell_type": "code",
   "execution_count": 27,
   "id": "b13b9aeb",
   "metadata": {},
   "outputs": [],
   "source": [
    "df['Species'].fillna('unknown', inplace=True)"
   ]
  },
  {
   "cell_type": "code",
   "execution_count": 28,
   "id": "243d05c0",
   "metadata": {},
   "outputs": [
    {
     "data": {
      "text/plain": [
       "Age    2841\n",
       "dtype: int64"
      ]
     },
     "execution_count": 28,
     "metadata": {},
     "output_type": "execute_result"
    }
   ],
   "source": [
    "nan(df).head(1)"
   ]
  },
  {
   "cell_type": "markdown",
   "id": "f3cc2abc",
   "metadata": {},
   "source": [
    "### 'Age' column"
   ]
  },
  {
   "cell_type": "code",
   "execution_count": 29,
   "id": "f5e07dad",
   "metadata": {},
   "outputs": [],
   "source": [
    "df['Age'].fillna('0', inplace=True)"
   ]
  },
  {
   "cell_type": "code",
   "execution_count": 30,
   "id": "f3b7dbb8",
   "metadata": {},
   "outputs": [
    {
     "data": {
      "text/plain": [
       "Sex    575\n",
       "dtype: int64"
      ]
     },
     "execution_count": 30,
     "metadata": {},
     "output_type": "execute_result"
    }
   ],
   "source": [
    "nan(df).head(1)"
   ]
  },
  {
   "cell_type": "markdown",
   "id": "8df41f19",
   "metadata": {},
   "source": [
    "### 'Sex' column"
   ]
  },
  {
   "cell_type": "code",
   "execution_count": 31,
   "id": "5ef61415",
   "metadata": {},
   "outputs": [],
   "source": [
    "df['Sex'].fillna('0', inplace=True)"
   ]
  },
  {
   "cell_type": "code",
   "execution_count": 32,
   "id": "06661505",
   "metadata": {},
   "outputs": [
    {
     "data": {
      "text/plain": [
       "Activity    554\n",
       "dtype: int64"
      ]
     },
     "execution_count": 32,
     "metadata": {},
     "output_type": "execute_result"
    }
   ],
   "source": [
    "nan(df).head(1)"
   ]
  },
  {
   "cell_type": "markdown",
   "id": "b2eab10e",
   "metadata": {},
   "source": [
    "### 'Activity' column"
   ]
  },
  {
   "cell_type": "code",
   "execution_count": 33,
   "id": "7cfce3ed",
   "metadata": {},
   "outputs": [],
   "source": [
    "df['Activity'].fillna('unknown', inplace=True)"
   ]
  },
  {
   "cell_type": "code",
   "execution_count": 34,
   "id": "39cc6eb7",
   "metadata": {},
   "outputs": [
    {
     "data": {
      "text/plain": [
       "Location    550\n",
       "dtype: int64"
      ]
     },
     "execution_count": 34,
     "metadata": {},
     "output_type": "execute_result"
    }
   ],
   "source": [
    "nan(df).head(1)"
   ]
  },
  {
   "cell_type": "markdown",
   "id": "d1ae0a91",
   "metadata": {},
   "source": [
    "### 'Location' column"
   ]
  },
  {
   "cell_type": "code",
   "execution_count": 35,
   "id": "ba9601cf",
   "metadata": {},
   "outputs": [],
   "source": [
    "df['Location'].fillna('unknown', inplace=True)"
   ]
  },
  {
   "cell_type": "code",
   "execution_count": 36,
   "id": "93df9c81",
   "metadata": {},
   "outputs": [
    {
     "data": {
      "text/plain": [
       "Fatal (Y/N)    549\n",
       "dtype: int64"
      ]
     },
     "execution_count": 36,
     "metadata": {},
     "output_type": "execute_result"
    }
   ],
   "source": [
    "nan(df).head(1)"
   ]
  },
  {
   "cell_type": "markdown",
   "id": "83df6a3b",
   "metadata": {},
   "source": [
    "### 'Fatal (Y/N)' column"
   ]
  },
  {
   "cell_type": "code",
   "execution_count": 37,
   "id": "dd8dcf4f",
   "metadata": {},
   "outputs": [],
   "source": [
    "df['Fatal (Y/N)'].fillna('0', inplace=True)"
   ]
  },
  {
   "cell_type": "code",
   "execution_count": 38,
   "id": "3a919401",
   "metadata": {},
   "outputs": [
    {
     "data": {
      "text/plain": [
       "Area    465\n",
       "dtype: int64"
      ]
     },
     "execution_count": 38,
     "metadata": {},
     "output_type": "execute_result"
    }
   ],
   "source": [
    "nan(df).head(1)"
   ]
  },
  {
   "cell_type": "markdown",
   "id": "0e781e92",
   "metadata": {},
   "source": [
    "### 'Area' column"
   ]
  },
  {
   "cell_type": "code",
   "execution_count": 39,
   "id": "39b81b22",
   "metadata": {},
   "outputs": [],
   "source": [
    "df['Area'].fillna('unknown', inplace=True)"
   ]
  },
  {
   "cell_type": "code",
   "execution_count": 40,
   "id": "d138255a",
   "metadata": {},
   "outputs": [
    {
     "data": {
      "text/plain": [
       "Name    220\n",
       "dtype: int64"
      ]
     },
     "execution_count": 40,
     "metadata": {},
     "output_type": "execute_result"
    }
   ],
   "source": [
    "nan(df).head(1)"
   ]
  },
  {
   "cell_type": "markdown",
   "id": "bfa297a4",
   "metadata": {},
   "source": [
    "### 'Name' column"
   ]
  },
  {
   "cell_type": "code",
   "execution_count": 41,
   "id": "4283886c",
   "metadata": {},
   "outputs": [],
   "source": [
    "df['Name'].fillna('unknown', inplace=True)"
   ]
  },
  {
   "cell_type": "code",
   "execution_count": 42,
   "id": "f31ab48f",
   "metadata": {},
   "outputs": [
    {
     "data": {
      "text/plain": [
       "Country    60\n",
       "dtype: int64"
      ]
     },
     "execution_count": 42,
     "metadata": {},
     "output_type": "execute_result"
    }
   ],
   "source": [
    "nan(df).head(1)"
   ]
  },
  {
   "cell_type": "markdown",
   "id": "6ab667a3",
   "metadata": {},
   "source": [
    "### 'Country' column"
   ]
  },
  {
   "cell_type": "code",
   "execution_count": 43,
   "id": "04919889",
   "metadata": {},
   "outputs": [],
   "source": [
    "df['Country'].fillna('unknown', inplace=True)"
   ]
  },
  {
   "cell_type": "code",
   "execution_count": 44,
   "id": "c1e29185",
   "metadata": {},
   "outputs": [
    {
     "data": {
      "text/plain": [
       "Injury    38\n",
       "dtype: int64"
      ]
     },
     "execution_count": 44,
     "metadata": {},
     "output_type": "execute_result"
    }
   ],
   "source": [
    "nan(df).head(1)"
   ]
  },
  {
   "cell_type": "markdown",
   "id": "5e179a0f",
   "metadata": {},
   "source": [
    "### 'Injury' column"
   ]
  },
  {
   "cell_type": "code",
   "execution_count": 45,
   "id": "3cb371de",
   "metadata": {},
   "outputs": [],
   "source": [
    "df['Injury'].fillna('unknown', inplace=True)"
   ]
  },
  {
   "cell_type": "code",
   "execution_count": 46,
   "id": "540a023f",
   "metadata": {},
   "outputs": [
    {
     "data": {
      "text/plain": [
       "Investigator or Source    27\n",
       "dtype: int64"
      ]
     },
     "execution_count": 46,
     "metadata": {},
     "output_type": "execute_result"
    }
   ],
   "source": [
    "nan(df).head(1)"
   ]
  },
  {
   "cell_type": "markdown",
   "id": "71367580",
   "metadata": {},
   "source": [
    "### 'Investigator or Source' column"
   ]
  },
  {
   "cell_type": "code",
   "execution_count": 47,
   "id": "8da0f811",
   "metadata": {},
   "outputs": [],
   "source": [
    "df['Investigator or Source'].fillna('unknown', inplace=True)"
   ]
  },
  {
   "cell_type": "code",
   "execution_count": 48,
   "id": "8c337e4e",
   "metadata": {},
   "outputs": [
    {
     "data": {
      "text/plain": [
       "Type    14\n",
       "dtype: int64"
      ]
     },
     "execution_count": 48,
     "metadata": {},
     "output_type": "execute_result"
    }
   ],
   "source": [
    "nan(df).head(1)"
   ]
  },
  {
   "cell_type": "markdown",
   "id": "70d8ce4b",
   "metadata": {},
   "source": [
    "### 'Type' column"
   ]
  },
  {
   "cell_type": "code",
   "execution_count": 49,
   "id": "47500a29",
   "metadata": {},
   "outputs": [],
   "source": [
    "df['Type'].fillna('unknown', inplace=True)"
   ]
  },
  {
   "cell_type": "code",
   "execution_count": 50,
   "id": "1cec5f84",
   "metadata": {},
   "outputs": [
    {
     "data": {
      "text/plain": [
       "Year    12\n",
       "dtype: int64"
      ]
     },
     "execution_count": 50,
     "metadata": {},
     "output_type": "execute_result"
    }
   ],
   "source": [
    "nan(df).head(1)"
   ]
  },
  {
   "cell_type": "markdown",
   "id": "8e694f46",
   "metadata": {},
   "source": [
    "### 'Year' column"
   ]
  },
  {
   "cell_type": "code",
   "execution_count": 51,
   "id": "c4a2716d",
   "metadata": {},
   "outputs": [
    {
     "data": {
      "text/html": [
       "<div>\n",
       "<style scoped>\n",
       "    .dataframe tbody tr th:only-of-type {\n",
       "        vertical-align: middle;\n",
       "    }\n",
       "\n",
       "    .dataframe tbody tr th {\n",
       "        vertical-align: top;\n",
       "    }\n",
       "\n",
       "    .dataframe thead th {\n",
       "        text-align: right;\n",
       "    }\n",
       "</style>\n",
       "<table border=\"1\" class=\"dataframe\">\n",
       "  <thead>\n",
       "    <tr style=\"text-align: right;\">\n",
       "      <th></th>\n",
       "      <th>Case Number</th>\n",
       "      <th>Date</th>\n",
       "      <th>Year</th>\n",
       "      <th>Type</th>\n",
       "      <th>Country</th>\n",
       "      <th>Area</th>\n",
       "      <th>Location</th>\n",
       "      <th>Activity</th>\n",
       "      <th>Name</th>\n",
       "      <th>Sex</th>\n",
       "      <th>...</th>\n",
       "      <th>Species</th>\n",
       "      <th>Investigator or Source</th>\n",
       "      <th>pdf</th>\n",
       "      <th>href formula</th>\n",
       "      <th>href</th>\n",
       "      <th>Case Number.1</th>\n",
       "      <th>Case Number.2</th>\n",
       "      <th>original order</th>\n",
       "      <th>Unnamed: 22</th>\n",
       "      <th>Unnamed: 23</th>\n",
       "    </tr>\n",
       "  </thead>\n",
       "  <tbody>\n",
       "    <tr>\n",
       "      <th>187</th>\n",
       "      <td>2017.01.08.R</td>\n",
       "      <td>Reported 08-Jan-2017</td>\n",
       "      <td>NaN</td>\n",
       "      <td>Invalid</td>\n",
       "      <td>AUSTRALIA</td>\n",
       "      <td>Queensland</td>\n",
       "      <td>unknown</td>\n",
       "      <td>Spearfishing</td>\n",
       "      <td>Kerry Daniel</td>\n",
       "      <td>M</td>\n",
       "      <td>...</td>\n",
       "      <td>Bull shark</td>\n",
       "      <td>Liquid Vision 1/8/2017</td>\n",
       "      <td>2017.01.08.R-KerryDaniel.pdf</td>\n",
       "      <td>http://sharkattackfile.net/spreadsheets/pdf_di...</td>\n",
       "      <td>http://sharkattackfile.net/spreadsheets/pdf_di...</td>\n",
       "      <td>2017.01.08.R</td>\n",
       "      <td>2017.01.08.R</td>\n",
       "      <td>6116.0</td>\n",
       "      <td>unknown</td>\n",
       "      <td>unknown</td>\n",
       "    </tr>\n",
       "    <tr>\n",
       "      <th>6079</th>\n",
       "      <td>1836.08.19.R</td>\n",
       "      <td>Reported 19-Aug-1836</td>\n",
       "      <td>NaN</td>\n",
       "      <td>Unprovoked</td>\n",
       "      <td>ENGLAND</td>\n",
       "      <td>Cumberland</td>\n",
       "      <td>Whitehaven</td>\n",
       "      <td>Swimming</td>\n",
       "      <td>a boy</td>\n",
       "      <td>M</td>\n",
       "      <td>...</td>\n",
       "      <td>unknown</td>\n",
       "      <td>C. Moore, GSAF</td>\n",
       "      <td>1835.08.19.R-Whitehaven.pdf</td>\n",
       "      <td>http://sharkattackfile.net/spreadsheets/pdf_di...</td>\n",
       "      <td>http://sharkattackfile.net/spreadsheets/pdf_di...</td>\n",
       "      <td>1836.08.19.R</td>\n",
       "      <td>1836.08.19.R</td>\n",
       "      <td>224.0</td>\n",
       "      <td>unknown</td>\n",
       "      <td>unknown</td>\n",
       "    </tr>\n",
       "    <tr>\n",
       "      <th>6302</th>\n",
       "      <td>0</td>\n",
       "      <td>NaN</td>\n",
       "      <td>NaN</td>\n",
       "      <td>unknown</td>\n",
       "      <td>unknown</td>\n",
       "      <td>unknown</td>\n",
       "      <td>unknown</td>\n",
       "      <td>unknown</td>\n",
       "      <td>unknown</td>\n",
       "      <td>0</td>\n",
       "      <td>...</td>\n",
       "      <td>unknown</td>\n",
       "      <td>unknown</td>\n",
       "      <td>NaN</td>\n",
       "      <td>NaN</td>\n",
       "      <td>NaN</td>\n",
       "      <td>NaN</td>\n",
       "      <td>NaN</td>\n",
       "      <td>6304.0</td>\n",
       "      <td>unknown</td>\n",
       "      <td>unknown</td>\n",
       "    </tr>\n",
       "    <tr>\n",
       "      <th>6303</th>\n",
       "      <td>0</td>\n",
       "      <td>NaN</td>\n",
       "      <td>NaN</td>\n",
       "      <td>unknown</td>\n",
       "      <td>unknown</td>\n",
       "      <td>unknown</td>\n",
       "      <td>unknown</td>\n",
       "      <td>unknown</td>\n",
       "      <td>unknown</td>\n",
       "      <td>0</td>\n",
       "      <td>...</td>\n",
       "      <td>unknown</td>\n",
       "      <td>unknown</td>\n",
       "      <td>NaN</td>\n",
       "      <td>NaN</td>\n",
       "      <td>NaN</td>\n",
       "      <td>NaN</td>\n",
       "      <td>NaN</td>\n",
       "      <td>6305.0</td>\n",
       "      <td>unknown</td>\n",
       "      <td>unknown</td>\n",
       "    </tr>\n",
       "    <tr>\n",
       "      <th>6304</th>\n",
       "      <td>0</td>\n",
       "      <td>NaN</td>\n",
       "      <td>NaN</td>\n",
       "      <td>unknown</td>\n",
       "      <td>unknown</td>\n",
       "      <td>unknown</td>\n",
       "      <td>unknown</td>\n",
       "      <td>unknown</td>\n",
       "      <td>unknown</td>\n",
       "      <td>0</td>\n",
       "      <td>...</td>\n",
       "      <td>unknown</td>\n",
       "      <td>unknown</td>\n",
       "      <td>NaN</td>\n",
       "      <td>NaN</td>\n",
       "      <td>NaN</td>\n",
       "      <td>NaN</td>\n",
       "      <td>NaN</td>\n",
       "      <td>6306.0</td>\n",
       "      <td>unknown</td>\n",
       "      <td>unknown</td>\n",
       "    </tr>\n",
       "    <tr>\n",
       "      <th>6305</th>\n",
       "      <td>0</td>\n",
       "      <td>NaN</td>\n",
       "      <td>NaN</td>\n",
       "      <td>unknown</td>\n",
       "      <td>unknown</td>\n",
       "      <td>unknown</td>\n",
       "      <td>unknown</td>\n",
       "      <td>unknown</td>\n",
       "      <td>unknown</td>\n",
       "      <td>0</td>\n",
       "      <td>...</td>\n",
       "      <td>unknown</td>\n",
       "      <td>unknown</td>\n",
       "      <td>NaN</td>\n",
       "      <td>NaN</td>\n",
       "      <td>NaN</td>\n",
       "      <td>NaN</td>\n",
       "      <td>NaN</td>\n",
       "      <td>6307.0</td>\n",
       "      <td>unknown</td>\n",
       "      <td>unknown</td>\n",
       "    </tr>\n",
       "    <tr>\n",
       "      <th>6306</th>\n",
       "      <td>0</td>\n",
       "      <td>NaN</td>\n",
       "      <td>NaN</td>\n",
       "      <td>unknown</td>\n",
       "      <td>unknown</td>\n",
       "      <td>unknown</td>\n",
       "      <td>unknown</td>\n",
       "      <td>unknown</td>\n",
       "      <td>unknown</td>\n",
       "      <td>0</td>\n",
       "      <td>...</td>\n",
       "      <td>unknown</td>\n",
       "      <td>unknown</td>\n",
       "      <td>NaN</td>\n",
       "      <td>NaN</td>\n",
       "      <td>NaN</td>\n",
       "      <td>NaN</td>\n",
       "      <td>NaN</td>\n",
       "      <td>6308.0</td>\n",
       "      <td>unknown</td>\n",
       "      <td>unknown</td>\n",
       "    </tr>\n",
       "    <tr>\n",
       "      <th>6307</th>\n",
       "      <td>0</td>\n",
       "      <td>NaN</td>\n",
       "      <td>NaN</td>\n",
       "      <td>unknown</td>\n",
       "      <td>unknown</td>\n",
       "      <td>unknown</td>\n",
       "      <td>unknown</td>\n",
       "      <td>unknown</td>\n",
       "      <td>unknown</td>\n",
       "      <td>0</td>\n",
       "      <td>...</td>\n",
       "      <td>unknown</td>\n",
       "      <td>unknown</td>\n",
       "      <td>NaN</td>\n",
       "      <td>NaN</td>\n",
       "      <td>NaN</td>\n",
       "      <td>NaN</td>\n",
       "      <td>NaN</td>\n",
       "      <td>6309.0</td>\n",
       "      <td>unknown</td>\n",
       "      <td>unknown</td>\n",
       "    </tr>\n",
       "    <tr>\n",
       "      <th>6308</th>\n",
       "      <td>0</td>\n",
       "      <td>NaN</td>\n",
       "      <td>NaN</td>\n",
       "      <td>unknown</td>\n",
       "      <td>unknown</td>\n",
       "      <td>unknown</td>\n",
       "      <td>unknown</td>\n",
       "      <td>unknown</td>\n",
       "      <td>unknown</td>\n",
       "      <td>0</td>\n",
       "      <td>...</td>\n",
       "      <td>unknown</td>\n",
       "      <td>unknown</td>\n",
       "      <td>NaN</td>\n",
       "      <td>NaN</td>\n",
       "      <td>NaN</td>\n",
       "      <td>NaN</td>\n",
       "      <td>NaN</td>\n",
       "      <td>6310.0</td>\n",
       "      <td>unknown</td>\n",
       "      <td>unknown</td>\n",
       "    </tr>\n",
       "    <tr>\n",
       "      <th>6309</th>\n",
       "      <td>0</td>\n",
       "      <td>NaN</td>\n",
       "      <td>NaN</td>\n",
       "      <td>unknown</td>\n",
       "      <td>unknown</td>\n",
       "      <td>unknown</td>\n",
       "      <td>unknown</td>\n",
       "      <td>unknown</td>\n",
       "      <td>unknown</td>\n",
       "      <td>0</td>\n",
       "      <td>...</td>\n",
       "      <td>unknown</td>\n",
       "      <td>unknown</td>\n",
       "      <td>NaN</td>\n",
       "      <td>NaN</td>\n",
       "      <td>NaN</td>\n",
       "      <td>NaN</td>\n",
       "      <td>NaN</td>\n",
       "      <td>NaN</td>\n",
       "      <td>unknown</td>\n",
       "      <td>unknown</td>\n",
       "    </tr>\n",
       "    <tr>\n",
       "      <th>8702</th>\n",
       "      <td>NaN</td>\n",
       "      <td>NaN</td>\n",
       "      <td>NaN</td>\n",
       "      <td>unknown</td>\n",
       "      <td>unknown</td>\n",
       "      <td>unknown</td>\n",
       "      <td>unknown</td>\n",
       "      <td>unknown</td>\n",
       "      <td>unknown</td>\n",
       "      <td>0</td>\n",
       "      <td>...</td>\n",
       "      <td>unknown</td>\n",
       "      <td>unknown</td>\n",
       "      <td>NaN</td>\n",
       "      <td>NaN</td>\n",
       "      <td>NaN</td>\n",
       "      <td>NaN</td>\n",
       "      <td>NaN</td>\n",
       "      <td>NaN</td>\n",
       "      <td>unknown</td>\n",
       "      <td>unknown</td>\n",
       "    </tr>\n",
       "    <tr>\n",
       "      <th>25722</th>\n",
       "      <td>xx</td>\n",
       "      <td>NaN</td>\n",
       "      <td>NaN</td>\n",
       "      <td>unknown</td>\n",
       "      <td>unknown</td>\n",
       "      <td>unknown</td>\n",
       "      <td>unknown</td>\n",
       "      <td>unknown</td>\n",
       "      <td>unknown</td>\n",
       "      <td>0</td>\n",
       "      <td>...</td>\n",
       "      <td>unknown</td>\n",
       "      <td>unknown</td>\n",
       "      <td>NaN</td>\n",
       "      <td>NaN</td>\n",
       "      <td>NaN</td>\n",
       "      <td>NaN</td>\n",
       "      <td>NaN</td>\n",
       "      <td>NaN</td>\n",
       "      <td>unknown</td>\n",
       "      <td>unknown</td>\n",
       "    </tr>\n",
       "  </tbody>\n",
       "</table>\n",
       "<p>12 rows × 24 columns</p>\n",
       "</div>"
      ],
      "text/plain": [
       "        Case Number                  Date  Year        Type    Country  \\\n",
       "187    2017.01.08.R  Reported 08-Jan-2017   NaN     Invalid  AUSTRALIA   \n",
       "6079   1836.08.19.R  Reported 19-Aug-1836   NaN  Unprovoked    ENGLAND   \n",
       "6302              0                   NaN   NaN     unknown    unknown   \n",
       "6303              0                   NaN   NaN     unknown    unknown   \n",
       "6304              0                   NaN   NaN     unknown    unknown   \n",
       "6305              0                   NaN   NaN     unknown    unknown   \n",
       "6306              0                   NaN   NaN     unknown    unknown   \n",
       "6307              0                   NaN   NaN     unknown    unknown   \n",
       "6308              0                   NaN   NaN     unknown    unknown   \n",
       "6309              0                   NaN   NaN     unknown    unknown   \n",
       "8702            NaN                   NaN   NaN     unknown    unknown   \n",
       "25722            xx                   NaN   NaN     unknown    unknown   \n",
       "\n",
       "             Area    Location      Activity          Name Sex  ...  \\\n",
       "187    Queensland     unknown  Spearfishing  Kerry Daniel   M  ...   \n",
       "6079   Cumberland  Whitehaven      Swimming         a boy   M  ...   \n",
       "6302      unknown     unknown       unknown       unknown   0  ...   \n",
       "6303      unknown     unknown       unknown       unknown   0  ...   \n",
       "6304      unknown     unknown       unknown       unknown   0  ...   \n",
       "6305      unknown     unknown       unknown       unknown   0  ...   \n",
       "6306      unknown     unknown       unknown       unknown   0  ...   \n",
       "6307      unknown     unknown       unknown       unknown   0  ...   \n",
       "6308      unknown     unknown       unknown       unknown   0  ...   \n",
       "6309      unknown     unknown       unknown       unknown   0  ...   \n",
       "8702      unknown     unknown       unknown       unknown   0  ...   \n",
       "25722     unknown     unknown       unknown       unknown   0  ...   \n",
       "\n",
       "          Species  Investigator or Source                           pdf  \\\n",
       "187    Bull shark  Liquid Vision 1/8/2017  2017.01.08.R-KerryDaniel.pdf   \n",
       "6079      unknown          C. Moore, GSAF   1835.08.19.R-Whitehaven.pdf   \n",
       "6302      unknown                 unknown                           NaN   \n",
       "6303      unknown                 unknown                           NaN   \n",
       "6304      unknown                 unknown                           NaN   \n",
       "6305      unknown                 unknown                           NaN   \n",
       "6306      unknown                 unknown                           NaN   \n",
       "6307      unknown                 unknown                           NaN   \n",
       "6308      unknown                 unknown                           NaN   \n",
       "6309      unknown                 unknown                           NaN   \n",
       "8702      unknown                 unknown                           NaN   \n",
       "25722     unknown                 unknown                           NaN   \n",
       "\n",
       "                                            href formula  \\\n",
       "187    http://sharkattackfile.net/spreadsheets/pdf_di...   \n",
       "6079   http://sharkattackfile.net/spreadsheets/pdf_di...   \n",
       "6302                                                 NaN   \n",
       "6303                                                 NaN   \n",
       "6304                                                 NaN   \n",
       "6305                                                 NaN   \n",
       "6306                                                 NaN   \n",
       "6307                                                 NaN   \n",
       "6308                                                 NaN   \n",
       "6309                                                 NaN   \n",
       "8702                                                 NaN   \n",
       "25722                                                NaN   \n",
       "\n",
       "                                                    href Case Number.1  \\\n",
       "187    http://sharkattackfile.net/spreadsheets/pdf_di...  2017.01.08.R   \n",
       "6079   http://sharkattackfile.net/spreadsheets/pdf_di...  1836.08.19.R   \n",
       "6302                                                 NaN           NaN   \n",
       "6303                                                 NaN           NaN   \n",
       "6304                                                 NaN           NaN   \n",
       "6305                                                 NaN           NaN   \n",
       "6306                                                 NaN           NaN   \n",
       "6307                                                 NaN           NaN   \n",
       "6308                                                 NaN           NaN   \n",
       "6309                                                 NaN           NaN   \n",
       "8702                                                 NaN           NaN   \n",
       "25722                                                NaN           NaN   \n",
       "\n",
       "      Case Number.2 original order Unnamed: 22 Unnamed: 23  \n",
       "187    2017.01.08.R         6116.0     unknown     unknown  \n",
       "6079   1836.08.19.R          224.0     unknown     unknown  \n",
       "6302            NaN         6304.0     unknown     unknown  \n",
       "6303            NaN         6305.0     unknown     unknown  \n",
       "6304            NaN         6306.0     unknown     unknown  \n",
       "6305            NaN         6307.0     unknown     unknown  \n",
       "6306            NaN         6308.0     unknown     unknown  \n",
       "6307            NaN         6309.0     unknown     unknown  \n",
       "6308            NaN         6310.0     unknown     unknown  \n",
       "6309            NaN            NaN     unknown     unknown  \n",
       "8702            NaN            NaN     unknown     unknown  \n",
       "25722           NaN            NaN     unknown     unknown  \n",
       "\n",
       "[12 rows x 24 columns]"
      ]
     },
     "execution_count": 51,
     "metadata": {},
     "output_type": "execute_result"
    }
   ],
   "source": [
    "df[df['Year'].isna()]"
   ]
  },
  {
   "cell_type": "code",
   "execution_count": 52,
   "id": "03f181db",
   "metadata": {},
   "outputs": [],
   "source": [
    "df.loc[187, 'Year'] = 2017\n",
    "df.loc[6079, 'Year'] = 1836"
   ]
  },
  {
   "cell_type": "code",
   "execution_count": 53,
   "id": "a9b16475",
   "metadata": {},
   "outputs": [],
   "source": [
    "bad_index = df[df['Year'].isna()].index"
   ]
  },
  {
   "cell_type": "code",
   "execution_count": 54,
   "id": "f1b6a59f",
   "metadata": {},
   "outputs": [],
   "source": [
    "df.drop(index=bad_index, inplace=True)"
   ]
  },
  {
   "cell_type": "code",
   "execution_count": 55,
   "id": "4b007d13",
   "metadata": {},
   "outputs": [
    {
     "data": {
      "text/plain": [
       "Case Number     1\n",
       "href formula    1\n",
       "dtype: int64"
      ]
     },
     "execution_count": 55,
     "metadata": {},
     "output_type": "execute_result"
    }
   ],
   "source": [
    "nan(df).head(2)"
   ]
  },
  {
   "cell_type": "markdown",
   "id": "5411b907",
   "metadata": {},
   "source": [
    "### Last two columns with NaN..."
   ]
  },
  {
   "cell_type": "code",
   "execution_count": 56,
   "id": "cd3d4491",
   "metadata": {},
   "outputs": [
    {
     "data": {
      "text/html": [
       "<div>\n",
       "<style scoped>\n",
       "    .dataframe tbody tr th:only-of-type {\n",
       "        vertical-align: middle;\n",
       "    }\n",
       "\n",
       "    .dataframe tbody tr th {\n",
       "        vertical-align: top;\n",
       "    }\n",
       "\n",
       "    .dataframe thead th {\n",
       "        text-align: right;\n",
       "    }\n",
       "</style>\n",
       "<table border=\"1\" class=\"dataframe\">\n",
       "  <thead>\n",
       "    <tr style=\"text-align: right;\">\n",
       "      <th></th>\n",
       "      <th>Case Number</th>\n",
       "      <th>Date</th>\n",
       "      <th>Year</th>\n",
       "      <th>Type</th>\n",
       "      <th>Country</th>\n",
       "      <th>Area</th>\n",
       "      <th>Location</th>\n",
       "      <th>Activity</th>\n",
       "      <th>Name</th>\n",
       "      <th>Sex</th>\n",
       "      <th>...</th>\n",
       "      <th>Species</th>\n",
       "      <th>Investigator or Source</th>\n",
       "      <th>pdf</th>\n",
       "      <th>href formula</th>\n",
       "      <th>href</th>\n",
       "      <th>Case Number.1</th>\n",
       "      <th>Case Number.2</th>\n",
       "      <th>original order</th>\n",
       "      <th>Unnamed: 22</th>\n",
       "      <th>Unnamed: 23</th>\n",
       "    </tr>\n",
       "  </thead>\n",
       "  <tbody>\n",
       "    <tr>\n",
       "      <th>5488</th>\n",
       "      <td>NaN</td>\n",
       "      <td>Reported 06-Sep-1905</td>\n",
       "      <td>1905.0</td>\n",
       "      <td>Provoked</td>\n",
       "      <td>USA</td>\n",
       "      <td>Florida</td>\n",
       "      <td>Fort Pierce, St Lucie County</td>\n",
       "      <td>Fishing</td>\n",
       "      <td>David Curry</td>\n",
       "      <td>M</td>\n",
       "      <td>...</td>\n",
       "      <td>unknown</td>\n",
       "      <td>Muncie Evening Press, 8/6/1913</td>\n",
       "      <td>1905.09.06.R-Curry.pdf</td>\n",
       "      <td>http://sharkattackfile.net/spreadsheets/pdf_di...</td>\n",
       "      <td>http://sharkattackfile.net/spreadsheets/pdf_di...</td>\n",
       "      <td>1905.09.06.R</td>\n",
       "      <td>1905.09.06.R</td>\n",
       "      <td>815.0</td>\n",
       "      <td>unknown</td>\n",
       "      <td>unknown</td>\n",
       "    </tr>\n",
       "  </tbody>\n",
       "</table>\n",
       "<p>1 rows × 24 columns</p>\n",
       "</div>"
      ],
      "text/plain": [
       "     Case Number                  Date    Year      Type Country     Area  \\\n",
       "5488         NaN  Reported 06-Sep-1905  1905.0  Provoked     USA  Florida   \n",
       "\n",
       "                          Location Activity         Name Sex  ...  Species  \\\n",
       "5488  Fort Pierce, St Lucie County  Fishing  David Curry   M  ...  unknown   \n",
       "\n",
       "              Investigator or Source                     pdf  \\\n",
       "5488  Muncie Evening Press, 8/6/1913  1905.09.06.R-Curry.pdf   \n",
       "\n",
       "                                           href formula  \\\n",
       "5488  http://sharkattackfile.net/spreadsheets/pdf_di...   \n",
       "\n",
       "                                                   href Case Number.1  \\\n",
       "5488  http://sharkattackfile.net/spreadsheets/pdf_di...  1905.09.06.R   \n",
       "\n",
       "     Case Number.2 original order Unnamed: 22 Unnamed: 23  \n",
       "5488  1905.09.06.R          815.0     unknown     unknown  \n",
       "\n",
       "[1 rows x 24 columns]"
      ]
     },
     "execution_count": 56,
     "metadata": {},
     "output_type": "execute_result"
    }
   ],
   "source": [
    "df[df['Case Number'].isna()]"
   ]
  },
  {
   "cell_type": "code",
   "execution_count": 57,
   "id": "f2df1cdd",
   "metadata": {},
   "outputs": [],
   "source": [
    "df.loc[5488, 'Case Number'] = '1905.09.06'"
   ]
  },
  {
   "cell_type": "code",
   "execution_count": 58,
   "id": "ff43c50f",
   "metadata": {},
   "outputs": [
    {
     "data": {
      "text/plain": [
       "3244    http://sharkattackfile.net/spreadsheets/pdf_di...\n",
       "Name: href, dtype: object"
      ]
     },
     "execution_count": 58,
     "metadata": {},
     "output_type": "execute_result"
    }
   ],
   "source": [
    "df['href'][df['href formula'].isna()]"
   ]
  },
  {
   "cell_type": "code",
   "execution_count": 59,
   "id": "145d2b78",
   "metadata": {},
   "outputs": [],
   "source": [
    "df.loc[3244, 'href formula'] = df.loc[3244, 'href']"
   ]
  },
  {
   "cell_type": "code",
   "execution_count": 60,
   "id": "238d2884",
   "metadata": {},
   "outputs": [
    {
     "data": {
      "text/plain": [
       "Case Number       0\n",
       "Date              0\n",
       "Unnamed: 22       0\n",
       "original order    0\n",
       "Case Number.2     0\n",
       "dtype: int64"
      ]
     },
     "execution_count": 60,
     "metadata": {},
     "output_type": "execute_result"
    }
   ],
   "source": [
    "nan(df).head()"
   ]
  },
  {
   "cell_type": "code",
   "execution_count": 61,
   "id": "212f5b6f",
   "metadata": {},
   "outputs": [
    {
     "data": {
      "image/png": "[encoded data removed]",
      "text/plain": [
       "<Figure size 1000x600 with 1 Axes>"
      ]
     },
     "metadata": {
      "needs_background": "light"
     },
     "output_type": "display_data"
    }
   ],
   "source": [
    "view_nan(df)"
   ]
  },
  {
   "cell_type": "markdown",
   "id": "8e201dea",
   "metadata": {},
   "source": [
    "____"
   ]
  },
  {
   "cell_type": "markdown",
   "id": "024a2fd6",
   "metadata": {},
   "source": [
    "## 03 - Low Variance columns"
   ]
  },
  {
   "cell_type": "code",
   "execution_count": 62,
   "id": "5c4bac7d",
   "metadata": {},
   "outputs": [
    {
     "data": {
      "text/plain": [
       "[]"
      ]
     },
     "execution_count": 62,
     "metadata": {},
     "output_type": "execute_result"
    }
   ],
   "source": [
    "low_variance = []\n",
    "\n",
    "for col in df.select_dtypes(include = np.number): \n",
    "    minimo = df[col].min()\n",
    "    maximo = df[col].max()\n",
    "    per_90 = np.percentile(df[col], 90)\n",
    "    per_10 = np.percentile(df[col], 10)\n",
    "    if minimo == per_90 or maximo == per_10:\n",
    "        low_variance.append(col)\n",
    "        \n",
    "low_variance"
   ]
  },
  {
   "cell_type": "markdown",
   "id": "f845b017",
   "metadata": {},
   "source": [
    "_____"
   ]
  },
  {
   "cell_type": "markdown",
   "id": "3333cc2a",
   "metadata": {},
   "source": [
    "## 04 - Constant columns"
   ]
  },
  {
   "cell_type": "code",
   "execution_count": 63,
   "id": "3ac22edc",
   "metadata": {},
   "outputs": [
    {
     "data": {
      "text/plain": [
       "[]"
      ]
     },
     "execution_count": 63,
     "metadata": {},
     "output_type": "execute_result"
    }
   ],
   "source": [
    "cte_cols = []\n",
    "\n",
    "for col in df.select_dtypes(include = np.number):\n",
    "    if len(df[col].unique()) == 1:\n",
    "        cte_cols.append(col)\n",
    "        \n",
    "cte_cols"
   ]
  },
  {
   "cell_type": "code",
   "execution_count": 64,
   "id": "af27d7ab",
   "metadata": {},
   "outputs": [
    {
     "data": {
      "text/plain": [
       "[]"
      ]
     },
     "execution_count": 64,
     "metadata": {},
     "output_type": "execute_result"
    }
   ],
   "source": [
    "cte_str_cols = []\n",
    "\n",
    "for col in df.select_dtypes(include = 'object'):\n",
    "    if len(df[col].unique()) == 1:\n",
    "        cte_str_cols.append(col)\n",
    "          \n",
    "cte_str_cols"
   ]
  },
  {
   "cell_type": "markdown",
   "id": "d54637f2",
   "metadata": {},
   "source": [
    "_____"
   ]
  },
  {
   "cell_type": "markdown",
   "id": "183ef3a4",
   "metadata": {},
   "source": [
    "## 05 - Special characters"
   ]
  },
  {
   "cell_type": "code",
   "execution_count": 65,
   "id": "a3758d2d",
   "metadata": {},
   "outputs": [],
   "source": [
    "patron = r'[?¿*$%&]'\n",
    "\n",
    "def find_special_chars(df):\n",
    "    '''\n",
    "    df as input and a str with column, row and special char as output\n",
    "    '''\n",
    "    for col in df.select_dtypes(include = 'object').columns:\n",
    "        for i in range(len(df)):\n",
    "            value = df.loc[i, col]\n",
    "            weird_chars = re.findall(patron, value)\n",
    "            if weird_chars:\n",
    "                print(f\"Columna: {col} | Fila: {i} | Caracteres raros: {weird_chars}\")"
   ]
  },
  {
   "cell_type": "code",
   "execution_count": 66,
   "id": "252376f6",
   "metadata": {},
   "outputs": [],
   "source": [
    "df.replace('&', 'and', regex=True, inplace=True)"
   ]
  },
  {
   "cell_type": "code",
   "execution_count": 67,
   "id": "5acd2aff",
   "metadata": {},
   "outputs": [],
   "source": [
    "df.replace('\\?', '', regex=True, inplace=True)"
   ]
  },
  {
   "cell_type": "code",
   "execution_count": 68,
   "id": "a5cb3342",
   "metadata": {},
   "outputs": [
    {
     "name": "stdout",
     "output_type": "stream",
     "text": [
      "Columna: Name | Fila: 303 | Caracteres raros: ['*']\n",
      "Columna: Species | Fila: 5249 | Caracteres raros: ['*']\n",
      "Columna: Investigator or Source | Fila: 4111 | Caracteres raros: ['*']\n",
      "Columna: Investigator or Source | Fila: 4298 | Caracteres raros: ['$']\n"
     ]
    }
   ],
   "source": [
    "find_special_chars(df)"
   ]
  },
  {
   "cell_type": "code",
   "execution_count": 69,
   "id": "86476032",
   "metadata": {},
   "outputs": [
    {
     "data": {
      "text/plain": [
       "'Adrian *'"
      ]
     },
     "execution_count": 69,
     "metadata": {},
     "output_type": "execute_result"
    }
   ],
   "source": [
    "df.loc[303, 'Name']"
   ]
  },
  {
   "cell_type": "code",
   "execution_count": 70,
   "id": "851d9d2f",
   "metadata": {},
   "outputs": [
    {
     "data": {
      "text/plain": [
       "'15* to 24\" dog shark'"
      ]
     },
     "execution_count": 70,
     "metadata": {},
     "output_type": "execute_result"
    }
   ],
   "source": [
    "df.loc[5249, 'Species']"
   ]
  },
  {
   "cell_type": "code",
   "execution_count": 71,
   "id": "7344055e",
   "metadata": {},
   "outputs": [
    {
     "data": {
      "text/plain": [
       "'West Australian (Perth), * Sunday Times, 2/1/1959s; P. Gilbert, L. Schultz and S. Springer (1960)'"
      ]
     },
     "execution_count": 71,
     "metadata": {},
     "output_type": "execute_result"
    }
   ],
   "source": [
    "df.loc[4111, 'Investigator or Source']"
   ]
  },
  {
   "cell_type": "code",
   "execution_count": 72,
   "id": "19617859",
   "metadata": {},
   "outputs": [
    {
     "data": {
      "text/plain": [
       "'Tribune-Herald (Hilo, Hawaii), 4/14/1963; J. Borg, p.73; L. Taylor, p.100-101 ; NOTE: Oshiro later sued owner of the boat for $15,000 in damages'"
      ]
     },
     "execution_count": 72,
     "metadata": {},
     "output_type": "execute_result"
    }
   ],
   "source": [
    "df.loc[4298, 'Investigator or Source']"
   ]
  },
  {
   "cell_type": "code",
   "execution_count": 73,
   "id": "e6e7770a",
   "metadata": {},
   "outputs": [],
   "source": [
    "df.replace('\\*', '', regex=True, inplace=True)"
   ]
  },
  {
   "cell_type": "code",
   "execution_count": 74,
   "id": "a424a45c",
   "metadata": {},
   "outputs": [],
   "source": [
    "df.replace('\\$', 'US dollars', regex=True, inplace=True)"
   ]
  },
  {
   "cell_type": "code",
   "execution_count": 75,
   "id": "970db23c",
   "metadata": {},
   "outputs": [],
   "source": [
    "find_special_chars(df)"
   ]
  },
  {
   "cell_type": "markdown",
   "id": "6d33b119",
   "metadata": {},
   "source": [
    "____"
   ]
  },
  {
   "cell_type": "markdown",
   "id": "6118391c",
   "metadata": {},
   "source": [
    "## 06 - Incorrect values"
   ]
  },
  {
   "cell_type": "code",
   "execution_count": 76,
   "id": "caf81b36",
   "metadata": {},
   "outputs": [],
   "source": [
    "for col in df.select_dtypes(include='object'):\n",
    "    df[col] = df[col].str.strip()"
   ]
  },
  {
   "cell_type": "code",
   "execution_count": 77,
   "id": "5ffbfc2e",
   "metadata": {},
   "outputs": [],
   "source": [
    "def unique_values(df):\n",
    "    '''\n",
    "    df as input and a list with the column name \n",
    "    and the amount of unique values as output\n",
    "    '''\n",
    "    return sorted([(col, len(df[col].unique())) for col in df.columns], key=lambda x: x[1])"
   ]
  },
  {
   "cell_type": "code",
   "execution_count": 78,
   "id": "8256f862",
   "metadata": {},
   "outputs": [
    {
     "data": {
      "text/plain": [
       "[('Unnamed: 22', 2),\n",
       " ('Unnamed: 23', 3),\n",
       " ('Sex', 6),\n",
       " ('Fatal (Y/N)', 7),\n",
       " ('Type', 9),\n",
       " ('Age', 149),\n",
       " ('Country', 202),\n",
       " ('Year', 249),\n",
       " ('Time', 359),\n",
       " ('Area', 801),\n",
       " ('Species', 1449),\n",
       " ('Activity', 1499),\n",
       " ('Injury', 3658),\n",
       " ('Location', 4063),\n",
       " ('Investigator or Source', 4928),\n",
       " ('Name', 5224),\n",
       " ('Date', 5425),\n",
       " ('href', 6285),\n",
       " ('Case Number.1', 6285),\n",
       " ('Case Number', 6286),\n",
       " ('Case Number.2', 6286),\n",
       " ('pdf', 6291),\n",
       " ('href formula', 6291),\n",
       " ('original order', 6301)]"
      ]
     },
     "execution_count": 78,
     "metadata": {},
     "output_type": "execute_result"
    }
   ],
   "source": [
    "unique_values(df)"
   ]
  },
  {
   "cell_type": "markdown",
   "id": "06da4d48",
   "metadata": {},
   "source": [
    "### 'Unnamed: 22' & 'Unnamed: 23' columns"
   ]
  },
  {
   "cell_type": "code",
   "execution_count": 79,
   "id": "a7e7811e",
   "metadata": {},
   "outputs": [
    {
     "data": {
      "text/plain": [
       "unknown         6301\n",
       "stopped here       1\n",
       "Name: Unnamed: 22, dtype: int64"
      ]
     },
     "execution_count": 79,
     "metadata": {},
     "output_type": "execute_result"
    }
   ],
   "source": [
    "df['Unnamed: 22'].value_counts()"
   ]
  },
  {
   "cell_type": "code",
   "execution_count": 80,
   "id": "ccb59dd2",
   "metadata": {
    "scrolled": true
   },
   "outputs": [
    {
     "data": {
      "text/plain": [
       "unknown            6300\n",
       "Teramo                1\n",
       "change filename       1\n",
       "Name: Unnamed: 23, dtype: int64"
      ]
     },
     "execution_count": 80,
     "metadata": {},
     "output_type": "execute_result"
    }
   ],
   "source": [
    "df['Unnamed: 23'].value_counts()"
   ]
  },
  {
   "cell_type": "raw",
   "id": "69d3554c",
   "metadata": {},
   "source": [
    "Those two columns contain just 3 comments that are not even clear.\n",
    "Both can be deleted."
   ]
  },
  {
   "cell_type": "code",
   "execution_count": 81,
   "id": "5d86d218",
   "metadata": {},
   "outputs": [],
   "source": [
    "df.drop(['Unnamed: 23', 'Unnamed: 22'], axis = 1, inplace = True)"
   ]
  },
  {
   "cell_type": "markdown",
   "id": "f5cb5335",
   "metadata": {},
   "source": [
    "### 'Sex' column"
   ]
  },
  {
   "cell_type": "code",
   "execution_count": 82,
   "id": "7ce8e36a",
   "metadata": {},
   "outputs": [
    {
     "data": {
      "text/plain": [
       "M      5096\n",
       "F       637\n",
       "0       565\n",
       "N         2\n",
       "lli       1\n",
       ".         1\n",
       "Name: Sex, dtype: int64"
      ]
     },
     "execution_count": 82,
     "metadata": {},
     "output_type": "execute_result"
    }
   ],
   "source": [
    "df['Sex'].value_counts()"
   ]
  },
  {
   "cell_type": "raw",
   "id": "fcd7e09d",
   "metadata": {},
   "source": [
    "This column just needs three categories:\n",
    "\n",
    "    0 for Unknown\n",
    "    1 for Male\n",
    "    2 for Female"
   ]
  },
  {
   "cell_type": "code",
   "execution_count": 83,
   "id": "a1bb4254",
   "metadata": {},
   "outputs": [],
   "source": [
    "def clean_sex(x):\n",
    "    if 'M' in x:\n",
    "        return 1\n",
    "    elif 'F' in x:\n",
    "        return 2\n",
    "    elif 'N' in x:\n",
    "        return 0\n",
    "    elif 'lli' in x:\n",
    "        return 0\n",
    "    elif '.' in x:\n",
    "        return 0\n",
    "    elif '0' in x:\n",
    "        return 0\n",
    "    else:\n",
    "        return x"
   ]
  },
  {
   "cell_type": "code",
   "execution_count": 84,
   "id": "4b417b0b",
   "metadata": {},
   "outputs": [],
   "source": [
    "df['Sex'] = df['Sex'].apply(clean_sex)"
   ]
  },
  {
   "cell_type": "code",
   "execution_count": 85,
   "id": "313f7d73",
   "metadata": {},
   "outputs": [
    {
     "data": {
      "text/plain": [
       "1    5096\n",
       "2     637\n",
       "0     569\n",
       "Name: Sex, dtype: int64"
      ]
     },
     "execution_count": 85,
     "metadata": {},
     "output_type": "execute_result"
    }
   ],
   "source": [
    "df['Sex'].value_counts()"
   ]
  },
  {
   "cell_type": "markdown",
   "id": "8826663b",
   "metadata": {},
   "source": [
    "### 'Fatal (Y/N)' column"
   ]
  },
  {
   "cell_type": "code",
   "execution_count": 86,
   "id": "286eddc7",
   "metadata": {},
   "outputs": [],
   "source": [
    "df = df.rename(columns = {\"Fatal (Y/N)\": \"Fatality\"})"
   ]
  },
  {
   "cell_type": "code",
   "execution_count": 87,
   "id": "dacb9beb",
   "metadata": {},
   "outputs": [
    {
     "data": {
      "text/plain": [
       "N          4301\n",
       "Y          1388\n",
       "0           539\n",
       "UNKNOWN      71\n",
       "M             1\n",
       "2017          1\n",
       "y             1\n",
       "Name: Fatality, dtype: int64"
      ]
     },
     "execution_count": 87,
     "metadata": {},
     "output_type": "execute_result"
    }
   ],
   "source": [
    "df['Fatality'].value_counts()"
   ]
  },
  {
   "cell_type": "raw",
   "id": "df2fe9b0",
   "metadata": {},
   "source": [
    "This column just needs three categories:\n",
    "\n",
    "    0 for unknown \n",
    "    1 for Fatal\n",
    "    2 for Non Fatal"
   ]
  },
  {
   "cell_type": "code",
   "execution_count": 88,
   "id": "e68eb1a8",
   "metadata": {},
   "outputs": [],
   "source": [
    "fatal_index = df[(df['Injury'].str.contains('atal' or 'dead')) & (df['Fatality'] == 'U')].index"
   ]
  },
  {
   "cell_type": "code",
   "execution_count": 89,
   "id": "6b3db7a5",
   "metadata": {},
   "outputs": [],
   "source": [
    "df.loc[fatal_index, 'Fatality'] = 1"
   ]
  },
  {
   "cell_type": "code",
   "execution_count": 90,
   "id": "b16bc12e",
   "metadata": {},
   "outputs": [
    {
     "data": {
      "text/plain": [
       "N          4301\n",
       "Y          1388\n",
       "0           539\n",
       "UNKNOWN      71\n",
       "M             1\n",
       "2017          1\n",
       "y             1\n",
       "Name: Fatality, dtype: int64"
      ]
     },
     "execution_count": 90,
     "metadata": {},
     "output_type": "execute_result"
    }
   ],
   "source": [
    "df['Fatality'].value_counts()"
   ]
  },
  {
   "cell_type": "code",
   "execution_count": 91,
   "id": "762bc659",
   "metadata": {},
   "outputs": [],
   "source": [
    "def clean_fatal(x):\n",
    "    if 'N' in x:\n",
    "        return 2\n",
    "    if 'Y' in x:\n",
    "        return 1\n",
    "    elif '2017' in x:\n",
    "        return 0\n",
    "    elif 'UNKNOWN' in x:\n",
    "        return 0\n",
    "    elif 'y' in x:\n",
    "        return 1\n",
    "    elif 'M' in x:\n",
    "        return 0\n",
    "    elif 'U' in x:\n",
    "        return 0\n",
    "    else:\n",
    "        return x"
   ]
  },
  {
   "cell_type": "code",
   "execution_count": 92,
   "id": "7b42a56a",
   "metadata": {},
   "outputs": [],
   "source": [
    "df['Fatality'] = df['Fatality'].apply(clean_fatal)"
   ]
  },
  {
   "cell_type": "code",
   "execution_count": 93,
   "id": "e672b0e4",
   "metadata": {},
   "outputs": [],
   "source": [
    "df['Fatality'] = df['Fatality'].astype(int)"
   ]
  },
  {
   "cell_type": "code",
   "execution_count": 94,
   "id": "34806548",
   "metadata": {},
   "outputs": [
    {
     "data": {
      "text/plain": [
       "2    4372\n",
       "1    1389\n",
       "0     541\n",
       "Name: Fatality, dtype: int64"
      ]
     },
     "execution_count": 94,
     "metadata": {},
     "output_type": "execute_result"
    }
   ],
   "source": [
    "df['Fatality'].value_counts()"
   ]
  },
  {
   "cell_type": "markdown",
   "id": "2df02cd7",
   "metadata": {},
   "source": [
    "### 'Type' column"
   ]
  },
  {
   "cell_type": "code",
   "execution_count": 95,
   "id": "c97f524a",
   "metadata": {},
   "outputs": [
    {
     "data": {
      "text/plain": [
       "Unprovoked      4595\n",
       "Provoked         574\n",
       "Invalid          547\n",
       "Sea Disaster     239\n",
       "Boating          203\n",
       "Boat             137\n",
       "unknown            4\n",
       "Questionable       2\n",
       "Boatomg            1\n",
       "Name: Type, dtype: int64"
      ]
     },
     "execution_count": 95,
     "metadata": {},
     "output_type": "execute_result"
    }
   ],
   "source": [
    "df['Type'].value_counts()"
   ]
  },
  {
   "cell_type": "raw",
   "id": "578acc45",
   "metadata": {},
   "source": [
    "This column just needs five categories:\n",
    "\n",
    "0    unknown\n",
    "1    Unprovoked\n",
    "2    Provoked\n",
    "3    Boating\n",
    "4    Disaster"
   ]
  },
  {
   "cell_type": "code",
   "execution_count": 96,
   "id": "379de743",
   "metadata": {},
   "outputs": [],
   "source": [
    "def clean_type(x):\n",
    "    x = x.lower()\n",
    "    if 'unprov' in x:\n",
    "        return 1\n",
    "    elif 'provoked' in x:\n",
    "        return 2    \n",
    "    elif 'boat' in x:\n",
    "        return 3\n",
    "    elif 'disa' in x:\n",
    "        return 4\n",
    "    elif 'quest' in x:\n",
    "        return 0\n",
    "    elif 'unk' in x:\n",
    "        return 0\n",
    "    elif 'inval' in x:\n",
    "        return 0\n",
    "    else:\n",
    "        return x.title()"
   ]
  },
  {
   "cell_type": "code",
   "execution_count": 97,
   "id": "80040440",
   "metadata": {},
   "outputs": [],
   "source": [
    "df['Type'] = df['Type'].apply(clean_type)"
   ]
  },
  {
   "cell_type": "code",
   "execution_count": 98,
   "id": "83e0d06c",
   "metadata": {},
   "outputs": [
    {
     "data": {
      "text/plain": [
       "1    4595\n",
       "2     574\n",
       "0     553\n",
       "3     341\n",
       "4     239\n",
       "Name: Type, dtype: int64"
      ]
     },
     "execution_count": 98,
     "metadata": {},
     "output_type": "execute_result"
    }
   ],
   "source": [
    "df['Type'].value_counts()"
   ]
  },
  {
   "cell_type": "code",
   "execution_count": 99,
   "id": "c3f8f555",
   "metadata": {},
   "outputs": [],
   "source": [
    "df['Type'] = df['Type'].astype(int)"
   ]
  },
  {
   "cell_type": "markdown",
   "id": "ef2ab22d",
   "metadata": {},
   "source": [
    "### 'Age' column"
   ]
  },
  {
   "cell_type": "code",
   "execution_count": 100,
   "id": "c51acb29",
   "metadata": {},
   "outputs": [
    {
     "data": {
      "text/plain": [
       "array(['57', '11', '48', '0', '18', '52', '15', '12', '32', '10', '21',\n",
       "       '34', '30', '60', '33', '29', '54', '41', '37', '56', '19', '25',\n",
       "       '69', '38', '55', '35', '46', '45', '14', '40s', '28', '20', '24',\n",
       "       '26', '49', '22', '7', '31', '17', '40', '13', '42', '3', '8',\n",
       "       '50', '16', '82', '73', '20s', '68', '51', '39', '58', 'Teen',\n",
       "       '47', '61', '65', '36', '66', '43', '60s', '9', '72', '59', '6',\n",
       "       '27', '64', '23', '71', '44', '62', '63', '70', '18 months', '53',\n",
       "       '30s', '50s', 'teen', '77', '74', '28 and 26', '5', '86',\n",
       "       '18 or 20', '12 or 13', '46 and 34', '28, 23 and 30', 'Teens',\n",
       "       '36 and 26', '8 or 10', '84', '', '30 or 36', '6½', '21 and', '75',\n",
       "       '33 or 37', 'mid-30s', '23 and 20', '7      and    31', \"60's\",\n",
       "       '32 and 30', '16 to 18', '87', '67', 'Elderly', 'mid-20s',\n",
       "       'Ca. 33', '21 or 26', '>50', '18 to 22', 'adult', '9 and 12',\n",
       "       'and 19', '9 months', '25 to 35', '23 and 26', '1', '(adult)',\n",
       "       '33 and 37', '25 or 28', '37, 67, 35, 27,   and 27',\n",
       "       '21, 34,24 and 35', '30 and 32', '50 and 30', '17 and 35', 'X',\n",
       "       '\"middle-age\"', '13 or 18', '34 and 19', '33 and 26',\n",
       "       '2 to 3 months', 'MAKE LINE GREEN', '81', '\"young\"', '7 or 8',\n",
       "       '78', '17 and 16', 'F', 'Both 11', '9 or 10', 'young', '36 and 23',\n",
       "       'A.M.', 'and   14', '10 or 12', '31 or 33', '2½', '13 or 14'],\n",
       "      dtype=object)"
      ]
     },
     "execution_count": 100,
     "metadata": {},
     "output_type": "execute_result"
    }
   ],
   "source": [
    "df['Age'].unique()"
   ]
  },
  {
   "cell_type": "raw",
   "id": "09101965",
   "metadata": {},
   "source": [
    "The idea here is to create a column with the integers of the victim age with the name 'Age_years'"
   ]
  },
  {
   "cell_type": "code",
   "execution_count": 101,
   "id": "420140a0",
   "metadata": {},
   "outputs": [],
   "source": [
    "def extract_number(x):\n",
    "    num = re.findall('\\d+', x)\n",
    "    if num:         \n",
    "        return int(num[0])\n",
    "    else:\n",
    "        return 0"
   ]
  },
  {
   "cell_type": "code",
   "execution_count": 102,
   "id": "38fe3609",
   "metadata": {},
   "outputs": [],
   "source": [
    "df['Age_years'] = df['Age'].apply(extract_number)"
   ]
  },
  {
   "cell_type": "code",
   "execution_count": 103,
   "id": "85477d23",
   "metadata": {},
   "outputs": [
    {
     "data": {
      "text/plain": [
       "array([57, 11, 48,  0, 18, 52, 15, 12, 32, 10, 21, 34, 30, 60, 33, 29, 54,\n",
       "       41, 37, 56, 19, 25, 69, 38, 55, 35, 46, 45, 14, 40, 28, 20, 24, 26,\n",
       "       49, 22,  7, 31, 17, 13, 42,  3,  8, 50, 16, 82, 73, 68, 51, 39, 58,\n",
       "       47, 61, 65, 36, 66, 43,  9, 72, 59,  6, 27, 64, 23, 71, 44, 62, 63,\n",
       "       70, 53, 77, 74,  5, 86, 84, 75, 87, 67,  1,  2, 81, 78],\n",
       "      dtype=int64)"
      ]
     },
     "execution_count": 103,
     "metadata": {},
     "output_type": "execute_result"
    }
   ],
   "source": [
    "df['Age_years'].unique()"
   ]
  },
  {
   "cell_type": "code",
   "execution_count": 104,
   "id": "394a36f4",
   "metadata": {},
   "outputs": [
    {
     "data": {
      "text/plain": [
       "array(['57', '11', '48', '0', '18', '52', '15', '12', '32', '10', '21',\n",
       "       '34', '30', '60', '33', '29', '54', '41', '37', '56', '19', '25',\n",
       "       '69', '38', '55', '35', '46', '45', '14', '40s', '28', '20', '24',\n",
       "       '26', '49', '22', '7', '31', '17', '40', '13', '42', '3', '8',\n",
       "       '50', '16', '82', '73', '20s', '68', '51', '39', '58', 'Teen',\n",
       "       '47', '61', '65', '36', '66', '43', '60s', '9', '72', '59', '6',\n",
       "       '27', '64', '23', '71', '44', '62', '63', '70', '18 months', '53',\n",
       "       '30s', '50s', 'teen', '77', '74', '28 and 26', '5', '86',\n",
       "       '18 or 20', '12 or 13', '46 and 34', '28, 23 and 30', 'Teens',\n",
       "       '36 and 26', '8 or 10', '84', '', '30 or 36', '6½', '21 and', '75',\n",
       "       '33 or 37', 'mid-30s', '23 and 20', '7      and    31', \"60's\",\n",
       "       '32 and 30', '16 to 18', '87', '67', 'Elderly', 'mid-20s',\n",
       "       'Ca. 33', '21 or 26', '>50', '18 to 22', 'adult', '9 and 12',\n",
       "       'and 19', '9 months', '25 to 35', '23 and 26', '1', '(adult)',\n",
       "       '33 and 37', '25 or 28', '37, 67, 35, 27,   and 27',\n",
       "       '21, 34,24 and 35', '30 and 32', '50 and 30', '17 and 35', 'X',\n",
       "       '\"middle-age\"', '13 or 18', '34 and 19', '33 and 26',\n",
       "       '2 to 3 months', 'MAKE LINE GREEN', '81', '\"young\"', '7 or 8',\n",
       "       '78', '17 and 16', 'F', 'Both 11', '9 or 10', 'young', '36 and 23',\n",
       "       'A.M.', 'and   14', '10 or 12', '31 or 33', '2½', '13 or 14'],\n",
       "      dtype=object)"
      ]
     },
     "execution_count": 104,
     "metadata": {},
     "output_type": "execute_result"
    }
   ],
   "source": [
    "df['Age'].unique()"
   ]
  },
  {
   "cell_type": "raw",
   "id": "202c7824",
   "metadata": {},
   "source": [
    "Clasify the age in groups:\n",
    "\n",
    "0     unknown\n",
    "1       Child\t0-12 años\n",
    "2        Teen\t13-19 años\n",
    "3       Young\t20-39 años\n",
    "4       Adult\t40-64 años\n",
    "5       Elder\t65 años o más"
   ]
  },
  {
   "cell_type": "code",
   "execution_count": 105,
   "id": "3074e924",
   "metadata": {},
   "outputs": [],
   "source": [
    "child_index = df[(df['Age_years'] > 0) & (df['Age_years'] < 13)].index\n",
    "teen_index = df[(df['Age_years'] > 13) & (df['Age_years'] < 20)].index\n",
    "young_index = df[(df['Age_years'] > 20) & (df['Age_years'] < 40)].index\n",
    "adult_index = df[(df['Age_years'] > 40) & (df['Age_years'] < 64)].index\n",
    "elder_index = df[(df['Age_years'] > 65)].index"
   ]
  },
  {
   "cell_type": "code",
   "execution_count": 106,
   "id": "d6b8366f",
   "metadata": {},
   "outputs": [],
   "source": [
    "df.loc[child_index, 'Age'] = 1\n",
    "df.loc[teen_index, 'Age'] = 2\n",
    "df.loc[young_index, 'Age'] = 3\n",
    "df.loc[adult_index, 'Age'] = 4\n",
    "df.loc[elder_index, 'Age'] = 5"
   ]
  },
  {
   "cell_type": "code",
   "execution_count": 107,
   "id": "32c3be94",
   "metadata": {},
   "outputs": [
    {
     "data": {
      "text/plain": [
       "array([4, 1, '0', 2, 3, 5, '40s', '20', '40', '13', '20s', 'Teen', '65',\n",
       "       '64', 'teen', 'Teens', '', 'Elderly', 'mid-20s', 'adult',\n",
       "       '(adult)', 'X', '\"middle-age\"', '13 or 18', 'MAKE LINE GREEN',\n",
       "       '\"young\"', 'F', 'young', 'A.M.', '13 or 14'], dtype=object)"
      ]
     },
     "execution_count": 107,
     "metadata": {},
     "output_type": "execute_result"
    }
   ],
   "source": [
    "df['Age'].unique()"
   ]
  },
  {
   "cell_type": "code",
   "execution_count": 108,
   "id": "e66b7767",
   "metadata": {},
   "outputs": [
    {
     "data": {
      "text/plain": [
       "                   3137\n",
       "s                    10\n",
       "Teen                  9\n",
       "teen                  5\n",
       "young                 2\n",
       " or                   2\n",
       "\"middle-age\"          1\n",
       "F                     1\n",
       "\"young\"               1\n",
       "MAKE LINE GREEN       1\n",
       "(adult)               1\n",
       "X                     1\n",
       "adult                 1\n",
       "mid-s                 1\n",
       "Elderly               1\n",
       "Teens                 1\n",
       "A.M.                  1\n",
       "Name: Age, dtype: int64"
      ]
     },
     "execution_count": 108,
     "metadata": {},
     "output_type": "execute_result"
    }
   ],
   "source": [
    "df['Age'].str.replace(r\"\\d\", \"\", regex = True).value_counts()"
   ]
  },
  {
   "cell_type": "code",
   "execution_count": 109,
   "id": "a2f69cbc",
   "metadata": {},
   "outputs": [],
   "source": [
    "def clean_age(x):\n",
    "    try:\n",
    "        x = int(x)\n",
    "        if x in range(6, 13):   \n",
    "            return 1\n",
    "        elif x in range(13, 20):\n",
    "            return 2\n",
    "        elif x in range(20, 40):\n",
    "            return 3\n",
    "        elif x in range(40, 65):\n",
    "            return 4\n",
    "        elif x in range(65, 150):\n",
    "            return 5\n",
    "        else:\n",
    "            return x\n",
    "    except:\n",
    "        x = x.lower()\n",
    "        if 'child' in x:\n",
    "            return 1\n",
    "        elif 'month' in x:\n",
    "            return 1\n",
    "        elif 'teen' in x:\n",
    "            return 2\n",
    "        elif 'youn' in x:\n",
    "            return 3\n",
    "        elif 'adult' in x:\n",
    "            return 4\n",
    "        elif 'elde' in x:\n",
    "            return 5\n",
    "        elif 'iddle' in x:\n",
    "            return 4      \n",
    "        elif '40s' in x:\n",
    "            return 4\n",
    "        elif '20s' in x:\n",
    "            return 3\n",
    "        elif '' in x:\n",
    "            return 0\n",
    "        elif '20?' in x:\n",
    "            return 3\n",
    "        elif 'mid-20s' in x:\n",
    "            return 3\n",
    "        elif 'x' in x:\n",
    "            return 0\n",
    "        elif '13 or 18' in x:\n",
    "            return 2\n",
    "        elif 'make line green' in x:\n",
    "            return 0\n",
    "        elif 'f' in x:\n",
    "            return 0\n",
    "        elif 'a.m.' in x:\n",
    "            return 0\n",
    "        elif '13 or 14' in x:\n",
    "            return 2\n",
    "        else:\n",
    "            return x"
   ]
  },
  {
   "cell_type": "code",
   "execution_count": 110,
   "id": "b0b3ca00",
   "metadata": {},
   "outputs": [],
   "source": [
    "df['Age'] = df['Age'].apply(clean_age)"
   ]
  },
  {
   "cell_type": "code",
   "execution_count": 111,
   "id": "89566be4",
   "metadata": {},
   "outputs": [],
   "source": [
    "df = df.rename(columns = {\"Age\": \"Age_groups\"})"
   ]
  },
  {
   "cell_type": "code",
   "execution_count": 112,
   "id": "6cbe42c6",
   "metadata": {},
   "outputs": [
    {
     "data": {
      "text/html": [
       "<div>\n",
       "<style scoped>\n",
       "    .dataframe tbody tr th:only-of-type {\n",
       "        vertical-align: middle;\n",
       "    }\n",
       "\n",
       "    .dataframe tbody tr th {\n",
       "        vertical-align: top;\n",
       "    }\n",
       "\n",
       "    .dataframe thead th {\n",
       "        text-align: right;\n",
       "    }\n",
       "</style>\n",
       "<table border=\"1\" class=\"dataframe\">\n",
       "  <thead>\n",
       "    <tr style=\"text-align: right;\">\n",
       "      <th></th>\n",
       "      <th>Case Number</th>\n",
       "      <th>Date</th>\n",
       "      <th>Year</th>\n",
       "      <th>Type</th>\n",
       "      <th>Country</th>\n",
       "      <th>Area</th>\n",
       "      <th>Location</th>\n",
       "      <th>Activity</th>\n",
       "      <th>Name</th>\n",
       "      <th>Sex</th>\n",
       "      <th>...</th>\n",
       "      <th>Time</th>\n",
       "      <th>Species</th>\n",
       "      <th>Investigator or Source</th>\n",
       "      <th>pdf</th>\n",
       "      <th>href formula</th>\n",
       "      <th>href</th>\n",
       "      <th>Case Number.1</th>\n",
       "      <th>Case Number.2</th>\n",
       "      <th>original order</th>\n",
       "      <th>Age_years</th>\n",
       "    </tr>\n",
       "  </thead>\n",
       "  <tbody>\n",
       "  </tbody>\n",
       "</table>\n",
       "<p>0 rows × 23 columns</p>\n",
       "</div>"
      ],
      "text/plain": [
       "Empty DataFrame\n",
       "Columns: [Case Number, Date, Year, Type, Country, Area, Location, Activity, Name, Sex, Age_groups, Injury, Fatality, Time, Species, Investigator or Source, pdf, href formula, href, Case Number.1, Case Number.2, original order, Age_years]\n",
       "Index: []\n",
       "\n",
       "[0 rows x 23 columns]"
      ]
     },
     "execution_count": 112,
     "metadata": {},
     "output_type": "execute_result"
    }
   ],
   "source": [
    "df[(df['Age_groups'] == 'unknown') & (df['Age_years'] != 0)]"
   ]
  },
  {
   "cell_type": "code",
   "execution_count": 113,
   "id": "320b9809",
   "metadata": {},
   "outputs": [],
   "source": [
    "df.loc[2441, 'Age_groups'] = 3\n",
    "df.loc[4075, 'Age_groups'] = 2\n",
    "df.loc[6265, 'Age_groups'] = 2"
   ]
  },
  {
   "cell_type": "code",
   "execution_count": 114,
   "id": "15855386",
   "metadata": {},
   "outputs": [
    {
     "data": {
      "text/plain": [
       "0    2839\n",
       "3    1565\n",
       "2     943\n",
       "4     607\n",
       "1     293\n",
       "5      55\n",
       "Name: Age_groups, dtype: int64"
      ]
     },
     "execution_count": 114,
     "metadata": {},
     "output_type": "execute_result"
    }
   ],
   "source": [
    "df['Age_groups'].value_counts()"
   ]
  },
  {
   "cell_type": "code",
   "execution_count": 115,
   "id": "857618c6",
   "metadata": {},
   "outputs": [],
   "source": [
    "df['Age_groups'] = df['Age_groups'].astype(int)"
   ]
  },
  {
   "cell_type": "markdown",
   "id": "059933ab",
   "metadata": {},
   "source": [
    "### 'Country' column"
   ]
  },
  {
   "cell_type": "raw",
   "id": "99ac9083",
   "metadata": {},
   "source": [
    "This column is quite clean,\n",
    "the amount of unique values is smaller \n",
    "than the number of countries in the world."
   ]
  },
  {
   "cell_type": "code",
   "execution_count": 116,
   "id": "e3b4693c",
   "metadata": {},
   "outputs": [
    {
     "data": {
      "text/plain": [
       "202"
      ]
     },
     "execution_count": 116,
     "metadata": {},
     "output_type": "execute_result"
    }
   ],
   "source": [
    "len(df['Country'].unique())"
   ]
  },
  {
   "cell_type": "code",
   "execution_count": 117,
   "id": "51859322",
   "metadata": {},
   "outputs": [
    {
     "data": {
      "text/plain": [
       "(50, 23)"
      ]
     },
     "execution_count": 117,
     "metadata": {},
     "output_type": "execute_result"
    }
   ],
   "source": [
    "df[df['Country'] == 'unknown'].shape"
   ]
  },
  {
   "cell_type": "code",
   "execution_count": 118,
   "id": "737b4e2c",
   "metadata": {},
   "outputs": [],
   "source": [
    "def clean_countries(x):\n",
    "    x = x.upper()\n",
    "    if 'USA' in x:\n",
    "        return 'United States'\n",
    "    elif 'OCEAN' in x:\n",
    "        return 'ocean'\n",
    "    elif 'SEA' in x:\n",
    "        return 'ocean'\n",
    "    elif x == 'UNKNOWN':\n",
    "        return 'unknown'\n",
    "    else:\n",
    "        return x.title()"
   ]
  },
  {
   "cell_type": "code",
   "execution_count": 119,
   "id": "80ede78d",
   "metadata": {},
   "outputs": [
    {
     "data": {
      "text/plain": [
       "United States           2229\n",
       "Australia               1338\n",
       "South Africa             579\n",
       "Papua New Guinea         134\n",
       "New Zealand              128\n",
       "                        ... \n",
       "Netherlands Antilles       1\n",
       "Guatemala                  1\n",
       "St. Martin                 1\n",
       "Argentina                  1\n",
       "Ceylon (Sri Lanka)         1\n",
       "Name: Country, Length: 180, dtype: int64"
      ]
     },
     "execution_count": 119,
     "metadata": {},
     "output_type": "execute_result"
    }
   ],
   "source": [
    "df['Country'] = df['Country'].apply(clean_countries)\n",
    "df['Country'].value_counts()"
   ]
  },
  {
   "cell_type": "code",
   "execution_count": 120,
   "id": "5ce70245",
   "metadata": {},
   "outputs": [],
   "source": [
    "index_area = df[(df['Country'] == 'unknown') & (df['Area'] != 'unknown')].index\n",
    "countries_to_fill = ['England', 'ocean', 'Australia', 'India', \n",
    "                     'Madagascar', 'ocean', 'United states', 'ocean', \n",
    "                     'ocean', 'ocean', 'United states', 'unknown', \n",
    "                     'England', 'Greece', 'Greece']\n",
    "\n",
    "df.loc[index_area, 'Country'] = countries_to_fill"
   ]
  },
  {
   "cell_type": "markdown",
   "id": "344ae6ef",
   "metadata": {},
   "source": [
    "### 'Year' column"
   ]
  },
  {
   "cell_type": "code",
   "execution_count": 121,
   "id": "e3f7d79e",
   "metadata": {},
   "outputs": [
    {
     "data": {
      "text/plain": [
       "array([2018., 2017., 2016., 2015., 2014., 2013., 2012., 2011., 2010.,\n",
       "       2009., 2008., 2007., 2006., 2005., 2004., 2003., 2002., 2001.,\n",
       "       2000., 1999., 1998., 1997., 1996., 1995., 1984., 1994., 1993.,\n",
       "       1992., 1991., 1990., 1989., 1969., 1988., 1987., 1986., 1985.,\n",
       "       1983., 1982., 1981., 1980., 1979., 1978., 1977., 1976., 1975.,\n",
       "       1974., 1973., 1972., 1971., 1970., 1968., 1967., 1966., 1965.,\n",
       "       1964., 1963., 1962., 1961., 1960., 1959., 1958., 1957., 1956.,\n",
       "       1955., 1954., 1953., 1952., 1951., 1950., 1949., 1948., 1848.,\n",
       "       1947., 1946., 1945., 1944., 1943., 1942., 1941., 1940., 1939.,\n",
       "       1938., 1937., 1936., 1935., 1934., 1933., 1932., 1931., 1930.,\n",
       "       1929., 1928., 1927., 1926., 1925., 1924., 1923., 1922., 1921.,\n",
       "       1920., 1919., 1918., 1917., 1916., 1915., 1914., 1913., 1912.,\n",
       "       1911., 1910., 1909., 1908., 1907., 1906., 1905., 1904., 1903.,\n",
       "       1902., 1901., 1900., 1899., 1898., 1897., 1896., 1895., 1894.,\n",
       "       1893., 1892., 1891., 1890., 1889., 1888., 1887., 1886., 1885.,\n",
       "       1884., 1883., 1882., 1881., 1880., 1879., 1878., 1877., 1876.,\n",
       "       1875., 1874., 1873., 1872., 1871., 1870., 1869., 1868., 1867.,\n",
       "       1866., 1865., 1864., 1863., 1862., 1861., 1860., 1859., 1858.,\n",
       "       1857., 1856., 1855., 1853., 1852., 1851., 1850., 1849., 1847.,\n",
       "       1846., 1845., 1844., 1842., 1841., 1840., 1839., 1837., 1836.,\n",
       "       1835., 1834., 1832., 1831., 1830., 1829., 1828., 1827., 1826.,\n",
       "       1825., 1823., 1822., 1819., 1818., 1817., 1816., 1815., 1812.,\n",
       "       1811., 1810., 1808., 1807., 1805., 1804., 1803., 1802., 1801.,\n",
       "       1800., 1797., 1792., 1791., 1788., 1787., 1786., 1785., 1784.,\n",
       "       1783., 1780., 1779., 1776., 1771., 1767., 1764., 1758., 1753.,\n",
       "       1751., 1749., 1755., 1748., 1742., 1738., 1733., 1723., 1721.,\n",
       "       1703., 1700., 1642., 1638., 1637., 1617., 1595., 1580., 1555.,\n",
       "       1554., 1543.,  500.,   77.,    5.,    0.])"
      ]
     },
     "execution_count": 121,
     "metadata": {},
     "output_type": "execute_result"
    }
   ],
   "source": [
    "df['Year'].unique()"
   ]
  },
  {
   "cell_type": "raw",
   "id": "580ad9a4",
   "metadata": {},
   "source": [
    "All the values for years seems corrects except 4"
   ]
  },
  {
   "cell_type": "code",
   "execution_count": 122,
   "id": "04664668",
   "metadata": {},
   "outputs": [],
   "source": [
    "def clean_year(x):\n",
    "    if x == 5.0:\n",
    "        return 0\n",
    "    elif x == 77.0:\n",
    "        return 0\n",
    "    elif x == 500.0:\n",
    "        return 0\n",
    "    else:\n",
    "        return x"
   ]
  },
  {
   "cell_type": "code",
   "execution_count": 123,
   "id": "7eabda37",
   "metadata": {},
   "outputs": [
    {
     "data": {
      "text/plain": [
       "array([2018., 2017., 2016., 2015., 2014., 2013., 2012., 2011., 2010.,\n",
       "       2009., 2008., 2007., 2006., 2005., 2004., 2003., 2002., 2001.,\n",
       "       2000., 1999., 1998., 1997., 1996., 1995., 1984., 1994., 1993.,\n",
       "       1992., 1991., 1990., 1989., 1969., 1988., 1987., 1986., 1985.,\n",
       "       1983., 1982., 1981., 1980., 1979., 1978., 1977., 1976., 1975.,\n",
       "       1974., 1973., 1972., 1971., 1970., 1968., 1967., 1966., 1965.,\n",
       "       1964., 1963., 1962., 1961., 1960., 1959., 1958., 1957., 1956.,\n",
       "       1955., 1954., 1953., 1952., 1951., 1950., 1949., 1948., 1848.,\n",
       "       1947., 1946., 1945., 1944., 1943., 1942., 1941., 1940., 1939.,\n",
       "       1938., 1937., 1936., 1935., 1934., 1933., 1932., 1931., 1930.,\n",
       "       1929., 1928., 1927., 1926., 1925., 1924., 1923., 1922., 1921.,\n",
       "       1920., 1919., 1918., 1917., 1916., 1915., 1914., 1913., 1912.,\n",
       "       1911., 1910., 1909., 1908., 1907., 1906., 1905., 1904., 1903.,\n",
       "       1902., 1901., 1900., 1899., 1898., 1897., 1896., 1895., 1894.,\n",
       "       1893., 1892., 1891., 1890., 1889., 1888., 1887., 1886., 1885.,\n",
       "       1884., 1883., 1882., 1881., 1880., 1879., 1878., 1877., 1876.,\n",
       "       1875., 1874., 1873., 1872., 1871., 1870., 1869., 1868., 1867.,\n",
       "       1866., 1865., 1864., 1863., 1862., 1861., 1860., 1859., 1858.,\n",
       "       1857., 1856., 1855., 1853., 1852., 1851., 1850., 1849., 1847.,\n",
       "       1846., 1845., 1844., 1842., 1841., 1840., 1839., 1837., 1836.,\n",
       "       1835., 1834., 1832., 1831., 1830., 1829., 1828., 1827., 1826.,\n",
       "       1825., 1823., 1822., 1819., 1818., 1817., 1816., 1815., 1812.,\n",
       "       1811., 1810., 1808., 1807., 1805., 1804., 1803., 1802., 1801.,\n",
       "       1800., 1797., 1792., 1791., 1788., 1787., 1786., 1785., 1784.,\n",
       "       1783., 1780., 1779., 1776., 1771., 1767., 1764., 1758., 1753.,\n",
       "       1751., 1749., 1755., 1748., 1742., 1738., 1733., 1723., 1721.,\n",
       "       1703., 1700., 1642., 1638., 1637., 1617., 1595., 1580., 1555.,\n",
       "       1554., 1543.,    0.])"
      ]
     },
     "execution_count": 123,
     "metadata": {},
     "output_type": "execute_result"
    }
   ],
   "source": [
    "df['Year'] = df['Year'].apply(clean_year)\n",
    "df['Year'].unique()"
   ]
  },
  {
   "cell_type": "code",
   "execution_count": 124,
   "id": "a43e03a6",
   "metadata": {},
   "outputs": [
    {
     "data": {
      "text/plain": [
       "2015.0    143\n",
       "2017.0    137\n",
       "2016.0    130\n",
       "0.0       128\n",
       "2011.0    128\n",
       "         ... \n",
       "1788.0      1\n",
       "1787.0      1\n",
       "1786.0      1\n",
       "1785.0      1\n",
       "1819.0      1\n",
       "Name: Year, Length: 246, dtype: int64"
      ]
     },
     "execution_count": 124,
     "metadata": {},
     "output_type": "execute_result"
    }
   ],
   "source": [
    "df['Year'].value_counts()"
   ]
  },
  {
   "cell_type": "markdown",
   "id": "cded719c",
   "metadata": {},
   "source": [
    "### 'Time' column"
   ]
  },
  {
   "cell_type": "code",
   "execution_count": 125,
   "id": "90ef0279",
   "metadata": {},
   "outputs": [
    {
     "data": {
      "text/plain": [
       "359"
      ]
     },
     "execution_count": 125,
     "metadata": {},
     "output_type": "execute_result"
    }
   ],
   "source": [
    "len(df['Time'].unique())"
   ]
  },
  {
   "cell_type": "code",
   "execution_count": 126,
   "id": "f6dd5980",
   "metadata": {},
   "outputs": [],
   "source": [
    "df['Time'] = df['Time'].str.replace(r\"h\", \":\", regex=True)"
   ]
  },
  {
   "cell_type": "code",
   "execution_count": 135,
   "id": "4d748744",
   "metadata": {},
   "outputs": [
    {
     "data": {
      "text/plain": [
       "unknown        3354\n",
       "Afternoon       187\n",
       "11:00           128\n",
       "Morning         122\n",
       "12:00           109\n",
       "               ... \n",
       "14:37             1\n",
       "10:07             1\n",
       "13:53             1\n",
       "13:23             1\n",
       "19:00-20:00       1\n",
       "Name: Time, Length: 359, dtype: int64"
      ]
     },
     "execution_count": 135,
     "metadata": {},
     "output_type": "execute_result"
    }
   ],
   "source": [
    "df['Time'].value_counts()"
   ]
  },
  {
   "cell_type": "markdown",
   "id": "37d6548c",
   "metadata": {},
   "source": [
    "### 'Area' column"
   ]
  },
  {
   "cell_type": "code",
   "execution_count": 137,
   "id": "76618346",
   "metadata": {},
   "outputs": [
    {
     "data": {
      "text/plain": [
       "801"
      ]
     },
     "execution_count": 137,
     "metadata": {},
     "output_type": "execute_result"
    }
   ],
   "source": [
    "len(df['Area'].unique())"
   ]
  },
  {
   "cell_type": "code",
   "execution_count": 138,
   "id": "9d036fb6",
   "metadata": {
    "scrolled": true
   },
   "outputs": [
    {
     "data": {
      "text/plain": [
       "Florida                                   1038\n",
       "New South Wales                            486\n",
       "unknown                                    455\n",
       "Queensland                                 312\n",
       "Hawaii                                     298\n",
       "                                          ... \n",
       "Between Southampton and Canary Islands       1\n",
       "Lomaloma, Lau                                1\n",
       "Puntarenas Province                          1\n",
       "British Colombia                             1\n",
       "Moala Island                                 1\n",
       "Name: Area, Length: 801, dtype: int64"
      ]
     },
     "execution_count": 138,
     "metadata": {},
     "output_type": "execute_result"
    }
   ],
   "source": [
    "df['Area'].value_counts()"
   ]
  },
  {
   "cell_type": "markdown",
   "id": "45956868",
   "metadata": {},
   "source": [
    "### 'Activity' column"
   ]
  },
  {
   "cell_type": "code",
   "execution_count": 139,
   "id": "acb8f39d",
   "metadata": {},
   "outputs": [
    {
     "data": {
      "text/plain": [
       "Surfing                                                                                       976\n",
       "Swimming                                                                                      916\n",
       "unknown                                                                                       544\n",
       "Fishing                                                                                       445\n",
       "Spearfishing                                                                                  340\n",
       "                                                                                             ... \n",
       "Small boat with 2 men onboard hit a submerged coral formation. Men began swimming to shore      1\n",
       "Dynamite fishing                                                                                1\n",
       "Leaving the water                                                                               1\n",
       "Playing with a frisbee in the shallows                                                          1\n",
       "Wreck of  large double sailing canoe                                                            1\n",
       "Name: Activity, Length: 1499, dtype: int64"
      ]
     },
     "execution_count": 139,
     "metadata": {},
     "output_type": "execute_result"
    }
   ],
   "source": [
    "df['Activity'].value_counts()"
   ]
  },
  {
   "cell_type": "code",
   "execution_count": 140,
   "id": "1b730926",
   "metadata": {},
   "outputs": [
    {
     "data": {
      "text/plain": [
       "1499"
      ]
     },
     "execution_count": 140,
     "metadata": {},
     "output_type": "execute_result"
    }
   ],
   "source": [
    "len(df['Activity'].unique())"
   ]
  },
  {
   "cell_type": "code",
   "execution_count": 141,
   "id": "1334c9e9",
   "metadata": {},
   "outputs": [],
   "source": [
    "def clean_activity(x):\n",
    "    x = x.lower()\n",
    "\n",
    "    activity_dict = {\n",
    "        'fish': 'Fishing',\n",
    "        'clam': 'Fishing',\n",
    "        'oyster': 'Fishing',\n",
    "        'crab': 'Fishing',\n",
    "        'pilchard': 'Fishing',\n",
    "        'catch': 'Fishing',\n",
    "        'collecting': 'Fishing',\n",
    "        'shell': 'Fishing',\n",
    "        'shrimp': 'Fishing',\n",
    "        'lobster': 'Fishing',\n",
    "        'turtle': 'Fishing',\n",
    "        'div': 'Diving',\n",
    "        'snorkel': 'Diving',\n",
    "        'deep': 'Diving',\n",
    "        'surf': 'Surfing',\n",
    "        'body': 'Surfing',\n",
    "        'kite': 'Surfing',\n",
    "        'boarding': 'Surfing',\n",
    "        'sup': 'Surfing',\n",
    "        'bath': 'Swimming',\n",
    "        'swim': 'Swimming',\n",
    "        'shallow': 'Swimming',\n",
    "        'float': 'Swimming',\n",
    "        'tread': 'Swimming',\n",
    "        'sea': 'Standing',\n",
    "        'walk': 'Standing',\n",
    "        'beach': 'Standing',\n",
    "        'stand': 'Standing',\n",
    "        'splash': 'Standing',\n",
    "        'film': 'Standing',\n",
    "        'photo': 'Standing',\n",
    "        'sit': 'Standing',\n",
    "        'play': 'Standing',\n",
    "        'craw': 'Standing',\n",
    "        'sail': 'Large',\n",
    "        'boat': 'Large',\n",
    "        'yach': 'Large',\n",
    "        'ferry': 'Large',\n",
    "        'race': 'Large',\n",
    "        'ship': 'Large',\n",
    "        'padd': 'Small',\n",
    "        'kayak': 'Small',\n",
    "        'canoe': 'Small',\n",
    "        'raft': 'Small',\n",
    "        'rowing': 'Small',\n",
    "        'torpe': 'War',\n",
    "        'tank': 'War',\n",
    "        'air': 'Skydiving',\n",
    "        'balloon': 'Skydiving',\n",
    "        'shark': 'Contact',\n",
    "        'overboard': 'Overboard',\n",
    "        'jump': 'Overboard',\n",
    "        'wreck': 'Overboard',\n",
    "        'capsize': 'Overboard',\n",
    "        'fell': 'Overboard',\n",
    "        'sink': 'Overboard',\n",
    "        'sank': 'Overboard',\n",
    "        'foundering': 'Overboard',\n",
    "        'disaster': 'Disaster',\n",
    "        'typho': 'Disaster',\n",
    "        'tsunami': 'Disaster',\n",
    "        'hurric': 'Disaster',\n",
    "        'unclear': 'Unknown',\n",
    "        'unknown': 'Unknown',\n",
    "    }\n",
    "\n",
    "    for keyword, activity in activity_dict.items():\n",
    "        if keyword in x:\n",
    "            return activity.title()\n",
    "\n",
    "    return x"
   ]
  },
  {
   "cell_type": "code",
   "execution_count": 142,
   "id": "717319ef",
   "metadata": {},
   "outputs": [],
   "source": [
    "df['Activity'] = df['Activity'].apply(clean_activity)"
   ]
  },
  {
   "cell_type": "code",
   "execution_count": 143,
   "id": "e4a2fc44",
   "metadata": {},
   "outputs": [
    {
     "data": {
      "text/plain": [
       "130"
      ]
     },
     "execution_count": 143,
     "metadata": {},
     "output_type": "execute_result"
    }
   ],
   "source": [
    "len(df['Activity'].unique())"
   ]
  },
  {
   "cell_type": "markdown",
   "id": "db403aab",
   "metadata": {},
   "source": [
    "### 'Species' column"
   ]
  },
  {
   "cell_type": "code",
   "execution_count": 144,
   "id": "468ef2dd",
   "metadata": {},
   "outputs": [
    {
     "data": {
      "text/plain": [
       "unknown                                                                                                                          2838\n",
       "White shark                                                                                                                       168\n",
       "Shark involvement prior to death was not confirmed                                                                                105\n",
       "Invalid                                                                                                                           102\n",
       "Shark involvement not confirmed                                                                                                    88\n",
       "                                                                                                                                 ... \n",
       "White shark, 3.5 m [11.5']  male                                                                                                    1\n",
       "60 cm to 90 cm [2' to 3'] shark                                                                                                     1\n",
       "100-kg [221-lb] dead blue shark                                                                                                     1\n",
       "Blacktip shark, 2'                                                                                                                  1\n",
       "Said to involve a grey nurse shark that leapt out of the water and  seized the boy but species identification is questionable       1\n",
       "Name: Species, Length: 1449, dtype: int64"
      ]
     },
     "execution_count": 144,
     "metadata": {},
     "output_type": "execute_result"
    }
   ],
   "source": [
    "df['Species'].value_counts()"
   ]
  },
  {
   "cell_type": "code",
   "execution_count": 145,
   "id": "0b75d3a7",
   "metadata": {},
   "outputs": [
    {
     "data": {
      "text/plain": [
       "(93, 23)"
      ]
     },
     "execution_count": 145,
     "metadata": {},
     "output_type": "execute_result"
    }
   ],
   "source": [
    "df.loc[df['Species'].str.contains('Shark involvement not confirmed')].shape"
   ]
  },
  {
   "cell_type": "code",
   "execution_count": 146,
   "id": "f9950e66",
   "metadata": {},
   "outputs": [
    {
     "data": {
      "text/plain": [
       "'Original: (25723, 24), Now: (6302, 23)'"
      ]
     },
     "execution_count": 146,
     "metadata": {},
     "output_type": "execute_result"
    }
   ],
   "source": [
    "shape(df)"
   ]
  },
  {
   "cell_type": "markdown",
   "id": "facba6c3",
   "metadata": {},
   "source": [
    "### 'Injury' column"
   ]
  },
  {
   "cell_type": "code",
   "execution_count": 147,
   "id": "9404235d",
   "metadata": {},
   "outputs": [
    {
     "data": {
      "text/plain": [
       "FATAL                                                                  815\n",
       "Survived                                                                97\n",
       "Foot bitten                                                             87\n",
       "No injury                                                               86\n",
       "Leg bitten                                                              75\n",
       "                                                                      ... \n",
       "PROVOKED INCIDENT    Knee bitten by shark trapped in net                 1\n",
       "FATAL, left forearm severed                                              1\n",
       "Minor lacerations on right ankle and foot                                1\n",
       "2 one-inch lacerations in left foot                                      1\n",
       "FATAL. \"Shark bit him in half, carrying away the lower extremities\"      1\n",
       "Name: Injury, Length: 3658, dtype: int64"
      ]
     },
     "execution_count": 147,
     "metadata": {},
     "output_type": "execute_result"
    }
   ],
   "source": [
    "df['Injury'].value_counts()"
   ]
  },
  {
   "cell_type": "code",
   "execution_count": 201,
   "id": "64108528",
   "metadata": {},
   "outputs": [],
   "source": [
    "index_fatality = df[['Injury', 'Fatality']][(df['Injury'] == 'FATAL') & (df['Fatality'] != 1)].index"
   ]
  },
  {
   "cell_type": "code",
   "execution_count": 202,
   "id": "e5ae44a1",
   "metadata": {},
   "outputs": [],
   "source": [
    "df.loc[index_fatality, 'Fatality'] = 1"
   ]
  },
  {
   "cell_type": "markdown",
   "id": "5c5b462f",
   "metadata": {},
   "source": [
    "### 'Location' column"
   ]
  },
  {
   "cell_type": "code",
   "execution_count": 149,
   "id": "a14cb6d0",
   "metadata": {},
   "outputs": [
    {
     "data": {
      "text/plain": [
       "unknown                                                            540\n",
       "New Smyrna Beach, Volusia County                                   165\n",
       "Daytona Beach, Volusia County                                       33\n",
       "Ponce Inlet, Volusia County                                         20\n",
       "Melbourne Beach, Brevard County                                     19\n",
       "                                                                  ... \n",
       "Hole-in-the Wall                                                     1\n",
       "Wreck of the Navy Barge, 22 miles SE of Rudee                        1\n",
       "Pringle Bay, 44 miles southeast of Cape Town                         1\n",
       "Waiokapua Bay/Majors Bay, Brennecke Beach, Poipu, Kaua'i Island      1\n",
       "Below the English fort, Trincomalee                                  1\n",
       "Name: Location, Length: 4063, dtype: int64"
      ]
     },
     "execution_count": 149,
     "metadata": {},
     "output_type": "execute_result"
    }
   ],
   "source": [
    "df['Location'].value_counts()"
   ]
  },
  {
   "cell_type": "markdown",
   "id": "64026d87",
   "metadata": {},
   "source": [
    "### 'Investigator or Source' column"
   ]
  },
  {
   "cell_type": "code",
   "execution_count": 150,
   "id": "1d486ed4",
   "metadata": {},
   "outputs": [],
   "source": [
    "df.rename(columns = {'Investigator or Source': 'Source'}, inplace=True)"
   ]
  },
  {
   "cell_type": "code",
   "execution_count": 151,
   "id": "828eaa5d",
   "metadata": {},
   "outputs": [
    {
     "data": {
      "text/plain": [
       "4928"
      ]
     },
     "execution_count": 151,
     "metadata": {},
     "output_type": "execute_result"
    }
   ],
   "source": [
    "len(df['Source'].unique())"
   ]
  },
  {
   "cell_type": "markdown",
   "id": "0826d9cc",
   "metadata": {},
   "source": [
    "### 'Name' column"
   ]
  },
  {
   "cell_type": "code",
   "execution_count": 152,
   "id": "4711bc90",
   "metadata": {},
   "outputs": [
    {
     "data": {
      "text/plain": [
       "male                              553\n",
       "unknown                           213\n",
       "female                             97\n",
       "boy                                23\n",
       "2 males                            18\n",
       "                                 ... \n",
       "Frederico Nóbrega (aka Derico)      1\n",
       "Joo Whan Hong                       1\n",
       "Alton Cicero da Silva               1\n",
       "Genna Hayward                       1\n",
       "Jules Patterson                     1\n",
       "Name: Name, Length: 5224, dtype: int64"
      ]
     },
     "execution_count": 152,
     "metadata": {},
     "output_type": "execute_result"
    }
   ],
   "source": [
    "df['Name'].value_counts()"
   ]
  },
  {
   "cell_type": "code",
   "execution_count": 153,
   "id": "47e81607",
   "metadata": {},
   "outputs": [],
   "source": [
    "index_males = df[(df['Name'] == 'male') & (df['Sex'] != 1)].index\n",
    "index_females = df[(df['Name'] == 'female') & (df['Sex'] != 2)].index"
   ]
  },
  {
   "cell_type": "code",
   "execution_count": 154,
   "id": "132afd66",
   "metadata": {},
   "outputs": [],
   "source": [
    "df.loc[index_males, 'Sex'] = 1\n",
    "df.loc[index_females, 'Sex'] = 2"
   ]
  },
  {
   "cell_type": "markdown",
   "id": "48e91164",
   "metadata": {},
   "source": [
    "### 'Date' column"
   ]
  },
  {
   "cell_type": "code",
   "execution_count": 155,
   "id": "380f4db2",
   "metadata": {},
   "outputs": [
    {
     "data": {
      "text/plain": [
       "1957                         11\n",
       "1942                          9\n",
       "1956                          8\n",
       "1950                          7\n",
       "1941                          7\n",
       "                             ..\n",
       "25-Nov-1994                   1\n",
       "01-Dec-1994                   1\n",
       "Reported      10-Dec-1994     1\n",
       "11-Dec-1994                   1\n",
       "1845-1853                     1\n",
       "Name: Date, Length: 5425, dtype: int64"
      ]
     },
     "execution_count": 155,
     "metadata": {},
     "output_type": "execute_result"
    }
   ],
   "source": [
    "df['Date'].value_counts()"
   ]
  },
  {
   "cell_type": "code",
   "execution_count": 156,
   "id": "725c4609",
   "metadata": {},
   "outputs": [],
   "source": [
    "try:\n",
    "    df['YYYY'] = [d[0:4] for d in df['Case Number']]\n",
    "except:\n",
    "    df['YYYY'] = '00'\n",
    "    \n",
    "try:\n",
    "    df['MM'] = [d[5:7] for d in df['Case Number']]\n",
    "except:\n",
    "    df['MM'] = '00'\n",
    "    \n",
    "try:\n",
    "    df['DD'] = [d[8:10] for d in df['Case Number']]\n",
    "except:\n",
    "    df['DD'] = '00'"
   ]
  },
  {
   "cell_type": "code",
   "execution_count": 157,
   "id": "8e79ae9f",
   "metadata": {},
   "outputs": [],
   "source": [
    "df.loc[df['YYYY'].str.contains('(?i)ND'), 'YYYY'] = '00'\n",
    "df.loc[df['YYYY'].str.contains('ND'), 'DD'] = '00'\n",
    "df.loc[df['YYYY'].str.contains('ND'), 'MM'] = '00'"
   ]
  },
  {
   "cell_type": "code",
   "execution_count": 158,
   "id": "e4e5802a",
   "metadata": {},
   "outputs": [],
   "source": [
    "df['YYYY'] = df['YYYY'].replace(['0.02','0.03','0.04','0.07'], 0)"
   ]
  },
  {
   "cell_type": "code",
   "execution_count": 159,
   "id": "65779cd2",
   "metadata": {},
   "outputs": [],
   "source": [
    "df['YYYY'] = df['YYYY'].astype(int)"
   ]
  },
  {
   "cell_type": "raw",
   "id": "943f9559",
   "metadata": {},
   "source": [
    "Check if the columns 'Year' and 'YYYY' are equal."
   ]
  },
  {
   "cell_type": "code",
   "execution_count": 160,
   "id": "cfcced5f",
   "metadata": {},
   "outputs": [
    {
     "data": {
      "text/plain": [
       "True    6302\n",
       "Name: Year, dtype: int64"
      ]
     },
     "execution_count": 160,
     "metadata": {},
     "output_type": "execute_result"
    }
   ],
   "source": [
    "df['Year'].isin(df['YYYY']).value_counts()"
   ]
  },
  {
   "cell_type": "code",
   "execution_count": 161,
   "id": "a8114c2f",
   "metadata": {},
   "outputs": [],
   "source": [
    "df.drop(['Year'], axis = 1, inplace = True)"
   ]
  },
  {
   "cell_type": "code",
   "execution_count": 162,
   "id": "7b29857b",
   "metadata": {},
   "outputs": [
    {
     "data": {
      "image/png": "[encoded data removed]",
      "text/plain": [
       "<Figure size 1000x800 with 1 Axes>"
      ]
     },
     "metadata": {},
     "output_type": "display_data"
    }
   ],
   "source": [
    "plt.figure(figsize = (10, 8)) \n",
    "sns.histplot(data = df['YYYY'], \n",
    "             binwidth = 2, \n",
    "             element = \"step\", \n",
    "             fill = False,\n",
    "             color = 'black',\n",
    "             binrange = (1800, 2020));"
   ]
  },
  {
   "cell_type": "raw",
   "id": "f0e620c5",
   "metadata": {},
   "source": [
    "Here we can observe the evolution of the shark attacks observations over the time.\n",
    "In the decade of the 60s there is an accelerated increase of cases.\n",
    "We can conclude indicating that the number of observations of the global shark attacks increase with the time, over the years. "
   ]
  },
  {
   "cell_type": "markdown",
   "id": "183fec6d",
   "metadata": {},
   "source": [
    "### 'Case Number', 'Case Number.1' and 'Case Number.2' columns"
   ]
  },
  {
   "cell_type": "raw",
   "id": "1c232956",
   "metadata": {},
   "source": [
    "Check the differences between the three columns"
   ]
  },
  {
   "cell_type": "code",
   "execution_count": 163,
   "id": "90fee249",
   "metadata": {},
   "outputs": [
    {
     "data": {
      "text/plain": [
       "True     6278\n",
       "False      24\n",
       "Name: Case Number, dtype: int64"
      ]
     },
     "execution_count": 163,
     "metadata": {},
     "output_type": "execute_result"
    }
   ],
   "source": [
    "df['Case Number'].isin(df['Case Number.1']).value_counts()"
   ]
  },
  {
   "cell_type": "code",
   "execution_count": 164,
   "id": "e3a4e770",
   "metadata": {},
   "outputs": [
    {
     "data": {
      "text/plain": [
       "True     6298\n",
       "False       4\n",
       "Name: Case Number, dtype: int64"
      ]
     },
     "execution_count": 164,
     "metadata": {},
     "output_type": "execute_result"
    }
   ],
   "source": [
    "df['Case Number'].isin(df['Case Number.2']).value_counts()"
   ]
  },
  {
   "cell_type": "code",
   "execution_count": 165,
   "id": "2514dc16",
   "metadata": {},
   "outputs": [
    {
     "data": {
      "text/plain": [
       "True     6283\n",
       "False      19\n",
       "Name: Case Number.1, dtype: int64"
      ]
     },
     "execution_count": 165,
     "metadata": {},
     "output_type": "execute_result"
    }
   ],
   "source": [
    "df['Case Number.1'].isin(df['Case Number.2']).value_counts()"
   ]
  },
  {
   "cell_type": "raw",
   "id": "630e1d98",
   "metadata": {},
   "source": [
    "The differences between the columns are minimal.\n",
    "I will drop two of the three columns"
   ]
  },
  {
   "cell_type": "code",
   "execution_count": 166,
   "id": "415fd27a",
   "metadata": {},
   "outputs": [],
   "source": [
    "df = df.drop(['Case Number.1', 'Case Number.2'], axis = 1)"
   ]
  },
  {
   "cell_type": "code",
   "execution_count": 167,
   "id": "d8b29b15",
   "metadata": {},
   "outputs": [
    {
     "data": {
      "text/html": [
       "<div>\n",
       "<style scoped>\n",
       "    .dataframe tbody tr th:only-of-type {\n",
       "        vertical-align: middle;\n",
       "    }\n",
       "\n",
       "    .dataframe tbody tr th {\n",
       "        vertical-align: top;\n",
       "    }\n",
       "\n",
       "    .dataframe thead th {\n",
       "        text-align: right;\n",
       "    }\n",
       "</style>\n",
       "<table border=\"1\" class=\"dataframe\">\n",
       "  <thead>\n",
       "    <tr style=\"text-align: right;\">\n",
       "      <th></th>\n",
       "      <th>Case Number</th>\n",
       "      <th>Date</th>\n",
       "      <th>Type</th>\n",
       "      <th>Country</th>\n",
       "      <th>Area</th>\n",
       "      <th>Location</th>\n",
       "      <th>Activity</th>\n",
       "      <th>Name</th>\n",
       "      <th>Sex</th>\n",
       "      <th>Age_groups</th>\n",
       "      <th>...</th>\n",
       "      <th>Species</th>\n",
       "      <th>Source</th>\n",
       "      <th>pdf</th>\n",
       "      <th>href formula</th>\n",
       "      <th>href</th>\n",
       "      <th>original order</th>\n",
       "      <th>Age_years</th>\n",
       "      <th>YYYY</th>\n",
       "      <th>MM</th>\n",
       "      <th>DD</th>\n",
       "    </tr>\n",
       "  </thead>\n",
       "  <tbody>\n",
       "    <tr>\n",
       "      <th>0</th>\n",
       "      <td>2018.06.25</td>\n",
       "      <td>25-Jun-2018</td>\n",
       "      <td>3</td>\n",
       "      <td>United States</td>\n",
       "      <td>California</td>\n",
       "      <td>Oceanside, San Diego County</td>\n",
       "      <td>Small</td>\n",
       "      <td>Julie Wolfe</td>\n",
       "      <td>2</td>\n",
       "      <td>4</td>\n",
       "      <td>...</td>\n",
       "      <td>White shark</td>\n",
       "      <td>R. Collier, GSAF</td>\n",
       "      <td>2018.06.25-Wolfe.pdf</td>\n",
       "      <td>http://sharkattackfile.net/spreadsheets/pdf_di...</td>\n",
       "      <td>http://sharkattackfile.net/spreadsheets/pdf_di...</td>\n",
       "      <td>6303.0</td>\n",
       "      <td>57</td>\n",
       "      <td>2018</td>\n",
       "      <td>06</td>\n",
       "      <td>25</td>\n",
       "    </tr>\n",
       "    <tr>\n",
       "      <th>1</th>\n",
       "      <td>2018.06.18</td>\n",
       "      <td>18-Jun-2018</td>\n",
       "      <td>1</td>\n",
       "      <td>United States</td>\n",
       "      <td>Georgia</td>\n",
       "      <td>St. Simon Island, Glynn County</td>\n",
       "      <td>Standing</td>\n",
       "      <td>Adyson McNeely</td>\n",
       "      <td>2</td>\n",
       "      <td>1</td>\n",
       "      <td>...</td>\n",
       "      <td>unknown</td>\n",
       "      <td>K.McMurray, TrackingSharks.com</td>\n",
       "      <td>2018.06.18-McNeely.pdf</td>\n",
       "      <td>http://sharkattackfile.net/spreadsheets/pdf_di...</td>\n",
       "      <td>http://sharkattackfile.net/spreadsheets/pdf_di...</td>\n",
       "      <td>6302.0</td>\n",
       "      <td>11</td>\n",
       "      <td>2018</td>\n",
       "      <td>06</td>\n",
       "      <td>18</td>\n",
       "    </tr>\n",
       "  </tbody>\n",
       "</table>\n",
       "<p>2 rows × 23 columns</p>\n",
       "</div>"
      ],
      "text/plain": [
       "  Case Number         Date  Type        Country        Area  \\\n",
       "0  2018.06.25  25-Jun-2018     3  United States  California   \n",
       "1  2018.06.18  18-Jun-2018     1  United States     Georgia   \n",
       "\n",
       "                         Location  Activity            Name  Sex  Age_groups  \\\n",
       "0     Oceanside, San Diego County     Small     Julie Wolfe    2           4   \n",
       "1  St. Simon Island, Glynn County  Standing  Adyson McNeely    2           1   \n",
       "\n",
       "   ...      Species                          Source                     pdf  \\\n",
       "0  ...  White shark                R. Collier, GSAF    2018.06.25-Wolfe.pdf   \n",
       "1  ...      unknown  K.McMurray, TrackingSharks.com  2018.06.18-McNeely.pdf   \n",
       "\n",
       "                                        href formula  \\\n",
       "0  http://sharkattackfile.net/spreadsheets/pdf_di...   \n",
       "1  http://sharkattackfile.net/spreadsheets/pdf_di...   \n",
       "\n",
       "                                                href original order Age_years  \\\n",
       "0  http://sharkattackfile.net/spreadsheets/pdf_di...         6303.0        57   \n",
       "1  http://sharkattackfile.net/spreadsheets/pdf_di...         6302.0        11   \n",
       "\n",
       "   YYYY  MM  DD  \n",
       "0  2018  06  25  \n",
       "1  2018  06  18  \n",
       "\n",
       "[2 rows x 23 columns]"
      ]
     },
     "execution_count": 167,
     "metadata": {},
     "output_type": "execute_result"
    }
   ],
   "source": [
    "df.head(2)"
   ]
  },
  {
   "cell_type": "markdown",
   "id": "24834011",
   "metadata": {},
   "source": [
    "### 'pdf', 'href' and 'href formula' column"
   ]
  },
  {
   "cell_type": "code",
   "execution_count": 168,
   "id": "99baafc2",
   "metadata": {},
   "outputs": [
    {
     "data": {
      "text/plain": [
       "True     6244\n",
       "False      58\n",
       "Name: href formula, dtype: int64"
      ]
     },
     "execution_count": 168,
     "metadata": {},
     "output_type": "execute_result"
    }
   ],
   "source": [
    "df['href formula'].isin(df['href']).value_counts()"
   ]
  },
  {
   "cell_type": "code",
   "execution_count": 169,
   "id": "455c770c",
   "metadata": {},
   "outputs": [
    {
     "data": {
      "text/plain": [
       "False    6302\n",
       "Name: href formula, dtype: int64"
      ]
     },
     "execution_count": 169,
     "metadata": {},
     "output_type": "execute_result"
    }
   ],
   "source": [
    "df['href formula'].isin(df['pdf']).value_counts()"
   ]
  },
  {
   "cell_type": "code",
   "execution_count": 170,
   "id": "adcc557c",
   "metadata": {},
   "outputs": [
    {
     "data": {
      "text/plain": [
       "False    6302\n",
       "Name: pdf, dtype: int64"
      ]
     },
     "execution_count": 170,
     "metadata": {},
     "output_type": "execute_result"
    }
   ],
   "source": [
    "df['pdf'].isin(df['href']).value_counts()"
   ]
  },
  {
   "cell_type": "raw",
   "id": "87a7b0d2",
   "metadata": {},
   "source": [
    "The differences between both 'href' columns are minimal,\n",
    "I will just keep one of them.\n",
    "\n",
    "The column 'pdf' is completely different, \n",
    "I will save the 'pdf' column."
   ]
  },
  {
   "cell_type": "code",
   "execution_count": 171,
   "id": "8cc2459f",
   "metadata": {},
   "outputs": [],
   "source": [
    "df.drop(['href formula'], axis = 1, inplace = True)"
   ]
  },
  {
   "cell_type": "markdown",
   "id": "945a90d6",
   "metadata": {},
   "source": [
    "### 'original order' column"
   ]
  },
  {
   "cell_type": "code",
   "execution_count": 172,
   "id": "2166adca",
   "metadata": {},
   "outputs": [
    {
     "data": {
      "text/plain": [
       "6301"
      ]
     },
     "execution_count": 172,
     "metadata": {},
     "output_type": "execute_result"
    }
   ],
   "source": [
    "len(df['original order'].unique())"
   ]
  },
  {
   "cell_type": "code",
   "execution_count": 173,
   "id": "ccd5ce40",
   "metadata": {},
   "outputs": [
    {
     "data": {
      "text/plain": [
       "'Original: (25723, 24), Now: (6302, 22)'"
      ]
     },
     "execution_count": 173,
     "metadata": {},
     "output_type": "execute_result"
    }
   ],
   "source": [
    "shape(df)"
   ]
  },
  {
   "cell_type": "code",
   "execution_count": 174,
   "id": "ce91f66f",
   "metadata": {},
   "outputs": [],
   "source": [
    "duplicated_order = df.duplicated(\"original order\")"
   ]
  },
  {
   "cell_type": "code",
   "execution_count": 175,
   "id": "1103534d",
   "metadata": {},
   "outputs": [
    {
     "data": {
      "text/html": [
       "<div>\n",
       "<style scoped>\n",
       "    .dataframe tbody tr th:only-of-type {\n",
       "        vertical-align: middle;\n",
       "    }\n",
       "\n",
       "    .dataframe tbody tr th {\n",
       "        vertical-align: top;\n",
       "    }\n",
       "\n",
       "    .dataframe thead th {\n",
       "        text-align: right;\n",
       "    }\n",
       "</style>\n",
       "<table border=\"1\" class=\"dataframe\">\n",
       "  <thead>\n",
       "    <tr style=\"text-align: right;\">\n",
       "      <th></th>\n",
       "      <th>Case Number</th>\n",
       "      <th>Date</th>\n",
       "      <th>Type</th>\n",
       "      <th>Country</th>\n",
       "      <th>Area</th>\n",
       "      <th>Location</th>\n",
       "      <th>Activity</th>\n",
       "      <th>Name</th>\n",
       "      <th>Sex</th>\n",
       "      <th>Age_groups</th>\n",
       "      <th>...</th>\n",
       "      <th>Time</th>\n",
       "      <th>Species</th>\n",
       "      <th>Source</th>\n",
       "      <th>pdf</th>\n",
       "      <th>href</th>\n",
       "      <th>original order</th>\n",
       "      <th>Age_years</th>\n",
       "      <th>YYYY</th>\n",
       "      <th>MM</th>\n",
       "      <th>DD</th>\n",
       "    </tr>\n",
       "  </thead>\n",
       "  <tbody>\n",
       "    <tr>\n",
       "      <th>5734</th>\n",
       "      <td>1888.02.00</td>\n",
       "      <td>Feb-1888</td>\n",
       "      <td>1</td>\n",
       "      <td>South Africa</td>\n",
       "      <td>Eastern Cape Province</td>\n",
       "      <td>Mzimvubu River mouth</td>\n",
       "      <td>crossing the river mouth</td>\n",
       "      <td>male</td>\n",
       "      <td>1</td>\n",
       "      <td>0</td>\n",
       "      <td>...</td>\n",
       "      <td>unknown</td>\n",
       "      <td>unknown</td>\n",
       "      <td>Cape Mercantile Advertiser, 2/15/1888, M. Levi...</td>\n",
       "      <td>1888.02.00-Mzimvubu.pdf</td>\n",
       "      <td>http://sharkattackfile.net/spreadsheets/pdf_di...</td>\n",
       "      <td>569.0</td>\n",
       "      <td>0</td>\n",
       "      <td>1888</td>\n",
       "      <td>02</td>\n",
       "      <td>00</td>\n",
       "    </tr>\n",
       "  </tbody>\n",
       "</table>\n",
       "<p>1 rows × 22 columns</p>\n",
       "</div>"
      ],
      "text/plain": [
       "     Case Number      Date  Type       Country                   Area  \\\n",
       "5734  1888.02.00  Feb-1888     1  South Africa  Eastern Cape Province   \n",
       "\n",
       "                  Location                  Activity  Name  Sex  Age_groups  \\\n",
       "5734  Mzimvubu River mouth  crossing the river mouth  male    1           0   \n",
       "\n",
       "      ...     Time  Species  \\\n",
       "5734  ...  unknown  unknown   \n",
       "\n",
       "                                                 Source  \\\n",
       "5734  Cape Mercantile Advertiser, 2/15/1888, M. Levi...   \n",
       "\n",
       "                          pdf  \\\n",
       "5734  1888.02.00-Mzimvubu.pdf   \n",
       "\n",
       "                                                   href original order  \\\n",
       "5734  http://sharkattackfile.net/spreadsheets/pdf_di...          569.0   \n",
       "\n",
       "     Age_years  YYYY  MM  DD  \n",
       "5734         0  1888  02  00  \n",
       "\n",
       "[1 rows x 22 columns]"
      ]
     },
     "execution_count": 175,
     "metadata": {},
     "output_type": "execute_result"
    }
   ],
   "source": [
    "dupl_order_df = df[duplicated_order]\n",
    "dupl_order_df"
   ]
  },
  {
   "cell_type": "code",
   "execution_count": 176,
   "id": "7c01e131",
   "metadata": {},
   "outputs": [],
   "source": [
    "df = df.drop(5734)"
   ]
  },
  {
   "cell_type": "code",
   "execution_count": 177,
   "id": "b090dd18",
   "metadata": {},
   "outputs": [
    {
     "data": {
      "text/plain": [
       "'Original: (25723, 24), Now: (6301, 22)'"
      ]
     },
     "execution_count": 177,
     "metadata": {},
     "output_type": "execute_result"
    }
   ],
   "source": [
    "shape(df)"
   ]
  },
  {
   "cell_type": "markdown",
   "id": "67d67d0f",
   "metadata": {},
   "source": [
    "### Change the order of the columns:"
   ]
  },
  {
   "cell_type": "code",
   "execution_count": 178,
   "id": "511f2ad2",
   "metadata": {},
   "outputs": [],
   "source": [
    "df = df[['Case Number', 'Date', 'DD', 'MM', 'YYYY', 'Type',\n",
    "         'Country', 'Area', 'Location', 'Activity', 'Time',\n",
    "         'Name', 'Sex', 'Age_groups', 'Age_years', \n",
    "         'Injury', 'Fatality', 'Species',\n",
    "         'Source', 'original order', 'pdf', 'href']]"
   ]
  },
  {
   "cell_type": "markdown",
   "id": "4009dd94",
   "metadata": {},
   "source": [
    "## 07 - Outliers"
   ]
  },
  {
   "cell_type": "code",
   "execution_count": 179,
   "id": "4a3d80a0",
   "metadata": {},
   "outputs": [
    {
     "data": {
      "text/html": [
       "<div>\n",
       "<style scoped>\n",
       "    .dataframe tbody tr th:only-of-type {\n",
       "        vertical-align: middle;\n",
       "    }\n",
       "\n",
       "    .dataframe tbody tr th {\n",
       "        vertical-align: top;\n",
       "    }\n",
       "\n",
       "    .dataframe thead th {\n",
       "        text-align: right;\n",
       "    }\n",
       "</style>\n",
       "<table border=\"1\" class=\"dataframe\">\n",
       "  <thead>\n",
       "    <tr style=\"text-align: right;\">\n",
       "      <th></th>\n",
       "      <th>count</th>\n",
       "      <th>mean</th>\n",
       "      <th>std</th>\n",
       "      <th>min</th>\n",
       "      <th>25%</th>\n",
       "      <th>50%</th>\n",
       "      <th>75%</th>\n",
       "      <th>max</th>\n",
       "      <th>IQR</th>\n",
       "      <th>Tukey</th>\n",
       "    </tr>\n",
       "  </thead>\n",
       "  <tbody>\n",
       "    <tr>\n",
       "      <th>YYYY</th>\n",
       "      <td>6301.0</td>\n",
       "      <td>1927.263133</td>\n",
       "      <td>281.102388</td>\n",
       "      <td>0.0</td>\n",
       "      <td>1942.0</td>\n",
       "      <td>1977.0</td>\n",
       "      <td>2005.0</td>\n",
       "      <td>2018.0</td>\n",
       "      <td>63.0</td>\n",
       "      <td>2099.5</td>\n",
       "    </tr>\n",
       "    <tr>\n",
       "      <th>Type</th>\n",
       "      <td>6301.0</td>\n",
       "      <td>1.225361</td>\n",
       "      <td>0.828269</td>\n",
       "      <td>0.0</td>\n",
       "      <td>1.0</td>\n",
       "      <td>1.0</td>\n",
       "      <td>1.0</td>\n",
       "      <td>4.0</td>\n",
       "      <td>0.0</td>\n",
       "      <td>1.0</td>\n",
       "    </tr>\n",
       "    <tr>\n",
       "      <th>Sex</th>\n",
       "      <td>6301.0</td>\n",
       "      <td>1.012696</td>\n",
       "      <td>0.436978</td>\n",
       "      <td>0.0</td>\n",
       "      <td>1.0</td>\n",
       "      <td>1.0</td>\n",
       "      <td>1.0</td>\n",
       "      <td>2.0</td>\n",
       "      <td>0.0</td>\n",
       "      <td>1.0</td>\n",
       "    </tr>\n",
       "    <tr>\n",
       "      <th>Age_groups</th>\n",
       "      <td>6301.0</td>\n",
       "      <td>1.519917</td>\n",
       "      <td>1.526525</td>\n",
       "      <td>0.0</td>\n",
       "      <td>0.0</td>\n",
       "      <td>2.0</td>\n",
       "      <td>3.0</td>\n",
       "      <td>5.0</td>\n",
       "      <td>3.0</td>\n",
       "      <td>7.5</td>\n",
       "    </tr>\n",
       "    <tr>\n",
       "      <th>Age_years</th>\n",
       "      <td>6301.0</td>\n",
       "      <td>14.917156</td>\n",
       "      <td>17.042546</td>\n",
       "      <td>0.0</td>\n",
       "      <td>0.0</td>\n",
       "      <td>12.0</td>\n",
       "      <td>25.0</td>\n",
       "      <td>87.0</td>\n",
       "      <td>25.0</td>\n",
       "      <td>62.5</td>\n",
       "    </tr>\n",
       "    <tr>\n",
       "      <th>Fatality</th>\n",
       "      <td>6301.0</td>\n",
       "      <td>1.607999</td>\n",
       "      <td>0.640406</td>\n",
       "      <td>0.0</td>\n",
       "      <td>1.0</td>\n",
       "      <td>2.0</td>\n",
       "      <td>2.0</td>\n",
       "      <td>2.0</td>\n",
       "      <td>1.0</td>\n",
       "      <td>3.5</td>\n",
       "    </tr>\n",
       "    <tr>\n",
       "      <th>original order</th>\n",
       "      <td>6301.0</td>\n",
       "      <td>3152.909697</td>\n",
       "      <td>1819.228669</td>\n",
       "      <td>2.0</td>\n",
       "      <td>1578.0</td>\n",
       "      <td>3153.0</td>\n",
       "      <td>4728.0</td>\n",
       "      <td>6303.0</td>\n",
       "      <td>3150.0</td>\n",
       "      <td>9453.0</td>\n",
       "    </tr>\n",
       "  </tbody>\n",
       "</table>\n",
       "</div>"
      ],
      "text/plain": [
       "                 count         mean          std  min     25%     50%     75%  \\\n",
       "YYYY            6301.0  1927.263133   281.102388  0.0  1942.0  1977.0  2005.0   \n",
       "Type            6301.0     1.225361     0.828269  0.0     1.0     1.0     1.0   \n",
       "Sex             6301.0     1.012696     0.436978  0.0     1.0     1.0     1.0   \n",
       "Age_groups      6301.0     1.519917     1.526525  0.0     0.0     2.0     3.0   \n",
       "Age_years       6301.0    14.917156    17.042546  0.0     0.0    12.0    25.0   \n",
       "Fatality        6301.0     1.607999     0.640406  0.0     1.0     2.0     2.0   \n",
       "original order  6301.0  3152.909697  1819.228669  2.0  1578.0  3153.0  4728.0   \n",
       "\n",
       "                   max     IQR   Tukey  \n",
       "YYYY            2018.0    63.0  2099.5  \n",
       "Type               4.0     0.0     1.0  \n",
       "Sex                2.0     0.0     1.0  \n",
       "Age_groups         5.0     3.0     7.5  \n",
       "Age_years         87.0    25.0    62.5  \n",
       "Fatality           2.0     1.0     3.5  \n",
       "original order  6303.0  3150.0  9453.0  "
      ]
     },
     "execution_count": 179,
     "metadata": {},
     "output_type": "execute_result"
    }
   ],
   "source": [
    "stats = df.describe().T\n",
    "\n",
    "stats['IQR'] = stats['75%']-stats['25%']\n",
    "stats['Tukey'] = 1.5 * stats['IQR'] + stats['75%']\n",
    "\n",
    "stats"
   ]
  },
  {
   "cell_type": "code",
   "execution_count": 180,
   "id": "3f1cc93b",
   "metadata": {},
   "outputs": [
    {
     "data": {
      "image/png": "[encoded data removed]",
      "text/plain": [
       "<Figure size 1500x800 with 1 Axes>"
      ]
     },
     "metadata": {},
     "output_type": "display_data"
    }
   ],
   "source": [
    "df.boxplot(figsize=(15, 8));"
   ]
  },
  {
   "cell_type": "code",
   "execution_count": 181,
   "id": "79a59e6b",
   "metadata": {},
   "outputs": [
    {
     "data": {
      "text/plain": [
       "580"
      ]
     },
     "execution_count": 181,
     "metadata": {},
     "output_type": "execute_result"
    }
   ],
   "source": [
    "outliers = pd.DataFrame(columns = df.columns)\n",
    "\n",
    "for col in stats.index:\n",
    "    iqr = stats.at[col,'IQR']\n",
    "    cutoff = stats.at[col,'Tukey']\n",
    "    lower = stats.at[col,'25%'] - cutoff\n",
    "    upper = stats.at[col,'75%'] + cutoff\n",
    "    results = df[(df[col] < lower) | (df[col] > upper)].copy()\n",
    "    results['Outlier'] = col\n",
    "    outliers = outliers.append(results)\n",
    "    \n",
    "len(outliers)"
   ]
  },
  {
   "cell_type": "code",
   "execution_count": 182,
   "id": "4b273c13",
   "metadata": {},
   "outputs": [],
   "source": [
    "outlier_index = outliers['Outlier'].value_counts().index"
   ]
  },
  {
   "cell_type": "markdown",
   "id": "a28a2ce0",
   "metadata": {},
   "source": [
    "## 08 - Duplicated rows II"
   ]
  },
  {
   "cell_type": "code",
   "execution_count": 183,
   "id": "f41ee180",
   "metadata": {},
   "outputs": [
    {
     "data": {
      "text/plain": [
       "False"
      ]
     },
     "execution_count": 183,
     "metadata": {},
     "output_type": "execute_result"
    }
   ],
   "source": [
    "df.duplicated().any()"
   ]
  },
  {
   "cell_type": "markdown",
   "id": "566dc700",
   "metadata": {},
   "source": [
    "## 09 - Data types"
   ]
  },
  {
   "cell_type": "code",
   "execution_count": 184,
   "id": "5910b948",
   "metadata": {},
   "outputs": [
    {
     "name": "stdout",
     "output_type": "stream",
     "text": [
      "<class 'pandas.core.frame.DataFrame'>\n",
      "Int64Index: 6301 entries, 0 to 6301\n",
      "Data columns (total 22 columns):\n",
      " #   Column          Non-Null Count  Dtype  \n",
      "---  ------          --------------  -----  \n",
      " 0   Case Number     6301 non-null   object \n",
      " 1   Date            6301 non-null   object \n",
      " 2   DD              6301 non-null   object \n",
      " 3   MM              6301 non-null   object \n",
      " 4   YYYY            6301 non-null   int32  \n",
      " 5   Type            6301 non-null   int32  \n",
      " 6   Country         6301 non-null   object \n",
      " 7   Area            6301 non-null   object \n",
      " 8   Location        6301 non-null   object \n",
      " 9   Activity        6301 non-null   object \n",
      " 10  Time            6301 non-null   object \n",
      " 11  Name            6301 non-null   object \n",
      " 12  Sex             6301 non-null   int64  \n",
      " 13  Age_groups      6301 non-null   int32  \n",
      " 14  Age_years       6301 non-null   int64  \n",
      " 15  Injury          6301 non-null   object \n",
      " 16  Fatality        6301 non-null   int32  \n",
      " 17  Species         6301 non-null   object \n",
      " 18  Source          6301 non-null   object \n",
      " 19  original order  6301 non-null   float64\n",
      " 20  pdf             6301 non-null   object \n",
      " 21  href            6301 non-null   object \n",
      "dtypes: float64(1), int32(4), int64(2), object(15)\n",
      "memory usage: 7.1 MB\n"
     ]
    }
   ],
   "source": [
    "df.info(memory_usage='deep')"
   ]
  },
  {
   "cell_type": "raw",
   "id": "6d211ab9",
   "metadata": {},
   "source": [
    "Change the objects to categories in order to save space."
   ]
  },
  {
   "cell_type": "code",
   "execution_count": 185,
   "id": "f8f9a437",
   "metadata": {},
   "outputs": [
    {
     "name": "stdout",
     "output_type": "stream",
     "text": [
      "<class 'pandas.core.frame.DataFrame'>\n",
      "Int64Index: 6301 entries, 0 to 6301\n",
      "Data columns (total 22 columns):\n",
      " #   Column          Non-Null Count  Dtype   \n",
      "---  ------          --------------  -----   \n",
      " 0   Case Number     6301 non-null   category\n",
      " 1   Date            6301 non-null   category\n",
      " 2   DD              6301 non-null   category\n",
      " 3   MM              6301 non-null   category\n",
      " 4   YYYY            6301 non-null   int32   \n",
      " 5   Type            6301 non-null   int32   \n",
      " 6   Country         6301 non-null   category\n",
      " 7   Area            6301 non-null   category\n",
      " 8   Location        6301 non-null   category\n",
      " 9   Activity        6301 non-null   category\n",
      " 10  Time            6301 non-null   category\n",
      " 11  Name            6301 non-null   category\n",
      " 12  Sex             6301 non-null   int64   \n",
      " 13  Age_groups      6301 non-null   int32   \n",
      " 14  Age_years       6301 non-null   int64   \n",
      " 15  Injury          6301 non-null   category\n",
      " 16  Fatality        6301 non-null   int32   \n",
      " 17  Species         6301 non-null   category\n",
      " 18  Source          6301 non-null   category\n",
      " 19  original order  6301 non-null   float64 \n",
      " 20  pdf             6301 non-null   category\n",
      " 21  href            6301 non-null   category\n",
      "dtypes: category(15), float64(1), int32(4), int64(2)\n",
      "memory usage: 5.3 MB\n"
     ]
    }
   ],
   "source": [
    "for col in df.select_dtypes(include='object'):\n",
    "    df[col] = df[col].astype('category')\n",
    "    \n",
    "df.info(memory_usage='deep')"
   ]
  },
  {
   "cell_type": "raw",
   "id": "781ba8bf",
   "metadata": {},
   "source": [
    "Try to reduce the type of numeric columns"
   ]
  },
  {
   "cell_type": "code",
   "execution_count": 186,
   "id": "4fcbbdae",
   "metadata": {},
   "outputs": [
    {
     "name": "stdout",
     "output_type": "stream",
     "text": [
      "<class 'pandas.core.frame.DataFrame'>\n",
      "Int64Index: 6301 entries, 0 to 6301\n",
      "Data columns (total 22 columns):\n",
      " #   Column          Non-Null Count  Dtype   \n",
      "---  ------          --------------  -----   \n",
      " 0   Case Number     6301 non-null   category\n",
      " 1   Date            6301 non-null   category\n",
      " 2   DD              6301 non-null   category\n",
      " 3   MM              6301 non-null   category\n",
      " 4   YYYY            6301 non-null   int16   \n",
      " 5   Type            6301 non-null   int8    \n",
      " 6   Country         6301 non-null   category\n",
      " 7   Area            6301 non-null   category\n",
      " 8   Location        6301 non-null   category\n",
      " 9   Activity        6301 non-null   category\n",
      " 10  Time            6301 non-null   category\n",
      " 11  Name            6301 non-null   category\n",
      " 12  Sex             6301 non-null   int8    \n",
      " 13  Age_groups      6301 non-null   int8    \n",
      " 14  Age_years       6301 non-null   int8    \n",
      " 15  Injury          6301 non-null   category\n",
      " 16  Fatality        6301 non-null   int8    \n",
      " 17  Species         6301 non-null   category\n",
      " 18  Source          6301 non-null   category\n",
      " 19  original order  6301 non-null   float32 \n",
      " 20  pdf             6301 non-null   category\n",
      " 21  href            6301 non-null   category\n",
      "dtypes: category(15), float32(1), int16(1), int8(5)\n",
      "memory usage: 5.1 MB\n"
     ]
    }
   ],
   "source": [
    "for col in df.select_dtypes(include='integer'):\n",
    "    df[col]=pd.to_numeric(df[col], downcast='integer')\n",
    "\n",
    "for col in df.select_dtypes(include='float'):\n",
    "    df[col]=pd.to_numeric(df[col], downcast='float')\n",
    "\n",
    "df.info(memory_usage='deep')   "
   ]
  },
  {
   "cell_type": "markdown",
   "id": "e0f7b75f",
   "metadata": {},
   "source": [
    "## 10 - Save the clean document"
   ]
  },
  {
   "cell_type": "code",
   "execution_count": 187,
   "id": "017d425a",
   "metadata": {},
   "outputs": [],
   "source": [
    "df.to_csv('../output/sharks_IGC.csv', index=False)"
   ]
  },
  {
   "cell_type": "markdown",
   "id": "1e44a67f",
   "metadata": {},
   "source": [
    "# Extra"
   ]
  },
  {
   "cell_type": "code",
   "execution_count": 188,
   "id": "2ce1a875",
   "metadata": {},
   "outputs": [
    {
     "data": {
      "text/html": [
       "<div>\n",
       "<style scoped>\n",
       "    .dataframe tbody tr th:only-of-type {\n",
       "        vertical-align: middle;\n",
       "    }\n",
       "\n",
       "    .dataframe tbody tr th {\n",
       "        vertical-align: top;\n",
       "    }\n",
       "\n",
       "    .dataframe thead th {\n",
       "        text-align: right;\n",
       "    }\n",
       "</style>\n",
       "<table border=\"1\" class=\"dataframe\">\n",
       "  <thead>\n",
       "    <tr style=\"text-align: right;\">\n",
       "      <th></th>\n",
       "      <th>YYYY</th>\n",
       "      <th>Type</th>\n",
       "      <th>Sex</th>\n",
       "      <th>Age_groups</th>\n",
       "      <th>Age_years</th>\n",
       "      <th>Fatality</th>\n",
       "      <th>original order</th>\n",
       "    </tr>\n",
       "  </thead>\n",
       "  <tbody>\n",
       "    <tr>\n",
       "      <th>YYYY</th>\n",
       "      <td>1.000000</td>\n",
       "      <td>-0.009020</td>\n",
       "      <td>0.012864</td>\n",
       "      <td>0.184464</td>\n",
       "      <td>0.169417</td>\n",
       "      <td>0.062459</td>\n",
       "      <td>0.388756</td>\n",
       "    </tr>\n",
       "    <tr>\n",
       "      <th>Type</th>\n",
       "      <td>-0.009020</td>\n",
       "      <td>1.000000</td>\n",
       "      <td>-0.267095</td>\n",
       "      <td>-0.169390</td>\n",
       "      <td>-0.145456</td>\n",
       "      <td>0.308718</td>\n",
       "      <td>-0.100687</td>\n",
       "    </tr>\n",
       "    <tr>\n",
       "      <th>Sex</th>\n",
       "      <td>0.012864</td>\n",
       "      <td>-0.267095</td>\n",
       "      <td>1.000000</td>\n",
       "      <td>0.239480</td>\n",
       "      <td>0.218205</td>\n",
       "      <td>0.035939</td>\n",
       "      <td>0.158727</td>\n",
       "    </tr>\n",
       "    <tr>\n",
       "      <th>Age_groups</th>\n",
       "      <td>0.184464</td>\n",
       "      <td>-0.169390</td>\n",
       "      <td>0.239480</td>\n",
       "      <td>1.000000</td>\n",
       "      <td>0.948624</td>\n",
       "      <td>0.120346</td>\n",
       "      <td>0.411123</td>\n",
       "    </tr>\n",
       "    <tr>\n",
       "      <th>Age_years</th>\n",
       "      <td>0.169417</td>\n",
       "      <td>-0.145456</td>\n",
       "      <td>0.218205</td>\n",
       "      <td>0.948624</td>\n",
       "      <td>1.000000</td>\n",
       "      <td>0.102115</td>\n",
       "      <td>0.403718</td>\n",
       "    </tr>\n",
       "    <tr>\n",
       "      <th>Fatality</th>\n",
       "      <td>0.062459</td>\n",
       "      <td>0.308718</td>\n",
       "      <td>0.035939</td>\n",
       "      <td>0.120346</td>\n",
       "      <td>0.102115</td>\n",
       "      <td>1.000000</td>\n",
       "      <td>0.237686</td>\n",
       "    </tr>\n",
       "    <tr>\n",
       "      <th>original order</th>\n",
       "      <td>0.388756</td>\n",
       "      <td>-0.100687</td>\n",
       "      <td>0.158727</td>\n",
       "      <td>0.411123</td>\n",
       "      <td>0.403718</td>\n",
       "      <td>0.237686</td>\n",
       "      <td>1.000000</td>\n",
       "    </tr>\n",
       "  </tbody>\n",
       "</table>\n",
       "</div>"
      ],
      "text/plain": [
       "                    YYYY      Type       Sex  Age_groups  Age_years  Fatality  \\\n",
       "YYYY            1.000000 -0.009020  0.012864    0.184464   0.169417  0.062459   \n",
       "Type           -0.009020  1.000000 -0.267095   -0.169390  -0.145456  0.308718   \n",
       "Sex             0.012864 -0.267095  1.000000    0.239480   0.218205  0.035939   \n",
       "Age_groups      0.184464 -0.169390  0.239480    1.000000   0.948624  0.120346   \n",
       "Age_years       0.169417 -0.145456  0.218205    0.948624   1.000000  0.102115   \n",
       "Fatality        0.062459  0.308718  0.035939    0.120346   0.102115  1.000000   \n",
       "original order  0.388756 -0.100687  0.158727    0.411123   0.403718  0.237686   \n",
       "\n",
       "                original order  \n",
       "YYYY                  0.388756  \n",
       "Type                 -0.100687  \n",
       "Sex                   0.158727  \n",
       "Age_groups            0.411123  \n",
       "Age_years             0.403718  \n",
       "Fatality              0.237686  \n",
       "original order        1.000000  "
      ]
     },
     "execution_count": 188,
     "metadata": {},
     "output_type": "execute_result"
    }
   ],
   "source": [
    "df.corr()"
   ]
  },
  {
   "cell_type": "code",
   "execution_count": 189,
   "id": "88d00111",
   "metadata": {},
   "outputs": [
    {
     "data": {
      "image/png": "[encoded data removed]",
      "text/plain": [
       "<Figure size 1000x800 with 2 Axes>"
      ]
     },
     "metadata": {
      "needs_background": "light"
     },
     "output_type": "display_data"
    }
   ],
   "source": [
    "plt.figure(figsize=(10, 8), facecolor='none') \n",
    "sns.heatmap(df.corr(), cmap='viridis');"
   ]
  },
  {
   "cell_type": "code",
   "execution_count": 190,
   "id": "e8798b74",
   "metadata": {},
   "outputs": [],
   "source": [
    "col_corred = []\n",
    "\n",
    "for col in df._get_numeric_data():  \n",
    "    for i in range(len(df.corr())): \n",
    "        if abs(df.corr()[col][i]) > 0.9 and abs(df.corr()[col][i]) < 1:\n",
    "            col_corred.append(col)"
   ]
  },
  {
   "cell_type": "code",
   "execution_count": 195,
   "id": "6a6b8599",
   "metadata": {},
   "outputs": [
    {
     "data": {
      "text/plain": [
       "['Age_years', 'Age_groups']"
      ]
     },
     "execution_count": 195,
     "metadata": {},
     "output_type": "execute_result"
    }
   ],
   "source": [
    "col_corred = list(set(col_corred))\n",
    "col_corred"
   ]
  },
  {
   "cell_type": "code",
   "execution_count": 197,
   "id": "4817a874",
   "metadata": {},
   "outputs": [
    {
     "data": {
      "text/html": [
       "<div>\n",
       "<style scoped>\n",
       "    .dataframe tbody tr th:only-of-type {\n",
       "        vertical-align: middle;\n",
       "    }\n",
       "\n",
       "    .dataframe tbody tr th {\n",
       "        vertical-align: top;\n",
       "    }\n",
       "\n",
       "    .dataframe thead th {\n",
       "        text-align: right;\n",
       "    }\n",
       "</style>\n",
       "<table border=\"1\" class=\"dataframe\">\n",
       "  <thead>\n",
       "    <tr style=\"text-align: right;\">\n",
       "      <th></th>\n",
       "      <th>YYYY</th>\n",
       "      <th>Type</th>\n",
       "      <th>Age_groups</th>\n",
       "      <th>Age_years</th>\n",
       "      <th>Fatality</th>\n",
       "      <th>original order</th>\n",
       "    </tr>\n",
       "    <tr>\n",
       "      <th>Sex</th>\n",
       "      <th></th>\n",
       "      <th></th>\n",
       "      <th></th>\n",
       "      <th></th>\n",
       "      <th></th>\n",
       "      <th></th>\n",
       "    </tr>\n",
       "  </thead>\n",
       "  <tbody>\n",
       "    <tr>\n",
       "      <th>0</th>\n",
       "      <td>1931.852313</td>\n",
       "      <td>2.060498</td>\n",
       "      <td>0.169039</td>\n",
       "      <td>1.569395</td>\n",
       "      <td>1.542705</td>\n",
       "      <td>2725.346924</td>\n",
       "    </tr>\n",
       "    <tr>\n",
       "      <th>1</th>\n",
       "      <td>1924.298018</td>\n",
       "      <td>1.160683</td>\n",
       "      <td>1.620365</td>\n",
       "      <td>15.852070</td>\n",
       "      <td>1.609967</td>\n",
       "      <td>3091.232422</td>\n",
       "    </tr>\n",
       "    <tr>\n",
       "      <th>2</th>\n",
       "      <td>1946.786604</td>\n",
       "      <td>1.007788</td>\n",
       "      <td>1.904984</td>\n",
       "      <td>19.179128</td>\n",
       "      <td>1.649533</td>\n",
       "      <td>4016.864502</td>\n",
       "    </tr>\n",
       "  </tbody>\n",
       "</table>\n",
       "</div>"
      ],
      "text/plain": [
       "            YYYY      Type  Age_groups  Age_years  Fatality  original order\n",
       "Sex                                                                        \n",
       "0    1931.852313  2.060498    0.169039   1.569395  1.542705     2725.346924\n",
       "1    1924.298018  1.160683    1.620365  15.852070  1.609967     3091.232422\n",
       "2    1946.786604  1.007788    1.904984  19.179128  1.649533     4016.864502"
      ]
     },
     "execution_count": 197,
     "metadata": {},
     "output_type": "execute_result"
    }
   ],
   "source": [
    "df.groupby('Sex').mean(numeric_only = True)"
   ]
  },
  {
   "cell_type": "raw",
   "id": "f0fa743e",
   "metadata": {},
   "source": [
    "At this point of the data cleansing,\n",
    "I can confirm that my Age_groups are well done\n",
    "because are correlated with the Age_years but\n",
    "I can't throw any conclusion...\n",
    "\n",
    "I would like to know if there is any relation between \n",
    "the fatality and the number of cases with the Species\n",
    "\n",
    "To do so, my perspectives are:\n",
    "Transform more categories into numbers in order to analize them,\n",
    "for example: To use ISO codes for countries, [...]"
   ]
  }
 ],
 "metadata": {
  "kernelspec": {
   "display_name": "Python 3 (ipykernel)",
   "language": "python",
   "name": "python3"
  },
  "language_info": {
   "codemirror_mode": {
    "name": "ipython",
    "version": 3
   },
   "file_extension": ".py",
   "mimetype": "text/x-python",
   "name": "python",
   "nbconvert_exporter": "python",
   "pygments_lexer": "ipython3",
   "version": "3.11.4"
  }
 },
 "nbformat": 4,
 "nbformat_minor": 5
}
