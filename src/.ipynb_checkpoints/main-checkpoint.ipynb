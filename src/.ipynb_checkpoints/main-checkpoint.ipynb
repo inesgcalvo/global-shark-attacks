{
 "cells": [
  {
   "cell_type": "markdown",
   "id": "0f8659ec",
   "metadata": {},
   "source": [
    "# Global Shark Attacks\n",
    "\n",
    "Data compiled by the global shark attack file extracted from: https://www.kaggle.com/datasets/teajay/global-shark-attacks/data"
   ]
  },
  {
   "cell_type": "markdown",
   "id": "9f159237",
   "metadata": {},
   "source": [
    "___"
   ]
  },
  {
   "cell_type": "code",
   "execution_count": 3,
   "id": "938169d8",
   "metadata": {},
   "outputs": [],
   "source": [
    "import zipfile\n",
    "import numpy as np\n",
    "import pandas as pd\n",
    "import seaborn as sns\n",
    "import matplotlib.pyplot as plt\n",
    "import re\n",
    "\n",
    "import warnings\n",
    "warnings.filterwarnings('ignore')"
   ]
  },
  {
   "cell_type": "code",
   "execution_count": 4,
   "id": "d0add57a",
   "metadata": {},
   "outputs": [],
   "source": [
    "zf = zipfile.ZipFile('../data/archive.zip')"
   ]
  },
  {
   "cell_type": "code",
   "execution_count": 27,
   "id": "9a545ac4",
   "metadata": {},
   "outputs": [],
   "source": [
    "archivo = zf.open('attacks.csv')"
   ]
  },
  {
   "cell_type": "code",
   "execution_count": 28,
   "id": "94ccf19c",
   "metadata": {},
   "outputs": [],
   "source": [
    "raw_data = pd.read_csv(archivo, encoding='latin1')"
   ]
  },
  {
   "cell_type": "code",
   "execution_count": 1196,
   "id": "4d11d447",
   "metadata": {},
   "outputs": [],
   "source": [
    "df = raw_data.copy()"
   ]
  },
  {
   "cell_type": "code",
   "execution_count": 1197,
   "id": "33887b3a",
   "metadata": {},
   "outputs": [],
   "source": [
    "def shape(df):\n",
    "    \"\"\"\n",
    "    Recibe una DataFrame y devuelve una frase que compara como han cambiado las dimensiones\n",
    "    \"\"\"\n",
    "    return f\"Started: {raw_data.shape}, Now: {df.shape}\""
   ]
  },
  {
   "cell_type": "code",
   "execution_count": 1198,
   "id": "836856f9",
   "metadata": {},
   "outputs": [
    {
     "data": {
      "text/plain": [
       "'Started: (25723, 24), Now: (25723, 24)'"
      ]
     },
     "execution_count": 1198,
     "metadata": {},
     "output_type": "execute_result"
    }
   ],
   "source": [
    "shape(df)"
   ]
  },
  {
   "cell_type": "code",
   "execution_count": 1199,
   "id": "67583da6",
   "metadata": {},
   "outputs": [
    {
     "data": {
      "text/html": [
       "<div>\n",
       "<style scoped>\n",
       "    .dataframe tbody tr th:only-of-type {\n",
       "        vertical-align: middle;\n",
       "    }\n",
       "\n",
       "    .dataframe tbody tr th {\n",
       "        vertical-align: top;\n",
       "    }\n",
       "\n",
       "    .dataframe thead th {\n",
       "        text-align: right;\n",
       "    }\n",
       "</style>\n",
       "<table border=\"1\" class=\"dataframe\">\n",
       "  <thead>\n",
       "    <tr style=\"text-align: right;\">\n",
       "      <th></th>\n",
       "      <th>Case Number</th>\n",
       "      <th>Date</th>\n",
       "      <th>Year</th>\n",
       "      <th>Type</th>\n",
       "      <th>Country</th>\n",
       "      <th>Area</th>\n",
       "      <th>Location</th>\n",
       "      <th>Activity</th>\n",
       "      <th>Name</th>\n",
       "      <th>Sex</th>\n",
       "      <th>...</th>\n",
       "      <th>Species</th>\n",
       "      <th>Investigator or Source</th>\n",
       "      <th>pdf</th>\n",
       "      <th>href formula</th>\n",
       "      <th>href</th>\n",
       "      <th>Case Number.1</th>\n",
       "      <th>Case Number.2</th>\n",
       "      <th>original order</th>\n",
       "      <th>Unnamed: 22</th>\n",
       "      <th>Unnamed: 23</th>\n",
       "    </tr>\n",
       "  </thead>\n",
       "  <tbody>\n",
       "    <tr>\n",
       "      <th>0</th>\n",
       "      <td>2018.06.25</td>\n",
       "      <td>25-Jun-2018</td>\n",
       "      <td>2018.0</td>\n",
       "      <td>Boating</td>\n",
       "      <td>USA</td>\n",
       "      <td>California</td>\n",
       "      <td>Oceanside, San Diego County</td>\n",
       "      <td>Paddling</td>\n",
       "      <td>Julie Wolfe</td>\n",
       "      <td>F</td>\n",
       "      <td>...</td>\n",
       "      <td>White shark</td>\n",
       "      <td>R. Collier, GSAF</td>\n",
       "      <td>2018.06.25-Wolfe.pdf</td>\n",
       "      <td>http://sharkattackfile.net/spreadsheets/pdf_di...</td>\n",
       "      <td>http://sharkattackfile.net/spreadsheets/pdf_di...</td>\n",
       "      <td>2018.06.25</td>\n",
       "      <td>2018.06.25</td>\n",
       "      <td>6303.0</td>\n",
       "      <td>NaN</td>\n",
       "      <td>NaN</td>\n",
       "    </tr>\n",
       "    <tr>\n",
       "      <th>1</th>\n",
       "      <td>2018.06.18</td>\n",
       "      <td>18-Jun-2018</td>\n",
       "      <td>2018.0</td>\n",
       "      <td>Unprovoked</td>\n",
       "      <td>USA</td>\n",
       "      <td>Georgia</td>\n",
       "      <td>St. Simon Island, Glynn County</td>\n",
       "      <td>Standing</td>\n",
       "      <td>Adyson McNeely</td>\n",
       "      <td>F</td>\n",
       "      <td>...</td>\n",
       "      <td>NaN</td>\n",
       "      <td>K.McMurray, TrackingSharks.com</td>\n",
       "      <td>2018.06.18-McNeely.pdf</td>\n",
       "      <td>http://sharkattackfile.net/spreadsheets/pdf_di...</td>\n",
       "      <td>http://sharkattackfile.net/spreadsheets/pdf_di...</td>\n",
       "      <td>2018.06.18</td>\n",
       "      <td>2018.06.18</td>\n",
       "      <td>6302.0</td>\n",
       "      <td>NaN</td>\n",
       "      <td>NaN</td>\n",
       "    </tr>\n",
       "    <tr>\n",
       "      <th>2</th>\n",
       "      <td>2018.06.09</td>\n",
       "      <td>09-Jun-2018</td>\n",
       "      <td>2018.0</td>\n",
       "      <td>Invalid</td>\n",
       "      <td>USA</td>\n",
       "      <td>Hawaii</td>\n",
       "      <td>Habush, Oahu</td>\n",
       "      <td>Surfing</td>\n",
       "      <td>John Denges</td>\n",
       "      <td>M</td>\n",
       "      <td>...</td>\n",
       "      <td>NaN</td>\n",
       "      <td>K.McMurray, TrackingSharks.com</td>\n",
       "      <td>2018.06.09-Denges.pdf</td>\n",
       "      <td>http://sharkattackfile.net/spreadsheets/pdf_di...</td>\n",
       "      <td>http://sharkattackfile.net/spreadsheets/pdf_di...</td>\n",
       "      <td>2018.06.09</td>\n",
       "      <td>2018.06.09</td>\n",
       "      <td>6301.0</td>\n",
       "      <td>NaN</td>\n",
       "      <td>NaN</td>\n",
       "    </tr>\n",
       "    <tr>\n",
       "      <th>3</th>\n",
       "      <td>2018.06.08</td>\n",
       "      <td>08-Jun-2018</td>\n",
       "      <td>2018.0</td>\n",
       "      <td>Unprovoked</td>\n",
       "      <td>AUSTRALIA</td>\n",
       "      <td>New South Wales</td>\n",
       "      <td>Arrawarra Headland</td>\n",
       "      <td>Surfing</td>\n",
       "      <td>male</td>\n",
       "      <td>M</td>\n",
       "      <td>...</td>\n",
       "      <td>2 m shark</td>\n",
       "      <td>B. Myatt, GSAF</td>\n",
       "      <td>2018.06.08-Arrawarra.pdf</td>\n",
       "      <td>http://sharkattackfile.net/spreadsheets/pdf_di...</td>\n",
       "      <td>http://sharkattackfile.net/spreadsheets/pdf_di...</td>\n",
       "      <td>2018.06.08</td>\n",
       "      <td>2018.06.08</td>\n",
       "      <td>6300.0</td>\n",
       "      <td>NaN</td>\n",
       "      <td>NaN</td>\n",
       "    </tr>\n",
       "    <tr>\n",
       "      <th>4</th>\n",
       "      <td>2018.06.04</td>\n",
       "      <td>04-Jun-2018</td>\n",
       "      <td>2018.0</td>\n",
       "      <td>Provoked</td>\n",
       "      <td>MEXICO</td>\n",
       "      <td>Colima</td>\n",
       "      <td>La Ticla</td>\n",
       "      <td>Free diving</td>\n",
       "      <td>Gustavo Ramos</td>\n",
       "      <td>M</td>\n",
       "      <td>...</td>\n",
       "      <td>Tiger shark, 3m</td>\n",
       "      <td>A .Kipper</td>\n",
       "      <td>2018.06.04-Ramos.pdf</td>\n",
       "      <td>http://sharkattackfile.net/spreadsheets/pdf_di...</td>\n",
       "      <td>http://sharkattackfile.net/spreadsheets/pdf_di...</td>\n",
       "      <td>2018.06.04</td>\n",
       "      <td>2018.06.04</td>\n",
       "      <td>6299.0</td>\n",
       "      <td>NaN</td>\n",
       "      <td>NaN</td>\n",
       "    </tr>\n",
       "  </tbody>\n",
       "</table>\n",
       "<p>5 rows × 24 columns</p>\n",
       "</div>"
      ],
      "text/plain": [
       "  Case Number         Date    Year        Type    Country             Area  \\\n",
       "0  2018.06.25  25-Jun-2018  2018.0     Boating        USA       California   \n",
       "1  2018.06.18  18-Jun-2018  2018.0  Unprovoked        USA          Georgia   \n",
       "2  2018.06.09  09-Jun-2018  2018.0     Invalid        USA           Hawaii   \n",
       "3  2018.06.08  08-Jun-2018  2018.0  Unprovoked  AUSTRALIA  New South Wales   \n",
       "4  2018.06.04  04-Jun-2018  2018.0    Provoked     MEXICO           Colima   \n",
       "\n",
       "                         Location     Activity             Name Sex   ...  \\\n",
       "0     Oceanside, San Diego County     Paddling      Julie Wolfe    F  ...   \n",
       "1  St. Simon Island, Glynn County     Standing  Adyson McNeely     F  ...   \n",
       "2                    Habush, Oahu      Surfing      John Denges    M  ...   \n",
       "3              Arrawarra Headland      Surfing             male    M  ...   \n",
       "4                        La Ticla  Free diving   Gustavo Ramos     M  ...   \n",
       "\n",
       "          Species           Investigator or Source                       pdf  \\\n",
       "0      White shark                R. Collier, GSAF      2018.06.25-Wolfe.pdf   \n",
       "1              NaN  K.McMurray, TrackingSharks.com    2018.06.18-McNeely.pdf   \n",
       "2              NaN  K.McMurray, TrackingSharks.com     2018.06.09-Denges.pdf   \n",
       "3        2 m shark                  B. Myatt, GSAF  2018.06.08-Arrawarra.pdf   \n",
       "4  Tiger shark, 3m                       A .Kipper      2018.06.04-Ramos.pdf   \n",
       "\n",
       "                                        href formula  \\\n",
       "0  http://sharkattackfile.net/spreadsheets/pdf_di...   \n",
       "1  http://sharkattackfile.net/spreadsheets/pdf_di...   \n",
       "2  http://sharkattackfile.net/spreadsheets/pdf_di...   \n",
       "3  http://sharkattackfile.net/spreadsheets/pdf_di...   \n",
       "4  http://sharkattackfile.net/spreadsheets/pdf_di...   \n",
       "\n",
       "                                                href Case Number.1  \\\n",
       "0  http://sharkattackfile.net/spreadsheets/pdf_di...    2018.06.25   \n",
       "1  http://sharkattackfile.net/spreadsheets/pdf_di...    2018.06.18   \n",
       "2  http://sharkattackfile.net/spreadsheets/pdf_di...    2018.06.09   \n",
       "3  http://sharkattackfile.net/spreadsheets/pdf_di...    2018.06.08   \n",
       "4  http://sharkattackfile.net/spreadsheets/pdf_di...    2018.06.04   \n",
       "\n",
       "  Case Number.2 original order Unnamed: 22 Unnamed: 23  \n",
       "0    2018.06.25         6303.0         NaN         NaN  \n",
       "1    2018.06.18         6302.0         NaN         NaN  \n",
       "2    2018.06.09         6301.0         NaN         NaN  \n",
       "3    2018.06.08         6300.0         NaN         NaN  \n",
       "4    2018.06.04         6299.0         NaN         NaN  \n",
       "\n",
       "[5 rows x 24 columns]"
      ]
     },
     "execution_count": 1199,
     "metadata": {},
     "output_type": "execute_result"
    }
   ],
   "source": [
    "df.head()"
   ]
  },
  {
   "cell_type": "markdown",
   "id": "97d1c18d",
   "metadata": {},
   "source": [
    "# Data Cleansing\n",
    "\n",
    "This stage include:\n",
    "\n",
    "* 01 - Duplicated rows\n",
    "* 02 - NaN values\n",
    "* 03 - Low Variance columns\n",
    "* 04 - Constant columns\n",
    "* 05 - Special characters\n",
    "* 06 - Incorrect values\n",
    "* 07 - Outliers\n",
    "* 08 - Duplicated rows II\n",
    "* 09 - Data types\n",
    "* 10 - Save the clean document"
   ]
  },
  {
   "cell_type": "markdown",
   "id": "94080edb",
   "metadata": {},
   "source": [
    "_____"
   ]
  },
  {
   "cell_type": "markdown",
   "id": "69bbe762",
   "metadata": {},
   "source": [
    "## 01 - Duplicated rows"
   ]
  },
  {
   "cell_type": "code",
   "execution_count": 1200,
   "id": "f708123c",
   "metadata": {},
   "outputs": [
    {
     "data": {
      "text/plain": [
       "True"
      ]
     },
     "execution_count": 1200,
     "metadata": {},
     "output_type": "execute_result"
    }
   ],
   "source": [
    "df.duplicated().any()"
   ]
  },
  {
   "cell_type": "code",
   "execution_count": 1201,
   "id": "efaf4f21",
   "metadata": {},
   "outputs": [],
   "source": [
    "df.drop_duplicates(inplace=True)"
   ]
  },
  {
   "cell_type": "code",
   "execution_count": 1202,
   "id": "887db259",
   "metadata": {},
   "outputs": [
    {
     "data": {
      "text/plain": [
       "False"
      ]
     },
     "execution_count": 1202,
     "metadata": {},
     "output_type": "execute_result"
    }
   ],
   "source": [
    "df.duplicated().any()"
   ]
  },
  {
   "cell_type": "code",
   "execution_count": 1203,
   "id": "46025ed4",
   "metadata": {},
   "outputs": [
    {
     "data": {
      "text/plain": [
       "'Started: (25723, 24), Now: (6312, 24)'"
      ]
     },
     "execution_count": 1203,
     "metadata": {},
     "output_type": "execute_result"
    }
   ],
   "source": [
    "shape(df)"
   ]
  },
  {
   "cell_type": "markdown",
   "id": "d6e78873",
   "metadata": {},
   "source": [
    "_____"
   ]
  },
  {
   "cell_type": "markdown",
   "id": "2676ae36",
   "metadata": {},
   "source": [
    "## 02 - NaN values"
   ]
  },
  {
   "cell_type": "code",
   "execution_count": 1204,
   "id": "90aaa37c",
   "metadata": {},
   "outputs": [],
   "source": [
    "def nan(df):\n",
    "    \"\"\"\n",
    "    Recibe una DataFrame y devuelve una lista de columnas y el número de NaN\n",
    "    \"\"\"\n",
    "    return df.isna().sum().sort_values(ascending = False)"
   ]
  },
  {
   "cell_type": "code",
   "execution_count": 1205,
   "id": "6da4eb20",
   "metadata": {},
   "outputs": [
    {
     "data": {
      "text/plain": [
       "Unnamed: 22               6311\n",
       "Unnamed: 23               6310\n",
       "Time                      3364\n",
       "Species                   2848\n",
       "Age                       2841\n",
       "Sex                        575\n",
       "Activity                   554\n",
       "Location                   550\n",
       "Fatal (Y/N)                549\n",
       "Area                       465\n",
       "Name                       220\n",
       "Country                     60\n",
       "Injury                      38\n",
       "Investigator or Source      27\n",
       "Type                        14\n",
       "Year                        12\n",
       "href formula                11\n",
       "Date                        10\n",
       "pdf                         10\n",
       "href                        10\n",
       "Case Number.1               10\n",
       "Case Number.2               10\n",
       "original order               3\n",
       "Case Number                  2\n",
       "dtype: int64"
      ]
     },
     "execution_count": 1205,
     "metadata": {},
     "output_type": "execute_result"
    }
   ],
   "source": [
    "nan(df)"
   ]
  },
  {
   "cell_type": "code",
   "execution_count": 1206,
   "id": "57ecbbd3",
   "metadata": {},
   "outputs": [],
   "source": [
    "def view_nan(df: pd.DataFrame) -> None:\n",
    "    \"\"\"\n",
    "    Recibe una DataFrame y devuelve un plot con los NaN de cada columna\n",
    "    \"\"\"\n",
    "    plt.figure(figsize=(10, 6), facecolor='none') \n",
    "    sns.heatmap(df.isna(),           \n",
    "                yticklabels=False,  \n",
    "                cmap='magma',     \n",
    "                cbar=False)\n",
    "    plt.show();"
   ]
  },
  {
   "cell_type": "code",
   "execution_count": 1207,
   "id": "2a1d1518",
   "metadata": {},
   "outputs": [
    {
     "data": {
      "image/png": "[encoded data removed]",
      "text/plain": [
       "<Figure size 1000x600 with 1 Axes>"
      ]
     },
     "metadata": {
      "needs_background": "light"
     },
     "output_type": "display_data"
    }
   ],
   "source": [
    "view_nan(df)"
   ]
  },
  {
   "cell_type": "markdown",
   "id": "69decfe5",
   "metadata": {},
   "source": [
    "### 'Unnamed: 22' & 'Unnamed: 23' columns"
   ]
  },
  {
   "cell_type": "code",
   "execution_count": 1208,
   "id": "791fea48",
   "metadata": {},
   "outputs": [
    {
     "data": {
      "text/plain": [
       "stopped here    1\n",
       "Name: Unnamed: 22, dtype: int64"
      ]
     },
     "execution_count": 1208,
     "metadata": {},
     "output_type": "execute_result"
    }
   ],
   "source": [
    "df['Unnamed: 22'].value_counts()"
   ]
  },
  {
   "cell_type": "code",
   "execution_count": 1209,
   "id": "72694b31",
   "metadata": {},
   "outputs": [
    {
     "data": {
      "text/plain": [
       "Teramo             1\n",
       "change filename    1\n",
       "Name: Unnamed: 23, dtype: int64"
      ]
     },
     "execution_count": 1209,
     "metadata": {},
     "output_type": "execute_result"
    }
   ],
   "source": [
    "df['Unnamed: 23'].value_counts()"
   ]
  },
  {
   "cell_type": "code",
   "execution_count": 1210,
   "id": "cc686bf3",
   "metadata": {},
   "outputs": [],
   "source": [
    "df['Unnamed: 22'].fillna('unknown', inplace=True)"
   ]
  },
  {
   "cell_type": "code",
   "execution_count": 1211,
   "id": "468bee9a",
   "metadata": {},
   "outputs": [],
   "source": [
    "df['Unnamed: 23'].fillna('unknown', inplace=True)"
   ]
  },
  {
   "cell_type": "code",
   "execution_count": 1212,
   "id": "2851bb20",
   "metadata": {},
   "outputs": [
    {
     "data": {
      "text/plain": [
       "Time    3364\n",
       "dtype: int64"
      ]
     },
     "execution_count": 1212,
     "metadata": {},
     "output_type": "execute_result"
    }
   ],
   "source": [
    "nan(df).head(1)"
   ]
  },
  {
   "cell_type": "markdown",
   "id": "98d45648",
   "metadata": {},
   "source": [
    "### 'Time' column"
   ]
  },
  {
   "cell_type": "code",
   "execution_count": 1213,
   "id": "acdad751",
   "metadata": {},
   "outputs": [
    {
     "data": {
      "text/plain": [
       "367"
      ]
     },
     "execution_count": 1213,
     "metadata": {},
     "output_type": "execute_result"
    }
   ],
   "source": [
    "len(df['Time'].unique())"
   ]
  },
  {
   "cell_type": "code",
   "execution_count": 1214,
   "id": "c86e7cc5",
   "metadata": {},
   "outputs": [],
   "source": [
    "# df['Time'].str.replace(r\"\\d\", \"\", regex=True).value_counts()"
   ]
  },
  {
   "cell_type": "code",
   "execution_count": 1215,
   "id": "de35a1cc",
   "metadata": {},
   "outputs": [],
   "source": [
    "df['Time'].fillna('unknown', inplace=True)"
   ]
  },
  {
   "cell_type": "code",
   "execution_count": 1216,
   "id": "1c80a8b2",
   "metadata": {},
   "outputs": [
    {
     "data": {
      "text/plain": [
       "Species     2848\n",
       "dtype: int64"
      ]
     },
     "execution_count": 1216,
     "metadata": {},
     "output_type": "execute_result"
    }
   ],
   "source": [
    "nan(df).head(1)"
   ]
  },
  {
   "cell_type": "markdown",
   "id": "84e88e01",
   "metadata": {},
   "source": [
    "### 'Species' column"
   ]
  },
  {
   "cell_type": "markdown",
   "id": "e6df63bf",
   "metadata": {},
   "source": [
    "Because I did not found the column using 'Species', I decided to remove all the empty spaces from the column names"
   ]
  },
  {
   "cell_type": "code",
   "execution_count": 1217,
   "id": "2c5caae5",
   "metadata": {},
   "outputs": [],
   "source": [
    "df.columns = df.columns.str.strip()"
   ]
  },
  {
   "cell_type": "code",
   "execution_count": 1218,
   "id": "3e0aeba4",
   "metadata": {},
   "outputs": [
    {
     "data": {
      "text/html": [
       "<div>\n",
       "<style scoped>\n",
       "    .dataframe tbody tr th:only-of-type {\n",
       "        vertical-align: middle;\n",
       "    }\n",
       "\n",
       "    .dataframe tbody tr th {\n",
       "        vertical-align: top;\n",
       "    }\n",
       "\n",
       "    .dataframe thead th {\n",
       "        text-align: right;\n",
       "    }\n",
       "</style>\n",
       "<table border=\"1\" class=\"dataframe\">\n",
       "  <thead>\n",
       "    <tr style=\"text-align: right;\">\n",
       "      <th></th>\n",
       "      <th>Case Number</th>\n",
       "      <th>Date</th>\n",
       "      <th>Year</th>\n",
       "      <th>Type</th>\n",
       "      <th>Country</th>\n",
       "      <th>Area</th>\n",
       "      <th>Location</th>\n",
       "      <th>Activity</th>\n",
       "      <th>Name</th>\n",
       "      <th>Sex</th>\n",
       "      <th>...</th>\n",
       "      <th>Species</th>\n",
       "      <th>Investigator or Source</th>\n",
       "      <th>pdf</th>\n",
       "      <th>href formula</th>\n",
       "      <th>href</th>\n",
       "      <th>Case Number.1</th>\n",
       "      <th>Case Number.2</th>\n",
       "      <th>original order</th>\n",
       "      <th>Unnamed: 22</th>\n",
       "      <th>Unnamed: 23</th>\n",
       "    </tr>\n",
       "  </thead>\n",
       "  <tbody>\n",
       "    <tr>\n",
       "      <th>0</th>\n",
       "      <td>2018.06.25</td>\n",
       "      <td>25-Jun-2018</td>\n",
       "      <td>2018.0</td>\n",
       "      <td>Boating</td>\n",
       "      <td>USA</td>\n",
       "      <td>California</td>\n",
       "      <td>Oceanside, San Diego County</td>\n",
       "      <td>Paddling</td>\n",
       "      <td>Julie Wolfe</td>\n",
       "      <td>F</td>\n",
       "      <td>...</td>\n",
       "      <td>White shark</td>\n",
       "      <td>R. Collier, GSAF</td>\n",
       "      <td>2018.06.25-Wolfe.pdf</td>\n",
       "      <td>http://sharkattackfile.net/spreadsheets/pdf_di...</td>\n",
       "      <td>http://sharkattackfile.net/spreadsheets/pdf_di...</td>\n",
       "      <td>2018.06.25</td>\n",
       "      <td>2018.06.25</td>\n",
       "      <td>6303.0</td>\n",
       "      <td>unknown</td>\n",
       "      <td>unknown</td>\n",
       "    </tr>\n",
       "  </tbody>\n",
       "</table>\n",
       "<p>1 rows × 24 columns</p>\n",
       "</div>"
      ],
      "text/plain": [
       "  Case Number         Date    Year     Type Country        Area  \\\n",
       "0  2018.06.25  25-Jun-2018  2018.0  Boating     USA  California   \n",
       "\n",
       "                      Location  Activity         Name Sex  ...      Species  \\\n",
       "0  Oceanside, San Diego County  Paddling  Julie Wolfe   F  ...  White shark   \n",
       "\n",
       "  Investigator or Source                   pdf  \\\n",
       "0       R. Collier, GSAF  2018.06.25-Wolfe.pdf   \n",
       "\n",
       "                                        href formula  \\\n",
       "0  http://sharkattackfile.net/spreadsheets/pdf_di...   \n",
       "\n",
       "                                                href Case Number.1  \\\n",
       "0  http://sharkattackfile.net/spreadsheets/pdf_di...    2018.06.25   \n",
       "\n",
       "  Case Number.2 original order Unnamed: 22 Unnamed: 23  \n",
       "0    2018.06.25         6303.0     unknown     unknown  \n",
       "\n",
       "[1 rows x 24 columns]"
      ]
     },
     "execution_count": 1218,
     "metadata": {},
     "output_type": "execute_result"
    }
   ],
   "source": [
    "df.head(1)"
   ]
  },
  {
   "cell_type": "code",
   "execution_count": 1219,
   "id": "e0a470c3",
   "metadata": {},
   "outputs": [
    {
     "data": {
      "text/plain": [
       "1550"
      ]
     },
     "execution_count": 1219,
     "metadata": {},
     "output_type": "execute_result"
    }
   ],
   "source": [
    "len(df['Species'].unique())"
   ]
  },
  {
   "cell_type": "code",
   "execution_count": 1220,
   "id": "b13b9aeb",
   "metadata": {},
   "outputs": [],
   "source": [
    "df['Species'].fillna('unknown', inplace=True)"
   ]
  },
  {
   "cell_type": "code",
   "execution_count": 1221,
   "id": "243d05c0",
   "metadata": {},
   "outputs": [
    {
     "data": {
      "text/plain": [
       "Age    2841\n",
       "dtype: int64"
      ]
     },
     "execution_count": 1221,
     "metadata": {},
     "output_type": "execute_result"
    }
   ],
   "source": [
    "nan(df).head(1)"
   ]
  },
  {
   "cell_type": "markdown",
   "id": "f3cc2abc",
   "metadata": {},
   "source": [
    "### 'Age' column"
   ]
  },
  {
   "cell_type": "code",
   "execution_count": 1222,
   "id": "f5e07dad",
   "metadata": {},
   "outputs": [],
   "source": [
    "df['Age'].fillna('unknown', inplace=True)"
   ]
  },
  {
   "cell_type": "code",
   "execution_count": 1223,
   "id": "f3b7dbb8",
   "metadata": {},
   "outputs": [
    {
     "data": {
      "text/plain": [
       "Sex    575\n",
       "dtype: int64"
      ]
     },
     "execution_count": 1223,
     "metadata": {},
     "output_type": "execute_result"
    }
   ],
   "source": [
    "nan(df).head(1)"
   ]
  },
  {
   "cell_type": "markdown",
   "id": "8df41f19",
   "metadata": {},
   "source": [
    "### 'Sex' column"
   ]
  },
  {
   "cell_type": "code",
   "execution_count": 1224,
   "id": "5ef61415",
   "metadata": {},
   "outputs": [],
   "source": [
    "df['Sex'].fillna('X', inplace=True)"
   ]
  },
  {
   "cell_type": "code",
   "execution_count": 1225,
   "id": "06661505",
   "metadata": {},
   "outputs": [
    {
     "data": {
      "text/plain": [
       "Activity    554\n",
       "dtype: int64"
      ]
     },
     "execution_count": 1225,
     "metadata": {},
     "output_type": "execute_result"
    }
   ],
   "source": [
    "nan(df).head(1)"
   ]
  },
  {
   "cell_type": "markdown",
   "id": "b2eab10e",
   "metadata": {},
   "source": [
    "### 'Activity' column"
   ]
  },
  {
   "cell_type": "code",
   "execution_count": 1226,
   "id": "7cfce3ed",
   "metadata": {},
   "outputs": [],
   "source": [
    "df['Activity'].fillna('unknown', inplace=True)"
   ]
  },
  {
   "cell_type": "code",
   "execution_count": 1227,
   "id": "39cc6eb7",
   "metadata": {},
   "outputs": [
    {
     "data": {
      "text/plain": [
       "Location    550\n",
       "dtype: int64"
      ]
     },
     "execution_count": 1227,
     "metadata": {},
     "output_type": "execute_result"
    }
   ],
   "source": [
    "nan(df).head(1)"
   ]
  },
  {
   "cell_type": "markdown",
   "id": "d1ae0a91",
   "metadata": {},
   "source": [
    "### 'Location' column"
   ]
  },
  {
   "cell_type": "code",
   "execution_count": 1228,
   "id": "ba9601cf",
   "metadata": {},
   "outputs": [],
   "source": [
    "df['Location'].fillna('unknown', inplace=True)"
   ]
  },
  {
   "cell_type": "code",
   "execution_count": 1229,
   "id": "93df9c81",
   "metadata": {},
   "outputs": [
    {
     "data": {
      "text/plain": [
       "Fatal (Y/N)    549\n",
       "dtype: int64"
      ]
     },
     "execution_count": 1229,
     "metadata": {},
     "output_type": "execute_result"
    }
   ],
   "source": [
    "nan(df).head(1)"
   ]
  },
  {
   "cell_type": "markdown",
   "id": "83df6a3b",
   "metadata": {},
   "source": [
    "### 'Fatal (Y/N)' column"
   ]
  },
  {
   "cell_type": "code",
   "execution_count": 1230,
   "id": "dd8dcf4f",
   "metadata": {},
   "outputs": [],
   "source": [
    "df['Fatal (Y/N)'].fillna('UNKNOWN', inplace=True)"
   ]
  },
  {
   "cell_type": "code",
   "execution_count": 1231,
   "id": "3a919401",
   "metadata": {},
   "outputs": [
    {
     "data": {
      "text/plain": [
       "Area    465\n",
       "dtype: int64"
      ]
     },
     "execution_count": 1231,
     "metadata": {},
     "output_type": "execute_result"
    }
   ],
   "source": [
    "nan(df).head(1)"
   ]
  },
  {
   "cell_type": "markdown",
   "id": "0e781e92",
   "metadata": {},
   "source": [
    "### 'Area' column"
   ]
  },
  {
   "cell_type": "code",
   "execution_count": 1232,
   "id": "39b81b22",
   "metadata": {},
   "outputs": [],
   "source": [
    "df['Area'].fillna('unknown', inplace=True)"
   ]
  },
  {
   "cell_type": "code",
   "execution_count": 1233,
   "id": "d138255a",
   "metadata": {},
   "outputs": [
    {
     "data": {
      "text/plain": [
       "Name    220\n",
       "dtype: int64"
      ]
     },
     "execution_count": 1233,
     "metadata": {},
     "output_type": "execute_result"
    }
   ],
   "source": [
    "nan(df).head(1)"
   ]
  },
  {
   "cell_type": "markdown",
   "id": "bfa297a4",
   "metadata": {},
   "source": [
    "### 'Name' column"
   ]
  },
  {
   "cell_type": "code",
   "execution_count": 1234,
   "id": "4283886c",
   "metadata": {},
   "outputs": [],
   "source": [
    "df['Name'].fillna('unknown', inplace=True)"
   ]
  },
  {
   "cell_type": "code",
   "execution_count": 1235,
   "id": "f31ab48f",
   "metadata": {},
   "outputs": [
    {
     "data": {
      "text/plain": [
       "Country    60\n",
       "dtype: int64"
      ]
     },
     "execution_count": 1235,
     "metadata": {},
     "output_type": "execute_result"
    }
   ],
   "source": [
    "nan(df).head(1)"
   ]
  },
  {
   "cell_type": "markdown",
   "id": "6ab667a3",
   "metadata": {},
   "source": [
    "### 'Country' column"
   ]
  },
  {
   "cell_type": "code",
   "execution_count": 1236,
   "id": "04919889",
   "metadata": {},
   "outputs": [],
   "source": [
    "df['Country'].fillna('unknown', inplace=True)"
   ]
  },
  {
   "cell_type": "code",
   "execution_count": 1237,
   "id": "c1e29185",
   "metadata": {},
   "outputs": [
    {
     "data": {
      "text/plain": [
       "Injury    38\n",
       "dtype: int64"
      ]
     },
     "execution_count": 1237,
     "metadata": {},
     "output_type": "execute_result"
    }
   ],
   "source": [
    "nan(df).head(1)"
   ]
  },
  {
   "cell_type": "markdown",
   "id": "5e179a0f",
   "metadata": {},
   "source": [
    "### 'Injury' column"
   ]
  },
  {
   "cell_type": "code",
   "execution_count": 1238,
   "id": "3cb371de",
   "metadata": {},
   "outputs": [],
   "source": [
    "df['Injury'].fillna('unknown', inplace=True)"
   ]
  },
  {
   "cell_type": "code",
   "execution_count": 1239,
   "id": "540a023f",
   "metadata": {},
   "outputs": [
    {
     "data": {
      "text/plain": [
       "Investigator or Source    27\n",
       "dtype: int64"
      ]
     },
     "execution_count": 1239,
     "metadata": {},
     "output_type": "execute_result"
    }
   ],
   "source": [
    "nan(df).head(1)"
   ]
  },
  {
   "cell_type": "markdown",
   "id": "71367580",
   "metadata": {},
   "source": [
    "### 'Investigator or Source' column"
   ]
  },
  {
   "cell_type": "code",
   "execution_count": 1240,
   "id": "8da0f811",
   "metadata": {},
   "outputs": [],
   "source": [
    "df['Investigator or Source'].fillna('unknown', inplace=True)"
   ]
  },
  {
   "cell_type": "code",
   "execution_count": 1241,
   "id": "8c337e4e",
   "metadata": {},
   "outputs": [
    {
     "data": {
      "text/plain": [
       "Type    14\n",
       "dtype: int64"
      ]
     },
     "execution_count": 1241,
     "metadata": {},
     "output_type": "execute_result"
    }
   ],
   "source": [
    "nan(df).head(1)"
   ]
  },
  {
   "cell_type": "markdown",
   "id": "70d8ce4b",
   "metadata": {},
   "source": [
    "### 'Type' column"
   ]
  },
  {
   "cell_type": "code",
   "execution_count": 1242,
   "id": "47500a29",
   "metadata": {},
   "outputs": [],
   "source": [
    "df['Type'].fillna('unknown', inplace=True)"
   ]
  },
  {
   "cell_type": "code",
   "execution_count": 1243,
   "id": "1cec5f84",
   "metadata": {},
   "outputs": [
    {
     "data": {
      "text/plain": [
       "Year    12\n",
       "dtype: int64"
      ]
     },
     "execution_count": 1243,
     "metadata": {},
     "output_type": "execute_result"
    }
   ],
   "source": [
    "nan(df).head(1)"
   ]
  },
  {
   "cell_type": "markdown",
   "id": "8e694f46",
   "metadata": {},
   "source": [
    "### 'Year' column"
   ]
  },
  {
   "cell_type": "code",
   "execution_count": 1244,
   "id": "c4a2716d",
   "metadata": {},
   "outputs": [
    {
     "data": {
      "text/html": [
       "<div>\n",
       "<style scoped>\n",
       "    .dataframe tbody tr th:only-of-type {\n",
       "        vertical-align: middle;\n",
       "    }\n",
       "\n",
       "    .dataframe tbody tr th {\n",
       "        vertical-align: top;\n",
       "    }\n",
       "\n",
       "    .dataframe thead th {\n",
       "        text-align: right;\n",
       "    }\n",
       "</style>\n",
       "<table border=\"1\" class=\"dataframe\">\n",
       "  <thead>\n",
       "    <tr style=\"text-align: right;\">\n",
       "      <th></th>\n",
       "      <th>Case Number</th>\n",
       "      <th>Date</th>\n",
       "      <th>Year</th>\n",
       "      <th>Type</th>\n",
       "      <th>Country</th>\n",
       "      <th>Area</th>\n",
       "      <th>Location</th>\n",
       "      <th>Activity</th>\n",
       "      <th>Name</th>\n",
       "      <th>Sex</th>\n",
       "      <th>...</th>\n",
       "      <th>Species</th>\n",
       "      <th>Investigator or Source</th>\n",
       "      <th>pdf</th>\n",
       "      <th>href formula</th>\n",
       "      <th>href</th>\n",
       "      <th>Case Number.1</th>\n",
       "      <th>Case Number.2</th>\n",
       "      <th>original order</th>\n",
       "      <th>Unnamed: 22</th>\n",
       "      <th>Unnamed: 23</th>\n",
       "    </tr>\n",
       "  </thead>\n",
       "  <tbody>\n",
       "    <tr>\n",
       "      <th>187</th>\n",
       "      <td>2017.01.08.R</td>\n",
       "      <td>Reported 08-Jan-2017</td>\n",
       "      <td>NaN</td>\n",
       "      <td>Invalid</td>\n",
       "      <td>AUSTRALIA</td>\n",
       "      <td>Queensland</td>\n",
       "      <td>unknown</td>\n",
       "      <td>Spearfishing</td>\n",
       "      <td>Kerry Daniel</td>\n",
       "      <td>M</td>\n",
       "      <td>...</td>\n",
       "      <td>Bull shark</td>\n",
       "      <td>Liquid Vision 1/8/2017</td>\n",
       "      <td>2017.01.08.R-KerryDaniel.pdf</td>\n",
       "      <td>http://sharkattackfile.net/spreadsheets/pdf_di...</td>\n",
       "      <td>http://sharkattackfile.net/spreadsheets/pdf_di...</td>\n",
       "      <td>2017.01.08.R</td>\n",
       "      <td>2017.01.08.R</td>\n",
       "      <td>6116.0</td>\n",
       "      <td>unknown</td>\n",
       "      <td>unknown</td>\n",
       "    </tr>\n",
       "    <tr>\n",
       "      <th>6079</th>\n",
       "      <td>1836.08.19.R</td>\n",
       "      <td>Reported 19-Aug-1836</td>\n",
       "      <td>NaN</td>\n",
       "      <td>Unprovoked</td>\n",
       "      <td>ENGLAND</td>\n",
       "      <td>Cumberland</td>\n",
       "      <td>Whitehaven</td>\n",
       "      <td>Swimming</td>\n",
       "      <td>a boy</td>\n",
       "      <td>M</td>\n",
       "      <td>...</td>\n",
       "      <td>unknown</td>\n",
       "      <td>C. Moore, GSAF</td>\n",
       "      <td>1835.08.19.R-Whitehaven.pdf</td>\n",
       "      <td>http://sharkattackfile.net/spreadsheets/pdf_di...</td>\n",
       "      <td>http://sharkattackfile.net/spreadsheets/pdf_di...</td>\n",
       "      <td>1836.08.19.R</td>\n",
       "      <td>1836.08.19.R</td>\n",
       "      <td>224.0</td>\n",
       "      <td>unknown</td>\n",
       "      <td>unknown</td>\n",
       "    </tr>\n",
       "    <tr>\n",
       "      <th>6302</th>\n",
       "      <td>0</td>\n",
       "      <td>NaN</td>\n",
       "      <td>NaN</td>\n",
       "      <td>unknown</td>\n",
       "      <td>unknown</td>\n",
       "      <td>unknown</td>\n",
       "      <td>unknown</td>\n",
       "      <td>unknown</td>\n",
       "      <td>unknown</td>\n",
       "      <td>X</td>\n",
       "      <td>...</td>\n",
       "      <td>unknown</td>\n",
       "      <td>unknown</td>\n",
       "      <td>NaN</td>\n",
       "      <td>NaN</td>\n",
       "      <td>NaN</td>\n",
       "      <td>NaN</td>\n",
       "      <td>NaN</td>\n",
       "      <td>6304.0</td>\n",
       "      <td>unknown</td>\n",
       "      <td>unknown</td>\n",
       "    </tr>\n",
       "    <tr>\n",
       "      <th>6303</th>\n",
       "      <td>0</td>\n",
       "      <td>NaN</td>\n",
       "      <td>NaN</td>\n",
       "      <td>unknown</td>\n",
       "      <td>unknown</td>\n",
       "      <td>unknown</td>\n",
       "      <td>unknown</td>\n",
       "      <td>unknown</td>\n",
       "      <td>unknown</td>\n",
       "      <td>X</td>\n",
       "      <td>...</td>\n",
       "      <td>unknown</td>\n",
       "      <td>unknown</td>\n",
       "      <td>NaN</td>\n",
       "      <td>NaN</td>\n",
       "      <td>NaN</td>\n",
       "      <td>NaN</td>\n",
       "      <td>NaN</td>\n",
       "      <td>6305.0</td>\n",
       "      <td>unknown</td>\n",
       "      <td>unknown</td>\n",
       "    </tr>\n",
       "    <tr>\n",
       "      <th>6304</th>\n",
       "      <td>0</td>\n",
       "      <td>NaN</td>\n",
       "      <td>NaN</td>\n",
       "      <td>unknown</td>\n",
       "      <td>unknown</td>\n",
       "      <td>unknown</td>\n",
       "      <td>unknown</td>\n",
       "      <td>unknown</td>\n",
       "      <td>unknown</td>\n",
       "      <td>X</td>\n",
       "      <td>...</td>\n",
       "      <td>unknown</td>\n",
       "      <td>unknown</td>\n",
       "      <td>NaN</td>\n",
       "      <td>NaN</td>\n",
       "      <td>NaN</td>\n",
       "      <td>NaN</td>\n",
       "      <td>NaN</td>\n",
       "      <td>6306.0</td>\n",
       "      <td>unknown</td>\n",
       "      <td>unknown</td>\n",
       "    </tr>\n",
       "    <tr>\n",
       "      <th>6305</th>\n",
       "      <td>0</td>\n",
       "      <td>NaN</td>\n",
       "      <td>NaN</td>\n",
       "      <td>unknown</td>\n",
       "      <td>unknown</td>\n",
       "      <td>unknown</td>\n",
       "      <td>unknown</td>\n",
       "      <td>unknown</td>\n",
       "      <td>unknown</td>\n",
       "      <td>X</td>\n",
       "      <td>...</td>\n",
       "      <td>unknown</td>\n",
       "      <td>unknown</td>\n",
       "      <td>NaN</td>\n",
       "      <td>NaN</td>\n",
       "      <td>NaN</td>\n",
       "      <td>NaN</td>\n",
       "      <td>NaN</td>\n",
       "      <td>6307.0</td>\n",
       "      <td>unknown</td>\n",
       "      <td>unknown</td>\n",
       "    </tr>\n",
       "    <tr>\n",
       "      <th>6306</th>\n",
       "      <td>0</td>\n",
       "      <td>NaN</td>\n",
       "      <td>NaN</td>\n",
       "      <td>unknown</td>\n",
       "      <td>unknown</td>\n",
       "      <td>unknown</td>\n",
       "      <td>unknown</td>\n",
       "      <td>unknown</td>\n",
       "      <td>unknown</td>\n",
       "      <td>X</td>\n",
       "      <td>...</td>\n",
       "      <td>unknown</td>\n",
       "      <td>unknown</td>\n",
       "      <td>NaN</td>\n",
       "      <td>NaN</td>\n",
       "      <td>NaN</td>\n",
       "      <td>NaN</td>\n",
       "      <td>NaN</td>\n",
       "      <td>6308.0</td>\n",
       "      <td>unknown</td>\n",
       "      <td>unknown</td>\n",
       "    </tr>\n",
       "    <tr>\n",
       "      <th>6307</th>\n",
       "      <td>0</td>\n",
       "      <td>NaN</td>\n",
       "      <td>NaN</td>\n",
       "      <td>unknown</td>\n",
       "      <td>unknown</td>\n",
       "      <td>unknown</td>\n",
       "      <td>unknown</td>\n",
       "      <td>unknown</td>\n",
       "      <td>unknown</td>\n",
       "      <td>X</td>\n",
       "      <td>...</td>\n",
       "      <td>unknown</td>\n",
       "      <td>unknown</td>\n",
       "      <td>NaN</td>\n",
       "      <td>NaN</td>\n",
       "      <td>NaN</td>\n",
       "      <td>NaN</td>\n",
       "      <td>NaN</td>\n",
       "      <td>6309.0</td>\n",
       "      <td>unknown</td>\n",
       "      <td>unknown</td>\n",
       "    </tr>\n",
       "    <tr>\n",
       "      <th>6308</th>\n",
       "      <td>0</td>\n",
       "      <td>NaN</td>\n",
       "      <td>NaN</td>\n",
       "      <td>unknown</td>\n",
       "      <td>unknown</td>\n",
       "      <td>unknown</td>\n",
       "      <td>unknown</td>\n",
       "      <td>unknown</td>\n",
       "      <td>unknown</td>\n",
       "      <td>X</td>\n",
       "      <td>...</td>\n",
       "      <td>unknown</td>\n",
       "      <td>unknown</td>\n",
       "      <td>NaN</td>\n",
       "      <td>NaN</td>\n",
       "      <td>NaN</td>\n",
       "      <td>NaN</td>\n",
       "      <td>NaN</td>\n",
       "      <td>6310.0</td>\n",
       "      <td>unknown</td>\n",
       "      <td>unknown</td>\n",
       "    </tr>\n",
       "    <tr>\n",
       "      <th>6309</th>\n",
       "      <td>0</td>\n",
       "      <td>NaN</td>\n",
       "      <td>NaN</td>\n",
       "      <td>unknown</td>\n",
       "      <td>unknown</td>\n",
       "      <td>unknown</td>\n",
       "      <td>unknown</td>\n",
       "      <td>unknown</td>\n",
       "      <td>unknown</td>\n",
       "      <td>X</td>\n",
       "      <td>...</td>\n",
       "      <td>unknown</td>\n",
       "      <td>unknown</td>\n",
       "      <td>NaN</td>\n",
       "      <td>NaN</td>\n",
       "      <td>NaN</td>\n",
       "      <td>NaN</td>\n",
       "      <td>NaN</td>\n",
       "      <td>NaN</td>\n",
       "      <td>unknown</td>\n",
       "      <td>unknown</td>\n",
       "    </tr>\n",
       "    <tr>\n",
       "      <th>8702</th>\n",
       "      <td>NaN</td>\n",
       "      <td>NaN</td>\n",
       "      <td>NaN</td>\n",
       "      <td>unknown</td>\n",
       "      <td>unknown</td>\n",
       "      <td>unknown</td>\n",
       "      <td>unknown</td>\n",
       "      <td>unknown</td>\n",
       "      <td>unknown</td>\n",
       "      <td>X</td>\n",
       "      <td>...</td>\n",
       "      <td>unknown</td>\n",
       "      <td>unknown</td>\n",
       "      <td>NaN</td>\n",
       "      <td>NaN</td>\n",
       "      <td>NaN</td>\n",
       "      <td>NaN</td>\n",
       "      <td>NaN</td>\n",
       "      <td>NaN</td>\n",
       "      <td>unknown</td>\n",
       "      <td>unknown</td>\n",
       "    </tr>\n",
       "    <tr>\n",
       "      <th>25722</th>\n",
       "      <td>xx</td>\n",
       "      <td>NaN</td>\n",
       "      <td>NaN</td>\n",
       "      <td>unknown</td>\n",
       "      <td>unknown</td>\n",
       "      <td>unknown</td>\n",
       "      <td>unknown</td>\n",
       "      <td>unknown</td>\n",
       "      <td>unknown</td>\n",
       "      <td>X</td>\n",
       "      <td>...</td>\n",
       "      <td>unknown</td>\n",
       "      <td>unknown</td>\n",
       "      <td>NaN</td>\n",
       "      <td>NaN</td>\n",
       "      <td>NaN</td>\n",
       "      <td>NaN</td>\n",
       "      <td>NaN</td>\n",
       "      <td>NaN</td>\n",
       "      <td>unknown</td>\n",
       "      <td>unknown</td>\n",
       "    </tr>\n",
       "  </tbody>\n",
       "</table>\n",
       "<p>12 rows × 24 columns</p>\n",
       "</div>"
      ],
      "text/plain": [
       "        Case Number                  Date  Year        Type    Country  \\\n",
       "187    2017.01.08.R  Reported 08-Jan-2017   NaN     Invalid  AUSTRALIA   \n",
       "6079   1836.08.19.R  Reported 19-Aug-1836   NaN  Unprovoked    ENGLAND   \n",
       "6302              0                   NaN   NaN     unknown    unknown   \n",
       "6303              0                   NaN   NaN     unknown    unknown   \n",
       "6304              0                   NaN   NaN     unknown    unknown   \n",
       "6305              0                   NaN   NaN     unknown    unknown   \n",
       "6306              0                   NaN   NaN     unknown    unknown   \n",
       "6307              0                   NaN   NaN     unknown    unknown   \n",
       "6308              0                   NaN   NaN     unknown    unknown   \n",
       "6309              0                   NaN   NaN     unknown    unknown   \n",
       "8702            NaN                   NaN   NaN     unknown    unknown   \n",
       "25722            xx                   NaN   NaN     unknown    unknown   \n",
       "\n",
       "             Area    Location      Activity          Name Sex  ...  \\\n",
       "187    Queensland     unknown  Spearfishing  Kerry Daniel   M  ...   \n",
       "6079   Cumberland  Whitehaven      Swimming         a boy   M  ...   \n",
       "6302      unknown     unknown       unknown       unknown   X  ...   \n",
       "6303      unknown     unknown       unknown       unknown   X  ...   \n",
       "6304      unknown     unknown       unknown       unknown   X  ...   \n",
       "6305      unknown     unknown       unknown       unknown   X  ...   \n",
       "6306      unknown     unknown       unknown       unknown   X  ...   \n",
       "6307      unknown     unknown       unknown       unknown   X  ...   \n",
       "6308      unknown     unknown       unknown       unknown   X  ...   \n",
       "6309      unknown     unknown       unknown       unknown   X  ...   \n",
       "8702      unknown     unknown       unknown       unknown   X  ...   \n",
       "25722     unknown     unknown       unknown       unknown   X  ...   \n",
       "\n",
       "          Species  Investigator or Source                           pdf  \\\n",
       "187    Bull shark  Liquid Vision 1/8/2017  2017.01.08.R-KerryDaniel.pdf   \n",
       "6079      unknown          C. Moore, GSAF   1835.08.19.R-Whitehaven.pdf   \n",
       "6302      unknown                 unknown                           NaN   \n",
       "6303      unknown                 unknown                           NaN   \n",
       "6304      unknown                 unknown                           NaN   \n",
       "6305      unknown                 unknown                           NaN   \n",
       "6306      unknown                 unknown                           NaN   \n",
       "6307      unknown                 unknown                           NaN   \n",
       "6308      unknown                 unknown                           NaN   \n",
       "6309      unknown                 unknown                           NaN   \n",
       "8702      unknown                 unknown                           NaN   \n",
       "25722     unknown                 unknown                           NaN   \n",
       "\n",
       "                                            href formula  \\\n",
       "187    http://sharkattackfile.net/spreadsheets/pdf_di...   \n",
       "6079   http://sharkattackfile.net/spreadsheets/pdf_di...   \n",
       "6302                                                 NaN   \n",
       "6303                                                 NaN   \n",
       "6304                                                 NaN   \n",
       "6305                                                 NaN   \n",
       "6306                                                 NaN   \n",
       "6307                                                 NaN   \n",
       "6308                                                 NaN   \n",
       "6309                                                 NaN   \n",
       "8702                                                 NaN   \n",
       "25722                                                NaN   \n",
       "\n",
       "                                                    href Case Number.1  \\\n",
       "187    http://sharkattackfile.net/spreadsheets/pdf_di...  2017.01.08.R   \n",
       "6079   http://sharkattackfile.net/spreadsheets/pdf_di...  1836.08.19.R   \n",
       "6302                                                 NaN           NaN   \n",
       "6303                                                 NaN           NaN   \n",
       "6304                                                 NaN           NaN   \n",
       "6305                                                 NaN           NaN   \n",
       "6306                                                 NaN           NaN   \n",
       "6307                                                 NaN           NaN   \n",
       "6308                                                 NaN           NaN   \n",
       "6309                                                 NaN           NaN   \n",
       "8702                                                 NaN           NaN   \n",
       "25722                                                NaN           NaN   \n",
       "\n",
       "      Case Number.2 original order Unnamed: 22 Unnamed: 23  \n",
       "187    2017.01.08.R         6116.0     unknown     unknown  \n",
       "6079   1836.08.19.R          224.0     unknown     unknown  \n",
       "6302            NaN         6304.0     unknown     unknown  \n",
       "6303            NaN         6305.0     unknown     unknown  \n",
       "6304            NaN         6306.0     unknown     unknown  \n",
       "6305            NaN         6307.0     unknown     unknown  \n",
       "6306            NaN         6308.0     unknown     unknown  \n",
       "6307            NaN         6309.0     unknown     unknown  \n",
       "6308            NaN         6310.0     unknown     unknown  \n",
       "6309            NaN            NaN     unknown     unknown  \n",
       "8702            NaN            NaN     unknown     unknown  \n",
       "25722           NaN            NaN     unknown     unknown  \n",
       "\n",
       "[12 rows x 24 columns]"
      ]
     },
     "execution_count": 1244,
     "metadata": {},
     "output_type": "execute_result"
    }
   ],
   "source": [
    "df[df['Year'].isna()]"
   ]
  },
  {
   "cell_type": "code",
   "execution_count": 1245,
   "id": "03f181db",
   "metadata": {},
   "outputs": [],
   "source": [
    "df.loc[187, 'Year'] = 2017\n",
    "df.loc[6079, 'Year'] = 1836"
   ]
  },
  {
   "cell_type": "code",
   "execution_count": 1246,
   "id": "a9b16475",
   "metadata": {},
   "outputs": [],
   "source": [
    "bad_index = df[df['Year'].isna()].index"
   ]
  },
  {
   "cell_type": "code",
   "execution_count": 1247,
   "id": "f1b6a59f",
   "metadata": {},
   "outputs": [],
   "source": [
    "df.drop(index=bad_index, inplace=True)"
   ]
  },
  {
   "cell_type": "code",
   "execution_count": 1248,
   "id": "4b007d13",
   "metadata": {},
   "outputs": [
    {
     "data": {
      "text/plain": [
       "Case Number       1\n",
       "href formula      1\n",
       "Date              0\n",
       "Unnamed: 22       0\n",
       "original order    0\n",
       "dtype: int64"
      ]
     },
     "execution_count": 1248,
     "metadata": {},
     "output_type": "execute_result"
    }
   ],
   "source": [
    "nan(df).head()"
   ]
  },
  {
   "cell_type": "markdown",
   "id": "5411b907",
   "metadata": {},
   "source": [
    "### Last two columns with NaN..."
   ]
  },
  {
   "cell_type": "code",
   "execution_count": 1249,
   "id": "cd3d4491",
   "metadata": {},
   "outputs": [
    {
     "data": {
      "text/html": [
       "<div>\n",
       "<style scoped>\n",
       "    .dataframe tbody tr th:only-of-type {\n",
       "        vertical-align: middle;\n",
       "    }\n",
       "\n",
       "    .dataframe tbody tr th {\n",
       "        vertical-align: top;\n",
       "    }\n",
       "\n",
       "    .dataframe thead th {\n",
       "        text-align: right;\n",
       "    }\n",
       "</style>\n",
       "<table border=\"1\" class=\"dataframe\">\n",
       "  <thead>\n",
       "    <tr style=\"text-align: right;\">\n",
       "      <th></th>\n",
       "      <th>Case Number</th>\n",
       "      <th>Date</th>\n",
       "      <th>Year</th>\n",
       "      <th>Type</th>\n",
       "      <th>Country</th>\n",
       "      <th>Area</th>\n",
       "      <th>Location</th>\n",
       "      <th>Activity</th>\n",
       "      <th>Name</th>\n",
       "      <th>Sex</th>\n",
       "      <th>...</th>\n",
       "      <th>Species</th>\n",
       "      <th>Investigator or Source</th>\n",
       "      <th>pdf</th>\n",
       "      <th>href formula</th>\n",
       "      <th>href</th>\n",
       "      <th>Case Number.1</th>\n",
       "      <th>Case Number.2</th>\n",
       "      <th>original order</th>\n",
       "      <th>Unnamed: 22</th>\n",
       "      <th>Unnamed: 23</th>\n",
       "    </tr>\n",
       "  </thead>\n",
       "  <tbody>\n",
       "    <tr>\n",
       "      <th>5488</th>\n",
       "      <td>NaN</td>\n",
       "      <td>Reported 06-Sep-1905</td>\n",
       "      <td>1905.0</td>\n",
       "      <td>Provoked</td>\n",
       "      <td>USA</td>\n",
       "      <td>Florida</td>\n",
       "      <td>Fort Pierce, St Lucie County</td>\n",
       "      <td>Fishing</td>\n",
       "      <td>David Curry</td>\n",
       "      <td>M</td>\n",
       "      <td>...</td>\n",
       "      <td>unknown</td>\n",
       "      <td>Muncie Evening Press, 8/6/1913</td>\n",
       "      <td>1905.09.06.R-Curry.pdf</td>\n",
       "      <td>http://sharkattackfile.net/spreadsheets/pdf_di...</td>\n",
       "      <td>http://sharkattackfile.net/spreadsheets/pdf_di...</td>\n",
       "      <td>1905.09.06.R</td>\n",
       "      <td>1905.09.06.R</td>\n",
       "      <td>815.0</td>\n",
       "      <td>unknown</td>\n",
       "      <td>unknown</td>\n",
       "    </tr>\n",
       "  </tbody>\n",
       "</table>\n",
       "<p>1 rows × 24 columns</p>\n",
       "</div>"
      ],
      "text/plain": [
       "     Case Number                  Date    Year      Type Country     Area  \\\n",
       "5488         NaN  Reported 06-Sep-1905  1905.0  Provoked     USA  Florida   \n",
       "\n",
       "                          Location Activity         Name Sex  ...  Species  \\\n",
       "5488  Fort Pierce, St Lucie County  Fishing  David Curry   M  ...  unknown   \n",
       "\n",
       "              Investigator or Source                     pdf  \\\n",
       "5488  Muncie Evening Press, 8/6/1913  1905.09.06.R-Curry.pdf   \n",
       "\n",
       "                                           href formula  \\\n",
       "5488  http://sharkattackfile.net/spreadsheets/pdf_di...   \n",
       "\n",
       "                                                   href Case Number.1  \\\n",
       "5488  http://sharkattackfile.net/spreadsheets/pdf_di...  1905.09.06.R   \n",
       "\n",
       "     Case Number.2 original order Unnamed: 22 Unnamed: 23  \n",
       "5488  1905.09.06.R          815.0     unknown     unknown  \n",
       "\n",
       "[1 rows x 24 columns]"
      ]
     },
     "execution_count": 1249,
     "metadata": {},
     "output_type": "execute_result"
    }
   ],
   "source": [
    "df[df['Case Number'].isna()]"
   ]
  },
  {
   "cell_type": "code",
   "execution_count": 1250,
   "id": "f2df1cdd",
   "metadata": {},
   "outputs": [],
   "source": [
    "df.loc[5488, 'Case Number'] = '1905.09.06'"
   ]
  },
  {
   "cell_type": "code",
   "execution_count": 1251,
   "id": "ff43c50f",
   "metadata": {},
   "outputs": [
    {
     "data": {
      "text/plain": [
       "3244    http://sharkattackfile.net/spreadsheets/pdf_di...\n",
       "Name: href, dtype: object"
      ]
     },
     "execution_count": 1251,
     "metadata": {},
     "output_type": "execute_result"
    }
   ],
   "source": [
    "df['href'][df['href formula'].isna()]"
   ]
  },
  {
   "cell_type": "code",
   "execution_count": 1252,
   "id": "145d2b78",
   "metadata": {},
   "outputs": [],
   "source": [
    "df.loc[3244, 'href formula'] = df.loc[3244, 'href']"
   ]
  },
  {
   "cell_type": "code",
   "execution_count": 1253,
   "id": "238d2884",
   "metadata": {},
   "outputs": [
    {
     "data": {
      "text/plain": [
       "Case Number       0\n",
       "Date              0\n",
       "Unnamed: 22       0\n",
       "original order    0\n",
       "Case Number.2     0\n",
       "dtype: int64"
      ]
     },
     "execution_count": 1253,
     "metadata": {},
     "output_type": "execute_result"
    }
   ],
   "source": [
    "nan(df).head()"
   ]
  },
  {
   "cell_type": "code",
   "execution_count": 1254,
   "id": "212f5b6f",
   "metadata": {},
   "outputs": [
    {
     "data": {
      "image/png": "[encoded data removed]",
      "text/plain": [
       "<Figure size 1000x600 with 1 Axes>"
      ]
     },
     "metadata": {
      "needs_background": "light"
     },
     "output_type": "display_data"
    }
   ],
   "source": [
    "view_nan(df)"
   ]
  },
  {
   "cell_type": "markdown",
   "id": "8e201dea",
   "metadata": {},
   "source": [
    "____"
   ]
  },
  {
   "cell_type": "markdown",
   "id": "024a2fd6",
   "metadata": {},
   "source": [
    "## 03 - Low Variance columns"
   ]
  },
  {
   "cell_type": "code",
   "execution_count": 1255,
   "id": "5c4bac7d",
   "metadata": {},
   "outputs": [
    {
     "data": {
      "text/plain": [
       "[]"
      ]
     },
     "execution_count": 1255,
     "metadata": {},
     "output_type": "execute_result"
    }
   ],
   "source": [
    "low_variance = []\n",
    "\n",
    "for col in df.select_dtypes(include = np.number): \n",
    "    \n",
    "    minimo = df[col].min()\n",
    "    maximo = df[col].max()\n",
    "    \n",
    "    per_90 = np.percentile(df[col], 90)\n",
    "    per_10 = np.percentile(df[col], 10)\n",
    "    \n",
    "    if minimo == per_90 or maximo == per_10:\n",
    "        low_variance.append(col)\n",
    "        \n",
    "low_variance"
   ]
  },
  {
   "cell_type": "markdown",
   "id": "f845b017",
   "metadata": {},
   "source": [
    "_____"
   ]
  },
  {
   "cell_type": "markdown",
   "id": "3333cc2a",
   "metadata": {},
   "source": [
    "## 04 - Constant columns"
   ]
  },
  {
   "cell_type": "code",
   "execution_count": 1256,
   "id": "3ac22edc",
   "metadata": {},
   "outputs": [
    {
     "data": {
      "text/plain": [
       "[]"
      ]
     },
     "execution_count": 1256,
     "metadata": {},
     "output_type": "execute_result"
    }
   ],
   "source": [
    "cte_cols = []\n",
    "\n",
    "for col in df.select_dtypes(include = np.number):\n",
    "    \n",
    "    if len(df[col].unique()) == 1:\n",
    "        cte_cols.append(col)\n",
    "        \n",
    "cte_cols"
   ]
  },
  {
   "cell_type": "code",
   "execution_count": 1257,
   "id": "af27d7ab",
   "metadata": {},
   "outputs": [
    {
     "data": {
      "text/plain": [
       "[]"
      ]
     },
     "execution_count": 1257,
     "metadata": {},
     "output_type": "execute_result"
    }
   ],
   "source": [
    "cte_str_cols = []\n",
    "\n",
    "for col in df.select_dtypes(include = 'object'):\n",
    "    \n",
    "    if len(df[col].unique()) == 1:\n",
    "        cte_str_cols.append(col)\n",
    "          \n",
    "cte_str_cols"
   ]
  },
  {
   "cell_type": "markdown",
   "id": "d54637f2",
   "metadata": {},
   "source": [
    "_____"
   ]
  },
  {
   "cell_type": "markdown",
   "id": "183ef3a4",
   "metadata": {},
   "source": [
    "## 05 - Special characters"
   ]
  },
  {
   "cell_type": "code",
   "execution_count": 1258,
   "id": "a3758d2d",
   "metadata": {},
   "outputs": [],
   "source": [
    "# patron = r'[?¿*$%&]'\n",
    "\n",
    "# def find_special_chars(df):\n",
    "#     for col in df.select_dtypes(include = 'object').columns:\n",
    "#         for i in range(len(df)):\n",
    "#             value = df.loc[i, col]\n",
    "#             weird_chars = re.findall(patron, value)\n",
    "#             if weird_chars:\n",
    "#                 print(f\"Columna: {col} | Fila: {i} | Caracteres raros: {weird_chars}\")\n",
    "\n",
    "# find_special_chars(df)"
   ]
  },
  {
   "cell_type": "code",
   "execution_count": 1259,
   "id": "252376f6",
   "metadata": {},
   "outputs": [],
   "source": [
    "# df.replace('&', 'and', regex=True, inplace=True)"
   ]
  },
  {
   "cell_type": "code",
   "execution_count": 1260,
   "id": "a5cb3342",
   "metadata": {},
   "outputs": [],
   "source": [
    "# find_special_chars(df)"
   ]
  },
  {
   "cell_type": "markdown",
   "id": "6d33b119",
   "metadata": {},
   "source": [
    "____"
   ]
  },
  {
   "cell_type": "markdown",
   "id": "6118391c",
   "metadata": {},
   "source": [
    "## 06 - Incorrect values"
   ]
  },
  {
   "cell_type": "code",
   "execution_count": 1261,
   "id": "5ffbfc2e",
   "metadata": {},
   "outputs": [],
   "source": [
    "def unique_values(df):\n",
    "    return sorted([(col, len(df[col].unique())) for col in df.columns], key=lambda x: x[1])"
   ]
  },
  {
   "cell_type": "code",
   "execution_count": 1262,
   "id": "8256f862",
   "metadata": {},
   "outputs": [
    {
     "data": {
      "text/plain": [
       "[('Unnamed: 22', 2),\n",
       " ('Unnamed: 23', 3),\n",
       " ('Sex', 7),\n",
       " ('Fatal (Y/N)', 8),\n",
       " ('Type', 9),\n",
       " ('Age', 158),\n",
       " ('Country', 213),\n",
       " ('Year', 249),\n",
       " ('Time', 367),\n",
       " ('Area', 826),\n",
       " ('Activity', 1533),\n",
       " ('Species', 1550),\n",
       " ('Injury', 3737),\n",
       " ('Location', 4109),\n",
       " ('Investigator or Source', 4970),\n",
       " ('Name', 5230),\n",
       " ('Date', 5433),\n",
       " ('href', 6285),\n",
       " ('Case Number.1', 6285),\n",
       " ('Case Number', 6286),\n",
       " ('Case Number.2', 6286),\n",
       " ('pdf', 6291),\n",
       " ('href formula', 6291),\n",
       " ('original order', 6301)]"
      ]
     },
     "execution_count": 1262,
     "metadata": {},
     "output_type": "execute_result"
    }
   ],
   "source": [
    "unique_values(df)"
   ]
  },
  {
   "cell_type": "markdown",
   "id": "06da4d48",
   "metadata": {},
   "source": [
    "### 'Unnamed: 22' & 'Unnamed: 23' columns"
   ]
  },
  {
   "cell_type": "code",
   "execution_count": 1263,
   "id": "a7e7811e",
   "metadata": {},
   "outputs": [
    {
     "data": {
      "text/plain": [
       "unknown         6301\n",
       "stopped here       1\n",
       "Name: Unnamed: 22, dtype: int64"
      ]
     },
     "execution_count": 1263,
     "metadata": {},
     "output_type": "execute_result"
    }
   ],
   "source": [
    "df['Unnamed: 22'].value_counts()"
   ]
  },
  {
   "cell_type": "code",
   "execution_count": 1264,
   "id": "4e89ef79",
   "metadata": {},
   "outputs": [
    {
     "data": {
      "text/html": [
       "<div>\n",
       "<style scoped>\n",
       "    .dataframe tbody tr th:only-of-type {\n",
       "        vertical-align: middle;\n",
       "    }\n",
       "\n",
       "    .dataframe tbody tr th {\n",
       "        vertical-align: top;\n",
       "    }\n",
       "\n",
       "    .dataframe thead th {\n",
       "        text-align: right;\n",
       "    }\n",
       "</style>\n",
       "<table border=\"1\" class=\"dataframe\">\n",
       "  <thead>\n",
       "    <tr style=\"text-align: right;\">\n",
       "      <th></th>\n",
       "      <th>Case Number</th>\n",
       "      <th>Date</th>\n",
       "      <th>Year</th>\n",
       "      <th>Type</th>\n",
       "      <th>Country</th>\n",
       "      <th>Area</th>\n",
       "      <th>Location</th>\n",
       "      <th>Activity</th>\n",
       "      <th>Name</th>\n",
       "      <th>Sex</th>\n",
       "      <th>...</th>\n",
       "      <th>Species</th>\n",
       "      <th>Investigator or Source</th>\n",
       "      <th>pdf</th>\n",
       "      <th>href formula</th>\n",
       "      <th>href</th>\n",
       "      <th>Case Number.1</th>\n",
       "      <th>Case Number.2</th>\n",
       "      <th>original order</th>\n",
       "      <th>Unnamed: 22</th>\n",
       "      <th>Unnamed: 23</th>\n",
       "    </tr>\n",
       "  </thead>\n",
       "  <tbody>\n",
       "    <tr>\n",
       "      <th>1478</th>\n",
       "      <td>2006.05.27</td>\n",
       "      <td>27-May-2006</td>\n",
       "      <td>2006.0</td>\n",
       "      <td>Unprovoked</td>\n",
       "      <td>USA</td>\n",
       "      <td>Hawaii</td>\n",
       "      <td>North Shore, O'ahu</td>\n",
       "      <td>Surfing</td>\n",
       "      <td>Bret Desmond</td>\n",
       "      <td>M</td>\n",
       "      <td>...</td>\n",
       "      <td>unknown</td>\n",
       "      <td>R. Collier</td>\n",
       "      <td>2006.05.27-Desmond.pdf</td>\n",
       "      <td>http://sharkattackfile.net/spreadsheets/pdf_di...</td>\n",
       "      <td>http://sharkattackfile.net/spreadsheets/pdf_di...</td>\n",
       "      <td>2006.05.27</td>\n",
       "      <td>2006.05.27</td>\n",
       "      <td>4825.0</td>\n",
       "      <td>stopped here</td>\n",
       "      <td>unknown</td>\n",
       "    </tr>\n",
       "  </tbody>\n",
       "</table>\n",
       "<p>1 rows × 24 columns</p>\n",
       "</div>"
      ],
      "text/plain": [
       "     Case Number         Date    Year        Type Country    Area  \\\n",
       "1478  2006.05.27  27-May-2006  2006.0  Unprovoked     USA  Hawaii   \n",
       "\n",
       "                Location Activity          Name Sex  ...  Species  \\\n",
       "1478  North Shore, O'ahu  Surfing  Bret Desmond   M  ...  unknown   \n",
       "\n",
       "     Investigator or Source                     pdf  \\\n",
       "1478             R. Collier  2006.05.27-Desmond.pdf   \n",
       "\n",
       "                                           href formula  \\\n",
       "1478  http://sharkattackfile.net/spreadsheets/pdf_di...   \n",
       "\n",
       "                                                   href Case Number.1  \\\n",
       "1478  http://sharkattackfile.net/spreadsheets/pdf_di...    2006.05.27   \n",
       "\n",
       "     Case Number.2 original order   Unnamed: 22 Unnamed: 23  \n",
       "1478    2006.05.27         4825.0  stopped here     unknown  \n",
       "\n",
       "[1 rows x 24 columns]"
      ]
     },
     "execution_count": 1264,
     "metadata": {},
     "output_type": "execute_result"
    }
   ],
   "source": [
    "df.loc[df['Unnamed: 22'] == 'stopped here']"
   ]
  },
  {
   "cell_type": "code",
   "execution_count": 1265,
   "id": "ccb59dd2",
   "metadata": {},
   "outputs": [
    {
     "data": {
      "text/plain": [
       "unknown            6300\n",
       "Teramo                1\n",
       "change filename       1\n",
       "Name: Unnamed: 23, dtype: int64"
      ]
     },
     "execution_count": 1265,
     "metadata": {},
     "output_type": "execute_result"
    }
   ],
   "source": [
    "df['Unnamed: 23'].value_counts()"
   ]
  },
  {
   "cell_type": "code",
   "execution_count": 1266,
   "id": "e13c4314",
   "metadata": {},
   "outputs": [
    {
     "data": {
      "text/html": [
       "<div>\n",
       "<style scoped>\n",
       "    .dataframe tbody tr th:only-of-type {\n",
       "        vertical-align: middle;\n",
       "    }\n",
       "\n",
       "    .dataframe tbody tr th {\n",
       "        vertical-align: top;\n",
       "    }\n",
       "\n",
       "    .dataframe thead th {\n",
       "        text-align: right;\n",
       "    }\n",
       "</style>\n",
       "<table border=\"1\" class=\"dataframe\">\n",
       "  <thead>\n",
       "    <tr style=\"text-align: right;\">\n",
       "      <th></th>\n",
       "      <th>Case Number</th>\n",
       "      <th>Date</th>\n",
       "      <th>Year</th>\n",
       "      <th>Type</th>\n",
       "      <th>Country</th>\n",
       "      <th>Area</th>\n",
       "      <th>Location</th>\n",
       "      <th>Activity</th>\n",
       "      <th>Name</th>\n",
       "      <th>Sex</th>\n",
       "      <th>...</th>\n",
       "      <th>Species</th>\n",
       "      <th>Investigator or Source</th>\n",
       "      <th>pdf</th>\n",
       "      <th>href formula</th>\n",
       "      <th>href</th>\n",
       "      <th>Case Number.1</th>\n",
       "      <th>Case Number.2</th>\n",
       "      <th>original order</th>\n",
       "      <th>Unnamed: 22</th>\n",
       "      <th>Unnamed: 23</th>\n",
       "    </tr>\n",
       "  </thead>\n",
       "  <tbody>\n",
       "    <tr>\n",
       "      <th>4415</th>\n",
       "      <td>1952.03.30</td>\n",
       "      <td>30-Mar-1952</td>\n",
       "      <td>1952.0</td>\n",
       "      <td>Unprovoked</td>\n",
       "      <td>NETHERLANDS ANTILLES</td>\n",
       "      <td>Curacao</td>\n",
       "      <td>unknown</td>\n",
       "      <td>Went to aid of child being menaced by the shark</td>\n",
       "      <td>A.J. Eggink</td>\n",
       "      <td>M</td>\n",
       "      <td>...</td>\n",
       "      <td>Bull shark, 2.7 m [9'] was captured &amp; dragged ...</td>\n",
       "      <td>J. Randall, p.352 in Sharks &amp; Survival; H.D. B...</td>\n",
       "      <td>1952.03.30-Eggink.pdf</td>\n",
       "      <td>http://sharkattackfile.net/spreadsheets/pdf_di...</td>\n",
       "      <td>http://sharkattackfile.net/spreadsheets/pdf_di...</td>\n",
       "      <td>1952.03.30</td>\n",
       "      <td>1952.03.30</td>\n",
       "      <td>1888.0</td>\n",
       "      <td>unknown</td>\n",
       "      <td>Teramo</td>\n",
       "    </tr>\n",
       "  </tbody>\n",
       "</table>\n",
       "<p>1 rows × 24 columns</p>\n",
       "</div>"
      ],
      "text/plain": [
       "     Case Number         Date    Year        Type               Country  \\\n",
       "4415  1952.03.30  30-Mar-1952  1952.0  Unprovoked  NETHERLANDS ANTILLES   \n",
       "\n",
       "         Area Location                                         Activity  \\\n",
       "4415  Curacao  unknown  Went to aid of child being menaced by the shark   \n",
       "\n",
       "             Name Sex  ...                                            Species  \\\n",
       "4415  A.J. Eggink   M  ...  Bull shark, 2.7 m [9'] was captured & dragged ...   \n",
       "\n",
       "                                 Investigator or Source  \\\n",
       "4415  J. Randall, p.352 in Sharks & Survival; H.D. B...   \n",
       "\n",
       "                        pdf  \\\n",
       "4415  1952.03.30-Eggink.pdf   \n",
       "\n",
       "                                           href formula  \\\n",
       "4415  http://sharkattackfile.net/spreadsheets/pdf_di...   \n",
       "\n",
       "                                                   href Case Number.1  \\\n",
       "4415  http://sharkattackfile.net/spreadsheets/pdf_di...    1952.03.30   \n",
       "\n",
       "     Case Number.2 original order Unnamed: 22 Unnamed: 23  \n",
       "4415    1952.03.30         1888.0     unknown      Teramo  \n",
       "\n",
       "[1 rows x 24 columns]"
      ]
     },
     "execution_count": 1266,
     "metadata": {},
     "output_type": "execute_result"
    }
   ],
   "source": [
    "df.loc[df['Unnamed: 23'] == 'Teramo']"
   ]
  },
  {
   "cell_type": "code",
   "execution_count": 1267,
   "id": "74bdace7",
   "metadata": {},
   "outputs": [
    {
     "data": {
      "text/html": [
       "<div>\n",
       "<style scoped>\n",
       "    .dataframe tbody tr th:only-of-type {\n",
       "        vertical-align: middle;\n",
       "    }\n",
       "\n",
       "    .dataframe tbody tr th {\n",
       "        vertical-align: top;\n",
       "    }\n",
       "\n",
       "    .dataframe thead th {\n",
       "        text-align: right;\n",
       "    }\n",
       "</style>\n",
       "<table border=\"1\" class=\"dataframe\">\n",
       "  <thead>\n",
       "    <tr style=\"text-align: right;\">\n",
       "      <th></th>\n",
       "      <th>Case Number</th>\n",
       "      <th>Date</th>\n",
       "      <th>Year</th>\n",
       "      <th>Type</th>\n",
       "      <th>Country</th>\n",
       "      <th>Area</th>\n",
       "      <th>Location</th>\n",
       "      <th>Activity</th>\n",
       "      <th>Name</th>\n",
       "      <th>Sex</th>\n",
       "      <th>...</th>\n",
       "      <th>Species</th>\n",
       "      <th>Investigator or Source</th>\n",
       "      <th>pdf</th>\n",
       "      <th>href formula</th>\n",
       "      <th>href</th>\n",
       "      <th>Case Number.1</th>\n",
       "      <th>Case Number.2</th>\n",
       "      <th>original order</th>\n",
       "      <th>Unnamed: 22</th>\n",
       "      <th>Unnamed: 23</th>\n",
       "    </tr>\n",
       "  </thead>\n",
       "  <tbody>\n",
       "    <tr>\n",
       "      <th>5840</th>\n",
       "      <td>1878.09.14.R</td>\n",
       "      <td>Reported 14-Sep-1878</td>\n",
       "      <td>1878.0</td>\n",
       "      <td>Provoked</td>\n",
       "      <td>USA</td>\n",
       "      <td>Connecticut</td>\n",
       "      <td>Branford, New Haven County</td>\n",
       "      <td>Fishing</td>\n",
       "      <td>Captain Pattison</td>\n",
       "      <td>M</td>\n",
       "      <td>...</td>\n",
       "      <td>unknown</td>\n",
       "      <td>St. Joseph Herald, 9/14/1878</td>\n",
       "      <td>1878.09.14.R-Pattison.pdf</td>\n",
       "      <td>http://sharkattackfile.net/spreadsheets/pdf_di...</td>\n",
       "      <td>http://sharkattackfile.net/spreadsheets/pdf_di...</td>\n",
       "      <td>1878.09.14.R</td>\n",
       "      <td>1878.09.14.R</td>\n",
       "      <td>463.0</td>\n",
       "      <td>unknown</td>\n",
       "      <td>change filename</td>\n",
       "    </tr>\n",
       "  </tbody>\n",
       "</table>\n",
       "<p>1 rows × 24 columns</p>\n",
       "</div>"
      ],
      "text/plain": [
       "       Case Number                  Date    Year      Type Country  \\\n",
       "5840  1878.09.14.R  Reported 14-Sep-1878  1878.0  Provoked     USA   \n",
       "\n",
       "             Area                    Location Activity              Name Sex  \\\n",
       "5840  Connecticut  Branford, New Haven County  Fishing  Captain Pattison   M   \n",
       "\n",
       "      ...  Species        Investigator or Source                        pdf  \\\n",
       "5840  ...  unknown  St. Joseph Herald, 9/14/1878  1878.09.14.R-Pattison.pdf   \n",
       "\n",
       "                                           href formula  \\\n",
       "5840  http://sharkattackfile.net/spreadsheets/pdf_di...   \n",
       "\n",
       "                                                   href Case Number.1  \\\n",
       "5840  http://sharkattackfile.net/spreadsheets/pdf_di...  1878.09.14.R   \n",
       "\n",
       "     Case Number.2 original order Unnamed: 22      Unnamed: 23  \n",
       "5840  1878.09.14.R          463.0     unknown  change filename  \n",
       "\n",
       "[1 rows x 24 columns]"
      ]
     },
     "execution_count": 1267,
     "metadata": {},
     "output_type": "execute_result"
    }
   ],
   "source": [
    "df.loc[df['Unnamed: 23'] == 'change filename']"
   ]
  },
  {
   "cell_type": "code",
   "execution_count": 1268,
   "id": "6462794a",
   "metadata": {},
   "outputs": [],
   "source": [
    "df['Comments'] = df['Unnamed: 22'] + df['Unnamed: 23']"
   ]
  },
  {
   "cell_type": "code",
   "execution_count": 1269,
   "id": "5d86d218",
   "metadata": {},
   "outputs": [],
   "source": [
    "df.drop(['Unnamed: 23', 'Unnamed: 22'], axis = 1, inplace = True)"
   ]
  },
  {
   "cell_type": "code",
   "execution_count": 1270,
   "id": "54b7caa3",
   "metadata": {},
   "outputs": [],
   "source": [
    "df.replace('unknownunknown', 'none', regex=True, inplace=True)"
   ]
  },
  {
   "cell_type": "markdown",
   "id": "f5cb5335",
   "metadata": {},
   "source": [
    "### 'Sex' column"
   ]
  },
  {
   "cell_type": "code",
   "execution_count": 1271,
   "id": "7063fc1f",
   "metadata": {},
   "outputs": [],
   "source": [
    "df['Sex'] = df['Sex'].str.strip()"
   ]
  },
  {
   "cell_type": "code",
   "execution_count": 1272,
   "id": "7ce8e36a",
   "metadata": {},
   "outputs": [
    {
     "data": {
      "text/plain": [
       "M      5096\n",
       "F       637\n",
       "X       565\n",
       "N         2\n",
       "lli       1\n",
       ".         1\n",
       "Name: Sex, dtype: int64"
      ]
     },
     "execution_count": 1272,
     "metadata": {},
     "output_type": "execute_result"
    }
   ],
   "source": [
    "df['Sex'].value_counts()"
   ]
  },
  {
   "cell_type": "code",
   "execution_count": 1273,
   "id": "a1bb4254",
   "metadata": {},
   "outputs": [],
   "source": [
    "def clean_sex(x):\n",
    "    if 'N' in x:\n",
    "        return 'X'\n",
    "    elif 'lli' in x:\n",
    "        return 'X'\n",
    "    elif '.' in x:\n",
    "        return 'X'\n",
    "    else:\n",
    "        return x"
   ]
  },
  {
   "cell_type": "code",
   "execution_count": 1274,
   "id": "4b417b0b",
   "metadata": {},
   "outputs": [],
   "source": [
    "df['Sex'] = df['Sex'].apply(clean_sex)"
   ]
  },
  {
   "cell_type": "code",
   "execution_count": 1275,
   "id": "313f7d73",
   "metadata": {},
   "outputs": [
    {
     "data": {
      "text/plain": [
       "M    5096\n",
       "F     637\n",
       "X     569\n",
       "Name: Sex, dtype: int64"
      ]
     },
     "execution_count": 1275,
     "metadata": {},
     "output_type": "execute_result"
    }
   ],
   "source": [
    "df['Sex'].value_counts()"
   ]
  },
  {
   "cell_type": "markdown",
   "id": "8826663b",
   "metadata": {},
   "source": [
    "### 'Fatal (Y/N)' column"
   ]
  },
  {
   "cell_type": "code",
   "execution_count": 1276,
   "id": "333e52c8",
   "metadata": {},
   "outputs": [],
   "source": [
    "df['Fatal (Y/N)'] = df['Fatal (Y/N)'].str.strip()"
   ]
  },
  {
   "cell_type": "code",
   "execution_count": 1277,
   "id": "dacb9beb",
   "metadata": {},
   "outputs": [
    {
     "data": {
      "text/plain": [
       "N          4301\n",
       "Y          1388\n",
       "UNKNOWN     610\n",
       "M             1\n",
       "2017          1\n",
       "y             1\n",
       "Name: Fatal (Y/N), dtype: int64"
      ]
     },
     "execution_count": 1277,
     "metadata": {},
     "output_type": "execute_result"
    }
   ],
   "source": [
    "df['Fatal (Y/N)'].value_counts()"
   ]
  },
  {
   "cell_type": "code",
   "execution_count": 1278,
   "id": "e68eb1a8",
   "metadata": {},
   "outputs": [],
   "source": [
    "fatal_index = df[(df['Injury'].str.contains('atal' or 'dead')) & (df['Fatal (Y/N)'] == 'UNKNOWN')].index"
   ]
  },
  {
   "cell_type": "code",
   "execution_count": 1279,
   "id": "6b3db7a5",
   "metadata": {},
   "outputs": [],
   "source": [
    "df.loc[fatal_index, 'Fatal (Y/N)'] = 'Y'"
   ]
  },
  {
   "cell_type": "code",
   "execution_count": 1280,
   "id": "b16bc12e",
   "metadata": {},
   "outputs": [
    {
     "data": {
      "text/plain": [
       "N          4301\n",
       "Y          1401\n",
       "UNKNOWN     597\n",
       "M             1\n",
       "2017          1\n",
       "y             1\n",
       "Name: Fatal (Y/N), dtype: int64"
      ]
     },
     "execution_count": 1280,
     "metadata": {},
     "output_type": "execute_result"
    }
   ],
   "source": [
    "df['Fatal (Y/N)'].value_counts()"
   ]
  },
  {
   "cell_type": "code",
   "execution_count": 1281,
   "id": "762bc659",
   "metadata": {},
   "outputs": [],
   "source": [
    "def clean_fatal(x):\n",
    "    if 'M' in x:\n",
    "        return 'N'\n",
    "    elif '2017' in x:\n",
    "        return 'UNKNOWN'\n",
    "    elif 'y' in x:\n",
    "        return 'Y'\n",
    "    else:\n",
    "        return x"
   ]
  },
  {
   "cell_type": "code",
   "execution_count": 1282,
   "id": "7b42a56a",
   "metadata": {},
   "outputs": [],
   "source": [
    "df['Fatal (Y/N)'] = df['Fatal (Y/N)'].apply(clean_fatal)"
   ]
  },
  {
   "cell_type": "code",
   "execution_count": 1283,
   "id": "34806548",
   "metadata": {},
   "outputs": [
    {
     "data": {
      "text/plain": [
       "N          4302\n",
       "Y          1402\n",
       "UNKNOWN     598\n",
       "Name: Fatal (Y/N), dtype: int64"
      ]
     },
     "execution_count": 1283,
     "metadata": {},
     "output_type": "execute_result"
    }
   ],
   "source": [
    "df['Fatal (Y/N)'].value_counts()"
   ]
  },
  {
   "cell_type": "markdown",
   "id": "2df02cd7",
   "metadata": {},
   "source": [
    "### 'Type' column"
   ]
  },
  {
   "cell_type": "code",
   "execution_count": 1284,
   "id": "c97f524a",
   "metadata": {},
   "outputs": [
    {
     "data": {
      "text/plain": [
       "Unprovoked      4595\n",
       "Provoked         574\n",
       "Invalid          547\n",
       "Sea Disaster     239\n",
       "Boating          203\n",
       "Boat             137\n",
       "unknown            4\n",
       "Questionable       2\n",
       "Boatomg            1\n",
       "Name: Type, dtype: int64"
      ]
     },
     "execution_count": 1284,
     "metadata": {},
     "output_type": "execute_result"
    }
   ],
   "source": [
    "df['Type'].value_counts()"
   ]
  },
  {
   "cell_type": "code",
   "execution_count": 1285,
   "id": "379de743",
   "metadata": {},
   "outputs": [],
   "source": [
    "def clean_type(x):\n",
    "    x = x.lower()\n",
    "    if 'boat' in x:\n",
    "        return 'Boating'\n",
    "    elif 'quest' in x:\n",
    "        return 'unknown'\n",
    "    elif 'unk' in x:\n",
    "        return 'unknown'\n",
    "    else:\n",
    "        return x.title()"
   ]
  },
  {
   "cell_type": "code",
   "execution_count": 1286,
   "id": "80040440",
   "metadata": {},
   "outputs": [],
   "source": [
    "df['Type'] = df['Type'].apply(clean_type)"
   ]
  },
  {
   "cell_type": "code",
   "execution_count": 1287,
   "id": "83e0d06c",
   "metadata": {},
   "outputs": [
    {
     "data": {
      "text/plain": [
       "Unprovoked      4595\n",
       "Provoked         574\n",
       "Invalid          547\n",
       "Boating          341\n",
       "Sea Disaster     239\n",
       "unknown            6\n",
       "Name: Type, dtype: int64"
      ]
     },
     "execution_count": 1287,
     "metadata": {},
     "output_type": "execute_result"
    }
   ],
   "source": [
    "df['Type'].value_counts()"
   ]
  },
  {
   "cell_type": "markdown",
   "id": "ef2ab22d",
   "metadata": {},
   "source": [
    "### 'Age' column"
   ]
  },
  {
   "cell_type": "code",
   "execution_count": 1288,
   "id": "c6c2fabf",
   "metadata": {},
   "outputs": [],
   "source": [
    "df['Age'] = df['Age'].str.strip()"
   ]
  },
  {
   "cell_type": "code",
   "execution_count": 1289,
   "id": "c51acb29",
   "metadata": {},
   "outputs": [
    {
     "data": {
      "text/plain": [
       "array(['57', '11', '48', 'unknown', '18', '52', '15', '12', '32', '10',\n",
       "       '21', '34', '30', '60', '33', '29', '54', '41', '37', '56', '19',\n",
       "       '25', '69', '38', '55', '35', '46', '45', '14', '40s', '28', '20',\n",
       "       '24', '26', '49', '22', '7', '31', '17', '40', '13', '42', '3',\n",
       "       '8', '50', '16', '82', '73', '20s', '68', '51', '39', '58', 'Teen',\n",
       "       '47', '61', '65', '36', '66', '43', '60s', '9', '72', '59', '6',\n",
       "       '27', '64', '23', '71', '44', '62', '63', '70', '18 months', '53',\n",
       "       '30s', '50s', 'teen', '77', '74', '28 & 26', '5', '86', '18 or 20',\n",
       "       '12 or 13', '46 & 34', '28, 23 & 30', 'Teens', '36 & 26',\n",
       "       '8 or 10', '84', '', '30 or 36', '6½', '21 & ?', '75', '33 or 37',\n",
       "       'mid-30s', '23 & 20', '7      &    31', '20?', \"60's\", '32 & 30',\n",
       "       '16 to 18', '87', '67', 'Elderly', 'mid-20s', 'Ca. 33', '21 or 26',\n",
       "       '>50', '18 to 22', 'adult', '9 & 12', '? & 19', '9 months',\n",
       "       '25 to 35', '23 & 26', '1', '(adult)', '33 & 37', '25 or 28',\n",
       "       '37, 67, 35, 27,  ? & 27', '21, 34,24 & 35', '30 & 32', '50 & 30',\n",
       "       '17 & 35', 'X', '\"middle-age\"', '13 or 18', '34 & 19', '33 & 26',\n",
       "       '2 to 3 months', 'MAKE LINE GREEN', '81', '\"young\"', '7 or 8',\n",
       "       '78', '17 & 16', 'F', 'Both 11', '9 or 10', 'young', '36 & 23',\n",
       "       'A.M.', '?    &   14', '10 or 12', '31 or 33', '2½', '13 or 14'],\n",
       "      dtype=object)"
      ]
     },
     "execution_count": 1289,
     "metadata": {},
     "output_type": "execute_result"
    }
   ],
   "source": [
    "df['Age'].unique()"
   ]
  },
  {
   "cell_type": "code",
   "execution_count": 1290,
   "id": "420140a0",
   "metadata": {},
   "outputs": [],
   "source": [
    "def extract_number(x):\n",
    "    num = re.findall('\\d+', x)\n",
    "    if num:         \n",
    "        return int(num[0])\n",
    "    else:\n",
    "        return 0"
   ]
  },
  {
   "cell_type": "code",
   "execution_count": 1291,
   "id": "38fe3609",
   "metadata": {},
   "outputs": [],
   "source": [
    "df['Age_years'] = df['Age'].apply(extract_number)"
   ]
  },
  {
   "cell_type": "code",
   "execution_count": 1292,
   "id": "85477d23",
   "metadata": {},
   "outputs": [
    {
     "data": {
      "text/plain": [
       "array([57, 11, 48,  0, 18, 52, 15, 12, 32, 10, 21, 34, 30, 60, 33, 29, 54,\n",
       "       41, 37, 56, 19, 25, 69, 38, 55, 35, 46, 45, 14, 40, 28, 20, 24, 26,\n",
       "       49, 22,  7, 31, 17, 13, 42,  3,  8, 50, 16, 82, 73, 68, 51, 39, 58,\n",
       "       47, 61, 65, 36, 66, 43,  9, 72, 59,  6, 27, 64, 23, 71, 44, 62, 63,\n",
       "       70, 53, 77, 74,  5, 86, 84, 75, 87, 67,  1,  2, 81, 78],\n",
       "      dtype=int64)"
      ]
     },
     "execution_count": 1292,
     "metadata": {},
     "output_type": "execute_result"
    }
   ],
   "source": [
    "df['Age_years'].unique()"
   ]
  },
  {
   "cell_type": "code",
   "execution_count": 1293,
   "id": "394a36f4",
   "metadata": {},
   "outputs": [
    {
     "data": {
      "text/plain": [
       "array(['57', '11', '48', 'unknown', '18', '52', '15', '12', '32', '10',\n",
       "       '21', '34', '30', '60', '33', '29', '54', '41', '37', '56', '19',\n",
       "       '25', '69', '38', '55', '35', '46', '45', '14', '40s', '28', '20',\n",
       "       '24', '26', '49', '22', '7', '31', '17', '40', '13', '42', '3',\n",
       "       '8', '50', '16', '82', '73', '20s', '68', '51', '39', '58', 'Teen',\n",
       "       '47', '61', '65', '36', '66', '43', '60s', '9', '72', '59', '6',\n",
       "       '27', '64', '23', '71', '44', '62', '63', '70', '18 months', '53',\n",
       "       '30s', '50s', 'teen', '77', '74', '28 & 26', '5', '86', '18 or 20',\n",
       "       '12 or 13', '46 & 34', '28, 23 & 30', 'Teens', '36 & 26',\n",
       "       '8 or 10', '84', '', '30 or 36', '6½', '21 & ?', '75', '33 or 37',\n",
       "       'mid-30s', '23 & 20', '7      &    31', '20?', \"60's\", '32 & 30',\n",
       "       '16 to 18', '87', '67', 'Elderly', 'mid-20s', 'Ca. 33', '21 or 26',\n",
       "       '>50', '18 to 22', 'adult', '9 & 12', '? & 19', '9 months',\n",
       "       '25 to 35', '23 & 26', '1', '(adult)', '33 & 37', '25 or 28',\n",
       "       '37, 67, 35, 27,  ? & 27', '21, 34,24 & 35', '30 & 32', '50 & 30',\n",
       "       '17 & 35', 'X', '\"middle-age\"', '13 or 18', '34 & 19', '33 & 26',\n",
       "       '2 to 3 months', 'MAKE LINE GREEN', '81', '\"young\"', '7 or 8',\n",
       "       '78', '17 & 16', 'F', 'Both 11', '9 or 10', 'young', '36 & 23',\n",
       "       'A.M.', '?    &   14', '10 or 12', '31 or 33', '2½', '13 or 14'],\n",
       "      dtype=object)"
      ]
     },
     "execution_count": 1293,
     "metadata": {},
     "output_type": "execute_result"
    }
   ],
   "source": [
    "df['Age'].unique()"
   ]
  },
  {
   "cell_type": "markdown",
   "id": "3ac9a53e",
   "metadata": {},
   "source": [
    "### Clasificar las edades por categorías\n",
    "\n",
    "    Categoría\tRango de edad\n",
    "        Child\t0-12 años\n",
    "        Teen\t13-19 años\n",
    "        Young\t20-39 años\n",
    "        Adult\t40-64 años\n",
    "        Elder\t65 años o más"
   ]
  },
  {
   "cell_type": "code",
   "execution_count": 1294,
   "id": "3074e924",
   "metadata": {},
   "outputs": [],
   "source": [
    "child_index = df[(df['Age_years'] > 0) & (df['Age_years'] < 13)].index\n",
    "teen_index = df[(df['Age_years'] > 13) & (df['Age_years'] < 20)].index\n",
    "young_index = df[(df['Age_years'] > 20) & (df['Age_years'] < 40)].index\n",
    "adult_index = df[(df['Age_years'] > 40) & (df['Age_years'] < 64)].index\n",
    "elder_index = df[(df['Age_years'] > 65)].index"
   ]
  },
  {
   "cell_type": "code",
   "execution_count": 1295,
   "id": "d6b8366f",
   "metadata": {},
   "outputs": [],
   "source": [
    "df.loc[child_index, 'Age'] = 'Child'\n",
    "df.loc[teen_index, 'Age'] = 'Teen'\n",
    "df.loc[young_index, 'Age'] = 'Young'\n",
    "df.loc[adult_index, 'Age'] = 'Adult'\n",
    "df.loc[elder_index, 'Age'] = 'Elder'"
   ]
  },
  {
   "cell_type": "code",
   "execution_count": 1296,
   "id": "32c3be94",
   "metadata": {},
   "outputs": [
    {
     "data": {
      "text/plain": [
       "array(['Adult', 'Child', 'unknown', 'Teen', 'Young', 'Elder', '40s', '20',\n",
       "       '40', '13', '20s', '65', '64', 'teen', 'Teens', '', '20?',\n",
       "       'Elderly', 'mid-20s', 'adult', '(adult)', 'X', '\"middle-age\"',\n",
       "       '13 or 18', 'MAKE LINE GREEN', '\"young\"', 'F', 'young', 'A.M.',\n",
       "       '13 or 14'], dtype=object)"
      ]
     },
     "execution_count": 1296,
     "metadata": {},
     "output_type": "execute_result"
    }
   ],
   "source": [
    "df['Age'].unique()"
   ]
  },
  {
   "cell_type": "code",
   "execution_count": 1297,
   "id": "e66b7767",
   "metadata": {},
   "outputs": [
    {
     "data": {
      "text/plain": [
       "unknown            2831\n",
       "Young              1411\n",
       "Teen                841\n",
       "Adult               541\n",
       "                    305\n",
       "Child               293\n",
       "Elder                49\n",
       "s                    10\n",
       "teen                  5\n",
       "young                 2\n",
       " or                   2\n",
       "\"middle-age\"          1\n",
       "F                     1\n",
       "\"young\"               1\n",
       "MAKE LINE GREEN       1\n",
       "Elderly               1\n",
       "X                     1\n",
       "(adult)               1\n",
       "adult                 1\n",
       "mid-s                 1\n",
       "?                     1\n",
       "Teens                 1\n",
       "A.M.                  1\n",
       "Name: Age, dtype: int64"
      ]
     },
     "execution_count": 1297,
     "metadata": {},
     "output_type": "execute_result"
    }
   ],
   "source": [
    "df['Age'].str.replace(r\"\\d\", \"\", regex=True).value_counts()"
   ]
  },
  {
   "cell_type": "code",
   "execution_count": 1298,
   "id": "a2f69cbc",
   "metadata": {},
   "outputs": [],
   "source": [
    "def clean_age(x):\n",
    "    try:\n",
    "        x = int(x)\n",
    "        if x in range(0, 13):   \n",
    "            return 'Child'\n",
    "        elif x in range(13, 20):\n",
    "            return 'Teen'\n",
    "        elif x in range(20, 40):\n",
    "            return 'Young'\n",
    "        elif x in range(40, 65):\n",
    "            return 'Adult'\n",
    "        elif x in range(65, 150):\n",
    "            return 'Elder'\n",
    "        else:\n",
    "            return x\n",
    "    except:\n",
    "        x = x.lower()\n",
    "        if 'child' in x:\n",
    "            return 'Child'\n",
    "        if 'month' in x:\n",
    "            return 'Child'\n",
    "        elif 'teen' in x:\n",
    "            return 'Teen'\n",
    "        elif 'youn' in x:\n",
    "            return 'Young'\n",
    "        elif 'adult' in x:\n",
    "            return 'Adult'\n",
    "        elif 'elde' in x:\n",
    "            return 'Elder'\n",
    "        elif 'iddle' in x:\n",
    "            return 'Adult'       \n",
    "        elif '40s' in x:\n",
    "            return 'Adult'\n",
    "        elif '20s' in x:\n",
    "            return 'Young'\n",
    "        elif '' in x:\n",
    "            return 'unknown'\n",
    "        elif '20?' in x:\n",
    "            return 'Young'\n",
    "        elif 'mid-20s' in x:\n",
    "            return 'Young'\n",
    "        elif 'x' in x:\n",
    "            return 'unknown'\n",
    "        elif '13 or 18' in x:\n",
    "            return 'Teen'\n",
    "        elif 'make line green' in x:\n",
    "            return 'unknown'\n",
    "        elif 'f' in x:\n",
    "            return 'unknown'\n",
    "        elif 'a.m.' in x:\n",
    "            return 'unknown'\n",
    "        elif '13 or 14' in x:\n",
    "            return 'Teen'\n",
    "        else:\n",
    "            return x"
   ]
  },
  {
   "cell_type": "code",
   "execution_count": 1299,
   "id": "b0b3ca00",
   "metadata": {},
   "outputs": [],
   "source": [
    "df['Age'] = df['Age'].apply(clean_age)"
   ]
  },
  {
   "cell_type": "code",
   "execution_count": 1300,
   "id": "da6b210d",
   "metadata": {},
   "outputs": [
    {
     "data": {
      "text/plain": [
       "unknown    2842\n",
       "Young      1564\n",
       "Teen        941\n",
       "Adult       607\n",
       "Child       293\n",
       "Elder        55\n",
       "Name: Age, dtype: int64"
      ]
     },
     "execution_count": 1300,
     "metadata": {},
     "output_type": "execute_result"
    }
   ],
   "source": [
    "df['Age'].value_counts()"
   ]
  },
  {
   "cell_type": "markdown",
   "id": "059933ab",
   "metadata": {},
   "source": [
    "### 'Country' column"
   ]
  },
  {
   "cell_type": "code",
   "execution_count": 1301,
   "id": "e3b4693c",
   "metadata": {},
   "outputs": [
    {
     "data": {
      "text/plain": [
       "213"
      ]
     },
     "execution_count": 1301,
     "metadata": {},
     "output_type": "execute_result"
    }
   ],
   "source": [
    "len(df['Country'].unique())"
   ]
  },
  {
   "cell_type": "code",
   "execution_count": 1302,
   "id": "7635d706",
   "metadata": {},
   "outputs": [
    {
     "data": {
      "text/plain": [
       "USA                      2229\n",
       "AUSTRALIA                1338\n",
       "SOUTH AFRICA              579\n",
       "PAPUA NEW GUINEA          134\n",
       "NEW ZEALAND               128\n",
       "                         ... \n",
       "THE BALKANS                 1\n",
       "NORTH ATLANTIC OCEAN        1\n",
       "MAYOTTE                     1\n",
       "GABON                       1\n",
       "CEYLON (SRI LANKA)          1\n",
       "Name: Country, Length: 213, dtype: int64"
      ]
     },
     "execution_count": 1302,
     "metadata": {},
     "output_type": "execute_result"
    }
   ],
   "source": [
    "df['Country'].value_counts()"
   ]
  },
  {
   "cell_type": "code",
   "execution_count": 1303,
   "id": "3a9b7b59",
   "metadata": {},
   "outputs": [],
   "source": [
    "df['Country'] = df['Country'].str.strip()"
   ]
  },
  {
   "cell_type": "raw",
   "id": "24892a2c",
   "metadata": {},
   "source": [
    "Obtengo una lista con \"todos los países\" en:\n",
    "\n",
    "https://stackoverflow.com/questions/64419625/how-can-i-get-my-function-to-execute-with-a-tuple-of-strings"
   ]
  },
  {
   "cell_type": "code",
   "execution_count": 1304,
   "id": "362dc7b3",
   "metadata": {},
   "outputs": [],
   "source": [
    "countries = ['AFGHANISTAN', 'ALBANIA', 'ALGERIA', 'ANDORRA', 'ANGOLA', 'ANTIGUA AND BARBUDA', 'ARGENTINA', 'ARMENIA', \n",
    "             'AUSTRALIA', 'AUSTRIA', 'AZERBAIJAN', 'BAHAMAS', 'BAHRAIN', 'BANGLADESH', 'BARBADOS', 'BELARUS', 'BELGIUM',\n",
    "             'BELIZE', 'BENIN', 'BHUTAN', 'BOLIVIA', 'BOSNIA AND HERZEGOVINA', 'BOTSWANA', 'BRAZIL', 'BRUNEI', 'BULGARIA',\n",
    "             'BURKINA FASO', 'BURUNDI', 'CAMBODIA', 'CAMEROON', 'CANADA', 'CAPE VERDE', 'CENTRAL AFRICAN REPUBLIC', 'CHAD',\n",
    "             'CHILE', 'CHINA', 'COLOMBIA', 'COMOROS', 'CONGO, DEMOCRATIC REPUBLIC OF THE', 'CONGO, REPUBLIC OF THE', \n",
    "             'COSTA RICA', 'IVORY COAST', 'CROATIA', 'CUBA', 'CYPRUS', 'CZECH REPUBLIC', 'DENMARK', 'DJIBOUTI', 'DOMINICA',\n",
    "             'DOMINICAN REPUBLIC', 'EAST TIMOR', 'ECUADOR', 'EGYPT', 'EL SALVADOR', 'ENGLAND', 'EQUATORIAL GUINEA', 'ERITREA',\n",
    "             'ESTONIA', 'ESWATINI', 'ETHIOPIA', 'FEDERATED STATES OF MICRONESIA', 'FIJI', 'FINLAND', 'FRANCE', 'GABON',\n",
    "             'GAMBIA', 'GEORGIA', 'GERMANY', 'GHANA', 'GREECE', 'GRENADA', 'GUATEMALA', 'GUINEA', 'GUINEA-BISSAU', 'GUYANA',\n",
    "             'HAITI', 'HONDURAS', 'HUNGARY', 'ICELAND', 'INDIA', 'INDONESIA', 'IRAN', 'IRAQ', 'IRELAND', 'ISRAEL', 'ITALY',\n",
    "             'JAMAICA', 'JAPAN', 'JORDAN', 'KAZAKHSTAN', 'KENYA', 'KIRIBATI', 'KOSOVO', 'KUWAIT', 'KYRGYZSTAN', 'LAOS', \n",
    "             'LATVIA', 'LEBANON', 'LESOTHO', 'LIBERIA', 'LIBYA', 'LIECHTENSTEIN', 'LITHUANIA', 'LUXEMBOURG', 'MADAGASCAR',\n",
    "             'MALAWI', 'MALAYSIA', 'MALDIVES', 'MALI', 'MALTA', 'MARSHALL ISLANDS', 'MAURITANIA', 'MAURITIUS', 'MEXICO',\n",
    "             'MOLDOVA', 'MONACO', 'MONGOLIA', 'MONTENEGRO', 'MOROCCO', 'MOZAMBIQUE', 'MYANMAR', 'NAMIBIA', 'NAURU', 'NEPAL',\n",
    "             'NETHERLANDS', 'NEW ZEALAND', 'NICARAGUA', 'NIGER', 'NIGERIA', 'NORTH KOREA', 'MACEDONIA', 'NORTHERN IRELAND',\n",
    "             'NORWAY', 'OMAN', 'PAKISTAN', 'PALAU', 'PANAMA', 'PAPUA NEW GUINEA', 'PARAGUAY', 'PERU', 'PHILIPPINES', \n",
    "             'POLAND', 'PORTUGAL', 'PUERTO RICO', 'QATAR', 'ROMANIA', 'RUSSIA', 'RWANDA', 'SAINT KITTS AND NEVIS', \n",
    "             'SAINT LUCIA', 'SAINT VINCENT AND THE GRENADINES', 'SAMOA', 'SAN MARINO', 'SAO TOME AND PRINCIPE', 'SAUDI ARABIA',\n",
    "             'SCOTLAND', 'SENEGAL', 'SERBIA', 'SEYCHELLES', 'SIERRA LEONE', 'SINGAPORE', 'SLOVAKIA', 'SLOVENIA', \n",
    "             'SOLOMON ISLANDS', 'SOMALIA', 'SOUTH AFRICA', 'SOUTH KOREA', 'SOUTH SUDAN', 'SPAIN', 'SRI LANKA', 'SUDAN',\n",
    "             'SURINAME', 'SWEDEN', 'SWITZERLAND', 'SYRIA', 'TAIWAN', 'TAJIKISTAN', 'TANZANIA', 'THAILAND', 'TOGO', 'TONGA',\n",
    "             'TRINIDAD AND TOBAGO', 'TUNISIA', 'TURKEY', 'TURKMENISTAN', 'TUVALU', 'UGANDA', 'UKRAINE', 'UNITED ARAB EMIRATES',\n",
    "             'UNITED KINGDOM', 'UNITED STATES', 'URUGUAY', 'UZBEKISTAN', 'VANUATU', 'VATICAN CITY', 'VENEZUELA', 'VIETNAM',\n",
    "             'WALES', 'YEMEN', 'ZAMBIA', 'ZIMBABWE']"
   ]
  },
  {
   "cell_type": "code",
   "execution_count": 1305,
   "id": "48c2dbae",
   "metadata": {},
   "outputs": [],
   "source": [
    "# print(len(df['Country'].unique()), len(countries), len(df['Country']) == len(countries))"
   ]
  },
  {
   "cell_type": "code",
   "execution_count": 1306,
   "id": "737b4e2c",
   "metadata": {},
   "outputs": [],
   "source": [
    "def clean_countries(x):\n",
    "    x = x.upper()\n",
    "    if any(i in x for i in countries):\n",
    "        return i.title()\n",
    "    elif 'USA' in x:\n",
    "        return 'United States'\n",
    "    elif 'OCEAN' in x:\n",
    "        return 'ocean'\n",
    "    elif 'SEA' in x:\n",
    "        return 'ocean'\n",
    "    elif '?' in x:\n",
    "        return 'unknown'\n",
    "    elif 'FRE' in x:\n",
    "        return 'France'\n",
    "    elif 'CALED' in x:\n",
    "        return 'France'\n",
    "    elif 'REUNI' in x:\n",
    "        return 'France'\n",
    "    elif 'COLUM' in x:\n",
    "        return 'Colombia'\n",
    "    elif x == 'UNKNOWN':\n",
    "        return 'unknown'\n",
    "    else:\n",
    "        return x"
   ]
  },
  {
   "cell_type": "code",
   "execution_count": 1307,
   "id": "80ede78d",
   "metadata": {},
   "outputs": [],
   "source": [
    "# df['Country'] = df['Country'].apply(clean_countries)"
   ]
  },
  {
   "cell_type": "code",
   "execution_count": 1308,
   "id": "6ffc72df",
   "metadata": {},
   "outputs": [],
   "source": [
    "# df['Country'].unique()"
   ]
  },
  {
   "cell_type": "code",
   "execution_count": 1309,
   "id": "243f40c5",
   "metadata": {},
   "outputs": [],
   "source": [
    "# country_table = list(df['Country'].unique())"
   ]
  },
  {
   "cell_type": "code",
   "execution_count": 1310,
   "id": "3355b88b",
   "metadata": {},
   "outputs": [],
   "source": [
    "# other_country_names = [i for i in country_table if i.upper() not in countries]"
   ]
  },
  {
   "cell_type": "code",
   "execution_count": 1311,
   "id": "7c014e50",
   "metadata": {},
   "outputs": [],
   "source": [
    "# other_country_names"
   ]
  },
  {
   "cell_type": "markdown",
   "id": "344ae6ef",
   "metadata": {},
   "source": [
    "### 'Year' column"
   ]
  },
  {
   "cell_type": "code",
   "execution_count": 1312,
   "id": "e3f7d79e",
   "metadata": {},
   "outputs": [
    {
     "data": {
      "text/plain": [
       "array([2018., 2017., 2016., 2015., 2014., 2013., 2012., 2011., 2010.,\n",
       "       2009., 2008., 2007., 2006., 2005., 2004., 2003., 2002., 2001.,\n",
       "       2000., 1999., 1998., 1997., 1996., 1995., 1984., 1994., 1993.,\n",
       "       1992., 1991., 1990., 1989., 1969., 1988., 1987., 1986., 1985.,\n",
       "       1983., 1982., 1981., 1980., 1979., 1978., 1977., 1976., 1975.,\n",
       "       1974., 1973., 1972., 1971., 1970., 1968., 1967., 1966., 1965.,\n",
       "       1964., 1963., 1962., 1961., 1960., 1959., 1958., 1957., 1956.,\n",
       "       1955., 1954., 1953., 1952., 1951., 1950., 1949., 1948., 1848.,\n",
       "       1947., 1946., 1945., 1944., 1943., 1942., 1941., 1940., 1939.,\n",
       "       1938., 1937., 1936., 1935., 1934., 1933., 1932., 1931., 1930.,\n",
       "       1929., 1928., 1927., 1926., 1925., 1924., 1923., 1922., 1921.,\n",
       "       1920., 1919., 1918., 1917., 1916., 1915., 1914., 1913., 1912.,\n",
       "       1911., 1910., 1909., 1908., 1907., 1906., 1905., 1904., 1903.,\n",
       "       1902., 1901., 1900., 1899., 1898., 1897., 1896., 1895., 1894.,\n",
       "       1893., 1892., 1891., 1890., 1889., 1888., 1887., 1886., 1885.,\n",
       "       1884., 1883., 1882., 1881., 1880., 1879., 1878., 1877., 1876.,\n",
       "       1875., 1874., 1873., 1872., 1871., 1870., 1869., 1868., 1867.,\n",
       "       1866., 1865., 1864., 1863., 1862., 1861., 1860., 1859., 1858.,\n",
       "       1857., 1856., 1855., 1853., 1852., 1851., 1850., 1849., 1847.,\n",
       "       1846., 1845., 1844., 1842., 1841., 1840., 1839., 1837., 1836.,\n",
       "       1835., 1834., 1832., 1831., 1830., 1829., 1828., 1827., 1826.,\n",
       "       1825., 1823., 1822., 1819., 1818., 1817., 1816., 1815., 1812.,\n",
       "       1811., 1810., 1808., 1807., 1805., 1804., 1803., 1802., 1801.,\n",
       "       1800., 1797., 1792., 1791., 1788., 1787., 1786., 1785., 1784.,\n",
       "       1783., 1780., 1779., 1776., 1771., 1767., 1764., 1758., 1753.,\n",
       "       1751., 1749., 1755., 1748., 1742., 1738., 1733., 1723., 1721.,\n",
       "       1703., 1700., 1642., 1638., 1637., 1617., 1595., 1580., 1555.,\n",
       "       1554., 1543.,  500.,   77.,    5.,    0.])"
      ]
     },
     "execution_count": 1312,
     "metadata": {},
     "output_type": "execute_result"
    }
   ],
   "source": [
    "df['Year'].unique()"
   ]
  },
  {
   "cell_type": "code",
   "execution_count": 1313,
   "id": "2a052d99",
   "metadata": {},
   "outputs": [
    {
     "data": {
      "text/plain": [
       "0.0       125\n",
       "5.0         1\n",
       "77.0        1\n",
       "500.0       1\n",
       "1543.0      1\n",
       "         ... \n",
       "2014.0    127\n",
       "2015.0    143\n",
       "2016.0    130\n",
       "2017.0    137\n",
       "2018.0     53\n",
       "Name: Year, Length: 249, dtype: int64"
      ]
     },
     "execution_count": 1313,
     "metadata": {},
     "output_type": "execute_result"
    }
   ],
   "source": [
    "df['Year'].value_counts().sort_index()"
   ]
  },
  {
   "cell_type": "code",
   "execution_count": 1314,
   "id": "04664668",
   "metadata": {},
   "outputs": [],
   "source": [
    "def clean_year(x):\n",
    "    if x == 5.0:\n",
    "        return 0\n",
    "    elif x == 77.0:\n",
    "        return 0\n",
    "    elif x == 500.0:\n",
    "        return 0\n",
    "    else:\n",
    "        return x"
   ]
  },
  {
   "cell_type": "code",
   "execution_count": 1315,
   "id": "7eabda37",
   "metadata": {},
   "outputs": [],
   "source": [
    "df['Year'] = df['Year'].apply(clean_year)"
   ]
  },
  {
   "cell_type": "code",
   "execution_count": 1316,
   "id": "b0c49276",
   "metadata": {},
   "outputs": [
    {
     "data": {
      "text/plain": [
       "0.0       128\n",
       "1543.0      1\n",
       "1554.0      1\n",
       "1555.0      1\n",
       "1580.0      1\n",
       "         ... \n",
       "2014.0    127\n",
       "2015.0    143\n",
       "2016.0    130\n",
       "2017.0    137\n",
       "2018.0     53\n",
       "Name: Year, Length: 246, dtype: int64"
      ]
     },
     "execution_count": 1316,
     "metadata": {},
     "output_type": "execute_result"
    }
   ],
   "source": [
    "df['Year'].value_counts().sort_index()"
   ]
  },
  {
   "cell_type": "markdown",
   "id": "cded719c",
   "metadata": {},
   "source": [
    "### 'Time' column"
   ]
  },
  {
   "cell_type": "code",
   "execution_count": 1317,
   "id": "90ef0279",
   "metadata": {},
   "outputs": [
    {
     "data": {
      "text/plain": [
       "unknown        3354\n",
       "Afternoon       187\n",
       "11h00           128\n",
       "Morning         121\n",
       "12h00           109\n",
       "               ... \n",
       "14h37             1\n",
       "10h07             1\n",
       "13h53             1\n",
       "13h23             1\n",
       "19h00-20h00       1\n",
       "Name: Time, Length: 367, dtype: int64"
      ]
     },
     "execution_count": 1317,
     "metadata": {},
     "output_type": "execute_result"
    }
   ],
   "source": [
    "df['Time'].value_counts()"
   ]
  },
  {
   "cell_type": "code",
   "execution_count": 1320,
   "id": "5fbee03d",
   "metadata": {},
   "outputs": [],
   "source": [
    "df['Time'] = df['Time'].str.strip()"
   ]
  },
  {
   "cell_type": "markdown",
   "id": "33f5ca9f",
   "metadata": {},
   "source": [
    "### Clasificar el tiempo por categorías\n",
    "\n",
    "    Categoría\tRango \n",
    "    Morning: From 6:00 to 12:00\n",
    "    Afternoon: From 12:00 to 18:00\n",
    "    Evening: From 18:00 to 24:00\n",
    "    Night: From 0:00 to 6:00"
   ]
  },
  {
   "cell_type": "code",
   "execution_count": 1383,
   "id": "b41bdcd0",
   "metadata": {},
   "outputs": [],
   "source": [
    "def clean_time(x):\n",
    "    if re.match(r\"\\d\\x68\\d\", x):\n",
    "        x = x.replace('h', '')\n",
    "        x = int(x[0:2])\n",
    "        if x in range(0, 24):\n",
    "            if x in range(6, 13):   \n",
    "                return 'Morning'\n",
    "            elif x in range(12, 19):\n",
    "                return 'Afternoon'\n",
    "            elif x in range(18, 25):\n",
    "                return 'Evening'\n",
    "            elif x in range(0, 7):\n",
    "                return 'Night'\n",
    "        else:\n",
    "            pass\n",
    "    else:\n",
    "        return x\n",
    "\n",
    "# def clean_time(x):\n",
    "#     if re.match(r\"\\d\\h\\d\", x):\n",
    "#         print(x)\n",
    "#         x = x.replace('h', '')\n",
    "#         try:\n",
    "#             x = int(x[0:2])\n",
    "#             if x in range(6, 13):   \n",
    "#                 return 'Morning'\n",
    "#             elif x in range(12, 19):\n",
    "#                 return 'Afternoon'\n",
    "#             elif x in range(18, 25):\n",
    "#                 return 'Evening'\n",
    "#             elif x in range(0, 7):\n",
    "#                 return 'Night'\n",
    "#             else:\n",
    "#                 pass\n",
    "#         except:\n",
    "#             x = int(x[0:1])\n",
    "#             if x in range(6, 13):   \n",
    "#                 return 'Morning'\n",
    "#             elif x in range(12, 19):\n",
    "#                 return 'Afternoon'\n",
    "#             elif x in range(18, 25):\n",
    "#                 return 'Evening'\n",
    "#             elif x in range(0, 7):\n",
    "#                 return 'Night'\n",
    "#             else:\n",
    "#                 pass\n",
    "#     else:\n",
    "#         x = x.lower()\n",
    "#         if 'after' in x:\n",
    "#             return 'Afternoon'\n",
    "#         elif 'morn' in x:\n",
    "#             return 'Morning'\n",
    "#         elif 'eve' in x:\n",
    "#             return 'Evening'\n",
    "#         elif 'ni' in x:\n",
    "#             return 'Night'\n",
    "#         elif 'day' in x:\n",
    "#             return 'Morning'\n",
    "#         else:\n",
    "#             return x"
   ]
  },
  {
   "cell_type": "code",
   "execution_count": 1384,
   "id": "9a12a848",
   "metadata": {},
   "outputs": [
    {
     "data": {
      "text/plain": [
       "'07h08'"
      ]
     },
     "execution_count": 1384,
     "metadata": {},
     "output_type": "execute_result"
    }
   ],
   "source": [
    "clean_time('07h08')"
   ]
  },
  {
   "cell_type": "code",
   "execution_count": 1374,
   "id": "0c672f5e",
   "metadata": {},
   "outputs": [],
   "source": [
    "# df['Time'] = df['Time'].apply(clean_time)"
   ]
  },
  {
   "cell_type": "code",
   "execution_count": 1375,
   "id": "4d748744",
   "metadata": {},
   "outputs": [],
   "source": [
    "# df['Time'].value_counts()"
   ]
  },
  {
   "cell_type": "code",
   "execution_count": 1376,
   "id": "dfee7ce3",
   "metadata": {},
   "outputs": [],
   "source": [
    "# df['Time'].unique()"
   ]
  },
  {
   "cell_type": "markdown",
   "id": "37d6548c",
   "metadata": {},
   "source": [
    "### 'Area' column"
   ]
  },
  {
   "cell_type": "code",
   "execution_count": 1380,
   "id": "76618346",
   "metadata": {},
   "outputs": [
    {
     "data": {
      "text/plain": [
       "array(['California', 'Georgia', 'Hawaii', 'New South Wales', 'Colima',\n",
       "       'Pernambuco', 'Florida', 'Queensland', 'South Carolina',\n",
       "       'Cornwall', 'Westerm Australia', 'Eastern Cape Province',\n",
       "       'Hua Hin', 'Cocos Island', 'Western Australia',\n",
       "       'Alifu Alifu Atoll', 'Western Cape Province', 'New Providence',\n",
       "       'Alagoas', 'unknown', 'Victoria', 'KwaZulu-Natal',\n",
       "       'Boi Island, Victoria', 'Galapagos Islands', 'Fernando de Noronha',\n",
       "       'Sepang', 'Holquin Province', 'Pamplemousses ', 'South Australia',\n",
       "       'North Island', 'New York', 'Canary Islands', ' Upolu Island',\n",
       "       'Shizuoka Prefecture', 'Texas', 'Castellón', 'Massachusetts',\n",
       "       'Red Sea Protectorate', 'New Providence District',\n",
       "       '40 miles off Grand Bahama Island', 'Ascension Island',\n",
       "       'New Jersey', 'Majorca', 'Washington', 'Tabasco', 'Anjouan',\n",
       "       'Ibiza Island', 'Marquesas', 'South Devon', 'New Providence ',\n",
       "       'Sharjah, ', 'Baja California Sur', 'Saint-Leu', 'South Island',\n",
       "       'Luzon Island', 'Great Exuma', 'Saint-Andre', 'Bimini', 'Bali',\n",
       "       'Tuamotos', 'Oregon', 'North Province', 'New Providence Island',\n",
       "       'Alicante Province', 'Hong Kong', 'Kochi Prefecture', 'Tasmania',\n",
       "       'Abaco Islands', 'Alabama', 'North Carolina', 'Isla Provedencia',\n",
       "       'Suez', 'Grand Terre', 'Boa Vista Island', 'Vanua Levu',\n",
       "       'Santa Catarina State', 'South Province', 'Altagracia Province',\n",
       "       'Grand Cayman', 'Balneário Camboriú', 'Fujairah Emirate',\n",
       "       'Grand Canary Island', 'Inhambane Province', 'Phuket', 'Alicante',\n",
       "       'Guanacaste', 'Bora Bora', 'Grand Bahama Island', 'Le Port',\n",
       "       'Rangiroa', 'Saint-Gilles-les-Bains', 'Sardinia', 'Sinaloa',\n",
       "       'Central Tuamotu', 'd\\x92Étang-Salé', 'Granada',\n",
       "       'Cargados Carajos Shoals (St. Brandon)', 'Moorea', 'Catalonia',\n",
       "       'Maryland', 'Louisiana', 'West End', 'Delaware',\n",
       "       'Atsumi peninsula', 'Palmyra Atoll', 'Wallis and Futuna',\n",
       "       'Baie de Sainte-Marie', 'Society Islands', 'Trinidad',\n",
       "       'Okinawa Prefecture', '740 miles SE of Tarawa Atoll',\n",
       "       'Southern District', 'Bay of Biscay', 'Quintana Roo',\n",
       "       'Exuma Islands', 'Saint-Paul', 'Taitung ', 'Kingston Parish',\n",
       "       'Santa Cruz Island', 'Saint-Gilles', 'Tuamotus', 'Eleuthera',\n",
       "       'St. Catherine', 'Palawan', 'Mercury Islands', 'Delta', \"Vava'u\",\n",
       "       'Inner Hebrides', 'Saint Leu', 'Trois-Bassins', 'British Colombia',\n",
       "       'Guerrero', 'Saint-Benoit', 'Tabuk Province',\n",
       "       'Antofagasta Province', \"St John's\", 'Santa Elena',\n",
       "       'East New Britain', 'Bois-Blanc ', 'Moray', 'Puerto Rico',\n",
       "       'Samaná Province', 'Coast Province', 'Central Province',\n",
       "       'Primorsky Krai',\n",
       "       'Peter the Great Bay, Khasan, Primorsky Krai (Far East)',\n",
       "       'Telyakovsky Bay, Khasan,  Primorsky Krai (Far East)', 'Praslin',\n",
       "       'Sucre', 'Middle Caicos', 'Caicos Bank', 'San Andrés archipelago',\n",
       "       'Kedah', 'Umm al Qaywayan Province', 'Vitu Levu',\n",
       "       'South Sinai Peninsula', ' Loyalty Islands', 'Saint Gilles ',\n",
       "       'Maine', 'Virginia', \"Ha'api \", 'Western Province',\n",
       "       'Jeju Province', 'Binh Dinh Province', 'Antsiranana Province',\n",
       "       'Sinai Peninsula', 'Off Vanua Levu', 'Merizo', 'Rio Grande Do Sul',\n",
       "       'Dubai', 'Torres Strait', 'Eastern Province',\n",
       "       'Eastern Cape  Province', 'Maputo Province', 'Bocas', 'Fife',\n",
       "       'Devon', 'Makira-Ulawa Province', 'Mombasa', 'Catalunya',\n",
       "       'St. Johns Reef', 'Off Green Island', 'North Region',\n",
       "       'Batangas province', 'Strait of Malacca', 'Guantanamo Province',\n",
       "       'Maranhão', 'Red Sea', 'Batanes Provine', 'Luzon',\n",
       "       'Northern Territory', ' Split-Dalmatia Count,', 'North Devon',\n",
       "       'US Virgin Islands', 'San Carlos', 'Cabo San Lucas', 'Sussex',\n",
       "       'Bahia', 'Easter Ross', 'Guerro', 'Yasawa Islands',\n",
       "       'Northern Bahamas', 'Tokyo Bay', 'Baja California', 'Green Bay',\n",
       "       'Loyalty Islands', 'Marovo Lagoon',\n",
       "       'Territory of Cocos (Keeling) Islands', 'Oslo Fjord', 'Kent',\n",
       "       'Bird Island', 'Providenciales', 'Bimini Islands',\n",
       "       'Muhafazat Hadramawt', 'Cook islans', 'Surigao del Norte',\n",
       "       'Between Somalia & Yemen', 'Ambergris Caye', 'Saint-Pierre',\n",
       "       'Kentucky', 'Andros Islands', 'Guam', 'Western Area',\n",
       "       '300 miles from Antigua', '800 miles from land',\n",
       "       '600 nm west of the Canary Islands', 'Simpson Bay', 'East Wall',\n",
       "       'Inner Islands', 'Shanghai', 'Malampa Province',\n",
       "       \"South Ch'ungch'ong Province\", 'Bay Islands', 'New Mexico',\n",
       "       'Santa Isabel Province', 'Santiago de Cuba Province',\n",
       "       'Camaguey Province', 'Conservatória District', 'South Carolina ',\n",
       "       'Kuril Islands in the Pacific', 'Wakayama Prefecture',\n",
       "       \"Nuku'alofa\", 'Saint-Benoît',\n",
       "       'South Island, near Karitane north of Dunedin', 'Rocha',\n",
       "       'Northlands', 'Anzoategui', 'Cook Islands', 'Tamil Nadu',\n",
       "       'Pearl Islands', 'Taveuni', 'Johnston Atoll', 'Baatan',\n",
       "       'Rio de Janeiro', 'Nueva Esparta', 'Southland',\n",
       "       'North Pacific coast', 'Caroline Islands', 'Cheshire',\n",
       "       'Louisiade Archipelago',\n",
       "       'KwaZulu-Natal between Port Edward and Port St Johns',\n",
       "       'Milne Bay Province', 'Cikobia Island (north of Vanua Levu)',\n",
       "       'Rayong Province', 'Zamboanga del Sur Province',\n",
       "       'Rio Grande de Norte',\n",
       "       'Off the western coast of peninsular Malaysia', 'New Brunswick',\n",
       "       'Miyako Island', 'Alaska', 'Minerva Reef', 'Madang Province',\n",
       "       'Worcestershire', 'Phang nga Province', 'Alinglaplap Atoll',\n",
       "       'Adriatic Sea', 'Ralik Chain', 'Grand Baie',\n",
       "       \"L' Etang Salé-les-Bains\", 'Southern Japan', 'Cap Vert Peninsula',\n",
       "       'Marches region', 'Berry Islands', 'Transvaal', 'Gaza',\n",
       "       \"Grand'Anse\", 'Beaufonds', 'Miyako', \"L'Etang-Sale\",\n",
       "       'Chatham Islands ', 'South Sinai, Gulf of Aqaba', 'Cat Cay',\n",
       "       'Missouri', '12 miles off the north coast', 'Saint-Paul ',\n",
       "       'Chatham Islands, east of New  Zealand', 'Saint-Denis',\n",
       "       'Vava\\x92u', 'Mississippi', 'Clearwater Bay', 'New Territories',\n",
       "       'Aichi Prefecture', 'Tafea Province', 'Kagoshima Prefecture',\n",
       "       'Saint-Joseph', 'Banaadir Region', 'La Libertad', 'Costa Blanca',\n",
       "       'Walkers Cay', 'On the Kowloon penisula, south of Sai Kung',\n",
       "       'Ehime Prefecture', 'Tongapatu Group', 'West Africa',\n",
       "       'Wakaya Island', 'North Carolina ', 'Mexico / Caribbean Sea',\n",
       "       'Antarctic Ocean', 'La Saline-les-Bains', 'Sea of Japan',\n",
       "       'Tavenui', 'Ligurian Sea', \"L'Etang-Salé\", 'Kowloon Peninsula',\n",
       "       'Port Shelter', 'Laucala Island', 'Sainte-Marie',\n",
       "       'Great Exuma Island', 'Sainte-Suzanne', 'Tuscany',\n",
       "       'Tyrrhenian Sea', 'New Ireland', 'Valpariso Province',\n",
       "       'Viscayan Sea', 'Manfredonia ', 'Tokyo Prefecture', 'Saint-Louis',\n",
       "       'Mindoro', 'Between DR and Puerto Rico',\n",
       "       'Between Honiara & Isabel Island', 'Florida Straits',\n",
       "       'Gulf of Lyons', 'Cádiz', 'Sicily', 'Andikira Fokithes',\n",
       "       'Central Philippines', 'Rhode Island', 'Northwest Italy',\n",
       "       'English Channel', 'North & South Carolina', 'Kumamoto Prefecture',\n",
       "       'Biserta', 'Saint-Philippe', 'Chungnam', 'Eronogo Region',\n",
       "       'Coquimbo', 'Pagasitikos Gulf', \"St. Mary's Parish\",\n",
       "       'Romblon Province', 'Lamu Archipelago', 'Los Vilos',\n",
       "       'Island of Kos', \"Ha'api\", 'Madeira Islands',\n",
       "       'Ho Ha Wan Marine Park', 'Southern Thailand', 'Golfo de Venezia',\n",
       "       'Ralik Archipelago', 'South China Sea 200 miles from Hong Kong',\n",
       "       'Reggio Calabria Province', 'Mirs Bay ', 'Genoa Province',\n",
       "       'Ganges-Brahmaputra delta', ' Split-Dalmatia County', 'Florida ',\n",
       "       'Primorje-Gorski Kotar County ', 'Aulong Island',\n",
       "       'Western Caroline Islands', 'Upolu Island', 'Antibes',\n",
       "       'Illeginni Atoll', 'Istria County', 'Between Beira & Maputo',\n",
       "       'Khuzestan Province', 'Inhambe Province', 'Namonuito Atoll',\n",
       "       'Eastern Caroline Islands',\n",
       "       'Western Caroline Islands (North Pacific Ocean)', 'Caribbean Sea',\n",
       "       'St. Andrew Parish', '200 nm southeast of Manila', 'Limpopo River',\n",
       "       'New Ireland Province', 'Zadar County', 'Basrah', 'Clarendon',\n",
       "       'Moro Gulf', 'Johor', 'Magdalena Department', 'Mafia Island',\n",
       "       'Gulf Province', 'Morobe Province', 'Limón Province',\n",
       "       'Rombion Province', 'Veracruz', 'Brindisi Province',\n",
       "       'Kagawa Prefecture', 'Liguria', 'Hamilton', 'Out Islands',\n",
       "       'Mugla Province', 'Gibraltar', 'New Britain', 'Bay of Maputo',\n",
       "       'Duke of York Islands', 'Taranto province', 'Northern Taiwan',\n",
       "       'Admiralty Islands, Manus Province', 'North Sumatra',\n",
       "       \"250 miles southwest of O'ahu, Hawaii\", 'West coast', 'East Sepik',\n",
       "       'Near Bougainville (North Solomons)', 'East of the Gulf of Aqaba',\n",
       "       'Bougainville (North Solomons)', 'Victoria ', 'Okayama Prefecture',\n",
       "       'San Blas', 'Connecticut', 'Lau Group', 'Caribbean Coast',\n",
       "       'Vita Levu', 'San Blas Islands', 'Puntarenas Province',\n",
       "       'Lomaloma, Lau', 'Between Southampton & Canary Islands',\n",
       "       'South Coast, East New Britain', ' Lau Province', 'Ysabel Island',\n",
       "       'Santo Domingo', 'San Blas coast', 'Thessaly',\n",
       "       'Lomaiviti  Island Group', 'Rodrigues', 'Manus Island',\n",
       "       'Pinas Bay', 'Grand Turk Island', 'Off coast of West Africa',\n",
       "       'Sharon', 'Antalya Province', 'Northern District',\n",
       "       'New Ireland Province, Bismarck Archipelago', 'Cyclades',\n",
       "       'Viti Levu', 'Off the Coromandel Peninsula, North Island',\n",
       "       'Madang', 'Guadalcanal Province', '10ºS, 142ºE', 'Kwajalein Atoll',\n",
       "       'East Flores', 'Guerrrero', 'Western Luzon Island',\n",
       "       'Shefa Province', '165  miles from Bermuda',\n",
       "       '25 km off the coast of Iran & 483km from mouth of Persian Gulf',\n",
       "       'Venice Province', 'Sandaun Province', 'Anatolia',\n",
       "       'East New Britain Province', 'United Arab Emirates',\n",
       "       'Wake Island (EnenKio)', '19S, 178?E', 'Pennsylvania',\n",
       "       '9.35N 79.35W', 'Roncador Bank', 'Western District',\n",
       "       'Enroute from Suez to Aden (Yemen)',\n",
       "       '180 miles southeast of Okinawa', 'Eniwetok Atoll',\n",
       "       'Cap-Vert Peninsula', 'Delagoa Bay', 'In the English Channel ',\n",
       "       'Cook Strait', 'Unknown, treated at Wick, SCOTLAND',\n",
       "       'Corregidor Island', 'Paget', '33N, 68W', 'Casamance',\n",
       "       'Madang (WO)', 'Between Timor & Darwin, Australia',\n",
       "       'Pacific coast', 'St. Georges ', 'Eastern  Province',\n",
       "       'Northwest of Viti Levu', 'West New Britain Province',\n",
       "       'Rigo subdistrict', 'Masbate', '400 miles southeast of Sri Lanka',\n",
       "       'Lomaiviti Province', 'Kadavu', 'Leyte Island', 'Orissa',\n",
       "       'Hokkaido Prefecture', 'North Palawan', 'Queaon', 'Istria',\n",
       "       'PANAMA', 'In the Gulf Stream ', 'Mersin Province', 'Guyamas',\n",
       "       'Between England & South Africa', 'Mindanao',\n",
       "       ' Kikori River mouth', 'South Chungcheong Province',\n",
       "       'Ahirkapi coast', 'Tutuila Island', 'Primorje-Gorski Kotar County',\n",
       "       'Between Hawaii & Wake Island', 'Taipei Hsien',\n",
       "       'Ibaraki Prefecture', 'South Pacific Ocean', 'Canal Zone',\n",
       "       '1,000 miles east of Hawaii', 'Honiara', 'Yucatan Channel',\n",
       "       'Havana Province', 'Karun River',\n",
       "       'Abau Subdistrict,Central Province',\n",
       "       'New Britain, Bismarck Archipelago', 'Estuaire Province',\n",
       "       'Near Dakar, Cap Vert Peninsula',\n",
       "       'Near the Andaman & Nicobar Islands', 'Mozambique Channel',\n",
       "       'Tyrrenian Sea', 'Congreve Channel', 'St. Thomas Bay', 'Madeira',\n",
       "       'Between Comores & Madagascar', 'Corfu Island',\n",
       "       '1000 miles west of Hawaii', 'Izo Islands',\n",
       "       ' Primorje-Gorski Kotar County', 'Open sea', 'Aden',\n",
       "       'New Ireland, Bismarck Archipelago', '18S / 50E', 'Illinois',\n",
       "       'Isles del Rosario', 'Wake Island', 'Isle of Man',\n",
       "       'Nagasaki Prefecture', 'Liguaria', 'Slovenia', 'South shore ',\n",
       "       'Buenos Aires Province', '330 to 350 miles east of Wake Island',\n",
       "       'Nova Scotia', 'Gulf of Panama', 'Genoa  Province',\n",
       "       'Abau Sub District, Central Province', 'Teramo', 'Red Sea State',\n",
       "       'Curacao', 'Port Louis Province', 'Montserrado', 'Bay of Maputu',\n",
       "       'Sofala Province', 'Salerno', 'Salerno Province', 'Taranto',\n",
       "       'Naples Province', ' La Libertad', 'Sago Prefecture', 'Savona',\n",
       "       'Southern Province', 'Jakarta Harbour', 'Singapore Harbor',\n",
       "       'Calabria', 'Shatt-el-Arab River', 'Shatt-al-Arab River',\n",
       "       'Tamaulipas', 'Calvados Archipelago', 'Shat-Al-Arab River',\n",
       "       'Between Kwajalein Atoll & Johnston Island', 'Attica',\n",
       "       'Adana Province', 'Bandar Ma\\x92shur sea inlet', 'Saipan',\n",
       "       'Carpathian Sea', 'Kwajalein', 'Dar-es-Salaam ',\n",
       "       '\"Head of the Gulf\"', 'Ryukyu', ' North Carolina',\n",
       "       'In transit between Tinian and Leyte', 'Northern Java', 'Tel Aviv',\n",
       "       'Colon Province', '300 miles east of Luzon',\n",
       "       'Bernardino Strait near Gulf of Leyte',\n",
       "       'Off Samar Island in the Gulf of Leyte',\n",
       "       'Lake Nicaragua (fresh water)', 'Pacific Ocean',\n",
       "       'Near the Fiji Islands', '40 miles south of Naples ',\n",
       "       'Northwest of Papua New Guinea', 'Between Hawaii and U.S.A.',\n",
       "       'Off South American coast', 'Makora-Ulawa Province',\n",
       "       '04.05N-13.23W', 'Midway Atoll',\n",
       "       '300 miles east of St. Thomas (Virgin Islands)',\n",
       "       'West of Ceylon (Sri  Lanka)', 'East Java', 'Camiguin Island',\n",
       "       'Cay Sal Bank', '(Southwestern Pacific)', 'Panama City',\n",
       "       'Off Libya', 'North of Pernambuco, Brazil', 'Off coast of Ecuador',\n",
       "       'Trelawney Province', 'In Convoy OB 274', 'New Georgia',\n",
       "       'Panama Bay (Pacific Ocean)', 'Bwagaoia', 'Western Papuan Gulf',\n",
       "       'Torres Strait ', 'Carabobo', 'Ascension Bay', 'North China',\n",
       "       'Lower San Juan River', 'Nicoya Peninsula', 'Basrah City',\n",
       "       'West Bengal', 'Queensland ', 'Argyllshire', 'Arran', 'Argyll',\n",
       "       'Fishing Grounds', 'Newfoundland', 'Isle of Wight',\n",
       "       'Makira-Uluwa Province', 'Northern (Oro) Province', 'Herzliyah',\n",
       "       'Elqui Province', 'Istanbul', 'St Michael Parish',\n",
       "       'Barlavento Islands', 'Viti Levu Island', 'Bay of Fundy', 'Manila',\n",
       "       'French Southern Territories', 'Niua ', 'Black River',\n",
       "       'Phoenix Islands', 'Cienfuegos Province', 'Valencia',\n",
       "       'Santiago Island', 'Near Puntarenas', 'Porto Seguro',\n",
       "       'Salinas Bay', 'Golfo di Genova in the Ligurian Sea',\n",
       "       'Sants-Montjic', 'South of the Equator ', 'Bay of Monaco',\n",
       "       'Valencia ', 'Vancouver',\n",
       "       '2 to 3 miles off Taboguilla Island, Pacific Ocean', 'Dorset',\n",
       "       '150 miles offshore', 'Galica', 'Demerara County', 'Vera Cruz',\n",
       "       ' Manila Bay', 'Lucy', 'East Yorkshire', 'Westmoreland Parish',\n",
       "       'Cavite Province, Luzon', 'Cape Haitien', 'Leyte', 'Halifax',\n",
       "       'Turtle Bogue', '60 miles north of San Domingo in the West Indies',\n",
       "       'Colon', 'Off Ireland', 'Mediterranean Sea', 'Gran Canaria',\n",
       "       'Apolima Strait', 'Essequibo', 'Lagos ', 'Trieste', '5aint-Denis',\n",
       "       'Viti Levu group', 'Balearics', 'Málaga ', 'Chatham Islands',\n",
       "       'Georges Bank', 'Zambesi River', 'Colón Province',\n",
       "       '30 nm from Singapore', 'Andalucia', 'Sfax',\n",
       "       'South Atlantic Ocean', 'Galicia', 'Gulf of Suez', 'Java',\n",
       "       'Tiburon Peninsula', 'Oaxaca', 'Harare Province',\n",
       "       'Khánh Hòa Province', 'Maluku Province', 'Suez Canal',\n",
       "       ' Nusa Tenggara', 'Between Noumea & Sydney',\n",
       "       'Villa Clara Province', 'Ancona Province', 'Quezon',\n",
       "       'Rio San Juan', 'Southern Cyprus', 'Syracuse', 'Western Viscayas',\n",
       "       'Mindoro Occidental', 'Negros ', 'Imperia Province', 'Muala',\n",
       "       'East coast', 'Ratak ', 'Socotra Islands', 'Off Cape Haitien',\n",
       "       'Moluccas', 'Bocas del Toro', 'Provence', 'Bay of Campeche',\n",
       "       'Rangoon', 'Bay of Bengal', 'Bayelsa State', 'South Island?',\n",
       "       'Norfolk Island', 'Brittany', 'Line Islands', 'Woodlark Islands',\n",
       "       'Munxar Reef', 'Northern Peloponnese', 'Between Perth & Colombo',\n",
       "       'Gujarat', 'Lukovo', 'Cortés', 'Gulf of California',\n",
       "       'Somewhere between Philadelphia and Hiogo, Japan', ' New Jersey',\n",
       "       \"Côte d'Azur  \", 'Maldonado coast', 'Western Banks',\n",
       "       'Andaman Islands', 'Off the coast of West Africa',\n",
       "       'Misamis Oriental', 'Strait of Messina', 'Hoogly River',\n",
       "       'Cyclades archipelago', 'Mount Lebanon',\n",
       "       'Between Hastings & Fairlight, Sussex', 'Veracruz ',\n",
       "       'Gilbert Islands', 'Lomaiviti Provine',\n",
       "       'Off the coast of South America', '22ºN, 88ºE',\n",
       "       'Matanzas Province (north coast)', 'Alpes Maritime', 'Edinburgh',\n",
       "       'Eastern Catalona', '300 miles east of Mauritius',\n",
       "       'Foveaux Strait', 'Sumatra', 'Conakry Region', 'Corfu', 'Malaga',\n",
       "       'Bonin Islands', 'Fernando Po Island', 'Mangaia Island',\n",
       "       'New York ', 'Corfu ', 'Between Australia & USA', 'Tongatapu',\n",
       "       'Norfolk', 'Island of St. Thomas', 'Cumberland', 'Sanma Province',\n",
       "       \"35º39 : 165º8'\", 'CUBA', 'Western Area ', 'Paraiba', 'Cape Coast',\n",
       "       'Rivers State', 'Maharashtra', 'St. Anne', 'St Helena',\n",
       "       \"Côte d'Azur \", 'Skagerrak arm of the North Sea',\n",
       "       'Las Perlas archipelago', 'Bardestrand', 'Southwest coast',\n",
       "       'Kerala', 'Nice & Marseilles', 'Magarita or Cubagua Islands',\n",
       "       'Ionian Sea', 'Piraeus', 'Off Thessaly', 'Bocas del Toro Province',\n",
       "       'Rocha ', 'Gulf of Tadjoura', 'Cyrenaica', 'Northern Province',\n",
       "       'Los Roques  Islands', 'Dodecanese Islands', 'Malaita Province',\n",
       "       'South Korea', 'Milne Bay  Province', 'Island of Volos',\n",
       "       'Amirante Islands', 'Kadavu Island Group', 'Toamasina Province',\n",
       "       'Riau Province', 'Bikini Atoll',\n",
       "       'Between New Ireland & New Britain', 'Ba Ria-Vung Tau  Province',\n",
       "       'Moala Island'], dtype=object)"
      ]
     },
     "execution_count": 1380,
     "metadata": {},
     "output_type": "execute_result"
    }
   ],
   "source": [
    "df['Area'].unique()"
   ]
  },
  {
   "cell_type": "code",
   "execution_count": null,
   "id": "55541fd5",
   "metadata": {},
   "outputs": [],
   "source": []
  },
  {
   "cell_type": "code",
   "execution_count": null,
   "id": "9d036fb6",
   "metadata": {},
   "outputs": [],
   "source": []
  },
  {
   "cell_type": "code",
   "execution_count": null,
   "id": "6e4987b5",
   "metadata": {},
   "outputs": [],
   "source": []
  },
  {
   "cell_type": "code",
   "execution_count": null,
   "id": "7cad2465",
   "metadata": {},
   "outputs": [],
   "source": []
  },
  {
   "cell_type": "code",
   "execution_count": null,
   "id": "82165883",
   "metadata": {},
   "outputs": [],
   "source": []
  },
  {
   "cell_type": "code",
   "execution_count": null,
   "id": "9e36ab48",
   "metadata": {},
   "outputs": [],
   "source": []
  },
  {
   "cell_type": "markdown",
   "id": "12da08e2",
   "metadata": {},
   "source": [
    "\n",
    " ('Activity', 1533),\n",
    " ('Species', 1550),\n",
    " ('Injury', 3737),\n",
    " ('Location', 4109),\n",
    " ('Investigator or Source', 4970),\n",
    " ('Name', 5230),\n",
    " ('Date', 5433),\n",
    " ('href', 6285),\n",
    " ('Case Number.1', 6285),\n",
    " ('Case Number', 6286),\n",
    " ('Case Number.2', 6286),\n",
    " ('pdf', 6291),\n",
    " ('href formula', 6291),\n",
    " ('original order', 6301)]"
   ]
  },
  {
   "cell_type": "markdown",
   "id": "4009dd94",
   "metadata": {},
   "source": [
    "## 07 - Outliers"
   ]
  },
  {
   "cell_type": "code",
   "execution_count": null,
   "id": "4a3d80a0",
   "metadata": {},
   "outputs": [],
   "source": []
  },
  {
   "cell_type": "markdown",
   "id": "a28a2ce0",
   "metadata": {},
   "source": [
    "## 08 - Duplicated rows II"
   ]
  },
  {
   "cell_type": "code",
   "execution_count": null,
   "id": "f41ee180",
   "metadata": {},
   "outputs": [],
   "source": []
  },
  {
   "cell_type": "markdown",
   "id": "566dc700",
   "metadata": {},
   "source": [
    "## 09 - Data types"
   ]
  },
  {
   "cell_type": "code",
   "execution_count": null,
   "id": "5910b948",
   "metadata": {},
   "outputs": [],
   "source": []
  },
  {
   "cell_type": "code",
   "execution_count": null,
   "id": "8242cf1b",
   "metadata": {},
   "outputs": [],
   "source": [
    "for col in df.select_dtypes('integer'):\n",
    "    df[col] = pd.to_numeric(df[col], downcast='integer')"
   ]
  },
  {
   "cell_type": "markdown",
   "id": "e0f7b75f",
   "metadata": {},
   "source": [
    "## 10 - Save the clean document"
   ]
  },
  {
   "cell_type": "code",
   "execution_count": null,
   "id": "017d425a",
   "metadata": {},
   "outputs": [],
   "source": []
  }
 ],
 "metadata": {
  "kernelspec": {
   "display_name": "Python 3 (ipykernel)",
   "language": "python",
   "name": "python3"
  },
  "language_info": {
   "codemirror_mode": {
    "name": "ipython",
    "version": 3
   },
   "file_extension": ".py",
   "mimetype": "text/x-python",
   "name": "python",
   "nbconvert_exporter": "python",
   "pygments_lexer": "ipython3",
   "version": "3.11.4"
  }
 },
 "nbformat": 4,
 "nbformat_minor": 5
}
